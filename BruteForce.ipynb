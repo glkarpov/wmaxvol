{
 "cells": [
  {
   "cell_type": "code",
   "execution_count": 2,
   "metadata": {
    "collapsed": true
   },
   "outputs": [],
   "source": [
    "import numpy as np\n",
    "from maxvolpy.maxvol import maxvol\n",
    "from numpy.polynomial import Chebyshev as T\n",
    "import numpy.linalg as la\n",
    "import matplotlib.pyplot as plt\n",
    "from scipy.linalg import lu as lu\n",
    "from gen_1D import *\n",
    "from ids import *\n",
    "import itertools\n",
    "%matplotlib inline"
   ]
  },
  {
   "cell_type": "markdown",
   "metadata": {},
   "source": [
    "# Test on Block Rect Maxvol"
   ]
  },
  {
   "cell_type": "code",
   "execution_count": 68,
   "metadata": {
    "collapsed": true
   },
   "outputs": [],
   "source": [
    "from block_rect_maxvol import *"
   ]
  },
  {
   "cell_type": "code",
   "execution_count": 69,
   "metadata": {},
   "outputs": [
    {
     "name": "stdout",
     "output_type": "stream",
     "text": [
      "[(0, 1, 2), (0, 1, 3), (0, 1, 4), (0, 2, 3), (0, 2, 4), (0, 3, 4), (1, 2, 3), (1, 2, 4), (1, 3, 4), (2, 3, 4)]\n"
     ]
    }
   ],
   "source": [
    "print list(itertools.combinations(xrange(5), 3))"
   ]
  },
  {
   "cell_type": "code",
   "execution_count": 76,
   "metadata": {
    "collapsed": true
   },
   "outputs": [],
   "source": [
    "def AllCombsDet(A, l, num_take_blocks=None, debug=False):\n",
    "    # INPUT \n",
    "    # A -- matrix\n",
    "    # l -- number of dimensions (derivatives), size of block is l+1\n",
    "    # num_take_bocks -- blocks returnd by algorithm\n",
    "    l1 = l + 1\n",
    "    b_one = np.arange(l1)\n",
    "    num_of_blocks = A.shape[0] // l1\n",
    "    max_det = 0.0\n",
    "    good_idx = None\n",
    "    if num_take_blocks is None:\n",
    "        num_take_blocks = A.shape[1] // l1 # Take square mat and test square block maxvol\n",
    "    for i in itertools.combinations(xrange(num_of_blocks), num_take_blocks):\n",
    "        # print i\n",
    "        idx = np.hstack((b_one + j*l1 for j in i))\n",
    "        Al = A[idx]\n",
    "        B  = Al.dot(Al.T)\n",
    "        cur_det = np.abs(la.det(B))\n",
    "        if cur_det > max_det:\n",
    "            max_det = cur_det\n",
    "            good_idx = i\n",
    "        if debug:\n",
    "            print i, idx, cur_det\n",
    "            \n",
    "    return max_det, good_idx\n",
    "    \n",
    "    \n",
    "def GetNumOfBlocks(idx, l):\n",
    "    l1 = l+1\n",
    "    b_one = np.arange(l1)\n",
    "    idx_bl = idx[np.arange(0, len(idx), l1)] // (l1)\n",
    "    assert( np.all(np.hstack((b_one + j*l1 for j in idx_bl)) == idx)  )\n",
    "    return idx_bl\n",
    "    \n",
    "    "
   ]
  },
  {
   "cell_type": "code",
   "execution_count": 91,
   "metadata": {},
   "outputs": [
    {
     "name": "stdout",
     "output_type": "stream",
     "text": [
      "(5.6466283188149548e-85, (0, 2, 3, 4))\n",
      "2\n",
      "4\n",
      "5.64662831881e-85 [0 2 3 4]\n"
     ]
    }
   ],
   "source": [
    "l = 2\n",
    "num_of_blocks = 7\n",
    "num_take_blocks = 4\n",
    "n = num_of_blocks*(l+1)\n",
    "m = (num_take_blocks - 2)*(l+1)\n",
    "\n",
    "A = np.random.randn(n,m)\n",
    "print AllCombsDet(A, l, num_take_blocks=num_take_blocks, debug=False)\n",
    "idx_maxvol = rect_block_maxvol(A, l, Kmax = num_take_blocks*(l+1), \n",
    "                               max_iters=100, rect_tol = 0.05, tol = 0.0, debug = False, ext_debug = False)\n",
    "idx_maxvol = idx_maxvol[:num_take_blocks*(l+1)]\n",
    "idx_maxvol.sort()\n",
    "A_mv = A[idx_maxvol]\n",
    "idx_bl = GetNumOfBlocks(idx_maxvol, l)\n",
    "print np.abs(la.det(A_mv.dot(A_mv.T))), idx_bl"
   ]
  },
  {
   "cell_type": "markdown",
   "metadata": {},
   "source": [
    "# Old Tests"
   ]
  },
  {
   "cell_type": "code",
   "execution_count": 7,
   "metadata": {
    "collapsed": true
   },
   "outputs": [],
   "source": [
    "from numba import jit\n",
    "# @jit()\n",
    "def BF():\n",
    "    global mat\n",
    "    fnd = 0\n",
    "    for i in xrange(1000000):\n",
    "        # print i\n",
    "        max_val = 20\n",
    "        n, m = 10, 6\n",
    "        mat_int = np.random.uniform( low=-max_val, high=max_val, size=n*m).reshape((n,m)).astype(int)\n",
    "        mat = mat_int.astype(float)\n",
    "        try:\n",
    "            _,_,_,_, info = pluq_ids(mat, debug=False)\n",
    "        except:\n",
    "            np.savetxt('except.txt', mat_int)\n",
    "            print 'except'\n",
    "            return mat\n",
    "        if info[1] > 100:\n",
    "            np.savetxt('contra_{}_{}.txt'.format(fnd, info[1]), mat_int)\n",
    "            return mat\n",
    "            fnd += 1\n",
    "            if fnd > 10:\n",
    "                return\n",
    "        "
   ]
  },
  {
   "cell_type": "code",
   "execution_count": 10,
   "metadata": {},
   "outputs": [
    {
     "name": "stdout",
     "output_type": "stream",
     "text": [
      "except\n"
     ]
    },
    {
     "data": {
      "text/plain": [
       "array([[ -5.,  14., -17., -18.,   4.,  19.],\n",
       "       [ -1.,   0.,  16.,  -9.,   3., -14.],\n",
       "       [ 12.,   0., -16.,  -4.,  -6.,  18.],\n",
       "       [ -9.,  -4., -17.,  12.,  14.,   0.],\n",
       "       [  0.,   2.,   0.,   0., -15.,   0.],\n",
       "       [ 13.,  -5.,  -8.,  -7.,  13., -16.],\n",
       "       [ -5.,   0.,   3.,   7.,  -7.,   0.],\n",
       "       [ 19.,  -1., -10.,  18.,  17.,  -9.],\n",
       "       [-15.,   6.,  -5., -12.,   2.,   4.],\n",
       "       [-15., -19., -13., -14.,   0.,  -1.]])"
      ]
     },
     "execution_count": 10,
     "metadata": {},
     "output_type": "execute_result"
    }
   ],
   "source": [
    "np.seterr(all='raise')\n",
    "BF()"
   ]
  },
  {
   "cell_type": "code",
   "execution_count": 13,
   "metadata": {},
   "outputs": [
    {
     "data": {
      "text/plain": [
       "array([[ -5,  14, -17, -18,   4,  19],\n",
       "       [ -1,   0,  16,  -9,   3, -14],\n",
       "       [ 12,   0, -16,  -4,  -6,  18],\n",
       "       [ -9,  -4, -17,  12,  14,   0],\n",
       "       [  0,   2,   0,   0, -15,   0],\n",
       "       [ 13,  -5,  -8,  -7,  13, -16],\n",
       "       [ -5,   0,   3,   7,  -7,   0],\n",
       "       [ 19,  -1, -10,  18,  17,  -9],\n",
       "       [-15,   6,  -5, -12,   2,   4],\n",
       "       [-15, -19, -13, -14,   0,  -1]])"
      ]
     },
     "execution_count": 13,
     "metadata": {},
     "output_type": "execute_result"
    }
   ],
   "source": [
    "mat.astype(int)"
   ]
  },
  {
   "cell_type": "code",
   "execution_count": 16,
   "metadata": {
    "collapsed": true
   },
   "outputs": [],
   "source": [
    "mat_pull_2 = np.array([[ -5,  14, -17, -18,   4,  19],\n",
    "       [ -1,   0,  16,  -9,   3, -14],\n",
    "       [ 12,   0, -16,  -4,  -6,  18],\n",
    "       [ -9,  -4, -17,  12,  14,   0],\n",
    "       [  0,   2,   0,   0, -15,   0],\n",
    "       [ 13,  -5,  -8,  -7,  13, -16],\n",
    "       [ -5,   0,   3,   7,  -7,   0],\n",
    "       [ 19,  -1, -10,  18,  17,  -9],\n",
    "       [-15,   6,  -5, -12,   2,   4],\n",
    "       [-15, -19, -13, -14,   0,  -1]], dtype=float)"
   ]
  },
  {
   "cell_type": "code",
   "execution_count": 17,
   "metadata": {},
   "outputs": [
    {
     "ename": "FloatingPointError",
     "evalue": "divide by zero encountered in double_scalars",
     "output_type": "error",
     "traceback": [
      "\u001b[0;31m---------------------------------------------------------------------------\u001b[0m",
      "\u001b[0;31mFloatingPointError\u001b[0m                        Traceback (most recent call last)",
      "\u001b[0;32m<ipython-input-17-0ffc2cfde0b4>\u001b[0m in \u001b[0;36m<module>\u001b[0;34m()\u001b[0m\n\u001b[0;32m----> 1\u001b[0;31m \u001b[0m_\u001b[0m\u001b[0;34m,\u001b[0m\u001b[0m_\u001b[0m\u001b[0;34m,\u001b[0m\u001b[0m_\u001b[0m\u001b[0;34m,\u001b[0m\u001b[0m_\u001b[0m\u001b[0;34m,\u001b[0m \u001b[0minfo\u001b[0m \u001b[0;34m=\u001b[0m \u001b[0mpluq_ids\u001b[0m\u001b[0;34m(\u001b[0m\u001b[0mmat_pull_2\u001b[0m\u001b[0;34m,\u001b[0m \u001b[0mdebug\u001b[0m\u001b[0;34m=\u001b[0m\u001b[0mFalse\u001b[0m\u001b[0;34m)\u001b[0m\u001b[0;34m\u001b[0m\u001b[0m\n\u001b[0m\u001b[1;32m      2\u001b[0m \u001b[0;32mprint\u001b[0m \u001b[0minfo\u001b[0m\u001b[0;34m\u001b[0m\u001b[0m\n",
      "\u001b[0;32m/home/gleb/proj/maxvol-approximation/ids.pyc\u001b[0m in \u001b[0;36mpluq_ids\u001b[0;34m(A, debug)\u001b[0m\n\u001b[1;32m    182\u001b[0m             \u001b[0;32mprint\u001b[0m\u001b[0;34m(\u001b[0m\u001b[0;34m'Elimination starts'\u001b[0m\u001b[0;34m)\u001b[0m\u001b[0;34m\u001b[0m\u001b[0m\n\u001b[1;32m    183\u001b[0m         \u001b[0;31m### make them all zeros! Below (j,j) element\u001b[0m\u001b[0;34m\u001b[0m\u001b[0;34m\u001b[0m\u001b[0m\n\u001b[0;32m--> 184\u001b[0;31m         \u001b[0melimination\u001b[0m\u001b[0;34m(\u001b[0m\u001b[0mL\u001b[0m\u001b[0;34m,\u001b[0m\u001b[0mU\u001b[0m\u001b[0;34m,\u001b[0m\u001b[0mj\u001b[0m\u001b[0;34m)\u001b[0m\u001b[0;34m\u001b[0m\u001b[0m\n\u001b[0m\u001b[1;32m    185\u001b[0m         \u001b[0;32mif\u001b[0m \u001b[0;34m(\u001b[0m\u001b[0mdebug\u001b[0m\u001b[0;34m)\u001b[0m\u001b[0;34m:\u001b[0m\u001b[0;34m\u001b[0m\u001b[0m\n\u001b[1;32m    186\u001b[0m             \u001b[0;32mprint\u001b[0m\u001b[0;34m(\u001b[0m\u001b[0;34m'after 1st elimination'\u001b[0m\u001b[0;34m)\u001b[0m\u001b[0;34m\u001b[0m\u001b[0m\n",
      "\u001b[0;32m/home/gleb/proj/maxvol-approximation/ids.pyc\u001b[0m in \u001b[0;36melimination\u001b[0;34m(L, U, ind)\u001b[0m\n\u001b[1;32m     39\u001b[0m         \u001b[0mk\u001b[0m \u001b[0;34m=\u001b[0m \u001b[0mL\u001b[0m\u001b[0;34m.\u001b[0m\u001b[0mshape\u001b[0m\u001b[0;34m[\u001b[0m\u001b[0;36m0\u001b[0m\u001b[0;34m]\u001b[0m\u001b[0;34m\u001b[0m\u001b[0m\n\u001b[1;32m     40\u001b[0m         \u001b[0;32mfor\u001b[0m \u001b[0mi\u001b[0m \u001b[0;32min\u001b[0m \u001b[0mrange\u001b[0m\u001b[0;34m(\u001b[0m\u001b[0mind\u001b[0m\u001b[0;34m+\u001b[0m\u001b[0;36m1\u001b[0m\u001b[0;34m,\u001b[0m \u001b[0mk\u001b[0m\u001b[0;34m)\u001b[0m\u001b[0;34m:\u001b[0m\u001b[0;34m\u001b[0m\u001b[0m\n\u001b[0;32m---> 41\u001b[0;31m             \u001b[0mL\u001b[0m\u001b[0;34m[\u001b[0m\u001b[0mi\u001b[0m\u001b[0;34m,\u001b[0m\u001b[0mind\u001b[0m\u001b[0;34m]\u001b[0m \u001b[0;34m=\u001b[0m \u001b[0mU\u001b[0m\u001b[0;34m[\u001b[0m\u001b[0mi\u001b[0m\u001b[0;34m,\u001b[0m\u001b[0mind\u001b[0m\u001b[0;34m]\u001b[0m\u001b[0;34m/\u001b[0m\u001b[0mU\u001b[0m\u001b[0;34m[\u001b[0m\u001b[0mind\u001b[0m\u001b[0;34m,\u001b[0m\u001b[0mind\u001b[0m\u001b[0;34m]\u001b[0m\u001b[0;34m\u001b[0m\u001b[0m\n\u001b[0m\u001b[1;32m     42\u001b[0m             \u001b[0mU\u001b[0m\u001b[0;34m[\u001b[0m\u001b[0mi\u001b[0m\u001b[0;34m,\u001b[0m\u001b[0mind\u001b[0m\u001b[0;34m:\u001b[0m\u001b[0;34m]\u001b[0m \u001b[0;34m-=\u001b[0m \u001b[0mL\u001b[0m\u001b[0;34m[\u001b[0m\u001b[0mi\u001b[0m\u001b[0;34m,\u001b[0m\u001b[0mind\u001b[0m\u001b[0;34m]\u001b[0m\u001b[0;34m*\u001b[0m\u001b[0mU\u001b[0m\u001b[0;34m[\u001b[0m\u001b[0mind\u001b[0m\u001b[0;34m,\u001b[0m\u001b[0mind\u001b[0m\u001b[0;34m:\u001b[0m\u001b[0;34m]\u001b[0m\u001b[0;34m\u001b[0m\u001b[0m\n\u001b[1;32m     43\u001b[0m         \u001b[0;32mreturn\u001b[0m \u001b[0;34m(\u001b[0m\u001b[0;34m)\u001b[0m\u001b[0;34m\u001b[0m\u001b[0m\n",
      "\u001b[0;31mFloatingPointError\u001b[0m: divide by zero encountered in double_scalars"
     ]
    }
   ],
   "source": [
    "_,_,_,_, info = pluq_ids(mat_pull_2, debug=False)\n",
    "print info"
   ]
  },
  {
   "cell_type": "code",
   "execution_count": 11,
   "metadata": {
    "collapsed": true
   },
   "outputs": [],
   "source": [
    "def zero(a, b):\n",
    "    a = np.arrray([a])\n",
    "    b = np.arrray([b])\n",
    "    return a[0]/b[0]"
   ]
  },
  {
   "cell_type": "code",
   "execution_count": 12,
   "metadata": {},
   "outputs": [
    {
     "ename": "AttributeError",
     "evalue": "'module' object has no attribute 'arrray'",
     "output_type": "error",
     "traceback": [
      "\u001b[0;31m---------------------------------------------------------------------------\u001b[0m",
      "\u001b[0;31mAttributeError\u001b[0m                            Traceback (most recent call last)",
      "\u001b[0;32m<ipython-input-12-a0ae927b2fa3>\u001b[0m in \u001b[0;36m<module>\u001b[0;34m()\u001b[0m\n\u001b[0;32m----> 1\u001b[0;31m \u001b[0mzero\u001b[0m\u001b[0;34m(\u001b[0m\u001b[0;36m2.3\u001b[0m\u001b[0;34m,\u001b[0m \u001b[0;36m0.0\u001b[0m\u001b[0;34m)\u001b[0m\u001b[0;34m\u001b[0m\u001b[0m\n\u001b[0m",
      "\u001b[0;32m<ipython-input-11-40fd9b3cd1e8>\u001b[0m in \u001b[0;36mzero\u001b[0;34m(a, b)\u001b[0m\n\u001b[1;32m      1\u001b[0m \u001b[0;32mdef\u001b[0m \u001b[0mzero\u001b[0m\u001b[0;34m(\u001b[0m\u001b[0ma\u001b[0m\u001b[0;34m,\u001b[0m \u001b[0mb\u001b[0m\u001b[0;34m)\u001b[0m\u001b[0;34m:\u001b[0m\u001b[0;34m\u001b[0m\u001b[0m\n\u001b[0;32m----> 2\u001b[0;31m     \u001b[0ma\u001b[0m \u001b[0;34m=\u001b[0m \u001b[0mnp\u001b[0m\u001b[0;34m.\u001b[0m\u001b[0marrray\u001b[0m\u001b[0;34m(\u001b[0m\u001b[0;34m[\u001b[0m\u001b[0ma\u001b[0m\u001b[0;34m]\u001b[0m\u001b[0;34m)\u001b[0m\u001b[0;34m\u001b[0m\u001b[0m\n\u001b[0m\u001b[1;32m      3\u001b[0m     \u001b[0mb\u001b[0m \u001b[0;34m=\u001b[0m \u001b[0mnp\u001b[0m\u001b[0;34m.\u001b[0m\u001b[0marrray\u001b[0m\u001b[0;34m(\u001b[0m\u001b[0;34m[\u001b[0m\u001b[0mb\u001b[0m\u001b[0;34m]\u001b[0m\u001b[0;34m)\u001b[0m\u001b[0;34m\u001b[0m\u001b[0m\n\u001b[1;32m      4\u001b[0m     \u001b[0;32mreturn\u001b[0m \u001b[0ma\u001b[0m\u001b[0;34m[\u001b[0m\u001b[0;36m0\u001b[0m\u001b[0;34m]\u001b[0m\u001b[0;34m/\u001b[0m\u001b[0mb\u001b[0m\u001b[0;34m[\u001b[0m\u001b[0;36m0\u001b[0m\u001b[0;34m]\u001b[0m\u001b[0;34m\u001b[0m\u001b[0m\n",
      "\u001b[0;31mAttributeError\u001b[0m: 'module' object has no attribute 'arrray'"
     ]
    }
   ],
   "source": [
    "zero(2.3, 0.0)"
   ]
  },
  {
   "cell_type": "code",
   "execution_count": null,
   "metadata": {
    "collapsed": true
   },
   "outputs": [],
   "source": []
  }
 ],
 "metadata": {
  "kernelspec": {
   "display_name": "Python 2",
   "language": "python",
   "name": "python2"
  },
  "language_info": {
   "codemirror_mode": {
    "name": "ipython",
    "version": 2
   },
   "file_extension": ".py",
   "mimetype": "text/x-python",
   "name": "python",
   "nbconvert_exporter": "python",
   "pygments_lexer": "ipython2",
   "version": "2.7.13"
  }
 },
 "nbformat": 4,
 "nbformat_minor": 2
}
