{
 "cells": [
  {
   "cell_type": "markdown",
   "metadata": {},
   "source": []
  },
  {
   "cell_type": "code",
   "execution_count": 1,
   "metadata": {
    "collapsed": false
   },
   "outputs": [],
   "source": [
    "import numpy as np\n",
    "from maxvolpy.maxvol import maxvol\n",
    "from numpy.polynomial import Chebyshev as T\n",
    "import numpy.linalg as la\n",
    "import matplotlib.pyplot as plt\n",
    "%matplotlib inline"
   ]
  },
  {
   "cell_type": "code",
   "execution_count": 6,
   "metadata": {
    "collapsed": false
   },
   "outputs": [],
   "source": [
    "# this function approximates set of points (arr, rhs) with linear combination of either Chebyshev polynomials or monomials\n",
    "'''\n",
    "Input:\n",
    "x – all the points\n",
    "f – right hand side values f(x)\n",
    "basis = ('cheb', 'poly') – basis functions\n",
    "degree – highest degree of appr polynomial\n",
    "grid type = ('unif', 'cheb', 'maxvol') \n",
    "dom – interval of x\n",
    "'''\n",
    "def approx(arr, rhs, degree, grid, dom):\n",
    "    num_of_points = degree + 1\n",
    "    \n",
    "    A = np.zeros((2*len(arr), num_of_points), dtype = np.float64) # Matrix of function values\n",
    "    \n",
    "    for j in range(num_of_points):\n",
    "        for i in np.arange(0, 2*len(arr), 2):\n",
    "            A[i, j] = T.basis(j)(arr[i/2])\n",
    "            A[i + 1, j] = T.basis(j).deriv(1)(arr[i/2])\n",
    "    #np.set_printoptions(precision=2)\n",
    "    #print(A,'\\n', A.shape, np.linalg.matrix_rank(A)) \n",
    "    print(A.shape,'\\n', np.linalg.matrix_rank(A)) \n",
    "    \n",
    "    \n",
    "    # grid        \n",
    "    \n",
    "    if (grid == 'maxvol_nonblocked'):\n",
    "        row_indx, _ = maxvol(A)\n",
    "        row_indx = np.sort(row_indx)\n",
    "    # solution \n",
    "    c = np.linalg.solve(A[row_indx], rhs[row_indx])\n",
    "    f_appr = np.polynomial.chebyshev.chebval(arr, c)  \n",
    "    \n",
    "    print(arr.shape, f_appr.shape, rhs.shape, row_indx.shape)\n",
    "\n",
    "    row_indx_even = []\n",
    "    row_indx_odd = []\n",
    "    \n",
    "    for i in range(row_indx.shape[0]):   \n",
    "        if row_indx[i] % 2 == 0:\n",
    "            row_indx_even.append(row_indx[i]) \n",
    "        else:\n",
    "            row_indx_odd.append(row_indx[i])    \n",
    "    row_indx_odd =  np.array(row_indx_odd, dtype=int)\n",
    "    row_indx_even = np.array(row_indx_even, dtype=int)\n",
    "    # mapping 'doubled' indices on the linear space array\n",
    "    a = ((row_indx_odd - 1) / 2.).astype(int) \n",
    "    b = (row_indx_even / 2.).astype(int)\n",
    "    # auxiliary array for visualising derivative point distribution\n",
    "    unit = np.ones(row_indx_odd.shape[0], dtype = int)\n",
    "    print(row_indx_odd, row_indx_even)\n",
    "    \n",
    "    plt.plot(arr, rhs[::2], 'b', arr, f_appr, 'r--', arr[a], unit, 'go', arr[b], rhs[row_indx_even], 'yo')\n",
    "    plt.grid()\n",
    "    plt.title(grid)\n",
    "    plt.show()\n",
    "        \n",
    "    # error\n",
    "    print('Error_' + grid + ' = ', la.norm(rhs[::2] - f_appr, 2) / la.norm(rhs[::2], 2))\n",
    "    print"
   ]
  },
  {
   "cell_type": "code",
   "execution_count": 7,
   "metadata": {
    "collapsed": false
   },
   "outputs": [
    {
     "name": "stderr",
     "output_type": "stream",
     "text": [
      "/home/glebsg/miniconda2/envs/maxvol/lib/python3.6/site-packages/ipykernel/__main__.py:8: VisibleDeprecationWarning: using a non-integer number instead of an integer will result in an error in the future\n",
      "/home/glebsg/miniconda2/envs/maxvol/lib/python3.6/site-packages/ipykernel/__main__.py:9: VisibleDeprecationWarning: using a non-integer number instead of an integer will result in an error in the future\n"
     ]
    },
    {
     "name": "stdout",
     "output_type": "stream",
     "text": [
      "(1200, 28) \n",
      " 14\n",
      "(600,) (600,) (1200,) (28,)\n",
      "[   1    9   27   55   85  129  175  225  285  337  403  463  539  599  681\n",
      "  749  813  883  947 1003 1055 1103 1137 1165 1183 1195 1199] [598]\n"
     ]
    },
    {
     "name": "stderr",
     "output_type": "stream",
     "text": [
      "/home/glebsg/miniconda2/envs/maxvol/lib/python3.6/site-packages/ipykernel/__main__.py:18: VisibleDeprecationWarning: using a non-integer number instead of an integer will result in an error in the future\n",
      "/home/glebsg/miniconda2/envs/maxvol/lib/python3.6/site-packages/ipykernel/__main__.py:19: VisibleDeprecationWarning: using a non-integer number instead of an integer will result in an error in the future\n"
     ]
    },
    {
     "data": {
      "image/png": "[encoded data removed]",
      "text/plain": [
       "<matplotlib.figure.Figure at 0x7fc076b5deb8>"
      ]
     },
     "metadata": {},
     "output_type": "display_data"
    },
    {
     "name": "stdout",
     "output_type": "stream",
     "text": [
      "Error_maxvol_nonblocked =  4.36291983714e-15\n"
     ]
    }
   ],
   "source": [
    "# let's test our approx function here\n",
    "n = 600     # number of sampling points   \n",
    "deg = 27   # degree of polynomial          \n",
    "interval = [-2, 2]  # interval of x\n",
    "x = np.linspace(interval[0], interval[1], n, dtype=np.float64) \n",
    "f = np.zeros(2*len(x), dtype=np.float64)\n",
    "for cou in np.arange(0, 2*len(x), 2):\n",
    "    f[cou] = 2*x[cou/2]**3 - 5*x[cou/2]**3 + 2*x[cou/2] - 1 + np.sin(2*x[cou/2])\n",
    "    f[cou + 1] = 6*x[cou/2]**2 - 15*x[cou/2]**2 + 2 + 2*np.cos(2*x[cou/2])\n",
    "    #f[cou] = 1/(x[cou/2]**2 + 1)\n",
    "    #f[cou+1] = -2*x[cou/2]/((x[cou/2]**2 + 1)**2)\n",
    "    #f[cou] = np.exp(-x[cou/2])*(np.sin(x[cou/2]))**2\n",
    "    #f[cou + 1] = np.exp(-x[cou/2])*np.sin(x[cou/2])*(2*np.cos(x[cou/2]) - np.sin(x[cou/2]))\n",
    "    \n",
    "approx(x, f, degree = deg, grid = 'maxvol_nonblocked', dom = interval)"
   ]
  },
  {
   "cell_type": "code",
   "execution_count": null,
   "metadata": {
    "collapsed": true
   },
   "outputs": [],
   "source": []
  },
  {
   "cell_type": "code",
   "execution_count": null,
   "metadata": {
    "collapsed": true
   },
   "outputs": [],
   "source": []
  }
 ],
 "metadata": {
  "kernelspec": {
   "display_name": "Python 3",
   "language": "python",
   "name": "python3"
  },
  "language_info": {
   "codemirror_mode": {
    "name": "ipython",
    "version": 3
   },
   "file_extension": ".py",
   "mimetype": "text/x-python",
   "name": "python",
   "nbconvert_exporter": "python",
   "pygments_lexer": "ipython3",
   "version": "3.6.0"
  }
 },
 "nbformat": 4,
 "nbformat_minor": 2
}
