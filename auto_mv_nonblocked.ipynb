{
 "cells": [
  {
   "cell_type": "markdown",
   "metadata": {},
   "source": []
  },
  {
   "cell_type": "code",
   "execution_count": 1,
   "metadata": {
    "collapsed": false
   },
   "outputs": [],
   "source": [
    "import numpy as np\n",
    "from maxvolpy.maxvol import maxvol\n",
    "from numpy.polynomial import Chebyshev as T\n",
    "import numpy.linalg as la\n",
    "import matplotlib.pyplot as plt\n",
    "from scipy.linalg import lu as lu\n",
    "from gen_1D import *\n",
    "%matplotlib inline"
   ]
  },
  {
   "cell_type": "code",
   "execution_count": 7,
   "metadata": {
    "collapsed": false
   },
   "outputs": [],
   "source": [
    "# this function approximates set of points (arr, rhs) with linear combination of either Chebyshev polynomials or monomials\n",
    "'''\n",
    "Input:\n",
    "x – all the points\n",
    "f – right hand side values f(x)\n",
    "basis = ('cheb', 'poly') – basis functions\n",
    "degree – highest degree of appr polynomial\n",
    "grid type = ('unif', 'cheb', 'maxvol') \n",
    "dom – interval of x\n",
    "'''\n",
    "def approx(arr, rhs, degree, grid, dom):\n",
    "    num_of_points = degree + 1\n",
    "    \n",
    "    A = Gen_1D(num_of_points, arr, debug = True)\n",
    "    \n",
    "    \n",
    "    # grid        \n",
    "    row_indx, _ = maxvol(A)\n",
    "    #row_indx = np.sort(row_indx)\n",
    "    \n",
    "    # solution \n",
    "    c = np.linalg.solve(A[row_indx], rhs[row_indx])\n",
    "    f_appr = np.polynomial.chebyshev.chebval(arr, c)  \n",
    "    \n",
    "    print(arr.shape, f_appr.shape, rhs.shape, row_indx.shape)\n",
    "\n",
    "    row_indx_deriv = []\n",
    "    row_indx_func = []\n",
    "    \n",
    "    for i in range(row_indx.shape[0]):   \n",
    "        if row_indx[i] >= len(arr):\n",
    "            row_indx_deriv.append(row_indx[i]) \n",
    "        else:\n",
    "            row_indx_func.append(row_indx[i])    \n",
    "    row_indx_deriv =  np.array(row_indx_deriv, dtype=int)\n",
    "    row_indx_func = np.array(row_indx_func, dtype=int)\n",
    "    # mapping 'doubled' indices on the linear space array\n",
    "    a = ((row_indx_deriv - len(arr))) \n",
    "    \n",
    "    # auxiliary array for visualising derivative point distribution\n",
    "    unit = np.ones(row_indx_deriv.shape[0], dtype = int)\n",
    "    print(row_indx_func, row_indx_deriv)\n",
    "    \n",
    "    plt.plot(arr, rhs[:len(x)], 'b', arr, f_appr, 'r--', arr[a], unit, 'go', arr[row_indx_func], rhs[row_indx_func], 'yo')\n",
    "    plt.grid()\n",
    "    plt.title(grid)\n",
    "    plt.show()\n",
    "        \n",
    "    # error\n",
    "    print('Error_' + grid + ' = ', la.norm(rhs[:len(x)] - f_appr, 2) / la.norm(rhs[:len(x)], 2))\n",
    "    print"
   ]
  },
  {
   "cell_type": "code",
   "execution_count": 8,
   "metadata": {
    "collapsed": false
   },
   "outputs": [
    {
     "name": "stdout",
     "output_type": "stream",
     "text": [
      "number of points(l) = 100,  number of monoms(n_size) = 9\n",
      "((100,), (100,), (200,), (9,))\n",
      "(array([99]), array([143, 100, 199, 121, 181, 108, 164, 194]))\n"
     ]
    },
    {
     "data": {
      "image/png": "[encoded data removed]",
      "text/plain": [
       "<matplotlib.figure.Figure at 0x7fddcfde3950>"
      ]
     },
     "metadata": {},
     "output_type": "display_data"
    },
    {
     "name": "stdout",
     "output_type": "stream",
     "text": [
      "('Error_maxvol_nonblocked = ', 1.1008737019957429e-05)\n",
      "\n"
     ]
    }
   ],
   "source": [
    "# let's test our approx function here\n",
    "n = 100     # number of sampling points   \n",
    "deg = 8  # degree of polynomial          \n",
    "interval = [-1, 1]  # interval of x\n",
    "x = np.linspace(interval[0], interval[1], n, dtype=np.float64) \n",
    "f = np.zeros(2*len(x), dtype=np.float64)\n",
    "\n",
    "for cou in np.arange(0, len(x)):\n",
    "    f[cou] = 2*x[cou]**7 - 5*x[cou]**3 + 2*x[cou] - 1 + np.sin(2*x[cou])\n",
    "    f[cou + len(x)] = 14*x[cou]**6 - 15*x[cou]**2 + 2 + 2*np.cos(2*x[cou])\n",
    "    #f[cou] = 1/(x[cou/2]**2 + 1\n",
    "    #f[cou+1] = -2*x[cou/2]/((x[cou/2]**2 + 1)**2)\n",
    "    #f[cou] = np.exp(-x[cou/2])*(np.sin(x[cou/2]))**2\n",
    "    #f[cou + 1] = np.exp(-x[cou/2])*np.sin(x[cou/2])*(2*np.cos(x[cou/2]) - np.sin(x[cou/2]))\n",
    "    \n",
    "approx(x, f, degree = deg, grid = 'maxvol_nonblocked', dom = interval)"
   ]
  },
  {
   "cell_type": "code",
   "execution_count": null,
   "metadata": {
    "collapsed": false
   },
   "outputs": [],
   "source": [
    "A = Gen_1D(deg+1, x, debug=True)\n",
    "\n",
    "p,l,u = lu(A)\n",
    "print (u)"
   ]
  },
  {
   "cell_type": "code",
   "execution_count": null,
   "metadata": {
    "collapsed": true
   },
   "outputs": [],
   "source": []
  }
 ],
 "metadata": {
  "kernelspec": {
   "display_name": "Python 2",
   "language": "python",
   "name": "python2"
  },
  "language_info": {
   "codemirror_mode": {
    "name": "ipython",
    "version": 2
   },
   "file_extension": ".py",
   "mimetype": "text/x-python",
   "name": "python",
   "nbconvert_exporter": "python",
   "pygments_lexer": "ipython2",
   "version": "2.7.13"
  }
 },
 "nbformat": 4,
 "nbformat_minor": 2
}
