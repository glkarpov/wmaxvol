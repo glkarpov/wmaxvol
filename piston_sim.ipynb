{
 "cells": [
  {
   "cell_type": "code",
   "execution_count": 1,
   "metadata": {
    "collapsed": true
   },
   "outputs": [],
   "source": [
    "import numpy as np\n",
    "import numpy.linalg as LA\n",
    "from numpy.polynomial import Chebyshev as T\n",
    "from scipy import optimize\n",
    "from maxvolpy.maxvol import rect_maxvol, maxvol\n",
    "import matplotlib.pyplot as plt\n",
    "from gen_mat import GenMat\n",
    "import gen_mat as gen\n",
    "import grad_log_det as log_det\n",
    "from numba import jit\n",
    "from pyDOE import *\n",
    "from sobol_lib import *\n",
    "%matplotlib inline"
   ]
  },
  {
   "cell_type": "code",
   "execution_count": 2,
   "metadata": {
    "collapsed": true
   },
   "outputs": [],
   "source": [
    "def GenSobol(N = 200, dim = 2, seed = 2, rng=(-1.0, 1.0)):\n",
    "    res = np.zeros((N, dim), dtype=float)\n",
    "    rng_d = rng[1] - rng[0]\n",
    "    for i in range(N):\n",
    "        res[i, :], seed = i4_sobol ( dim, seed )\n",
    "        res[i, :] = res[i, :]*rng_d + rng[0]\n",
    "\n",
    "    return res\n",
    "\n",
    "def C(x):\n",
    "    M   = (x[:,0]-0.1)*30 + 30#45\n",
    "    S   = (x[:,1]-0.1)*0.015 + 0.005#0.0125#x[:,1]\n",
    "    V_0 = (x[:,2]-0.1)*0.008 + 0.002#0.006#x[:,2]\n",
    "    k   = (x[:,3]-0.1)*4000 + 1000#3000\n",
    "    P_0 = (x[:,4]-0.1)*20000+90000#100000#(x[:,4]-0.1)#100000#x[:,4]\n",
    "    T_a = 293#(x[:,5]-0.1)*6+290#293#x[:,5]\n",
    "    T_0 = 350#(x[:,6]-0.1)*20+340#350#x[:,6]\n",
    "\n",
    "    A = P_0*S + 19.62*M - k*V_0/S\n",
    "    V = S/(2*k)*(np.sqrt(A**2 + 4*k*P_0*V_0*T_a/T_0) - A)\n",
    "    C = 2*np.pi*np.sqrt(M/(k + S**2*P_0*V_0*T_a/(T_0*V**2)))\n",
    "    return C"
   ]
  },
  {
   "cell_type": "code",
   "execution_count": 3,
   "metadata": {},
   "outputs": [
    {
     "data": {
      "text/plain": [
       "5"
      ]
     },
     "execution_count": 3,
     "metadata": {},
     "output_type": "execute_result"
    }
   ],
   "source": [
    "np.max(gen.indeces_K_cut(5, 350))"
   ]
  },
  {
   "cell_type": "code",
   "execution_count": 4,
   "metadata": {
    "scrolled": false
   },
   "outputs": [
    {
     "name": "stdout",
     "output_type": "stream",
     "text": [
      "CPU times: user 6.39 ms, sys: 758 µs, total: 7.14 ms\n",
      "Wall time: 6.42 ms\n",
      "Error_GD =  1.86071672947 \n",
      "\n",
      "CPU times: user 21.8 ms, sys: 110 µs, total: 21.9 ms\n",
      "Wall time: 5.49 ms\n",
      "Error_GD =  0.734473156272 \n",
      "\n",
      "CPU times: user 21.8 ms, sys: 108 µs, total: 21.9 ms\n",
      "Wall time: 5.49 ms\n",
      "Error_GD =  0.384057125536 \n",
      "\n",
      "CPU times: user 22.1 ms, sys: 91 µs, total: 22.2 ms\n",
      "Wall time: 5.54 ms\n",
      "Error_GD =  0.244048830952 \n",
      "\n",
      "CPU times: user 24.6 ms, sys: 108 µs, total: 24.7 ms\n",
      "Wall time: 6.17 ms\n",
      "Error_GD =  1.50367993875 \n",
      "\n",
      "CPU times: user 24.6 ms, sys: 107 µs, total: 24.7 ms\n",
      "Wall time: 6.17 ms\n",
      "Error_GD =  0.713124178555 \n",
      "\n",
      "CPU times: user 24.8 ms, sys: 112 µs, total: 24.9 ms\n",
      "Wall time: 6.23 ms\n",
      "Error_GD =  0.431157544486 \n",
      "\n",
      "CPU times: user 25 ms, sys: 112 µs, total: 25.1 ms\n",
      "Wall time: 6.29 ms\n",
      "Error_GD =  0.474950826913 \n",
      "\n"
     ]
    }
   ],
   "source": [
    "np.random.seed(2)\n",
    "dim = 5\n",
    "log_det.dim = dim \n",
    "\n",
    "loss_f = lambda x: log_det.loss_func(x, poly=gen.cheb, ToGenDiff=False)\n",
    "loss_grad = lambda x: log_det.grad(x, poly=gen.cheb)\n",
    "\n",
    "N_COL = [350,400]\n",
    "NUM_MAXVOL = 10000\n",
    "\n",
    "#BIG matrix\n",
    "M = 0.1+np.random.rand(NUM_MAXVOL, 1)\n",
    "S = 0.1+np.random.rand(NUM_MAXVOL, 1)\n",
    "V_0 = 0.1+np.random.rand(NUM_MAXVOL, 1)\n",
    "k = 0.1+np.random.rand(NUM_MAXVOL, 1)\n",
    "P_0 = 0.1+np.random.rand(NUM_MAXVOL, 1)\n",
    "#T_a = 0.1+np.random.rand(NUM_MAXVOL, 1)\n",
    "#T_0 = 0.1+np.random.rand(NUM_MAXVOL, 1)\n",
    "\n",
    "X_BIG = np.hstack((M,S,V_0,k,P_0))#,T_a))#,T_0))\n",
    "\n",
    "file = open('piston_sim_full_func_sobol.txt', 'w')\n",
    "for l in range(len(N_COL)):\n",
    "    for ind in range(0,4):\n",
    "        num_col = N_COL[l]\n",
    "        log_det.num_col = num_col\n",
    "        num_of_points = N_COL[l] + 3*ind\n",
    "        \n",
    "        %time res = GenSobol(N = num_of_points, dim = dim, rng=(0, 1)) + 0.1\n",
    "        #SMALL matrix\n",
    "#         M = 0.1+np.random.rand(num_of_points, 1)\n",
    "#         S = 0.1+np.random.rand(num_of_points, 1)\n",
    "#         V_0 = 0.1+np.random.rand(num_of_points, 1)\n",
    "#         k = 0.1+np.random.rand(num_of_points, 1)\n",
    "#         P_0 = 0.1+np.random.rand(num_of_points, 1)\n",
    "#         #T_a = 0.1+np.random.rand(num_of_points, 1)\n",
    "#         #T_0 = 0.1+np.random.rand(num_of_points, 1)\n",
    "\n",
    "#         X_SMALL = np.hstack((M,S,V_0,k,P_0))#,T_a))#,T_0))\n",
    "\n",
    "#         x_0 = X_SMALL.ravel('F')\n",
    "\n",
    "#         bnds_M = list((0.1, 1.1) for i in range(num_of_points))\n",
    "#         bnds_S = list((0.1, 1.1) for i in range(num_of_points))\n",
    "#         bnds_V_0 = list((0.1, 1.1) for i in range(num_of_points))\n",
    "#         bnds_k = list((0.1, 1.1) for i in range(num_of_points))\n",
    "#         bnds_P_0 = list((0.1, 1.1) for i in range(num_of_points))\n",
    "#         #bnds_T_a = list((0.1, 1.1) for i in range(num_of_points))\n",
    "#         #bnds_T_0 = list((0.1, 1.1) for i in range(num_of_points))\n",
    "#         bnds = np.vstack((bnds_M,bnds_S,bnds_V_0, bnds_k, bnds_P_0))#, bnds_T_a))#, bnds_T_0))\n",
    "\n",
    "#         #GD\n",
    "#         res = np.inf\n",
    "#         %time res = optimize.fmin_l_bfgs_b(loss_f, x_0, fprime = loss_grad, factr = 10.0, bounds = bnds)\n",
    "#         #optimize.fmin_l_bfgs_b(lambda x: log_det.loss_func(x), x_0, fprime = log_det.grad, factr = 1.0, bounds = bnds)\n",
    "        \n",
    "#         #accuracy\n",
    "#         M_gd = GenMat(num_col, res[0].reshape(-1, dim, order=\"F\"), poly = gen.cheb, ToGenDiff=False)\n",
    "#         c_gd = LA.solve(np.dot(M_gd.T, M_gd), np.dot(M_gd.T, C(res[0].reshape(-1, dim, order=\"F\"))))\n",
    "        M_maxvol = gen.GenMat(num_col, X_BIG, poly = gen.cheb, ToGenDiff=False)\n",
    "\n",
    "        M_gd = GenMat(num_col, res, poly = gen.cheb, ToGenDiff=False)\n",
    "        c_gd = LA.solve(np.dot(M_gd.T, M_gd), np.dot(M_gd.T, C(res)))\n",
    "\n",
    "        file.write(\"Num of points = \" + str(num_of_points) + \"\\n\" +  \"Num of columns = \" + str(num_col) + \"\\n\")\n",
    "        print(\"Error_GD = \", LA.norm(C(X_BIG) - np.dot(M_maxvol, c_gd), np.inf) / LA.norm(C(X_BIG), np.inf), \"\\n\")\n",
    "        file.write(\"Error_GD = \")\n",
    "        file.write(str(LA.norm(C(X_BIG) - np.dot(M_maxvol, c_gd), np.inf) / LA.norm(C(X_BIG), np.inf)) + \"\\n\")\n",
    "        \n",
    "        #MAXVOL\n",
    "        #row_indx,_ = rect_maxvol(M_maxvol, tol = 1.01, minK = num_of_points, maxK = num_of_points)\n",
    "\n",
    "        #accuracy\n",
    "        #c_maxvol = LA.solve(np.dot(M_maxvol[row_indx].T, M_maxvol[row_indx]), np.dot(M_maxvol[row_indx].T, C(X_BIG[row_indx])))\n",
    "\n",
    "        #print(\"Error_MAXVOL = \", LA.norm(C(X_BIG) - np.dot(M_maxvol, c_maxvol), np.inf) / LA.norm(C(X_BIG), np.inf), \"\\n\\n\\n\")\n",
    "\n",
    "        #file.write(\"Error_MAXVOL = \")\n",
    "        #file.write(str(LA.norm(C(X_BIG) - np.dot(M_maxvol, c_maxvol), np.inf) / LA.norm(C(X_BIG), np.inf)))\n",
    "        file.write(\"\\n\\n\\n\")\n",
    "\n",
    "        file.flush()\n",
    "        \n",
    "file.close()"
   ]
  }
 ],
 "metadata": {
  "anaconda-cloud": {},
  "kernelspec": {
   "display_name": "Python 3",
   "language": "python",
   "name": "python3"
  },
  "language_info": {
   "codemirror_mode": {
    "name": "ipython",
    "version": 3
   },
   "file_extension": ".py",
   "mimetype": "text/x-python",
   "name": "python",
   "nbconvert_exporter": "python",
   "pygments_lexer": "ipython3",
   "version": "3.6.4"
  }
 },
 "nbformat": 4,
 "nbformat_minor": 1
}
