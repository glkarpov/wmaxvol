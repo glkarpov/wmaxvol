{
 "cells": [
  {
   "cell_type": "markdown",
   "metadata": {},
   "source": [
    "#### About maxvol_handmade\n",
    "According to paper \"How to find a good submatrix\", written $maxvol\\_handmade$ algorithm is built on following ideas:\n",
    "\n",
    "* Consider we have matrix $A \\in \\mathbb{R}^{N \\times r}$ and consider also that initial dominant sumbatrix $\\hat A$ occupies first r rows of $A$. We need to compute matrix $C = A \\hat A^{-1}$ with identity submatrix $I_{r\\times r}$ in the top and submatrix $Z_{(N-r)\\times r}$ in the bottom. According to $\\textbf{Definition 3}$ from initial paper: We call $r \\times r$ submatrix $\\hat A$ of rectangular $N  \\times r$ full rank matrix $A$ dominant, if all the entries of $C$ are not greater than 1 in modulus. And so if we manage to find $c_{ij}$ such that $|c_{ij}| > 1$, we can construct new submatrix with volume larger than volume of current top submatrix (for example, by swapping rows) and place it in the top of matrix $A$. \n",
    "* The most contributing part, if compute in naive way, is every time do $A \\hat A^{−1}$ - inversion and multiplication. Sherman-Woodbury-Morrison formula for the matrix inverse can help us do nothing with stuff above but just with matrix $C$.\n",
    "\n",
    "* Suppose we have found such $|c_{ij}| > 1$. We need now to swap $i$-th and $j$-th rows to get new submatrix, and we can proceed new $A \\hat A^{−1}$ product just by:\n",
    "\n",
    "$$\n",
    "C = C - \\frac{1}{c_{ij}} (c_{:, j} -e_j + e_i)(c_{i,:} - e_{j}^T),\n",
    "$$\n",
    "\n",
    "where $e_i$ and $e_j$ are columns with all zeros but ones in $i$ and $j$ positions respectively. And so $c_{:, j}$ and $c_{i,:}$ - $j$-th column and $i$-th row of $C$. \n",
    "\n",
    "Also on each step we need to put in memory number $i$ of row, that we swap with already present $j$-th row in top submatrix. At the output we will have indices of $r$ matrix $A$ rows , that will form dominant submatrix."
   ]
  },
  {
   "cell_type": "code",
   "execution_count": 239,
   "metadata": {
    "collapsed": false
   },
   "outputs": [],
   "source": [
    "import numpy as np\n",
    "import scipy"
   ]
  },
  {
   "cell_type": "code",
   "execution_count": 240,
   "metadata": {
    "collapsed": false
   },
   "outputs": [],
   "source": [
    "def maxvol_handmade(A, tol=1.05, max_iters=100, top_k_index=-1):\n",
    "\n",
    "    # work on parameters\n",
    "    if tol < 1:\n",
    "        tol = 1.0\n",
    "    N, r = A.shape\n",
    "    if N <= r:\n",
    "        return np.arange(N, dtype=np.int32), np.eye(N, dtype=A.dtype)\n",
    "    if top_k_index == -1 or top_k_index > N:\n",
    "        top_k_index = N\n",
    "    if top_k_index < r:\n",
    "        top_k_index = r\n",
    "    \n",
    "    #create matrix C with I and Z block\n",
    "    B = np.copy(A[:top_k_index], order='F')\n",
    "    B_inv = np.linalg.inv(B[:r])\n",
    "    C = np.dot(B, B_inv)\n",
    "    \n",
    "    #initial indexing\n",
    "    index = np.arange(N, dtype=np.int32)\n",
    "      \n",
    "    # find initial max value in C, if it exists\n",
    "    i, j = divmod(abs(C[:,:]).argmax(), r)\n",
    "        \n",
    "    # set number of iters to 0\n",
    "    iters = 0\n",
    "      \n",
    "    # check if need to swap rows\n",
    "    while abs(C[i,j]) > tol and iters < max_iters:\n",
    "        # add i to index and recompute C by SWM-formula\n",
    "        index[j] = i\n",
    "        \n",
    "        tmp_row = C[i, :].copy()\n",
    "        tmp_row[j] -= 1.\n",
    "        \n",
    "        tmp_column = C[:,j].copy()\n",
    "        tmp_column[j] -= 1.\n",
    "        tmp_column[i] += 1.\n",
    "        \n",
    "        tmp_column = np.matrix(tmp_column).T\n",
    "        tmp_row = np.matrix(tmp_row)\n",
    "        \n",
    "        alpha = -1./C[i,j]\n",
    "        C += alpha*tmp_column.dot(tmp_row)\n",
    "        \n",
    "        iters += 1\n",
    "        i, j = divmod(abs(C[:,:]).argmax(), r)\n",
    "    return index[:r]\n"
   ]
  },
  {
   "cell_type": "code",
   "execution_count": null,
   "metadata": {
    "collapsed": true
   },
   "outputs": [],
   "source": []
  }
 ],
 "metadata": {
  "anaconda-cloud": {},
  "kernelspec": {
   "display_name": "Python [conda env:test]",
   "language": "python",
   "name": "conda-env-test-py"
  },
  "language_info": {
   "codemirror_mode": {
    "name": "ipython",
    "version": 3
   },
   "file_extension": ".py",
   "mimetype": "text/x-python",
   "name": "python",
   "nbconvert_exporter": "python",
   "pygments_lexer": "ipython3",
   "version": "3.5.2"
  }
 },
 "nbformat": 4,
 "nbformat_minor": 2
}
