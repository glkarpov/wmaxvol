{
 "cells": [
  {
   "cell_type": "code",
   "execution_count": 1,
   "metadata": {},
   "outputs": [],
   "source": [
    "from __future__ import print_function\n",
    "import numpy as np\n",
    "import numpy.linalg as LA\n",
    "from scipy import optimize\n",
    "from maxvolpy.maxvol import rect_maxvol, maxvol\n",
    "import matplotlib.pyplot as plt\n",
    "from mpl_toolkits.mplot3d import Axes3D \n",
    "from matplotlib import cm\n",
    "from matplotlib.ticker import LinearLocator, FormatStrFormatter\n",
    "import gen_mat as gen\n",
    "import grad_log_det as log_det # this is a module with analytical calculation of gradient and objective \n",
    "%matplotlib inline\n",
    "from block_rect_maxvol import test_points_gen\n",
    "from autograd import grad\n",
    "from numba import jit, njit, prange\n"
   ]
  },
  {
   "cell_type": "code",
   "execution_count": 2,
   "metadata": {},
   "outputs": [
    {
     "name": "stdout",
     "output_type": "stream",
     "text": [
      "Max degree of expansion term =  7\n"
     ]
    }
   ],
   "source": [
    "# Workspace\n",
    "\"\"\"\n",
    "Here should be defined parameters of approximation:\n",
    "– number of columns in model matrix (num_col)\n",
    "– number of points using for approximation (num_points)\n",
    "– dimension of the model (dim)\n",
    "– bounds of domain (l_bound, u_bound)\n",
    "– function to be approximated (def rhs(points))\n",
    "\"\"\"\n",
    "num_col = 50\n",
    "num_points = 54\n",
    "\n",
    "num_col = 36\n",
    "num_points = 154\n",
    "\n",
    "dim = 2\n",
    "\n",
    "log_det.num_col = num_col # this is a global variable in module log_det\n",
    "log_det.dim = dim         # this is a global variable in module log_det\n",
    "\n",
    "assert num_col <= num_points, '! num_points < num_col !'\n",
    "\n",
    "l_bound = -3.\n",
    "u_bound = 3.\n",
    "\n",
    "x_0 = l_bound + (u_bound - l_bound)*np.random.rand(num_points*dim) # starting point of GD\n",
    "bnds = ((l_bound, u_bound),)* (dim*num_points)\n",
    "\n",
    "def rhs(points):\n",
    "    return 2*np.exp(-((points[:,0]**2)/2. + (points[:,1]**2)/2.))# + (points[:,2]**2)/2.)) # Gaussian\n",
    "    #return (1 - points[:,0])**2 + 100*(points[:,1] - points[:,0]**2)**2 # Rosenbrock\n",
    "    #return (np.sin((points[:,0]**2)/2. - (points[:,1]**2)/4. + 3) * np.cos(2*points[:,0] + 1 - np.exp(points[:,1]))) # Trigonometric \n",
    "\n",
    "print('Max degree of expansion term = ', np.max(gen.indeces_K_cut(dim, num_col)))"
   ]
  },
  {
   "cell_type": "code",
   "execution_count": 3,
   "metadata": {},
   "outputs": [
    {
     "name": "stdout",
     "output_type": "stream",
     "text": [
      "CPU times: user 47 s, sys: 1.12 s, total: 48.1 s\n",
      "Wall time: 55.7 s\n"
     ]
    }
   ],
   "source": [
    "# optimization part (BFGS)\n",
    "loss_f = lambda x: log_det.loss_func(x, ToGenDiff=True)\n",
    "# %time res = optimize.fmin_l_bfgs_b(loss_f, x_0, fprime = log_det.grad, factr = 10.0, bounds = bnds)\n",
    "%time  res = optimize.fmin_l_bfgs_b(loss_f, x_0, fprime = grad(loss_f), factr = 10.0, bounds = bnds)"
   ]
  },
  {
   "cell_type": "code",
   "execution_count": 8,
   "metadata": {},
   "outputs": [
    {
     "name": "stdout",
     "output_type": "stream",
     "text": [
      "0.0004001827352730492\n",
      "CPU times: user 1.45 s, sys: 10.1 ms, total: 1.46 s\n",
      "Wall time: 1.5 s\n"
     ]
    }
   ],
   "source": [
    "# check of the correctness of analytical gradient calculation\n",
    "def cg():\n",
    "    print(optimize.check_grad(log_det.loss_func, log_det.grad, x_0, epsilon=epsilon))\n",
    "    \n",
    "epsilon = 1e-5\n",
    "# print(optimize.check_grad(log_det.loss_func, grad(log_det.loss_func), x_0, epsilon=epsilon))\n",
    "%time cg()"
   ]
  },
  {
   "cell_type": "code",
   "execution_count": 5,
   "metadata": {},
   "outputs": [],
   "source": [
    "pnts = res[0].reshape(res[0].size//dim, dim, order=\"F\")"
   ]
  },
  {
   "cell_type": "code",
   "execution_count": 5,
   "metadata": {},
   "outputs": [],
   "source": [
    "# approximation error (infinity norm) and comparison with MaxVol\n",
    "M_gd = gen.GenMat(num_col, pnts, poly = gen.cheb, ToGenDiff=False) \n",
    "c_gd = LA.solve(np.dot(M_gd.T, M_gd), np.dot(M_gd.T, rhs(pnts)))\n",
    "_=\"\"\"\n",
    "np.random.seed(100500)\n",
    "test = l_bound + (u_bound - l_bound)*np.random.rand(int(1e5), dim)\n",
    "\n",
    "M = gen.GenMat(num_col, test, poly = gen.cheb, ToGenDiff=False) \n",
    "\n",
    "print(\"GD error = \", LA.norm(rhs(test) - np.dot(M, c_gd), np.inf) / LA.norm(rhs(test), np.inf), \"\\n\")\n",
    "# print (\"rank =,\", np.linalg.matrix_rank(M),\", shape =\", M.shape)\n",
    "row_indx,_ = rect_maxvol(M, tol = 1.01, minK = num_points, maxK = num_points)\n",
    "\n",
    "print (\"MaxVol passed\")\n",
    "\n",
    "c_maxvol = LA.solve(np.dot(M[row_indx].T, M[row_indx]), np.dot(M[row_indx].T, rhs(test[row_indx])))\n",
    "\n",
    "print(\"MaxVol error = \", LA.norm(rhs(test) - np.dot(M, c_maxvol), np.inf) / LA.norm(rhs(test), np.inf), \"\\n\")\n",
    "\n",
    "\n",
    "from sobol_lib import *\n",
    "def GenSobol( N = 200, dim = 2, seed = 0, rng=(-1.0, 1.0) ):\n",
    "    res = np.zeros((N, dim), dtype=float)\n",
    "    rng_d = rng[1] - rng[0]\n",
    "    for i in xrange(N):\n",
    "        res[i, :], seed = i4_sobol ( dim, seed )\n",
    "        res[i, :] = res[i, :]*rng_d + rng[0]\n",
    "\n",
    "    return res\n",
    "\n",
    "smp_sbl = GenSobol(num_points, dim, rng=(l_bound, u_bound))\n",
    "M_sbl = gen.GenMat(num_col, smp_sbl, poly = gen.cheb, ToGenDiff=False)\n",
    "c_sbl = LA.solve(np.dot(M_sbl.T, M_sbl), np.dot(M_sbl.T, rhs(M_sbl)))\n",
    "\n",
    "print(\"Sobol error = \", LA.norm(rhs(test) - np.dot(M, c_sbl), np.inf) / LA.norm(rhs(test), np.inf), \"\\n\")\n",
    "\n",
    "\n",
    "# smp = l_bound + (u_bound - l_bound)*lhs(dim, num_points, criterion='m', iterations=100)\n",
    "smp = l_bound + (u_bound - l_bound)*test_points_gen(num_points, dim, 'LHS')\n",
    "M_lhs = gen.GenMat(num_col, smp, poly = gen.cheb, ToGenDiff=False)\n",
    "c_lhs = LA.solve(np.dot(M_lhs.T, M_lhs), np.dot(M_lhs.T, rhs(smp)))\n",
    "\n",
    "print(\"LHS error = \", LA.norm(rhs(test) - np.dot(M, c_lhs), np.inf) / LA.norm(rhs(test), np.inf), \"\\n\")\n",
    "\n",
    "\n",
    "smp_rndm = l_bound + (u_bound - l_bound)*np.random.rand(num_points, dim)\n",
    "M_rndm = gen.GenMat(num_col, smp_rndm, poly = gen.cheb, ToGenDiff=False)\n",
    "c_rndm = LA.solve(np.dot(M_rndm.T, M_rndm), np.dot(M_rndm.T, rhs(smp_rndm)))\n",
    "\n",
    "print(\"Rand error = \", LA.norm(rhs(test) - np.dot(M, c_rndm), np.inf) / LA.norm(rhs(test), np.inf), \"\\n\")\n",
    "\"\"\""
   ]
  },
  {
   "cell_type": "code",
   "execution_count": 6,
   "metadata": {},
   "outputs": [
    {
     "data": {
      "image/png": "[encoded data removed]",
      "text/plain": [
       "<matplotlib.figure.Figure at 0x110742210>"
      ]
     },
     "metadata": {},
     "output_type": "display_data"
    }
   ],
   "source": [
    "# visualization part\n",
    "# position of the chosen points by MaxVol and GD in 2-D case\n",
    "plt.xlim(l_bound-0.15, u_bound+0.15)\n",
    "plt.ylim(l_bound-0.15, u_bound+0.15)\n",
    "#plt.plot(M[row_indx,1], M[row_indx,2], 'ro', label = \"MV\")\n",
    "plt.plot(pnts[:,0], pnts[:,1], 'ro', label = \"GD\")\n",
    "#plt.plot(smp_sbl[:,0],smp_sbl[:,1], 'm*', label = \"Sobol\")\n",
    "#plt.plot(smp[:,0],smp[:,1], 'go', label = \"LHS\")\n",
    "#plt.plot(smp_rndm[:,0],smp_rndm[:,1], 'bx', label = \"Random\")\n",
    "plt.legend(bbox_to_anchor=(0., 1.02, 1., .102), loc=3, ncol=4, borderaxespad=0.1)\n",
    "plt.grid(True)\n",
    "plt.show()"
   ]
  },
  {
   "cell_type": "code",
   "execution_count": 8,
   "metadata": {},
   "outputs": [
    {
     "data": {
      "text/plain": [
       "[{0, 5, 14, 15, 39, 44, 89, 111, 123, 142},\n",
       " {1, 60},\n",
       " {2, 7, 23, 34, 73, 93, 148, 150},\n",
       " {3, 36, 45, 59, 67, 102},\n",
       " {4, 8, 32, 55, 66, 135, 140},\n",
       " {6, 51, 68, 72, 76, 95, 136, 137},\n",
       " {9, 108},\n",
       " {10, 88},\n",
       " {11, 30, 53, 64, 78, 90, 117, 126},\n",
       " {12, 26, 107},\n",
       " {13, 43, 129},\n",
       " {16, 98, 104},\n",
       " {17, 112, 113},\n",
       " {18, 37, 41, 94},\n",
       " {19, 22, 62, 63, 103, 105, 109, 128},\n",
       " {20, 35, 83, 84, 99},\n",
       " {21, 124},\n",
       " {24, 54, 65, 74, 122, 139},\n",
       " {25, 28, 29, 42, 71, 81, 86, 97},\n",
       " {27, 58, 77, 138},\n",
       " {31, 48, 61, 75, 92, 100, 115},\n",
       " {33, 49, 149},\n",
       " {38, 50, 79, 87, 91, 106, 133, 144},\n",
       " {52, 82, 127, 134},\n",
       " {56, 70},\n",
       " {57, 101, 121, 130, 143, 147},\n",
       " {69, 141, 146},\n",
       " {80, 119, 125, 151},\n",
       " {96, 114, 132},\n",
       " {110, 116, 118, 152},\n",
       " {120, 153},\n",
       " {40},\n",
       " {46},\n",
       " {47},\n",
       " {85},\n",
       " {131},\n",
       " {145}]"
      ]
     },
     "execution_count": 8,
     "metadata": {},
     "output_type": "execute_result"
    }
   ],
   "source": [
    "log_det.NumOfClusters(pnts)"
   ]
  },
  {
   "cell_type": "code",
   "execution_count": null,
   "metadata": {
    "scrolled": false
   },
   "outputs": [],
   "source": [
    "# visualization of approximated function \n",
    "fig = plt.figure()\n",
    "ax = fig.gca(projection='3d')\n",
    "\n",
    "# make data\n",
    "X = np.arange(l_bound, u_bound, 0.08)\n",
    "Y = np.arange(l_bound, u_bound, 0.08)\n",
    "X, Y = np.meshgrid(X, Y)\n",
    "\n",
    "Z = 2*np.exp(-((X**2)/2. + (Y**2)/2.)) \n",
    "#Z = np.sin((X**2)/2. - (Y**2)/4. + 3) * np.cos(2*X + 1 - np.exp(Y))\n",
    "\n",
    "# plot the surface\n",
    "surf = ax.plot_surface(X, Y, Z, rstride=1, cstride=1, cmap=cm.coolwarm, linewidth=0.03, antialiased=False)\n",
    "\n",
    "# customize the z axis\n",
    "# ax.set_zlim(-1.01, 1.01)\n",
    "ax.zaxis.set_major_locator(LinearLocator(10))\n",
    "ax.zaxis.set_major_formatter(FormatStrFormatter('%.02f'))\n",
    "\n",
    "# add a color bar which maps values to colors\n",
    "fig.colorbar(surf, shrink=0.5, aspect=5)\n",
    "plt.show()"
   ]
  },
  {
   "cell_type": "markdown",
   "metadata": {},
   "source": [
    "# Speed of d/dx"
   ]
  },
  {
   "cell_type": "code",
   "execution_count": 5,
   "metadata": {},
   "outputs": [],
   "source": [
    "num = 1000\n",
    "xx = l_bound + (u_bound - l_bound)*np.random.rand(num, num_points*dim)\n",
    "# g = grad(log_det.loss_func)\n",
    "grad_f = grad(log_det.loss_func)\n",
    "# grad_f = jit(g)"
   ]
  },
  {
   "cell_type": "code",
   "execution_count": 10,
   "metadata": {},
   "outputs": [
    {
     "name": "stdout",
     "output_type": "stream",
     "text": [
      "CPU times: user 1min 4s, sys: 354 ms, total: 1min 4s\n",
      "Wall time: 1min 5s\n"
     ]
    }
   ],
   "source": [
    "%%time\n",
    "for e in xx:\n",
    "    grad_f(e)"
   ]
  },
  {
   "cell_type": "code",
   "execution_count": 8,
   "metadata": {},
   "outputs": [
    {
     "name": "stdout",
     "output_type": "stream",
     "text": [
      "CPU times: user 6.9 s, sys: 92.6 ms, total: 6.99 s\n",
      "Wall time: 6.98 s\n"
     ]
    }
   ],
   "source": [
    "%%time\n",
    "for e in xx:\n",
    "    log_det.grad(e, False)"
   ]
  },
  {
   "cell_type": "code",
   "execution_count": null,
   "metadata": {},
   "outputs": [],
   "source": []
  }
 ],
 "metadata": {
  "anaconda-cloud": {},
  "kernelspec": {
   "display_name": "Python 2",
   "language": "python",
   "name": "python2"
  },
  "language_info": {
   "codemirror_mode": {
    "name": "ipython",
    "version": 2
   },
   "file_extension": ".py",
   "mimetype": "text/x-python",
   "name": "python",
   "nbconvert_exporter": "python",
   "pygments_lexer": "ipython2",
   "version": "2.7.14"
  }
 },
 "nbformat": 4,
 "nbformat_minor": 1
}
