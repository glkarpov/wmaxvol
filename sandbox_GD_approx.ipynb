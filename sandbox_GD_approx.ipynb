{
 "cells": [
  {
   "cell_type": "code",
   "execution_count": 1,
   "metadata": {},
   "outputs": [],
   "source": [
    "from __future__ import print_function\n",
    "import numpy as np\n",
    "import numpy.linalg as LA\n",
    "from scipy import optimize\n",
    "from maxvolpy.maxvol import rect_maxvol, maxvol\n",
    "import matplotlib.pyplot as plt\n",
    "from mpl_toolkits.mplot3d import Axes3D \n",
    "from matplotlib import cm\n",
    "from matplotlib.ticker import LinearLocator, FormatStrFormatter\n",
    "import gen_mat as gen\n",
    "import grad_log_det as log_det # this is a module with analytical calculation of gradient and objective \n",
    "from test_bench import test_points_gen\n",
    "from autograd import grad\n",
    "from numba import jit, njit, prange\n",
    "from test_bench import *\n",
    "import os\n",
    "%matplotlib inline"
   ]
  },
  {
   "cell_type": "code",
   "execution_count": 2,
   "metadata": {
    "collapsed": true
   },
   "outputs": [],
   "source": [
    "dim = 2\n",
    "def OptPoints(num_col=50, num_points=54, num_tries=1, interval=(-1.0,1.0), poly=gen.cheb, useLHS=True, ToPlot=False):\n",
    "    log_det.num_col = num_col # this is a global variable in module log_det\n",
    "    log_det.dim = dim  \n",
    "    bnds = (interval,) * (dim*num_points)\n",
    "    dstrs = ['random']\n",
    "    if useLHS:\n",
    "        dstrs.append('LHS')\n",
    "        \n",
    "    loss_f = lambda x: log_det.loss_func(x, poly=poly, ToGenDiff=False)\n",
    "    loss_grad = lambda x: log_det.grad(x, poly=poly)\n",
    "    res = np.inf\n",
    "    for distrib in dstrs:\n",
    "        for _ in range(num_tries):\n",
    "            x_0 = test_points_gen(num_points, dim, interval=interval, distrib=distrib) # starting point of GD\n",
    "            x_0 = x_0.ravel('F')\n",
    "            op = optimize.fmin_l_bfgs_b(loss_f, x_0, fprime = loss_grad, factr = 10.0, bounds = bnds)\n",
    "            res_cur = op[1]\n",
    "            if res_cur < res:\n",
    "                res = res_cur\n",
    "                pnts = op[0]\n",
    "                opt_distr = distrib\n",
    "            \n",
    "    pnts = pnts.reshape(pnts.size//dim, dim, order=\"F\")\n",
    "    if ToPlot:\n",
    "        ax = plt.figure(figsize=(7,7)).add_subplot(111)\n",
    "        ax.plot(pnts[:,0], pnts[:,1], 'ro', label = \"GD\")\n",
    "        ax.set_aspect(1)\n",
    "                \n",
    "    return res, pnts, opt_distr\n",
    "\n",
    "def Experiment(dim=2, num_cols=(49, 50), num_points_max=54, interval=(-1.0, 1.0), num_tries=10, poly=gen.cheb, wdir='./res_GD', useLHS=True):\n",
    "    try:\n",
    "        os.mkdir(wdir)\n",
    "    except:\n",
    "        pass\n",
    "\n",
    "    log_det.dim = dim # this is a global variable in module log_det\n",
    "    for num_col in num_cols:\n",
    "        log_det.num_col = num_col # this is a global variable in module log_det\n",
    "        for num_points in  range(num_col, num_points_max):\n",
    "            _, pnts, _ = OptPoints(num_col=num_col, \n",
    "                                   num_points=num_points, \n",
    "                                   num_tries=num_tries, \n",
    "                                   interval=interval, \n",
    "                                   poly=poly, \n",
    "                                   useLHS=useLHS,\n",
    "                                   ToPlot=False)\n",
    "\n",
    "            fn = os.path.join(wdir, \"cols={}_points={}_poly={}\".format(num_col, num_points, poly.__name__))\n",
    "            np.savez(fn, pnts=pnts)   \n",
    "        \n",
    "    \n"
   ]
  },
  {
   "cell_type": "code",
   "execution_count": null,
   "metadata": {
    "scrolled": false
   },
   "outputs": [],
   "source": [
    "# Test OptPoints\n",
    "min_det, pnts, distrib = OptPoints(num_col=36, \n",
    "                                   num_points=60, \n",
    "                                   num_tries=5, \n",
    "                                   interval=(-1.0, 1.0), \n",
    "                                   poly=gen.cheb, \n",
    "                                   useLHS=True,\n",
    "                                   ToPlot=True)\n",
    "print (min_det, distrib)"
   ]
  },
  {
   "cell_type": "code",
   "execution_count": null,
   "metadata": {},
   "outputs": [],
   "source": [
    "NumOfClusters(pnts, full=False)"
   ]
  },
  {
   "cell_type": "code",
   "execution_count": null,
   "metadata": {},
   "outputs": [],
   "source": [
    "np.random.seed(42)\n",
    "test_pnts = test_points_gen(int(1e5), dim)\n",
    "LebesgueConst(pnts, 36, poly=gen.legendre, test_pnts=test_pnts, pow_p=1)"
   ]
  },
  {
   "cell_type": "code",
   "execution_count": null,
   "metadata": {
    "collapsed": true
   },
   "outputs": [],
   "source": [
    "np.savez(\"pnts\", pnts=pnts)"
   ]
  },
  {
   "cell_type": "code",
   "execution_count": null,
   "metadata": {
    "collapsed": true
   },
   "outputs": [],
   "source": [
    "pnts = np.load(\"pnts.npz\")[\"pnts\"]"
   ]
  },
  {
   "cell_type": "code",
   "execution_count": null,
   "metadata": {
    "collapsed": true
   },
   "outputs": [],
   "source": [
    "np.random.seed(42)\n",
    "test_pnts = test_points_gen(int(1e5), dim)\n",
    "ff = MakeValsAndNorms([f_gauss, f_sincos, f_rosenbrock], test_pnts)"
   ]
  },
  {
   "cell_type": "code",
   "execution_count": null,
   "metadata": {},
   "outputs": [],
   "source": [
    "LebesgueConst(pnts, 36, poly=gen.legendre, test_pnts=test_pnts, pow_p=1, funcs=ff)"
   ]
  },
  {
   "cell_type": "markdown",
   "metadata": {},
   "source": [
    "## Main experiment"
   ]
  },
  {
   "cell_type": "code",
   "execution_count": null,
   "metadata": {
    "scrolled": false
   },
   "outputs": [],
   "source": [
    "np.random.seed(2)\n",
    "Experiment(dim=2, \n",
    "           num_cols=(36,), \n",
    "           num_points_max=37, \n",
    "           interval=(-1.0, 1.0), \n",
    "           num_tries=1, \n",
    "           poly=gen.cheb,\n",
    "           useLHS=False,\n",
    "           wdir='res_GD')\n",
    "    "
   ]
  },
  {
   "cell_type": "markdown",
   "metadata": {},
   "source": [
    "# Old Strategy"
   ]
  },
  {
   "cell_type": "code",
   "execution_count": null,
   "metadata": {},
   "outputs": [],
   "source": [
    "# Workspace\n",
    "\"\"\"\n",
    "Here should be defined parameters of approximation:\n",
    "– number of columns in model matrix (num_col)\n",
    "– number of points using for approximation (num_points)\n",
    "– dimension of the model (dim)\n",
    "– bounds of domain (l_bound, u_bound)\n",
    "– function to be approximated (def rhs(points))\n",
    "\"\"\"\n",
    "num_col = 50\n",
    "num_points = 54\n",
    "\n",
    "num_col = 36\n",
    "num_points = 154\n",
    "\n",
    "dim = 2\n",
    "\n",
    "log_det.num_col = num_col # this is a global variable in module log_det\n",
    "log_det.dim = dim         # this is a global variable in module log_det\n",
    "\n",
    "assert num_col <= num_points, '! num_points < num_col !'\n",
    "\n",
    "l_bound = -3.\n",
    "u_bound = 3.\n",
    "\n",
    "x_0 = test_points_gen(num_points, dim, interval=(l_bound, u_bound), distrib='random')  # starting point of GD\n",
    "bnds = ((l_bound, u_bound),)* (dim*num_points)\n",
    "\n",
    "\n",
    "    #return (1 - points[:,0])**2 + 100*(points[:,1] - points[:,0]**2)**2 # Rosenbrock\n",
    "    #return (np.sin((points[:,0]**2)/2. - (points[:,1]**2)/4. + 3) * np.cos(2*points[:,0] + 1 - np.exp(points[:,1]))) # Trigonometric \n",
    "\n",
    "print('Max degree of expansion term = ', np.max(gen.indeces_K_cut(dim, num_col)))"
   ]
  },
  {
   "cell_type": "code",
   "execution_count": null,
   "metadata": {
    "collapsed": true
   },
   "outputs": [],
   "source": [
    "# optimization part (BFGS)\n",
    "loss_f = lambda x: log_det.loss_func(x, ToGenDiff=False)\n",
    "res = optimize.fmin_l_bfgs_b(loss_f, x_0, fprime = log_det.grad, factr = 10.0, bounds = bnds)\n",
    "#res = optimize.fmin_l_bfgs_b(loss_f, x_0, fprime = grad(loss_f), factr = 10.0, bounds = bnds)"
   ]
  },
  {
   "cell_type": "code",
   "execution_count": null,
   "metadata": {},
   "outputs": [],
   "source": [
    "# check of the correctness of analytical gradient calculation\n",
    "def cg():\n",
    "    print(optimize.check_grad(log_det.loss_func, log_det.grad, x_0, epsilon=epsilon))\n",
    "    \n",
    "epsilon = 1e-5\n",
    "# print(optimize.check_grad(log_det.loss_func, grad(log_det.loss_func), x_0, epsilon=epsilon))\n",
    "%time cg()"
   ]
  },
  {
   "cell_type": "code",
   "execution_count": null,
   "metadata": {
    "collapsed": true
   },
   "outputs": [],
   "source": [
    "pnts = res[0].reshape(res[0].size//dim, dim, order=\"F\")"
   ]
  },
  {
   "cell_type": "code",
   "execution_count": null,
   "metadata": {
    "collapsed": true
   },
   "outputs": [],
   "source": [
    "# approximation error (infinity norm) and comparison with MaxVol\n",
    "M_gd = gen.GenMat(num_col, pnts, poly = gen.cheb, ToGenDiff=False) \n",
    "c_gd = LA.solve(np.dot(M_gd.T, M_gd), np.dot(M_gd.T, rhs(pnts)))\n",
    "_=\"\"\"\n",
    "np.random.seed(100500)\n",
    "test = l_bound + (u_bound - l_bound)*np.random.rand(int(1e5), dim)\n",
    "\n",
    "M = gen.GenMat(num_col, test, poly = gen.cheb, ToGenDiff=False) \n",
    "\n",
    "print(\"GD error = \", LA.norm(rhs(test) - np.dot(M, c_gd), np.inf) / LA.norm(rhs(test), np.inf), \"\\n\")\n",
    "# print (\"rank =,\", np.linalg.matrix_rank(M),\", shape =\", M.shape)\n",
    "row_indx,_ = rect_maxvol(M, tol = 1.01, minK = num_points, maxK = num_points)\n",
    "\n",
    "print (\"MaxVol passed\")\n",
    "\n",
    "c_maxvol = LA.solve(np.dot(M[row_indx].T, M[row_indx]), np.dot(M[row_indx].T, rhs(test[row_indx])))\n",
    "\n",
    "print(\"MaxVol error = \", LA.norm(rhs(test) - np.dot(M, c_maxvol), np.inf) / LA.norm(rhs(test), np.inf), \"\\n\")\n",
    "\n",
    "\n",
    "from sobol_lib import *\n",
    "def GenSobol( N = 200, dim = 2, seed = 0, rng=(-1.0, 1.0) ):\n",
    "    res = np.zeros((N, dim), dtype=float)\n",
    "    rng_d = rng[1] - rng[0]\n",
    "    for i in xrange(N):\n",
    "        res[i, :], seed = i4_sobol ( dim, seed )\n",
    "        res[i, :] = res[i, :]*rng_d + rng[0]\n",
    "\n",
    "    return res\n",
    "\n",
    "smp_sbl = GenSobol(num_points, dim, rng=(l_bound, u_bound))\n",
    "M_sbl = gen.GenMat(num_col, smp_sbl, poly = gen.cheb, ToGenDiff=False)\n",
    "c_sbl = LA.solve(np.dot(M_sbl.T, M_sbl), np.dot(M_sbl.T, rhs(M_sbl)))\n",
    "\n",
    "print(\"Sobol error = \", LA.norm(rhs(test) - np.dot(M, c_sbl), np.inf) / LA.norm(rhs(test), np.inf), \"\\n\")\n",
    "\n",
    "\n",
    "# smp = l_bound + (u_bound - l_bound)*lhs(dim, num_points, criterion='m', iterations=100)\n",
    "smp = l_bound + (u_bound - l_bound)*test_points_gen(num_points, dim, 'LHS')\n",
    "M_lhs = gen.GenMat(num_col, smp, poly = gen.cheb, ToGenDiff=False)\n",
    "c_lhs = LA.solve(np.dot(M_lhs.T, M_lhs), np.dot(M_lhs.T, rhs(smp)))\n",
    "\n",
    "print(\"LHS error = \", LA.norm(rhs(test) - np.dot(M, c_lhs), np.inf) / LA.norm(rhs(test), np.inf), \"\\n\")\n",
    "\n",
    "\n",
    "smp_rndm = l_bound + (u_bound - l_bound)*np.random.rand(num_points, dim)\n",
    "M_rndm = gen.GenMat(num_col, smp_rndm, poly = gen.cheb, ToGenDiff=False)\n",
    "c_rndm = LA.solve(np.dot(M_rndm.T, M_rndm), np.dot(M_rndm.T, rhs(smp_rndm)))\n",
    "\n",
    "print(\"Rand error = \", LA.norm(rhs(test) - np.dot(M, c_rndm), np.inf) / LA.norm(rhs(test), np.inf), \"\\n\")\n",
    "\"\"\""
   ]
  },
  {
   "cell_type": "code",
   "execution_count": null,
   "metadata": {},
   "outputs": [],
   "source": [
    "# visualization part\n",
    "# position of the chosen points by MaxVol and GD in 2-D case\n",
    "plt.xlim(l_bound-0.15, u_bound+0.15)\n",
    "plt.ylim(l_bound-0.15, u_bound+0.15)\n",
    "#plt.plot(M[row_indx,1], M[row_indx,2], 'ro', label = \"MV\")\n",
    "plt.plot(pnts[:,0], pnts[:,1], 'ro', label = \"GD\")\n",
    "#plt.plot(smp_sbl[:,0],smp_sbl[:,1], 'm*', label = \"Sobol\")\n",
    "#plt.plot(smp[:,0],smp[:,1], 'go', label = \"LHS\")\n",
    "#plt.plot(smp_rndm[:,0],smp_rndm[:,1], 'bx', label = \"Random\")\n",
    "plt.legend(bbox_to_anchor=(0., 1.02, 1., .102), loc=3, ncol=4, borderaxespad=0.1)\n",
    "plt.grid(True)\n",
    "plt.show()"
   ]
  },
  {
   "cell_type": "code",
   "execution_count": null,
   "metadata": {},
   "outputs": [],
   "source": [
    "log_det.NumOfClusters(pnts)"
   ]
  },
  {
   "cell_type": "code",
   "execution_count": null,
   "metadata": {
    "collapsed": true,
    "scrolled": false
   },
   "outputs": [],
   "source": [
    "# visualization of approximated function \n",
    "fig = plt.figure()\n",
    "ax = fig.gca(projection='3d')\n",
    "\n",
    "# make data\n",
    "X = np.arange(l_bound, u_bound, 0.08)\n",
    "Y = np.arange(l_bound, u_bound, 0.08)\n",
    "X, Y = np.meshgrid(X, Y)\n",
    "\n",
    "Z = 2*np.exp(-((X**2)/2. + (Y**2)/2.)) \n",
    "#Z = np.sin((X**2)/2. - (Y**2)/4. + 3) * np.cos(2*X + 1 - np.exp(Y))\n",
    "\n",
    "# plot the surface\n",
    "surf = ax.plot_surface(X, Y, Z, rstride=1, cstride=1, cmap=cm.coolwarm, linewidth=0.03, antialiased=False)\n",
    "\n",
    "# customize the z axis\n",
    "# ax.set_zlim(-1.01, 1.01)\n",
    "ax.zaxis.set_major_locator(LinearLocator(10))\n",
    "ax.zaxis.set_major_formatter(FormatStrFormatter('%.02f'))\n",
    "\n",
    "# add a color bar which maps values to colors\n",
    "fig.colorbar(surf, shrink=0.5, aspect=5)\n",
    "plt.show()"
   ]
  },
  {
   "cell_type": "markdown",
   "metadata": {},
   "source": [
    "# Speed of d/dx"
   ]
  },
  {
   "cell_type": "code",
   "execution_count": null,
   "metadata": {
    "collapsed": true
   },
   "outputs": [],
   "source": [
    "num = 1000\n",
    "xx = l_bound + (u_bound - l_bound)*np.random.rand(num, num_points*dim)\n",
    "# g = grad(log_det.loss_func)\n",
    "grad_f = grad(log_det.loss_func)\n",
    "# grad_f = jit(g)"
   ]
  },
  {
   "cell_type": "code",
   "execution_count": null,
   "metadata": {},
   "outputs": [],
   "source": [
    "%%time\n",
    "for e in xx:\n",
    "    grad_f(e)"
   ]
  },
  {
   "cell_type": "code",
   "execution_count": null,
   "metadata": {},
   "outputs": [],
   "source": [
    "%%time\n",
    "for e in xx:\n",
    "    log_det.grad(e, False)"
   ]
  },
  {
   "cell_type": "code",
   "execution_count": null,
   "metadata": {
    "collapsed": true
   },
   "outputs": [],
   "source": []
  }
 ],
 "metadata": {
  "anaconda-cloud": {},
  "kernelspec": {
   "display_name": "Python 3",
   "language": "python",
   "name": "python3"
  },
  "language_info": {
   "codemirror_mode": {
    "name": "ipython",
    "version": 3
   },
   "file_extension": ".py",
   "mimetype": "text/x-python",
   "name": "python",
   "nbconvert_exporter": "python",
   "pygments_lexer": "ipython3",
   "version": "3.6.3"
  }
 },
 "nbformat": 4,
 "nbformat_minor": 1
}
