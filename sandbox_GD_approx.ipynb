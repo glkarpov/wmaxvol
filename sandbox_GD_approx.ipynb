{
 "cells": [
  {
   "cell_type": "code",
   "execution_count": null,
   "metadata": {},
   "outputs": [],
   "source": [
    "import numpy as np\n",
    "import numpy.linalg as LA\n",
    "from scipy import optimize\n",
    "from maxvolpy.maxvol import rect_maxvol, maxvol\n",
    "import matplotlib.pyplot as plt\n",
    "from mpl_toolkits.mplot3d import Axes3D \n",
    "from matplotlib import cm\n",
    "from matplotlib.ticker import LinearLocator, FormatStrFormatter\n",
    "import gen_mat as gen\n",
    "import grad_log_det as log_det # this is a module with analytical calculation of gradient and objective \n",
    "%matplotlib inline\n",
    "\n",
    "from autograd import grad\n",
    "from numba import jit"
   ]
  },
  {
   "cell_type": "code",
   "execution_count": null,
   "metadata": {},
   "outputs": [],
   "source": [
    "# Workspace\n",
    "\"\"\"\n",
    "Here should be defined parameters of approximation:\n",
    "– number of columns in model matrix (num_col)\n",
    "– number of points using for approximation (num_points)\n",
    "– dimension of the model (dim)\n",
    "– bounds of domain (l_bound, u_bound)\n",
    "– function to be approximated (def rhs(points))\n",
    "\"\"\"\n",
    "num_col = 50\n",
    "num_points = 54\n",
    "dim = 2\n",
    "\n",
    "log_det.num_col = num_col # this is a global variable in module log_det\n",
    "log_det.dim = dim         # this is a global variable in module log_det\n",
    "\n",
    "assert num_col <= num_points, '! num_points < num_col !'\n",
    "\n",
    "l_bound = -3.\n",
    "u_bound = 3.\n",
    "\n",
    "x_0 = l_bound + (u_bound - l_bound)*np.random.rand(num_points*dim) # starting point of GD\n",
    "bnds = ((l_bound, u_bound),)* (dim*num_points)\n",
    "\n",
    "def rhs(points):\n",
    "    return 2*np.exp(-((points[:,0]**2)/2. + (points[:,1]**2)/2.))# + (points[:,2]**2)/2.)) # Gaussian\n",
    "    #return (1 - points[:,0])**2 + 100*(points[:,1] - points[:,0]**2)**2 # Rosenbrock\n",
    "    #return (np.sin((points[:,0]**2)/2. - (points[:,1]**2)/4. + 3) * np.cos(2*points[:,0] + 1 - np.exp(points[:,1]))) # Trigonometric \n",
    "\n",
    "print('Max degree of expansion term = ', np.max(gen.indeces_K_cut(dim, num_col)))"
   ]
  },
  {
   "cell_type": "code",
   "execution_count": null,
   "metadata": {
    "collapsed": true
   },
   "outputs": [],
   "source": [
    "# optimization part (BFGS)\n",
    "# %time res = optimize.fmin_l_bfgs_b(lambda x: log_det.loss_func(x), x_0, fprime = log_det.grad, factr = 10.0, bounds = bnds)"
   ]
  },
  {
   "cell_type": "code",
   "execution_count": null,
   "metadata": {},
   "outputs": [],
   "source": [
    "# check of the correctness of analytical gradient calculation\n",
    "epsilon = 1e-5\n",
    "print(optimize.check_grad(log_det.loss_func, log_det.grad, x_0, epsilon=epsilon))\n",
    "print(optimize.check_grad(log_det.loss_func, grad(log_det.loss_func), x_0, epsilon=epsilon))"
   ]
  },
  {
   "cell_type": "code",
   "execution_count": null,
   "metadata": {},
   "outputs": [],
   "source": [
    "# approximation error (infinity norm) and comparison with MaxVol\n",
    "M_gd = np.split(gen.GenMat(num_col, np.stack(np.split(res[0].T.ravel(),dim),1), poly = gen.cheb, poly_diff = gen.cheb_diff), dim + 1)[0]\n",
    "c_gd = LA.solve(np.dot(M_gd.T, M_gd), np.dot(M_gd.T, rhs(np.stack(np.split(res[0].T.ravel(),dim),1))))\n",
    "\n",
    "np.random.seed(100500)\n",
    "test = l_bound + (u_bound - l_bound)*np.random.rand(1000000, dim)\n",
    "\n",
    "M = np.split(gen.GenMat(num_col, test, poly = gen.cheb, poly_diff = gen.cheb_diff), dim + 1)[0]\n",
    "\n",
    "print(\"GD error = \", LA.norm(rhs(test) - np.dot(M, c_gd), np.inf) / LA.norm(rhs(test), np.inf), \"\\n\")\n",
    "\n",
    "row_indx,_ = rect_maxvol(M, tol = 1.01, minK = num_points, maxK = num_points)\n",
    "c_maxvol = LA.solve(np.dot(M[row_indx].T, M[row_indx]), np.dot(M[row_indx].T, rhs(test[row_indx])))\n",
    "\n",
    "print(\"MaxVol error = \", LA.norm(rhs(test) - np.dot(M, c_maxvol), np.inf) / LA.norm(rhs(test), np.inf), \"\\n\")\n",
    "\n",
    "\n",
    "from sobol_lib import *\n",
    "def GenSobol( N = 200, dim = 2, seed = 0, rng=(-1.0, 1.0) ):\n",
    "    res = np.zeros((N, dim), dtype=float)\n",
    "    rng_d = rng[1] - rng[0]\n",
    "    for i in xrange(N):\n",
    "        res[i, :], seed = i4_sobol ( dim, seed )\n",
    "        res[i, :] = res[i, :]*rng_d + rng[0]\n",
    "\n",
    "    return res\n",
    "\n",
    "smp_sbl = GenSobol(num_points, dim, rng=(l_bound, u_bound))\n",
    "M_sbl = np.split(gen.GenMat(num_col, smp_sbl, poly = gen.cheb, poly_diff = gen.cheb_diff), dim + 1)[0]\n",
    "c_sbl = LA.solve(np.dot(M_sbl.T, M_sbl), np.dot(M_sbl.T, rhs(M_sbl)))\n",
    "\n",
    "print(\"Sobol error = \", LA.norm(rhs(test) - np.dot(M, c_sbl), np.inf) / LA.norm(rhs(test), np.inf), \"\\n\")\n",
    "\n",
    "\n",
    "smp = l_bound + (u_bound - l_bound)*lhs(dim, num_points, criterion='m', iterations=100)\n",
    "M_lhs = np.split(gen.GenMat(num_col, smp, poly = gen.cheb, poly_diff = gen.cheb_diff), dim + 1)[0]\n",
    "c_lhs = LA.solve(np.dot(M_lhs.T, M_lhs), np.dot(M_lhs.T, rhs(smp)))\n",
    "\n",
    "print(\"LHS error = \", LA.norm(rhs(test) - np.dot(M, c_lhs), np.inf) / LA.norm(rhs(test), np.inf), \"\\n\")\n",
    "\n",
    "\n",
    "smp_rndm = l_bound + (u_bound - l_bound)*np.random.rand(num_points, dim)\n",
    "M_rndm = np.split(gen.GenMat(num_col, smp_rndm, poly = gen.cheb, poly_diff = gen.cheb_diff), dim + 1)[0]\n",
    "c_rndm = LA.solve(np.dot(M_rndm.T, M_rndm), np.dot(M_rndm.T, rhs(smp_rndm)))\n",
    "\n",
    "print(\"Rand error = \", LA.norm(rhs(test) - np.dot(M, c_rndm), np.inf) / LA.norm(rhs(test), np.inf), \"\\n\")"
   ]
  },
  {
   "cell_type": "code",
   "execution_count": null,
   "metadata": {},
   "outputs": [],
   "source": [
    "# visualization part\n",
    "# position of the chosen points by MaxVol and GD in 2-D case\n",
    "plt.xlim(l_bound-0.15, u_bound+0.15)\n",
    "plt.ylim(l_bound-0.15, u_bound+0.15)\n",
    "#plt.plot(M[row_indx,1], M[row_indx,2], 'ro', label = \"MV\")\n",
    "plt.plot(M_gd[:,1],M_gd[:,2], 'r^', label = \"GD\")\n",
    "plt.plot(smp_sbl[:,0],smp_sbl[:,1], 'm*', label = \"Sobol\")\n",
    "plt.plot(smp[:,0],smp[:,1], 'go', label = \"LHS\")\n",
    "plt.plot(smp_rndm[:,0],smp_rndm[:,1], 'bx', label = \"Random\")\n",
    "plt.legend(bbox_to_anchor=(0., 1.02, 1., .102), loc=3, ncol=4, borderaxespad=0.1)\n",
    "plt.grid(True)\n",
    "plt.show()"
   ]
  },
  {
   "cell_type": "code",
   "execution_count": null,
   "metadata": {
    "scrolled": false
   },
   "outputs": [],
   "source": [
    "# visualization of approximated function \n",
    "fig = plt.figure()\n",
    "ax = fig.gca(projection='3d')\n",
    "\n",
    "# make data\n",
    "X = np.arange(l_bound, u_bound, 0.08)\n",
    "Y = np.arange(l_bound, u_bound, 0.08)\n",
    "X, Y = np.meshgrid(X, Y)\n",
    "\n",
    "Z = 2*np.exp(-((X**2)/2. + (Y**2)/2.)) \n",
    "#Z = np.sin((X**2)/2. - (Y**2)/4. + 3) * np.cos(2*X + 1 - np.exp(Y))\n",
    "\n",
    "# plot the surface\n",
    "surf = ax.plot_surface(X, Y, Z, rstride=1, cstride=1, cmap=cm.coolwarm, linewidth=0.03, antialiased=False)\n",
    "\n",
    "# customize the z axis\n",
    "# ax.set_zlim(-1.01, 1.01)\n",
    "ax.zaxis.set_major_locator(LinearLocator(10))\n",
    "ax.zaxis.set_major_formatter(FormatStrFormatter('%.02f'))\n",
    "\n",
    "# add a color bar which maps values to colors\n",
    "fig.colorbar(surf, shrink=0.5, aspect=5)\n",
    "plt.show()"
   ]
  },
  {
   "cell_type": "markdown",
   "metadata": {},
   "source": [
    "# Speed of d/dx"
   ]
  },
  {
   "cell_type": "code",
   "execution_count": null,
   "metadata": {
    "collapsed": true
   },
   "outputs": [],
   "source": [
    "num = 100\n",
    "xx = l_bound + (u_bound - l_bound)*np.random.rand(num, num_points*dim)\n",
    "# g = grad(log_det.loss_func)\n",
    "grad_f = grad(log_det.loss_func)\n",
    "# grad_f = jit(g)"
   ]
  },
  {
   "cell_type": "code",
   "execution_count": null,
   "metadata": {},
   "outputs": [],
   "source": [
    "%%time\n",
    "for e in xx:\n",
    "    grad_f(e)"
   ]
  },
  {
   "cell_type": "code",
   "execution_count": null,
   "metadata": {},
   "outputs": [],
   "source": [
    "%%time\n",
    "for e in xx:\n",
    "    log_det.grad(e)"
   ]
  }
 ],
 "metadata": {
  "anaconda-cloud": {},
  "kernelspec": {
   "display_name": "Python 3",
   "language": "python",
   "name": "python3"
  },
  "language_info": {
   "codemirror_mode": {
    "name": "ipython",
    "version": 3
   },
   "file_extension": ".py",
   "mimetype": "text/x-python",
   "name": "python",
   "nbconvert_exporter": "python",
   "pygments_lexer": "ipython3",
   "version": "3.6.3"
  }
 },
 "nbformat": 4,
 "nbformat_minor": 1
}
