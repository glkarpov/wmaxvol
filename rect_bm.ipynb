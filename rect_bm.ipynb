{
 "cells": [
  {
   "cell_type": "code",
<<<<<<< HEAD
   "execution_count": 1,
=======
   "execution_count": 6,
>>>>>>> e3982579e13920eb19ef1fcc87339ec8d0a42943
   "metadata": {},
   "outputs": [],
   "source": [
    "import numpy as np\n",
    "from maxvolpy.maxvol import maxvol\n",
    "from numpy.polynomial import Chebyshev as T\n",
    "import numpy.linalg as la\n",
    "import matplotlib.pyplot as plt\n",
    "from scipy.linalg import lu as lu\n",
    "from gen_mat import *\n",
    "from ids import *\n",
    "from block_maxvol import *\n",
    "from block_rect_maxvol import *\n",
    "import scipy.linalg\n",
    "from gen_1D import matrix_prep\n",
    "%matplotlib inline"
   ]
  },
  {
   "cell_type": "markdown",
   "metadata": {},
   "source": [
    "### variants to generate matrix $A$"
   ]
  },
  {
   "cell_type": "code",
   "execution_count": null,
   "metadata": {
    "collapsed": true
   },
   "outputs": [],
   "source": [
    "n = 5000 #nmber of sampling points   \n",
    "deg = 9 #Degree of polynomial       \n",
    "interval = [0, 5]  # interval of x\n",
    "x= np.linspace(interval[0], interval[1], n, dtype=np.float64)\n",
    "p_size = deg+1\n",
    "nder = 1"
   ]
  },
  {
   "cell_type": "code",
<<<<<<< HEAD
   "execution_count": 2,
=======
   "execution_count": 3,
>>>>>>> e3982579e13920eb19ef1fcc87339ec8d0a42943
   "metadata": {},
   "outputs": [],
   "source": [
    "nder = 1 # dimension\n",
    "n = 40 # number of points\n",
    "n_test = 5000 #points on test grid\n",
    "p_size = (nder+1)*5 #number of monoms (number of columns)\n",
    "interval = [-2, 2]  # interval of x_test\n",
    "x = np.random.rand(n, nder)\n"
   ]
  },
  {
   "cell_type": "code",
   "execution_count": 7,
   "metadata": {},
   "outputs": [
    {
     "name": "stdout",
     "output_type": "stream",
     "text": [
      "(80, 10)\n",
      "(80, 10)\n"
     ]
    }
   ],
   "source": [
    "c = GenMat(p_size, x,poly=cheb, poly_diff=cheb_diff, debug=False,pow_p=1)\n",
    "print c.shape\n",
    "# turn matrix to the block structure\n",
    "A = matrix_prep(c,nder+1,n)\n",
    "print A.shape"
   ]
  },
  {
   "cell_type": "code",
   "execution_count": null,
   "metadata": {
    "collapsed": true
   },
   "outputs": [],
   "source": [
    "max_val = 15\n",
    "n, p_size = 36, 9\n",
    "mat_int = np.random.uniform( low=-max_val, high=max_val, size=n*p_size).reshape((n,p_size)).astype(int)\n",
    "A = mat_int.astype(float)\n",
    "nder = 2"
   ]
  },
  {
   "cell_type": "code",
<<<<<<< HEAD
   "execution_count": 2,
   "metadata": {},
   "outputs": [
    {
     "name": "stdout",
     "output_type": "stream",
     "text": [
      "[[-8.+1.j -7.+0.j  1.+0.j  0.+0.j -5.+0.j  2.+0.j]\n",
      " [ 6.+0.j -1.+0.j -8.+0.j  4.+0.j  4.+0.j -9.+0.j]\n",
      " [ 9.+0.j  5.+0.j  8.+0.j  0.+0.j -6.+0.j -4.+0.j]\n",
      " [ 6.+0.j  5.+0.j -6.+0.j  2.+0.j -9.+0.j  8.+0.j]\n",
      " [ 3.+0.j -8.+0.j  3.+0.j -3.+0.j  4.+0.j -4.+0.j]\n",
      " [-7.+0.j  2.+0.j  0.+0.j -6.+0.j  5.+0.j -5.+0.j]\n",
      " [ 6.+0.j  1.+0.j -1.+0.j  0.+0.j -2.+0.j  1.+0.j]\n",
      " [ 1.+0.j  9.+0.j -6.+0.j -4.+0.j  0.+0.j  0.+0.j]\n",
      " [-2.+0.j  0.+0.j  0.+0.j -7.+0.j -6.+0.j  4.+0.j]\n",
      " [-1.+0.j  0.+0.j -1.+0.j  9.+0.j -4.+0.j  4.+0.j]\n",
      " [ 4.+0.j -4.+0.j  1.+0.j  7.+0.j -6.+0.j -9.+0.j]\n",
      " [-7.+0.j  8.+0.j  4.+0.j  1.+0.j  0.+0.j  0.+0.j]]\n"
     ]
    }
   ],
=======
   "execution_count": null,
   "metadata": {},
   "outputs": [],
>>>>>>> e3982579e13920eb19ef1fcc87339ec8d0a42943
   "source": [
    "A = np.array([[-8.+1.j, -7.,  1.,  0. ,-5.,  2.],\n",
    " [ 6., -1., -8.,  4.,  4., -9.],\n",
    " [ 9.,  5.,  8.,  0., -6., -4.],\n",
    " [ 6.,  5., -6.,  2., -9.,  8.],\n",
    " [ 3., -8.,  3., -3.,  4., -4.],\n",
    " [-7. , 2.,  0., -6.,  5., -5.],\n",
    " [ 6.  ,1., -1.,  0., -2.,  1.],\n",
    " [ 1.  ,9., -6., -4.,  0.,  0.],\n",
    " [-2.  ,0.,  0., -7., -6.,  4.],\n",
    " [-1.  ,0., -1.,  9., -4.,  4.],\n",
    " [ 4., -4. , 1.,  7., -6., -9.],\n",
    " [-7.,  8.,  4.,  1.,  0.,  0.]])\n",
    "print A\n",
    "nder = 1\n",
    "p_size = A.shape[1]"
   ]
  },
  {
   "cell_type": "markdown",
   "metadata": {},
   "source": [
    "### start information about loaded matrix"
   ]
  },
  {
   "cell_type": "code",
<<<<<<< HEAD
   "execution_count": 3,
   "metadata": {},
   "outputs": [
    {
     "name": "stdout",
     "output_type": "stream",
     "text": [
      "(1490371-67686j)\n",
      "6\n",
      "[ 22.54896635  21.75900722  17.96035828  15.28968772  13.50190731\n",
      "   9.66639541]\n",
      "[ 0 11  2  9  3  1]\n",
      "(-2053640+111953j)\n"
     ]
    }
   ],
=======
   "execution_count": null,
   "metadata": {},
   "outputs": [],
>>>>>>> e3982579e13920eb19ef1fcc87339ec8d0a42943
   "source": [
    "print la.det(A[:A.shape[1]])\n",
    "print la.matrix_rank(A)\n",
    "_,s,_ = scipy.linalg.svd(A)\n",
    "print s\n",
    "\n",
    "piv,_ = maxvol(A)\n",
    "print piv\n",
    "print la.det(A[piv])"
   ]
  },
  {
   "cell_type": "markdown",
   "metadata": {},
   "source": [
    "###  test PLUQ Preprocessing separately"
   ]
  },
  {
   "cell_type": "code",
<<<<<<< HEAD
   "execution_count": 4,
=======
   "execution_count": null,
>>>>>>> e3982579e13920eb19ef1fcc87339ec8d0a42943
   "metadata": {},
   "outputs": [],
   "source": [
    "p,l,u,q,inf = pluq_ids(A,nder, debug=False)"
   ]
  },
  {
   "cell_type": "code",
<<<<<<< HEAD
   "execution_count": 5,
   "metadata": {},
   "outputs": [
    {
     "ename": "NameError",
     "evalue": "name 'b' is not defined",
     "output_type": "error",
     "traceback": [
      "\u001b[0;31m---------------------------------------------------------------------------\u001b[0m",
      "\u001b[0;31mNameError\u001b[0m                                 Traceback (most recent call last)",
      "\u001b[0;32m<ipython-input-5-53c57753aa91>\u001b[0m in \u001b[0;36m<module>\u001b[0;34m()\u001b[0m\n\u001b[0;32m----> 1\u001b[0;31m \u001b[0;32mprint\u001b[0m\u001b[0;34m(\u001b[0m\u001b[0mla\u001b[0m\u001b[0;34m.\u001b[0m\u001b[0mdet\u001b[0m\u001b[0;34m(\u001b[0m\u001b[0mnp\u001b[0m\u001b[0;34m.\u001b[0m\u001b[0mdot\u001b[0m\u001b[0;34m(\u001b[0m\u001b[0mperm_matrix\u001b[0m\u001b[0;34m(\u001b[0m\u001b[0mp\u001b[0m\u001b[0;34m)\u001b[0m\u001b[0;34m,\u001b[0m\u001b[0mb\u001b[0m\u001b[0;34m)\u001b[0m\u001b[0;34m[\u001b[0m\u001b[0;34m:\u001b[0m\u001b[0mb\u001b[0m\u001b[0;34m.\u001b[0m\u001b[0mshape\u001b[0m\u001b[0;34m[\u001b[0m\u001b[0;36m1\u001b[0m\u001b[0;34m]\u001b[0m\u001b[0;34m]\u001b[0m\u001b[0;34m)\u001b[0m\u001b[0;34m)\u001b[0m\u001b[0;34m\u001b[0m\u001b[0m\n\u001b[0m\u001b[1;32m      2\u001b[0m \u001b[0;34m\u001b[0m\u001b[0m\n\u001b[1;32m      3\u001b[0m \u001b[0;32mprint\u001b[0m \u001b[0mp\u001b[0m\u001b[0;34m[\u001b[0m\u001b[0;34m:\u001b[0m\u001b[0mb\u001b[0m\u001b[0;34m.\u001b[0m\u001b[0mshape\u001b[0m\u001b[0;34m[\u001b[0m\u001b[0;36m1\u001b[0m\u001b[0;34m]\u001b[0m\u001b[0;34m]\u001b[0m\u001b[0;34m\u001b[0m\u001b[0m\n\u001b[1;32m      4\u001b[0m \u001b[0;32mprint\u001b[0m \u001b[0mq\u001b[0m\u001b[0;34m\u001b[0m\u001b[0m\n",
      "\u001b[0;31mNameError\u001b[0m: name 'b' is not defined"
     ]
    }
   ],
=======
   "execution_count": null,
   "metadata": {},
   "outputs": [],
>>>>>>> e3982579e13920eb19ef1fcc87339ec8d0a42943
   "source": [
    "print(la.det(np.dot(perm_matrix(p),b)[:b.shape[1]]))\n",
    "\n",
    "print p[:b.shape[1]]\n",
    "print q"
   ]
  },
  {
   "cell_type": "code",
   "execution_count": null,
   "metadata": {},
   "outputs": [],
   "source": [
    "#turn rows in every block in correct order, i.e. 2,1,3 -> 1,2,3; \n",
    "pr = p_preproc(p,nder+1)\n",
    "print pr[:b.shape[1]]"
   ]
  },
  {
   "cell_type": "markdown",
   "metadata": {},
   "source": [
    "### test Block maxvol perfomance separately"
   ]
  },
  {
   "cell_type": "code",
   "execution_count": null,
   "metadata": {},
   "outputs": [],
   "source": [
    "%time r,t,y = block_maxvol(A_init,nder, tol=0.0,max_iters=200,swm_upd=True)"
   ]
  },
  {
   "cell_type": "code",
   "execution_count": null,
   "metadata": {},
   "outputs": [],
   "source": [
    "%time C, B, P = block_maxvol(A_init, nder,tol=0.0,max_iters = 2000,swm_upd=False)"
   ]
  },
  {
   "cell_type": "code",
   "execution_count": null,
   "metadata": {},
   "outputs": [],
   "source": [
    "print np.linalg.det((b[:b.shape[1]]))\n",
    "print np.linalg.det((A_init[:b.shape[1]]))\n",
    "print np.linalg.det((r[:b.shape[1]]))\n",
    "print np.linalg.det((C[:b.shape[1]]))"
   ]
  },
  {
   "cell_type": "code",
   "execution_count": null,
   "metadata": {},
   "outputs": [],
   "source": [
    "print y[:b.shape[1]] # swm permuts\n",
    "print P[:b.shape[1]] # recalc A^{-1} permuts\n",
    "print pr[:b.shape[1]]"
   ]
  },
  {
   "cell_type": "markdown",
   "metadata": {},
   "source": [
    "### test rect_block_maxvol"
   ]
  },
  {
   "cell_type": "code",
<<<<<<< HEAD
   "execution_count": 6,
=======
   "execution_count": 8,
>>>>>>> e3982579e13920eb19ef1fcc87339ec8d0a42943
   "metadata": {},
   "outputs": [
    {
     "name": "stdout",
     "output_type": "stream",
     "text": [
<<<<<<< HEAD
      "5\n",
      "4\n",
      "5\n"
     ]
    },
    {
     "ename": "ValueError",
     "evalue": "attempt to get argmax of an empty sequence",
     "output_type": "error",
     "traceback": [
      "\u001b[0;31m---------------------------------------------------------------------------\u001b[0m",
      "\u001b[0;31mValueError\u001b[0m                                Traceback (most recent call last)",
      "\u001b[0;32m<ipython-input-6-3b69bcdaa922>\u001b[0m in \u001b[0;36m<module>\u001b[0;34m()\u001b[0m\n\u001b[1;32m      1\u001b[0m \u001b[0mk\u001b[0m \u001b[0;34m=\u001b[0m \u001b[0;36m16\u001b[0m\u001b[0;34m\u001b[0m\u001b[0m\n\u001b[0;32m----> 2\u001b[0;31m \u001b[0ma\u001b[0m\u001b[0;34m,\u001b[0m\u001b[0mb\u001b[0m\u001b[0;34m,\u001b[0m\u001b[0mc\u001b[0m\u001b[0;34m,\u001b[0m\u001b[0md\u001b[0m\u001b[0;34m,\u001b[0m\u001b[0me\u001b[0m \u001b[0;34m=\u001b[0m \u001b[0mrect_block_maxvol\u001b[0m\u001b[0;34m(\u001b[0m\u001b[0mA\u001b[0m\u001b[0;34m,\u001b[0m \u001b[0mnder\u001b[0m\u001b[0;34m,\u001b[0m \u001b[0mKmax\u001b[0m \u001b[0;34m=\u001b[0m \u001b[0mk\u001b[0m\u001b[0;34m,\u001b[0m \u001b[0mmax_iters\u001b[0m\u001b[0;34m=\u001b[0m\u001b[0;36m100\u001b[0m\u001b[0;34m,\u001b[0m\u001b[0mrect_tol\u001b[0m \u001b[0;34m=\u001b[0m \u001b[0;36m0.05\u001b[0m\u001b[0;34m,\u001b[0m \u001b[0mtol\u001b[0m \u001b[0;34m=\u001b[0m \u001b[0;36m0.0\u001b[0m\u001b[0;34m,\u001b[0m \u001b[0mdebug\u001b[0m \u001b[0;34m=\u001b[0m \u001b[0mFalse\u001b[0m\u001b[0;34m,\u001b[0m \u001b[0mext_debug\u001b[0m \u001b[0;34m=\u001b[0m \u001b[0mTrue\u001b[0m\u001b[0;34m)\u001b[0m\u001b[0;34m\u001b[0m\u001b[0m\n\u001b[0m",
      "\u001b[0;32m/Users/g.ryzhakov/Projects/BitBucket/maxvol-approximation/block_rect_maxvol.pyc\u001b[0m in \u001b[0;36mrect_block_maxvol\u001b[0;34m(A, nder, Kmax, max_iters, rect_tol, tol, debug, ext_debug)\u001b[0m\n\u001b[1;32m    113\u001b[0m     \u001b[0mA_rect_init\u001b[0m\u001b[0;34m,\u001b[0m\u001b[0m_\u001b[0m\u001b[0;34m,\u001b[0m\u001b[0mperm\u001b[0m \u001b[0;34m=\u001b[0m \u001b[0mblock_maxvol\u001b[0m\u001b[0;34m(\u001b[0m\u001b[0mA_init\u001b[0m\u001b[0;34m,\u001b[0m \u001b[0mnder\u001b[0m\u001b[0;34m,\u001b[0m \u001b[0mtol\u001b[0m \u001b[0;34m=\u001b[0m \u001b[0mtol\u001b[0m\u001b[0;34m,\u001b[0m\u001b[0mmax_iters\u001b[0m\u001b[0;34m=\u001b[0m\u001b[0;36m200\u001b[0m\u001b[0;34m,\u001b[0m\u001b[0mswm_upd\u001b[0m\u001b[0;34m=\u001b[0m\u001b[0mTrue\u001b[0m\u001b[0;34m)\u001b[0m\u001b[0;34m\u001b[0m\u001b[0m\n\u001b[1;32m    114\u001b[0m     \u001b[0mbm_perm\u001b[0m \u001b[0;34m=\u001b[0m \u001b[0mids\u001b[0m\u001b[0;34m.\u001b[0m\u001b[0mperm_array\u001b[0m\u001b[0;34m(\u001b[0m\u001b[0mnp\u001b[0m\u001b[0;34m.\u001b[0m\u001b[0mdot\u001b[0m\u001b[0;34m(\u001b[0m\u001b[0mids\u001b[0m\u001b[0;34m.\u001b[0m\u001b[0mperm_matrix\u001b[0m\u001b[0;34m(\u001b[0m\u001b[0mperm\u001b[0m\u001b[0;34m)\u001b[0m\u001b[0;34m,\u001b[0m\u001b[0mids\u001b[0m\u001b[0;34m.\u001b[0m\u001b[0mperm_matrix\u001b[0m\u001b[0;34m(\u001b[0m\u001b[0mpluq_perm\u001b[0m\u001b[0;34m)\u001b[0m\u001b[0;34m)\u001b[0m\u001b[0;34m)\u001b[0m\u001b[0;34m\u001b[0m\u001b[0m\n\u001b[0;32m--> 115\u001b[0;31m     \u001b[0ma\u001b[0m\u001b[0;34m,\u001b[0m \u001b[0mb\u001b[0m\u001b[0;34m,\u001b[0m \u001b[0mc\u001b[0m \u001b[0;34m=\u001b[0m \u001b[0mrect_block_maxvol_core\u001b[0m\u001b[0;34m(\u001b[0m\u001b[0mA_rect_init\u001b[0m\u001b[0;34m,\u001b[0m\u001b[0mnder\u001b[0m\u001b[0;34m,\u001b[0m\u001b[0mKmax\u001b[0m\u001b[0;34m,\u001b[0m\u001b[0mt\u001b[0m \u001b[0;34m=\u001b[0m \u001b[0mrect_tol\u001b[0m\u001b[0;34m)\u001b[0m\u001b[0;34m\u001b[0m\u001b[0m\n\u001b[0m\u001b[1;32m    116\u001b[0m     \u001b[0mfinal_perm\u001b[0m \u001b[0;34m=\u001b[0m \u001b[0mids\u001b[0m\u001b[0;34m.\u001b[0m\u001b[0mperm_array\u001b[0m\u001b[0;34m(\u001b[0m\u001b[0mnp\u001b[0m\u001b[0;34m.\u001b[0m\u001b[0mdot\u001b[0m\u001b[0;34m(\u001b[0m\u001b[0mids\u001b[0m\u001b[0;34m.\u001b[0m\u001b[0mperm_matrix\u001b[0m\u001b[0;34m(\u001b[0m\u001b[0mc\u001b[0m\u001b[0;34m)\u001b[0m\u001b[0;34m,\u001b[0m\u001b[0mids\u001b[0m\u001b[0;34m.\u001b[0m\u001b[0mperm_matrix\u001b[0m\u001b[0;34m(\u001b[0m\u001b[0mbm_perm\u001b[0m\u001b[0;34m)\u001b[0m\u001b[0;34m)\u001b[0m\u001b[0;34m)\u001b[0m\u001b[0;34m\u001b[0m\u001b[0m\n\u001b[1;32m    117\u001b[0m \u001b[0;34m\u001b[0m\u001b[0m\n",
      "\u001b[0;32m/Users/g.ryzhakov/Projects/BitBucket/maxvol-approximation/block_rect_maxvol.pyc\u001b[0m in \u001b[0;36mrect_block_maxvol_core\u001b[0;34m(A_init, nder, Kmax, t)\u001b[0m\n\u001b[1;32m     65\u001b[0m         \u001b[0;32mif\u001b[0m \u001b[0;34m(\u001b[0m\u001b[0mFl_cs\u001b[0m \u001b[0;34m==\u001b[0m \u001b[0mFalse\u001b[0m\u001b[0;34m)\u001b[0m\u001b[0;34m:\u001b[0m\u001b[0;34m\u001b[0m\u001b[0m\n\u001b[1;32m     66\u001b[0m             \u001b[0mind_array\u001b[0m \u001b[0;34m=\u001b[0m \u001b[0mla\u001b[0m\u001b[0;34m.\u001b[0m\u001b[0mdet\u001b[0m\u001b[0;34m(\u001b[0m\u001b[0mnp\u001b[0m\u001b[0;34m.\u001b[0m\u001b[0meye\u001b[0m\u001b[0;34m(\u001b[0m\u001b[0mndim\u001b[0m\u001b[0;34m)\u001b[0m \u001b[0;34m+\u001b[0m \u001b[0mCC_sigma\u001b[0m\u001b[0;34m)\u001b[0m\u001b[0;34m\u001b[0m\u001b[0m\n\u001b[0;32m---> 67\u001b[0;31m             \u001b[0melem\u001b[0m \u001b[0;34m=\u001b[0m \u001b[0mnp\u001b[0m\u001b[0;34m.\u001b[0m\u001b[0margmax\u001b[0m\u001b[0;34m(\u001b[0m\u001b[0mnp\u001b[0m\u001b[0;34m.\u001b[0m\u001b[0mabs\u001b[0m\u001b[0;34m(\u001b[0m\u001b[0mind_array\u001b[0m\u001b[0;34m[\u001b[0m\u001b[0;34m(\u001b[0m\u001b[0mshape_index\u001b[0m \u001b[0;34m//\u001b[0m \u001b[0mndim\u001b[0m\u001b[0;34m)\u001b[0m\u001b[0;34m:\u001b[0m\u001b[0;34m]\u001b[0m\u001b[0;34m)\u001b[0m\u001b[0;34m)\u001b[0m \u001b[0;34m+\u001b[0m \u001b[0;34m(\u001b[0m\u001b[0mshape_index\u001b[0m \u001b[0;34m//\u001b[0m \u001b[0mndim\u001b[0m\u001b[0;34m)\u001b[0m\u001b[0;34m\u001b[0m\u001b[0m\n\u001b[0m\u001b[1;32m     68\u001b[0m             \u001b[0;32mprint\u001b[0m \u001b[0melem\u001b[0m\u001b[0;34m\u001b[0m\u001b[0m\n\u001b[1;32m     69\u001b[0m             \u001b[0;32mif\u001b[0m \u001b[0;34m(\u001b[0m\u001b[0mind_array\u001b[0m\u001b[0;34m[\u001b[0m\u001b[0melem\u001b[0m\u001b[0;34m]\u001b[0m \u001b[0;34m>\u001b[0m \u001b[0;36m1\u001b[0m \u001b[0;34m+\u001b[0m \u001b[0mt\u001b[0m\u001b[0;34m)\u001b[0m\u001b[0;34m:\u001b[0m\u001b[0;34m\u001b[0m\u001b[0m\n",
      "\u001b[0;32m/opt/local/Library/Frameworks/Python.framework/Versions/2.7/lib/python2.7/site-packages/numpy/core/fromnumeric.pyc\u001b[0m in \u001b[0;36margmax\u001b[0;34m(a, axis, out)\u001b[0m\n\u001b[1;32m    961\u001b[0m \u001b[0;34m\u001b[0m\u001b[0m\n\u001b[1;32m    962\u001b[0m     \"\"\"\n\u001b[0;32m--> 963\u001b[0;31m     \u001b[0;32mreturn\u001b[0m \u001b[0m_wrapfunc\u001b[0m\u001b[0;34m(\u001b[0m\u001b[0ma\u001b[0m\u001b[0;34m,\u001b[0m \u001b[0;34m'argmax'\u001b[0m\u001b[0;34m,\u001b[0m \u001b[0maxis\u001b[0m\u001b[0;34m=\u001b[0m\u001b[0maxis\u001b[0m\u001b[0;34m,\u001b[0m \u001b[0mout\u001b[0m\u001b[0;34m=\u001b[0m\u001b[0mout\u001b[0m\u001b[0;34m)\u001b[0m\u001b[0;34m\u001b[0m\u001b[0m\n\u001b[0m\u001b[1;32m    964\u001b[0m \u001b[0;34m\u001b[0m\u001b[0m\n\u001b[1;32m    965\u001b[0m \u001b[0;34m\u001b[0m\u001b[0m\n",
      "\u001b[0;32m/opt/local/Library/Frameworks/Python.framework/Versions/2.7/lib/python2.7/site-packages/numpy/core/fromnumeric.pyc\u001b[0m in \u001b[0;36m_wrapfunc\u001b[0;34m(obj, method, *args, **kwds)\u001b[0m\n\u001b[1;32m     55\u001b[0m \u001b[0;32mdef\u001b[0m \u001b[0m_wrapfunc\u001b[0m\u001b[0;34m(\u001b[0m\u001b[0mobj\u001b[0m\u001b[0;34m,\u001b[0m \u001b[0mmethod\u001b[0m\u001b[0;34m,\u001b[0m \u001b[0;34m*\u001b[0m\u001b[0margs\u001b[0m\u001b[0;34m,\u001b[0m \u001b[0;34m**\u001b[0m\u001b[0mkwds\u001b[0m\u001b[0;34m)\u001b[0m\u001b[0;34m:\u001b[0m\u001b[0;34m\u001b[0m\u001b[0m\n\u001b[1;32m     56\u001b[0m     \u001b[0;32mtry\u001b[0m\u001b[0;34m:\u001b[0m\u001b[0;34m\u001b[0m\u001b[0m\n\u001b[0;32m---> 57\u001b[0;31m         \u001b[0;32mreturn\u001b[0m \u001b[0mgetattr\u001b[0m\u001b[0;34m(\u001b[0m\u001b[0mobj\u001b[0m\u001b[0;34m,\u001b[0m \u001b[0mmethod\u001b[0m\u001b[0;34m)\u001b[0m\u001b[0;34m(\u001b[0m\u001b[0;34m*\u001b[0m\u001b[0margs\u001b[0m\u001b[0;34m,\u001b[0m \u001b[0;34m**\u001b[0m\u001b[0mkwds\u001b[0m\u001b[0;34m)\u001b[0m\u001b[0;34m\u001b[0m\u001b[0m\n\u001b[0m\u001b[1;32m     58\u001b[0m \u001b[0;34m\u001b[0m\u001b[0m\n\u001b[1;32m     59\u001b[0m     \u001b[0;31m# An AttributeError occurs if the object does not have\u001b[0m\u001b[0;34m\u001b[0m\u001b[0;34m\u001b[0m\u001b[0m\n",
      "\u001b[0;31mValueError\u001b[0m: attempt to get argmax of an empty sequence"
=======
      "22\n",
      "15\n",
      "20\n"
>>>>>>> e3982579e13920eb19ef1fcc87339ec8d0a42943
     ]
    }
   ],
   "source": [
    "k = 16\n",
    "a,b,c,d,e = rect_block_maxvol(A, nder, Kmax = k, max_iters=100,rect_tol = 0.05, tol = 0.0, debug = False, ext_debug = True)"
   ]
  },
  {
   "cell_type": "code",
<<<<<<< HEAD
   "execution_count": 14,
   "metadata": {},
   "outputs": [
    {
     "data": {
      "text/plain": [
       "array([ 2,  3, 50, 51, 78, 79, 10, 11, 30, 31,  6,  7, 12, 13, 14, 15])"
      ]
     },
     "execution_count": 14,
     "metadata": {},
     "output_type": "execute_result"
    }
   ],
=======
   "execution_count": null,
   "metadata": {},
   "outputs": [],
>>>>>>> e3982579e13920eb19ef1fcc87339ec8d0a42943
   "source": [
    "e[:k]"
   ]
  },
  {
   "cell_type": "code",
<<<<<<< HEAD
   "execution_count": 15,
   "metadata": {},
   "outputs": [
    {
     "data": {
      "text/plain": [
       "array([ 2,  3, 62, 63, 22, 23, 76, 77, 30, 31,  6,  7, 12, 13, 14, 15])"
      ]
     },
     "execution_count": 15,
     "metadata": {},
     "output_type": "execute_result"
    }
   ],
=======
   "execution_count": null,
   "metadata": {},
   "outputs": [],
>>>>>>> e3982579e13920eb19ef1fcc87339ec8d0a42943
   "source": [
    "d[:k]"
   ]
  },
  {
   "cell_type": "code",
<<<<<<< HEAD
   "execution_count": 16,
   "metadata": {},
   "outputs": [
    {
     "data": {
      "text/plain": [
       "array([ 2,  3, 62, 63, 22, 23, 76, 77, 30, 31, 66, 67, 78, 79, 38, 39])"
      ]
     },
     "execution_count": 16,
     "metadata": {},
     "output_type": "execute_result"
    }
   ],
=======
   "execution_count": null,
   "metadata": {},
   "outputs": [],
>>>>>>> e3982579e13920eb19ef1fcc87339ec8d0a42943
   "source": [
    "c[:k]"
   ]
  },
  {
   "cell_type": "code",
<<<<<<< HEAD
   "execution_count": 17,
=======
   "execution_count": null,
>>>>>>> e3982579e13920eb19ef1fcc87339ec8d0a42943
   "metadata": {},
   "outputs": [],
   "source": [
    "ndim = nder+1\n",
    "m = a.shape[0] // ndim\n",
    "n = a.shape[0]\n",
    "values = []\n",
    "for i in range(0,m):\n",
    "    CC_T = np.dot(a[i*ndim:i*ndim+ndim], a[i*ndim:i*ndim+ndim].T)\n",
    "    values.append((CC_T))"
   ]
  },
  {
   "cell_type": "code",
<<<<<<< HEAD
   "execution_count": 19,
=======
   "execution_count": null,
>>>>>>> e3982579e13920eb19ef1fcc87339ec8d0a42943
   "metadata": {},
   "outputs": [],
   "source": [
    "values;"
   ]
  },
  {
   "cell_type": "code",
<<<<<<< HEAD
   "execution_count": 21,
=======
   "execution_count": null,
>>>>>>> e3982579e13920eb19ef1fcc87339ec8d0a42943
   "metadata": {},
   "outputs": [],
   "source": [
    "b;"
   ]
  },
  {
   "cell_type": "code",
   "execution_count": 22,
   "metadata": {
    "collapsed": true
   },
   "outputs": [],
   "source": [
    "A_test = A[c]"
   ]
  },
  {
   "cell_type": "code",
<<<<<<< HEAD
   "execution_count": 23,
=======
   "execution_count": null,
>>>>>>> e3982579e13920eb19ef1fcc87339ec8d0a42943
   "metadata": {},
   "outputs": [],
   "source": [
    "C_test = np.dot(A_test, la.pinv(A_test[:k]))"
   ]
  },
  {
   "cell_type": "code",
   "execution_count": 24,
   "metadata": {},
   "outputs": [
    {
     "data": {
      "text/plain": [
       "1.317612445991961e-09"
      ]
     },
     "execution_count": 24,
     "metadata": {},
     "output_type": "execute_result"
    }
   ],
   "source": [
    "np.linalg.norm((C_test - a))"
   ]
  },
  {
   "cell_type": "code",
   "execution_count": null,
<<<<<<< HEAD
   "metadata": {
    "collapsed": true
   },
   "outputs": [],
=======
   "metadata": {},
   "outputs": [],
   "source": [
    "np.linalg.norm((C_test - a))"
   ]
  },
  {
   "cell_type": "code",
   "execution_count": 10,
   "metadata": {},
   "outputs": [
    {
     "data": {
      "text/plain": [
       "array([24, 25, 56, 57, 70, 71,  0,  1, 26, 27, 10, 11, 12, 13, 14, 15, 16,\n",
       "       17, 18, 19,  2,  3, 22, 23, 60, 61,  8,  9, 28, 29, 30, 31, 32, 33,\n",
       "       34, 35,  4,  5,  6,  7, 40, 41, 42, 43, 36, 37, 46, 47, 48, 49, 50,\n",
       "       51, 52, 53, 54, 55, 20, 21, 58, 59, 38, 39, 62, 63, 64, 65, 66, 67,\n",
       "       68, 69, 44, 45, 72, 73, 74, 75, 76, 77, 78, 79])"
      ]
     },
     "execution_count": 10,
     "metadata": {},
     "output_type": "execute_result"
    }
   ],
   "source": [
    "d"
   ]
  },
  {
   "cell_type": "code",
   "execution_count": null,
   "metadata": {
    "collapsed": true
   },
   "outputs": [],
>>>>>>> e3982579e13920eb19ef1fcc87339ec8d0a42943
   "source": []
  }
 ],
 "metadata": {
  "kernelspec": {
   "display_name": "Python 2",
   "language": "python",
   "name": "python2"
  },
  "language_info": {
   "codemirror_mode": {
    "name": "ipython",
    "version": 2
   },
   "file_extension": ".py",
   "mimetype": "text/x-python",
   "name": "python",
   "nbconvert_exporter": "python",
   "pygments_lexer": "ipython2",
   "version": "2.7.14"
  }
 },
 "nbformat": 4,
 "nbformat_minor": 2
}
