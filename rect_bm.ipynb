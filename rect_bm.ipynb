{
 "cells": [
  {
   "cell_type": "code",
   "execution_count": null,
   "metadata": {
    "collapsed": true
   },
   "outputs": [],
   "source": [
    "import numpy as np\n",
    "from maxvolpy.maxvol import maxvol\n",
    "from numpy.polynomial import Chebyshev as T\n",
    "import numpy.linalg as la\n",
    "import matplotlib.pyplot as plt\n",
    "from scipy.linalg import lu as lu\n",
    "from gen_mat import *\n",
    "from ids import *\n",
    "from block_maxvol import *\n",
    "from block_rect_maxvol import *\n",
    "import scipy.linalg\n",
    "from gen_1D import matrix_prep\n",
    "%matplotlib inline"
   ]
  },
  {
   "cell_type": "markdown",
   "metadata": {},
   "source": [
    "### variants to generate matrix $A$"
   ]
  },
  {
   "cell_type": "code",
   "execution_count": null,
   "metadata": {
    "collapsed": true
   },
   "outputs": [],
   "source": [
    "n = 5000 #nmber of sampling points   \n",
    "deg = 9 #Degree of polynomial       \n",
    "interval = [0, 5]  # interval of x\n",
    "x= np.linspace(interval[0], interval[1], n, dtype=np.float64)\n",
    "p_size = deg+1\n",
    "nder = 1"
   ]
  },
  {
   "cell_type": "code",
   "execution_count": null,
   "metadata": {
    "collapsed": true
   },
   "outputs": [],
   "source": [
    "nder = 1 # dimension\n",
    "n = 100 # number of points\n",
    "n_test = 5000 #points on test grid\n",
    "p_size = (nder+1)*5 #number of monoms (number of columns)\n",
    "interval = [-2, 2]  # interval of x_test\n",
    "x = np.random.rand(n, nder)\n"
   ]
  },
  {
   "cell_type": "code",
   "execution_count": null,
   "metadata": {
    "collapsed": false
   },
   "outputs": [],
   "source": [
    "c = GenMat(p_size, x,poly=cheb, poly_diff=cheb_diff, debug=False,pow_p=1)\n",
    "print c.shape\n",
    "# turn matrix to the block structure\n",
    "A = matrix_prep(c,nder+1,n)\n",
    "print A.shape"
   ]
  },
  {
   "cell_type": "code",
   "execution_count": null,
   "metadata": {
    "collapsed": true
   },
   "outputs": [],
   "source": [
    "max_val = 15\n",
    "n, p_size = 10, 4\n",
    "mat_int = np.random.uniform( low=-max_val, high=max_val, size=n*p_size).reshape((n,p_size)).astype(int)\n",
    "A = mat_int.astype(float)\n",
    "nder = 1"
   ]
  },
  {
   "cell_type": "code",
   "execution_count": null,
   "metadata": {
    "collapsed": false
   },
   "outputs": [],
   "source": [
    "A = np.array([[-8.+1j, -7.,  1.,  0. ,-5.,  2.],\n",
    " [ 6., -1., -8.,  4.,  4., -9.],\n",
    " [ 9.,  5.,  8.,  0., -6., -4.],\n",
    " [ 6.,  5., -6.,  2., -9.,  8.],\n",
    " [ 3., -8.,  3., -3.,  4., -4.],\n",
    " [-7. , 2.,  0., -6.,  5., -5.],\n",
    " [ 6.  ,1., -1.,  0., -2.,  1.],\n",
    " [ 1.  ,9., -6., -4.,  0.,  0.],\n",
    " [-2.  ,0.,  0., -7., -6.,  4.],\n",
    " [-1.  ,0., -1.,  9., -4.,  4.],\n",
    " [ 4., -4. , 1.,  7., -6., -9.],\n",
    " [-7.,  8.,  4.,  1.,  0.,  0.]])\n",
    "print A\n",
    "nder = 1\n",
    "p_size = A.shape[1]"
   ]
  },
  {
   "cell_type": "markdown",
   "metadata": {},
   "source": [
    "### start information about loaded matrix"
   ]
  },
  {
   "cell_type": "code",
   "execution_count": null,
   "metadata": {
    "collapsed": false
   },
   "outputs": [],
   "source": [
    "print la.det(A[:A.shape[1]])\n",
    "print la.matrix_rank(A)\n",
    "_,s,_ = scipy.linalg.svd(A)\n",
    "print s\n",
    "\n",
    "piv,_ = maxvol(A)\n",
    "print piv\n",
    "print la.det(A[piv])"
   ]
  },
  {
   "cell_type": "markdown",
   "metadata": {},
   "source": [
    "###  test PLUQ Preprocessing separately"
   ]
  },
  {
   "cell_type": "code",
   "execution_count": null,
   "metadata": {
    "collapsed": true
   },
   "outputs": [],
   "source": [
    "p,l,u,q,inf = pluq_ids(A,nder, debug=False)"
   ]
  },
  {
   "cell_type": "code",
   "execution_count": null,
   "metadata": {
    "collapsed": true
   },
   "outputs": [],
   "source": [
    "print(la.det(np.dot(perm_matrix(p),b)[:b.shape[1]]))\n",
    "\n",
    "print p[:b.shape[1]]\n",
    "print q"
   ]
  },
  {
   "cell_type": "code",
   "execution_count": null,
   "metadata": {
    "collapsed": true
   },
   "outputs": [],
   "source": [
    "#turn rows in every block in correct order, i.e. 2,1,3 -> 1,2,3; \n",
    "pr = p_preproc(p,nder+1)\n",
    "print pr[:b.shape[1]]"
   ]
  },
  {
   "cell_type": "markdown",
   "metadata": {},
   "source": [
    "### test Block maxvol perfomance separately"
   ]
  },
  {
   "cell_type": "code",
   "execution_count": null,
   "metadata": {
    "collapsed": true
   },
   "outputs": [],
   "source": [
    "%time r,t,y = block_maxvol(A_init,nder, tol=0.0,max_iters=200,swm_upd=True)"
   ]
  },
  {
   "cell_type": "code",
   "execution_count": null,
   "metadata": {
    "collapsed": true
   },
   "outputs": [],
   "source": [
    "%time C, B, P = block_maxvol(A_init, nder,tol=0.0,max_iters = 2000,swm_upd=False)"
   ]
  },
  {
   "cell_type": "code",
   "execution_count": null,
   "metadata": {
    "collapsed": true
   },
   "outputs": [],
   "source": [
    "print np.linalg.det((b[:b.shape[1]]))\n",
    "print np.linalg.det((A_init[:b.shape[1]]))\n",
    "print np.linalg.det((r[:b.shape[1]]))\n",
    "print np.linalg.det((C[:b.shape[1]]))"
   ]
  },
  {
   "cell_type": "code",
   "execution_count": null,
   "metadata": {
    "collapsed": true
   },
   "outputs": [],
   "source": [
    "print y[:b.shape[1]] # swm permuts\n",
    "print P[:b.shape[1]] # recalc A^{-1} permuts\n",
    "print pr[:b.shape[1]]"
   ]
  },
  {
   "cell_type": "markdown",
   "metadata": {},
   "source": [
    "### test rect_block_maxvol"
   ]
  },
  {
   "cell_type": "code",
   "execution_count": null,
   "metadata": {
    "collapsed": false
   },
   "outputs": [],
   "source": [
    "k = 6\n",
    "a,b,c,d,e = rect_block_maxvol(A, nder, Kmax = k, max_iters=100,rect_tol = 0.05, tol = 0.0, debug = False, ext_debug = True)"
   ]
  },
  {
   "cell_type": "code",
   "execution_count": null,
   "metadata": {
    "collapsed": false
   },
   "outputs": [],
   "source": [
    "e[:k]"
   ]
  },
  {
   "cell_type": "code",
   "execution_count": null,
   "metadata": {
    "collapsed": false
   },
   "outputs": [],
   "source": [
    "d[:k]"
   ]
  },
  {
   "cell_type": "code",
   "execution_count": null,
   "metadata": {
    "collapsed": false
   },
   "outputs": [],
   "source": [
    "c[:k]"
   ]
  },
  {
   "cell_type": "code",
   "execution_count": null,
   "metadata": {
    "collapsed": false
   },
   "outputs": [],
   "source": [
    "print A[d]"
   ]
  },
  {
   "cell_type": "code",
   "execution_count": null,
   "metadata": {
    "collapsed": true
   },
   "outputs": [],
   "source": [
    "A_test = A[d]\n",
    "C_test = np.dot(A_test, la.pinv(A_test[:4]))\n",
    "ndim = nder+1\n",
    "m = C_test.shape[0] // ndim\n",
    "n = C_test.shape[0]\n",
    "values = []\n",
    "for i in range(0,m):\n",
    "    CC_T = np.dot(C_test[i*ndim:i*ndim+ndim], C_test[i*ndim:i*ndim+ndim].T)\n",
    "    values.append((CC_T))\n",
    "ind = la.det(np.eye(ndim) + values)"
   ]
  },
  {
   "cell_type": "code",
   "execution_count": null,
   "metadata": {
    "collapsed": false
   },
   "outputs": [],
   "source": [
    "print ind.reshape((5,1))"
   ]
  },
  {
   "cell_type": "code",
   "execution_count": null,
   "metadata": {
    "collapsed": false
   },
   "outputs": [],
   "source": [
    "print A[c]"
   ]
  },
  {
   "cell_type": "code",
   "execution_count": null,
   "metadata": {
    "collapsed": false
   },
   "outputs": [],
   "source": [
    "b"
   ]
  },
  {
   "cell_type": "code",
   "execution_count": null,
   "metadata": {
    "collapsed": true
   },
   "outputs": [],
   "source": [
    "A_test = A[c]"
   ]
  },
  {
   "cell_type": "code",
   "execution_count": null,
   "metadata": {
    "collapsed": true
   },
   "outputs": [],
   "source": [
    "C_test = np.dot(A_test, la.pinv(A_test[:k]))"
   ]
  },
  {
   "cell_type": "code",
   "execution_count": null,
   "metadata": {
    "collapsed": false
   },
   "outputs": [],
   "source": [
    "la.det(np.dot(A_test[:6].T,A_test[:6]))"
   ]
  },
  {
   "cell_type": "code",
   "execution_count": null,
   "metadata": {
    "collapsed": false
   },
   "outputs": [],
   "source": [
    "A_test = A[d]\n",
    "print(la.det(np.dot(A_test[:6].T,A_test[:6])))"
   ]
  },
  {
   "cell_type": "code",
   "execution_count": null,
   "metadata": {
    "collapsed": false
   },
   "outputs": [],
   "source": [
    "np.linalg.norm((C_test - a))"
   ]
  },
  {
   "cell_type": "code",
   "execution_count": null,
   "metadata": {
    "collapsed": false
   },
   "outputs": [],
   "source": [
    "c"
   ]
  },
  {
   "cell_type": "code",
   "execution_count": null,
   "metadata": {
    "collapsed": false
   },
   "outputs": [],
   "source": [
    "A[e]"
   ]
  }
 ],
 "metadata": {
  "kernelspec": {
   "display_name": "Python 2",
   "language": "python",
   "name": "python2"
  },
  "language_info": {
   "codemirror_mode": {
    "name": "ipython",
    "version": 2
   },
   "file_extension": ".py",
   "mimetype": "text/x-python",
   "name": "python",
   "nbconvert_exporter": "python",
   "pygments_lexer": "ipython2",
   "version": "2.7.13"
  }
 },
 "nbformat": 4,
 "nbformat_minor": 2
}
