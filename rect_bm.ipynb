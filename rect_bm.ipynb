{
 "cells": [
  {
   "cell_type": "code",
   "execution_count": null,
   "metadata": {
    "collapsed": true
   },
   "outputs": [],
   "source": [
    "import numpy as np\n",
    "import random\n",
    "from maxvolpy.maxvol import maxvol\n",
    "from numpy.polynomial import Chebyshev as T\n",
    "import numpy.linalg as la\n",
    "import matplotlib.pyplot as plt\n",
    "from scipy.linalg import lu as lu\n",
    "from gen_mat import *\n",
    "from ids import *\n",
    "from block_maxvol import *\n",
    "from block_rect_maxvol import *\n",
    "import scipy.linalg\n",
    "from gen_1D import matrix_prep\n",
    "%matplotlib inline"
   ]
  },
  {
   "cell_type": "markdown",
   "metadata": {},
   "source": [
    "### variants to generate matrix $A$"
   ]
  },
  {
   "cell_type": "code",
   "execution_count": null,
   "metadata": {
    "collapsed": true
   },
   "outputs": [],
   "source": [
    "n = 5000 #nmber of sampling points   \n",
    "deg = 9 #Degree of polynomial       \n",
    "interval = [0, 5]  # interval of x\n",
    "x= np.linspace(interval[0], interval[1], n, dtype=np.float64)\n",
    "p_size = deg+1\n",
    "nder = 1"
   ]
  },
  {
   "cell_type": "code",
   "execution_count": null,
   "metadata": {
    "collapsed": true
   },
   "outputs": [],
   "source": [
    "nder = 2 # dimension\n",
    "n = 4 # number of points\n",
    "n_test = 5000 #points on test grid\n",
    "p_size = (nder+1)*2 #number of monoms (number of columns)\n",
    "interval = [-2, 2]  # interval of x_test\n",
    "np.random.seed(0)\n",
    "x = 2*np.random.rand(n, nder) - 1\n"
   ]
  },
  {
   "cell_type": "code",
   "execution_count": null,
   "metadata": {},
   "outputs": [],
   "source": [
    "c = GenMat(p_size, x,poly=cheb, debug=False,pow_p=1)\n",
    "print c.shape\n",
    "# turn matrix to the block structure\n",
    "A = matrix_prep(c,nder+1,n)\n",
    "print A.shape"
   ]
  },
  {
   "cell_type": "code",
   "execution_count": null,
   "metadata": {
    "collapsed": true
   },
   "outputs": [],
   "source": [
    "max_val = 15\n",
    "n, p_size = 18, 6\n",
    "mat_int = np.random.uniform( low=-max_val, high=max_val, size=n*p_size).reshape((n,p_size)).astype(int)\n",
    "A = mat_int.astype(float)\n",
    "nder = 2"
   ]
  },
  {
   "cell_type": "code",
   "execution_count": null,
   "metadata": {
    "collapsed": true
   },
   "outputs": [],
   "source": [
    "A = np.array([[-8.+1j, -7.,  1.,  0. ,-5.,  2.],\n",
    " [ 6., -1., -8.,  4.,  4., -9.],\n",
    " [ 9.,  5.,  8.,  0., -6., -4.],\n",
    " [ 6.,  5., -6.,  2., -9.,  8.],\n",
    " [ 3., -8.,  3., -3.,  4., -4.],\n",
    " [-7. , 2.,  0., -6.,  5., -5.],\n",
    " [ 6.  ,1., -1.,  0., -2.,  1.],\n",
    " [ 1.  ,9., -6., -4.,  0.,  0.],\n",
    " [-2.  ,0.,  0., -7., -6.,  4.],\n",
    " [-1.  ,0., -1.,  9., -4.,  4.],\n",
    " [ 4., -4. , 1.,  7., -6., -9.],\n",
    " [-7.,  8.,  4.,  1.,  0.,  0.]])\n",
    "print A\n",
    "nder = 3\n",
    "p_size = A.shape[1]"
   ]
  },
  {
   "cell_type": "markdown",
   "metadata": {},
   "source": [
    "### start information about loaded matrix"
   ]
  },
  {
   "cell_type": "code",
   "execution_count": null,
   "metadata": {
    "collapsed": true
   },
   "outputs": [],
   "source": [
    "print la.det(A[:A.shape[1]])\n",
    "print la.matrix_rank(A)\n",
    "print la.matrix_rank(A[:A.shape[1]])\n",
    "_,s,_ = scipy.linalg.svd(A)\n",
    "print s\n",
    "\n",
    "piv,_ = maxvol(A)\n",
    "print piv\n",
    "print la.det(A[piv])"
   ]
  },
  {
   "cell_type": "markdown",
   "metadata": {},
   "source": [
    "###  test PLUQ Preprocessing separately"
   ]
  },
  {
   "cell_type": "code",
   "execution_count": null,
   "metadata": {
    "collapsed": true
   },
   "outputs": [],
   "source": [
    "def plu_index(A):\n",
    "    n, m = A.shape[0], A.shape[1]\n",
    "    P = np.eye((n), dtype=float)\n",
    "    L = np.eye(n, m, dtype=A.dtype)\n",
    "    U = np.copy(A)\n",
    "    permP = np.arange(n)\n",
    "    Urow = np.arange(n)\n",
    "    Ucol = np.arange(m)\n",
    "    for j in range(0, m):\n",
    "        loc_max = np.argmax(np.abs(U[Urow[j:]][Ucol[j]]))\n",
    "        print np.abs(U[Urow[j:],Ucol[j]])\n",
    "        form_permute(Urow,j,loc_max)\n",
    "        print (j,loc_max)\n",
    "        L[[j+loc_max,j],:j] = L[[j,j+loc_max], :j]\n",
    "        \n",
    "        form_permute(permP,j,loc_max + j)\n",
    "        \n",
    "        \n",
    "        for i in range(j+1, n):\n",
    "            L[i,j] = U[Urow[i],Ucol[j]]/U[Urow[j],Ucol[j]]\n",
    "            U[Urow[i],Ucol[j:]] -= L[i,j]*U[Urow[j],Ucol[j:]]\n",
    "           \n",
    "    return(permP, L, U[Urow][:,Ucol])  "
   ]
  },
  {
   "cell_type": "code",
   "execution_count": null,
   "metadata": {
    "collapsed": true
   },
   "outputs": [],
   "source": [
    "def plu(A, Tru=True):\n",
    "    n, m = A.shape[0], A.shape[1]\n",
    "    P = np.eye((n), dtype=float)\n",
    "    L = np.eye(n, m, dtype=A.dtype)\n",
    "    U = np.copy(A)\n",
    "    for j in range(0, m):\n",
    "        loc_max = np.argmax(np.abs(U[j:, j]))\n",
    "\n",
    "        U[[j+loc_max,j],j:] = U[[j,j+loc_max], j:]\n",
    "        \n",
    "        if Tru:\n",
    "            L[[j+loc_max,j],:j] = L[[j,j+loc_max], :j]\n",
    "        else:\n",
    "            L[[j+loc_max,j],:] = L[[j,j+loc_max], :]\n",
    "        \n",
    "        P[[j+loc_max,j],:] = P[[j,j+loc_max], :]\n",
    "        \n",
    "        \n",
    "        for i in range(j+1, n):\n",
    "            L[i,j] = U[i,j]/U[j,j]\n",
    "            U[i,j:] -= L[i,j]*U[j,j:]\n",
    "           \n",
    "    return(P, L, U) "
   ]
  },
  {
   "cell_type": "code",
   "execution_count": null,
   "metadata": {
    "collapsed": true
   },
   "outputs": [],
   "source": [
    "A = np.random.randn(5,5)\n",
    "print np.linalg.matrix_rank(A)\n",
    "print A"
   ]
  },
  {
   "cell_type": "code",
   "execution_count": null,
   "metadata": {
    "collapsed": true
   },
   "outputs": [],
   "source": [
    "P1, L1, U1 = plu(A, True)"
   ]
  },
  {
   "cell_type": "code",
   "execution_count": null,
   "metadata": {
    "collapsed": true
   },
   "outputs": [],
   "source": [
    "P2, L2, U2 = plu(A, False)"
   ]
  },
  {
   "cell_type": "code",
   "execution_count": null,
   "metadata": {
    "collapsed": true
   },
   "outputs": [],
   "source": [
    "print P1==P2\n",
    "print L1==L2\n",
    "print U1==U2"
   ]
  },
  {
   "cell_type": "code",
   "execution_count": null,
   "metadata": {
    "collapsed": true
   },
   "outputs": [],
   "source": [
    "np.max(np.abs(  (P1.dot(A) - (L1.dot(U1))).flatten()))\n",
    "np.max(np.abs(  (P2.dot(A) - (L2.dot(U2))).flatten()))"
   ]
  },
  {
   "cell_type": "code",
   "execution_count": null,
   "metadata": {
    "collapsed": true
   },
   "outputs": [],
   "source": [
    "for i in range(800):\n",
    "    dim = random.randint(1, 8)\n",
    "    print ('progress= ', i, 'dimension= ', dim)\n",
    "    Ncol = dim*random.randint(1,20)\n",
    "    Nrow = random.randint(2,20)*Ncol\n",
    "    A = np.random.randn(Nrow,Ncol)\n",
    "    p,l,u,q,inf = pluq_ids_index(A,dim-1,debug=False)\n",
    "    p1,l1,u1,q1,inf1 = pluq_ids(A,dim-1,debug=False)\n",
    "    if not np.all(p==p1):\n",
    "        print A\n",
    "        print (p,p1)"
   ]
  },
  {
   "cell_type": "code",
   "execution_count": null,
   "metadata": {},
   "outputs": [],
   "source": [
    "#p,l,u,q,indx = pluq_ids_index(A,nder)\n",
    "try:\n",
    "    p,l,u,q,indx = pluq_ids_index(A,nder)\n",
    "    print la.matrix_rank((perm_matrix(p).dot(A))[:6])\n",
    "except SingularError:\n",
    "    print 'not full column rank'"
   ]
  },
  {
   "cell_type": "markdown",
   "metadata": {},
   "source": [
    "### test Block maxvol perfomance separately"
   ]
  },
  {
   "cell_type": "code",
   "execution_count": null,
   "metadata": {
    "collapsed": true
   },
   "outputs": [],
   "source": [
    "%time r,t,y = block_maxvol(A_init,nder, tol=0.0,max_iters=200,swm_upd=True)"
   ]
  },
  {
   "cell_type": "code",
   "execution_count": null,
   "metadata": {
    "collapsed": true
   },
   "outputs": [],
   "source": [
    "%time C, B, P = block_maxvol(A_init, nder,tol=0.0,max_iters = 2000,swm_upd=False)"
   ]
  },
  {
   "cell_type": "code",
   "execution_count": null,
   "metadata": {
    "collapsed": true
   },
   "outputs": [],
   "source": [
    "print np.linalg.det((b[:b.shape[1]]))\n",
    "print np.linalg.det((A_init[:b.shape[1]]))\n",
    "print np.linalg.det((r[:b.shape[1]]))\n",
    "print np.linalg.det((C[:b.shape[1]]))"
   ]
  },
  {
   "cell_type": "code",
   "execution_count": null,
   "metadata": {
    "collapsed": true
   },
   "outputs": [],
   "source": [
    "print y[:b.shape[1]] # swm permuts\n",
    "print P[:b.shape[1]] # recalc A^{-1} permuts\n",
    "print pr[:b.shape[1]]"
   ]
  },
  {
   "cell_type": "markdown",
   "metadata": {},
   "source": [
    "### test rect_block_maxvol"
   ]
  },
  {
   "cell_type": "code",
   "execution_count": null,
   "metadata": {
    "collapsed": true
   },
   "outputs": [],
   "source": [
    "k = 8\n",
    "assert k//(nder+1)!=0\n",
    "assert (k>=A.shape[1])\n",
    "a,b,c,d,e = rect_block_maxvol(A, nder, Kmax = k, max_iters=100, rect_tol = 0.05, tol = 0.0, debug = False, ext_debug = True)"
   ]
  },
  {
   "cell_type": "code",
   "execution_count": null,
   "metadata": {
    "collapsed": true
   },
   "outputs": [],
   "source": [
    "e[:k]"
   ]
  },
  {
   "cell_type": "code",
   "execution_count": null,
   "metadata": {
    "collapsed": true
   },
   "outputs": [],
   "source": [
    "d[:k]"
   ]
  },
  {
   "cell_type": "code",
   "execution_count": null,
   "metadata": {
    "collapsed": true
   },
   "outputs": [],
   "source": [
    "c[:k]"
   ]
  },
  {
   "cell_type": "code",
   "execution_count": null,
   "metadata": {
    "collapsed": true
   },
   "outputs": [],
   "source": [
    "print A[d]"
   ]
  },
  {
   "cell_type": "code",
   "execution_count": null,
   "metadata": {
    "collapsed": true
   },
   "outputs": [],
   "source": [
    "A_test = A[d]\n",
    "C_test = np.dot(A_test, la.pinv(A_test[:4]))\n",
    "ndim = nder+1\n",
    "m = C_test.shape[0] // ndim\n",
    "n = C_test.shape[0]\n",
    "values = []\n",
    "for i in range(0,m):\n",
    "    CC_T = np.dot(C_test[i*ndim:i*ndim+ndim], C_test[i*ndim:i*ndim+ndim].T)\n",
    "    values.append((CC_T))\n",
    "ind = la.det(np.eye(ndim) + values)"
   ]
  },
  {
   "cell_type": "code",
   "execution_count": null,
   "metadata": {
    "collapsed": true
   },
   "outputs": [],
   "source": [
    "print ind.reshape((5,1))"
   ]
  },
  {
   "cell_type": "code",
   "execution_count": null,
   "metadata": {
    "collapsed": true
   },
   "outputs": [],
   "source": [
    "print A[c]"
   ]
  },
  {
   "cell_type": "code",
   "execution_count": null,
   "metadata": {
    "collapsed": true
   },
   "outputs": [],
   "source": [
    "A_test = A[c]"
   ]
  },
  {
   "cell_type": "code",
   "execution_count": null,
   "metadata": {
    "collapsed": true
   },
   "outputs": [],
   "source": [
    "C_test = np.dot(A_test, la.pinv(A_test[:k]))"
   ]
  },
  {
   "cell_type": "code",
   "execution_count": null,
   "metadata": {
    "collapsed": true
   },
   "outputs": [],
   "source": [
    "la.det(np.dot(A_test[:6].T,A_test[:6]))"
   ]
  },
  {
   "cell_type": "code",
   "execution_count": null,
   "metadata": {
    "collapsed": true
   },
   "outputs": [],
   "source": [
    "A_test = A[d]\n",
    "print(la.det(np.dot(A_test[:6].T,A_test[:6])))"
   ]
  },
  {
   "cell_type": "code",
   "execution_count": null,
   "metadata": {
    "collapsed": true
   },
   "outputs": [],
   "source": [
    "np.linalg.norm((C_test - a))"
   ]
  },
  {
   "cell_type": "code",
   "execution_count": null,
   "metadata": {
    "collapsed": true
   },
   "outputs": [],
   "source": [
    "### returns 2 values - function on domain, and block structured\n",
    "def rhs(points, nder, mode = 'gauss'):\n",
    "    if mode == 'gauss':\n",
    "        block_rhs = np.zeros((nder+1)*(points.shape[0]))\n",
    "        func = 2*np.exp(-((points[:,0]**2)/2. + (points[:,1]**2)/2.))# + (points[:,2]**2)/2.)) # Gaussian\n",
    "        for i in range(points.shape[0]):\n",
    "            block_rhs[i*(nder+1)] = func[i]\n",
    "            for j in range(nder):\n",
    "                block_rhs[i*(nder+1)+j+1] = -1*(points[i,j])*func[i]\n",
    "    if mode == '3D' :\n",
    "        block_rhs = np.zeros((nder+1)*(points.shape[0]))\n",
    "        func = 2*((points[:,0]**2)/2. + (points[:,1]**2)/2. + (points[:,2]**2)/2.) # Gaussian\n",
    "        for i in range(points.shape[0]):\n",
    "            block_rhs[i*(nder+1)] = func[i]\n",
    "            for j in range(nder):\n",
    "                block_rhs[i*(nder+1)+j+1] = 2 * points[i,j]\n",
    "    return func, block_rhs     "
   ]
  },
  {
   "cell_type": "code",
   "execution_count": null,
   "metadata": {
    "collapsed": true
   },
   "outputs": [],
   "source": [
    "### solve LSM\n",
    "f,t = rhs(x,nder, mode = 'gauss')\n",
    "A_test = GenMat(p_size, points_test,poly=cheb, debug=False,pow_p=1, ToGenDiff=False)\n",
    "f_test,_ = rhs(points_test,nder)\n",
    "\n",
    "### Take number of rows that we really need\n",
    "c = final_piv[:k]\n",
    "\n",
    "c_block, res_x, rank, s = np.linalg.lstsq(A[c],t[c])\n",
    "\n",
    "taken_p = x[c[::(nder+1)]/(nder+1),:]\n",
    "\n",
    "# visualization part\n",
    "# position of the chosen points by MaxVol and GD in 2-D case\n",
    "l_bound = interval[0]\n",
    "u_bound = interval[1]\n",
    "plt.xlim(l_bound-0.15, u_bound+0.15)\n",
    "plt.ylim(l_bound-0.15, u_bound+0.15)\n",
    "#plt.plot(M[row_indx,1], M[row_indx,2], 'ro', label = \"MV\")\n",
    "plt.plot(taken_p[:,0],taken_p[:,1], 'b^', label = \"BMV\")\n",
    "plt.legend(bbox_to_anchor=(0., 1.02, 1., .102), loc=3, ncol=2, borderaxespad=0.)\n",
    "plt.grid(True)\n",
    "plt.show()\n",
    "\n",
    "print(\"GD error = \", la.norm(f_test - np.dot(A_test, c_block), np.inf) / la.norm(f_test, np.inf), \"\\n\")"
   ]
  }
 ],
 "metadata": {
  "kernelspec": {
   "display_name": "Python 2",
   "language": "python",
   "name": "python2"
  },
  "language_info": {
   "codemirror_mode": {
    "name": "ipython",
    "version": 2
   },
   "file_extension": ".py",
   "mimetype": "text/x-python",
   "name": "python",
   "nbconvert_exporter": "python",
   "pygments_lexer": "ipython2",
   "version": "2.7.13"
  }
 },
 "nbformat": 4,
 "nbformat_minor": 2
}
