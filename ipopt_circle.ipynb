{
 "cells": [
  {
   "cell_type": "code",
   "execution_count": 7,
   "metadata": {
    "collapsed": true
   },
   "outputs": [],
   "source": [
    "# import ipopt\n",
    "import scipy\n",
    "import numpy as np\n",
    "import numpy.linalg as LA\n",
    "from numpy.polynomial import Chebyshev as T\n",
    "import gen_mat as gen\n",
    "import matplotlib.pyplot as plt\n",
    "from numba import jit, prange\n",
    "from mva_test import *\n",
    "%matplotlib inline\n",
    "import os\n",
    "\n",
    "prange = xrange"
   ]
  },
  {
   "cell_type": "code",
   "execution_count": 67,
   "metadata": {
    "collapsed": true
   },
   "outputs": [],
   "source": [
    "class hs071(object):\n",
    "    def __init__(self):\n",
    "        pass\n",
    "\n",
    "    @jit(parallel=True, nogil=True)\n",
    "    def objective(self, points):\n",
    "        tol = 1e-12\n",
    "        if (points.ndim == 1 or points.shape[1] == 1):\n",
    "            points = points.reshape(-1, dim, order='F')\n",
    "        points = np.stack(np.split(points.T.ravel(), dim), 1)\n",
    "        A = gen.GenMat(num_col, points, poly=gen.cheb, ToGenDiff=False)\n",
    "        S = LA.svd(A, compute_uv=False)\n",
    "        S[S < tol] = tol\n",
    "        ld = 2.0*np.sum(np.log(S))\n",
    "        return -ld\n",
    "\n",
    "    @jit(parallel=True, nogil=True)\n",
    "    def gradient(self, points):\n",
    "        tol = 1e-12\n",
    "        if (points.ndim == 1 or points.shape[1] == 1):\n",
    "            points = points.reshape(-1, dim, order='F')\n",
    "\n",
    "        idx = np.array(gen.indeces_K_cut(dim, num_col))\n",
    "        max_degree = np.max(idx)\n",
    "\n",
    "        num_of_points = points.shape[0]\n",
    "        tot_elems = points.size\n",
    "\n",
    "        T_deriv = np.empty((tot_elems, max_degree + 1), dtype=points.dtype)\n",
    "        T_val = np.empty((tot_elems, max_degree + 1), dtype=points.dtype)\n",
    "        points_flat = points.ravel('F')\n",
    "        for i in prange(max_degree + 1):\n",
    "            T_deriv[:, i] = T.deriv(T.basis(i))(points_flat)\n",
    "            T_val[:, i] = T.basis(i)(points_flat)\n",
    "\n",
    "        A = gen.GenMat(num_col, points, poly_vals=T_val,\n",
    "                       indeces=idx,  ToGenDiff=False)\n",
    "\n",
    "        _, S, V = LA.svd(A, full_matrices=False)\n",
    "        S[S < tol] = tol\n",
    "        B_inv = V.T.dot(np.diag(1./(S**2))).dot(V)\n",
    "\n",
    "        grad_vec = np.zeros(tot_elems, dtype=points.dtype)\n",
    "        for k in prange(tot_elems):\n",
    "            col = k//num_of_points\n",
    "            row = k % num_of_points\n",
    "            A_row = A[row]\n",
    "            idx_col = idx.T[col]\n",
    "            for i in xrange(B_inv.shape[0]):\n",
    "                alpha = T_deriv[k, idx_col[i]]/T_val[k, idx_col[i]]\n",
    "                for j in xrange(B_inv.shape[0]):\n",
    "                    grad_vec[k] += B_inv[j, i] * (A_row[i]*A_row[j]*(\n",
    "                        alpha + T_deriv[k, idx_col[j]]/T_val[k, idx_col[j]]))\n",
    "        return -grad_vec\n",
    "\n",
    "    def constraints(self, x):\n",
    "        #\n",
    "        # The callback for calculating the constraints\n",
    "        #\n",
    "        return x[x.size//2:]**2+x[0:x.size//2]**2\n",
    "\n",
    "    def jacobian(self, x):\n",
    "        #\n",
    "        # The callback for calculating the Jacobian\n",
    "        #\n",
    "        ret = np.zeros(2*num_pnts**2)\n",
    "        ret[::2*num_pnts + 1] = 2*x[:num_pnts]\n",
    "        ret[num_pnts::2*num_pnts + 1] = 2*x[num_pnts:]\n",
    "\n",
    "        return ret\n",
    "\n",
    "\n",
    "class hs_rad(hs071):\n",
    "    def constraints(self, x):\n",
    "        xi, yi = x[:x.size//2], x[x.size//2:]\n",
    "        return np.concatenate((xi**2 + yi**2, np.arctan2(yi, xi)))\n",
    "\n",
    "    def jacobian(self, x):\n",
    "        slot_ln = 2*num_pnts**2\n",
    "        ret = np.zeros(2*slot_ln)  # two times more constrains\n",
    "\n",
    "        xi, yi = x[:num_pnts], x[num_pnts:]\n",
    "        r2 = xi**2 + yi**2\n",
    "        # diff the first cons\n",
    "        ret[:slot_ln:2*num_pnts + 1] = 2*xi\n",
    "        ret[num_pnts:slot_ln:2*num_pnts + 1] = 2*yi\n",
    "\n",
    "        # diff the second cons\n",
    "        ret[slot_ln::2*num_pnts + 1] = -yi/r2\n",
    "        ret[num_pnts+slot_ln::2*num_pnts + 1] = xi/r2\n",
    "\n",
    "        return ret"
   ]
  },
  {
   "cell_type": "code",
   "execution_count": 101,
   "metadata": {
    "collapsed": true
   },
   "outputs": [],
   "source": [
    "def get_points_from_zone(obj, cl, cu, N, dim=2, mode='LHS', coeff = 5.0, args={}):\n",
    "    \"\"\"\n",
    "    obj is a class that have method 'constraints()'\n",
    "    \"\"\"\n",
    "    nmb = int(coeff*N) # number of points with a margin\n",
    "    # pnts = test_points_gen(nmb, dim, distib=mode).ravel('F') # x goes first, then y\n",
    "    pnts = test_points_gen(nmb, dim, distib=mode, **args)\n",
    "    pnts = np.array([i for i in pnts if np.all(cl <= obj.constraints(i)) and np.all(obj.constraints(i) <= cu) ])\n",
    "    \n",
    "    if len(pnts) < N: #Bad :(\n",
    "        return get_points_from_zone(cl, cnst, dim=dim, mode=mode, coeff=2*coeff, args=args)\n",
    "    else:\n",
    "        return pnts[:N]\n"
   ]
  },
  {
   "cell_type": "code",
   "execution_count": 110,
   "metadata": {},
   "outputs": [
    {
     "data": {
      "image/png": "[encoded data removed]",
      "text/plain": [
       "<matplotlib.figure.Figure at 0x60c5d5990>"
      ]
     },
     "metadata": {},
     "output_type": "display_data"
    }
   ],
   "source": [
    "N = 1000\n",
    "cl = [0.0, -0.5*np.pi]\n",
    "cu = [1.0, np.pi]\n",
    "pnt = get_points_from_zone(hs_rad(), cl, cu, N, mode='LHS')\n",
    "# print (pnt)\n",
    "plt.plot(pnt[:, 0], pnt[:, 1], 'b.');"
   ]
  },
  {
   "cell_type": "code",
   "execution_count": 30,
   "metadata": {},
   "outputs": [
    {
     "name": "stdout",
     "output_type": "stream",
     "text": [
      "[17. 29. 45.]\n",
      "[ 2.  0.  0.  8.  0.  0.  0.  4.  0.  0. 10.  0.  0.  0.  6.  0.  0. 12.]\n",
      "[17.           29.           45.            1.3258176637  1.1902899497  1.1071487178]\n",
      "[ 2.            0.            0.            8.            0.            0.            0.            4.\n",
      "  0.            0.           10.            0.            0.            0.            6.            0.\n",
      "  0.           12.           -0.2352941176  0.            0.            0.0588235294  0.            0.\n",
      "  0.           -0.1724137931  0.            0.            0.0689655172  0.            0.            0.\n",
      " -0.1333333333  0.            0.            0.0666666667]\n"
     ]
    }
   ],
   "source": [
    "dim = 2\n",
    "num_pnts = 3\n",
    "x = np.array([1, 2, 3, 4, 5, 6], dtype=float)\n",
    "\n",
    "hs = hs071()\n",
    "print(hs.constraints(x))\n",
    "print(hs.jacobian(x))\n",
    "\n",
    "hs = hs_rad()\n",
    "print(hs.constraints(x))\n",
    "print(hs.jacobian(x))"
   ]
  },
  {
   "cell_type": "code",
   "execution_count": 81,
   "metadata": {},
   "outputs": [
    {
     "ename": "NameError",
     "evalue": "name 'ipopt' is not defined",
     "output_type": "error",
     "traceback": [
      "\u001b[0;31m---------------------------------------------------------------------------\u001b[0m",
      "\u001b[0;31mNameError\u001b[0m                                 Traceback (most recent call last)",
      "\u001b[0;32m<ipython-input-81-358876a860e5>\u001b[0m in \u001b[0;36m<module>\u001b[0;34m()\u001b[0m\n\u001b[1;32m     16\u001b[0m \u001b[0mcu\u001b[0m \u001b[0;34m=\u001b[0m \u001b[0;34m[\u001b[0m\u001b[0;36m0.65\u001b[0m\u001b[0;34m]\u001b[0m\u001b[0;34m*\u001b[0m\u001b[0mnum_pnts\u001b[0m\u001b[0;34m\u001b[0m\u001b[0m\n\u001b[1;32m     17\u001b[0m \u001b[0;34m\u001b[0m\u001b[0m\n\u001b[0;32m---> 18\u001b[0;31m nlp = ipopt.problem(\n\u001b[0m        \u001b[0;36mglobal\u001b[0m \u001b[0;36mnlp\u001b[0m \u001b[0;34m= \u001b[0;36mundefined\u001b[0m\u001b[0m\u001b[0;34m\n        \u001b[0m\u001b[0;36mglobal\u001b[0m \u001b[0;36mipopt.problem\u001b[0m \u001b[0;34m= \u001b[0;36mundefined\u001b[0m\u001b[0m\u001b[0;34m\n        \u001b[0m\u001b[0;36mglobal\u001b[0m \u001b[0;36mn\u001b[0m \u001b[0;34m= \u001b[0;36mundefined\u001b[0m\u001b[0m\u001b[0;34m\n        \u001b[0m\u001b[0;36mglobal\u001b[0m \u001b[0;36mlen\u001b[0m \u001b[0;34m= \u001b[0;36mundefined\u001b[0m\u001b[0m\u001b[0;34m\n        \u001b[0m\u001b[0;36mglobal\u001b[0m \u001b[0;36mx0\u001b[0m \u001b[0;34m= array([ 0.0428660669,  0.2569919749, -0.5513766646,  0.1128770169, -0.8549776565, -0.4106954416,  0.4258132747,\n       -0.6752159529,  0.6414060482, -0.2646315935, -0.5903430997,  0.5379409066, -0.0273376242, -0.9540568141,\n       -0.0031618289,  0.2995107927,  0.6527421395, -0.9173835146,  0.3339113013, -0.7771405892,  0.7546397235,\n       -0.4948670147,  0.8468759518, -0.4768688462, -0.6920135426,  0.8255129331, -0.8269039907,  0.3785890265,\n       -0.4380657517,  0.7813671375, -0.164249035 ,  0.0594381886, -0.135923984 , -0.6356837895, -0.2379940004,\n        0.9136866588,  0.9528393835,  0.7018777222,  0.1528516465,  0.9904663999, -0.9690034911,  0.5830043074,\n       -0.1979002873,  0.1852117592, -0.3606125797, -0.7635194954,  0.2301752626,  0.5112971823, -0.3154374086,\n       -0.0940651835,  0.4892718993, -0.8850040051, -0.2654657967, -0.0987140142, -0.1834821764,  0.095940631 ,\n       -0.3160413393,  0.3051318613, -0.009660308 ,  0.5721326292, -0.4029900757,  0.7292376636,  0.2168546731,\n        0.1018335017, -0.5187607854,  0.6119736649,  0.3364827304, -0.2191628903, -0.6987713888, -0.8271749513,\n       -0.5946699267, -0.8556720597,  0.997003264 ,  0.8275932438,  0.4771600847,  0.5196264578, -0.4599092885,\n        0.4264139457, -0.6459354343, -0.7460653038,  0.1413068643,  0.6523256123, -0.7993357203,  0.7781165809,\n       -0.6710902563, -0.5528732756, -0.0360144328, -0.3419869419, -0.9651472207, -0.935522615 ,  0.1966310954,\n        0.5359260594,  0.0527914092,  0.2597011519,  0.3846602367,  0.9263833396,  0.7159913992,  0.8497624443,\n       -0.0616122483, -0.174881157 ,  0.9186765887, -0.4491097207])\u001b[0m\u001b[0;34m\n        \u001b[0m\u001b[0;36mglobal\u001b[0m \u001b[0;36mm\u001b[0m \u001b[0;34m= \u001b[0;36mundefined\u001b[0m\u001b[0m\u001b[0;34m\n        \u001b[0m\u001b[0;36mglobal\u001b[0m \u001b[0;36mcl\u001b[0m \u001b[0;34m= [0.17, 0.17, 0.17, 0.17, 0.17, 0.17, 0.17, 0.17, 0.17, 0.17, 0.17, 0.17, 0.17, 0.17, 0.17, 0.17, 0.17, 0.17, 0.17, 0.17, 0.17, 0.17, 0.17, 0.17, 0.17, 0.17, 0.17, 0.17, 0.17, 0.17, 0.17, 0.17, 0.17, 0.17, 0.17, 0.17, 0.17, 0.17, 0.17, 0.17, 0.17, 0.17, 0.17, 0.17, 0.17, 0.17, 0.17, 0.17, 0.17, 0.17, 0.17]\u001b[0m\u001b[0;34m\n        \u001b[0m\u001b[0;36mglobal\u001b[0m \u001b[0;36mproblem_obj\u001b[0m \u001b[0;34m= \u001b[0;36mundefined\u001b[0m\u001b[0m\u001b[0;34m\n        \u001b[0m\u001b[0;36mglobal\u001b[0m \u001b[0;36mhs071\u001b[0m \u001b[0;34m= <class '__main__.hs071'>\u001b[0m\u001b[0;34m\n        \u001b[0m\u001b[0;36mglobal\u001b[0m \u001b[0;36mlb\u001b[0m \u001b[0;34m= [-0.4, -0.4, -0.4, -0.4, -0.4, -0.4, -0.4, -0.4, -0.4, -0.4, -0.4, -0.4, -0.4, -0.4, -0.4, -0.4, -0.4, -0.4, -0.4, -0.4, -0.4, -0.4, -0.4, -0.4, -0.4, -0.4, -0.4, -0.4, -0.4, -0.4, -0.4, -0.4, -0.4, -0.4, -0.4, -0.4, -0.4, -0.4, -0.4, -0.4, -0.4, -0.4, -0.4, -0.4, -0.4, -0.4, -0.4, -0.4, -0.4, -0.4, -0.4, -0.4, -0.4, -0.4, -0.4, -0.4, -0.4, -0.4, -0.4, -0.4, -0.4, -0.4, -0.4, -0.4, -0.4, -0.4, -0.4, -0.4, -0.4, -0.4, -0.4, -0.4, -0.4, -0.4, -0.4, -0.4, -0.4, -0.4, -0.4, -0.4, -0.4, -0.4, -0.4, -0.4, -0.4, -0.4, -0.4, -0.4, -0.4, -0.4, -0.4, -0.4, -0.4, -0.4, -0.4, -0.4, -0.4, -0.4, -0.4, -0.4, -0.4, -0.4]\u001b[0m\u001b[0;34m\n        \u001b[0m\u001b[0;36mglobal\u001b[0m \u001b[0;36mub\u001b[0m \u001b[0;34m= [0.4, 0.4, 0.4, 0.4, 0.4, 0.4, 0.4, 0.4, 0.4, 0.4, 0.4, 0.4, 0.4, 0.4, 0.4, 0.4, 0.4, 0.4, 0.4, 0.4, 0.4, 0.4, 0.4, 0.4, 0.4, 0.4, 0.4, 0.4, 0.4, 0.4, 0.4, 0.4, 0.4, 0.4, 0.4, 0.4, 0.4, 0.4, 0.4, 0.4, 0.4, 0.4, 0.4, 0.4, 0.4, 0.4, 0.4, 0.4, 0.4, 0.4, 0.4, 0.4, 0.4, 0.4, 0.4, 0.4, 0.4, 0.4, 0.4, 0.4, 0.4, 0.4, 0.4, 0.4, 0.4, 0.4, 0.4, 0.4, 0.4, 0.4, 0.4, 0.4, 0.4, 0.4, 0.4, 0.4, 0.4, 0.4, 0.4, 0.4, 0.4, 0.4, 0.4, 0.4, 0.4, 0.4, 0.4, 0.4, 0.4, 0.4, 0.4, 0.4, 0.4, 0.4, 0.4, 0.4, 0.4, 0.4, 0.4, 0.4, 0.4, 0.4]\u001b[0m\u001b[0;34m\n        \u001b[0m\u001b[0;36mglobal\u001b[0m \u001b[0;36mcu\u001b[0m \u001b[0;34m= [0.65, 0.65, 0.65, 0.65, 0.65, 0.65, 0.65, 0.65, 0.65, 0.65, 0.65, 0.65, 0.65, 0.65, 0.65, 0.65, 0.65, 0.65, 0.65, 0.65, 0.65, 0.65, 0.65, 0.65, 0.65, 0.65, 0.65, 0.65, 0.65, 0.65, 0.65, 0.65, 0.65, 0.65, 0.65, 0.65, 0.65, 0.65, 0.65, 0.65, 0.65, 0.65, 0.65, 0.65, 0.65, 0.65, 0.65, 0.65, 0.65, 0.65, 0.65]\u001b[0m\n\u001b[1;32m     19\u001b[0m             \u001b[0mn\u001b[0m\u001b[0;34m=\u001b[0m\u001b[0mlen\u001b[0m\u001b[0;34m(\u001b[0m\u001b[0mx0\u001b[0m\u001b[0;34m)\u001b[0m\u001b[0;34m,\u001b[0m\u001b[0;34m\u001b[0m\u001b[0m\n\u001b[1;32m     20\u001b[0m             \u001b[0mm\u001b[0m \u001b[0;34m=\u001b[0m \u001b[0mlen\u001b[0m\u001b[0;34m(\u001b[0m\u001b[0mcl\u001b[0m\u001b[0;34m)\u001b[0m\u001b[0;34m,\u001b[0m\u001b[0;34m\u001b[0m\u001b[0m\n",
      "\u001b[0;31mNameError\u001b[0m: name 'ipopt' is not defined"
     ]
    }
   ],
   "source": [
    "# -----------CONDITIONS-----------------------\n",
    "# See https://pythonhosted.org/ipopt/tutorial.html\n",
    "np.random.seed(1)\n",
    "\n",
    "global num_col\n",
    "global dim\n",
    "num_col = 20\n",
    "num_pnts = 51\n",
    "dim = 2\n",
    "\n",
    "x0 = test_points_gen(num_pnts, dim, distrib='LHS').ravel('F')\n",
    "\n",
    "lb = list(-0.4*np.ones(2*num_pnts))\n",
    "ub = list( 0.4*np.ones(2*num_pnts))\n",
    "\n",
    "cl = [0.17]*num_pnts + [-np.pi/2]*num_pnts\n",
    "cu = [0.65]*num_pnts + [ np.pi  ]*num_pnts\n",
    "\n",
    "nlp = ipopt.problem(\n",
    "    n=len(x0),\n",
    "    m=len(cl),\n",
    "    problem_obj=hs071(),\n",
    "    lb=lb,\n",
    "    ub=ub,\n",
    "    cl=cl,\n",
    "    cu=cu\n",
    ")"
   ]
  },
  {
   "cell_type": "code",
   "execution_count": 34,
   "metadata": {
    "collapsed": true
   },
   "outputs": [],
   "source": [
    "nlp.addOption('mu_strategy', 'adaptive')\n",
    "nlp.addOption('limited_memory_update_type', 'bfgs')\n",
    "nlp.addOption('hessian_approximation', 'limited-memory')\n",
    "#nlp.addOption('derivative_test','first-order')\n",
    "#nlp.addOption('dual_inf_tol', np.float(1e4))\n",
    "#nlp.addOption('max_iter', 195)\n",
    "#nlp.addOption('compl_inf_tol', 1e-7)\n",
    "nlp.addOption('constr_viol_tol', 1e-4)\n",
    "#nlp.addOption('acceptable_iter', 2)\n",
    "nlp.addOption('tol', 1e-6)\n",
    "#nlp.addOption('jac_d_constant', 'yes')\n",
    "#nlp.addOption('nlp_scaling_method', 'none')\n",
    "#nlp.addOption('dual_inf_tol', 1)\n",
    "#nlp.addOption('compl_inf_tol', 0.0002)"
   ]
  },
  {
   "cell_type": "code",
   "execution_count": 35,
   "metadata": {
    "collapsed": true
   },
   "outputs": [],
   "source": [
    "x, info = nlp.solve(x0)"
   ]
  },
  {
   "cell_type": "code",
   "execution_count": 37,
   "metadata": {
    "scrolled": false
   },
   "outputs": [
    {
     "name": "stdout",
     "output_type": "stream",
     "text": [
      "GD error =  0.07954234618427795 \n",
      "\n"
     ]
    },
    {
     "data": {
      "image/png": "[encoded data removed]",
      "text/plain": [
       "<matplotlib.figure.Figure at 0x11ba0f610>"
      ]
     },
     "metadata": {},
     "output_type": "display_data"
    }
   ],
   "source": [
    "def rhs(points):\n",
    "    return 2*np.exp(-((points[:,0]**2)/2. + (points[:,1]**2)/2.))\n",
    "\n",
    "# approximation error (infinity norm) and comparison with MaxVol\n",
    "M_gd = gen.GenMat(num_col, x.reshape(x.size//2,2,order='F'), poly = gen.cheb, ToGenDiff=False) \n",
    "c_gd = LA.solve(np.dot(M_gd.T, M_gd), np.dot(M_gd.T, rhs(x.reshape(x.size//2,2,order='F'))))\n",
    "\n",
    "np.random.seed(100500)\n",
    "test = -1 + (2)*np.random.rand(100000, dim)\n",
    "\n",
    "M = gen.GenMat(num_col, test, poly = gen.cheb, ToGenDiff=False) \n",
    "\n",
    "print \"GD error = \", LA.norm(rhs(test) - np.dot(M, c_gd), np.inf) / LA.norm(rhs(test), np.inf), \"\\n\"\n",
    "\n",
    "ax = plt.figure(figsize=(7,7))\n",
    "plt.plot(x[:x.size//2],x[x.size//2:],'bo', label='Result of IPOPT work')\n",
    "#plt.plot(x0[:x0.size//2],x0[x0.size//2:],'rx', label='x0')\n",
    "#plt.plot(np.arange(-1,1.2,0.1),1.5*np.arange(-1,1.2,0.1)+0.85, 'k--', np.arange(-1,1.2,0.1),1.5*np.arange(-1,1.2,0.1)-0.85, 'k--')\n",
    "#plt.plot(np.arange(-1,1.2,0.1),-1.5*np.arange(-1,1.2,0.1)+0.85, 'k--', np.arange(-1,1.2,0.1),-1.5*np.arange(-1,1.2,0.1)-0.85, 'k--')\n",
    "plt.xlim(-1.03,1.03)\n",
    "plt.ylim(-1.03,1.03)\n",
    "plt.xlabel('x')\n",
    "plt.ylabel('y')\n",
    "plt.legend(loc='upper center', bbox_to_anchor=(0.5, 1.13),ncol=3)\n",
    "#plt.savefig('/Users/vitaly/Desktop/ipopt_circular.png', dpi = 400)\n",
    "plt.show()\n",
    "\n",
    "np.random.seed(42)\n",
    "test_pnts = test_points_gen(int(1e5), dim)\n",
    "#LebesgueConst(x.reshape(-1,dim,order='F'), num_col, poly=gen.cheb, test_pnts=test_pnts, pow_p=1)"
   ]
  },
  {
   "cell_type": "code",
   "execution_count": 66,
   "metadata": {},
   "outputs": [
    {
     "data": {
      "text/plain": [
       "[1, 1, 1, 1, 1, 2, 2, 2, 2, 2]"
      ]
     },
     "execution_count": 66,
     "metadata": {},
     "output_type": "execute_result"
    }
   ],
   "source": [
    "[1]*5 + [2]*5"
   ]
  },
  {
   "cell_type": "code",
   "execution_count": null,
   "metadata": {
    "collapsed": true
   },
   "outputs": [],
   "source": []
  }
 ],
 "metadata": {
  "kernelspec": {
   "display_name": "Python 2",
   "language": "python",
   "name": "python2"
  },
  "language_info": {
   "codemirror_mode": {
    "name": "ipython",
    "version": 2
   },
   "file_extension": ".py",
   "mimetype": "text/x-python",
   "name": "python",
   "nbconvert_exporter": "python",
   "pygments_lexer": "ipython2",
   "version": "2.7.14"
  },
  "varInspector": {
   "cols": {
    "lenName": 16,
    "lenType": 16,
    "lenVar": 40
   },
   "kernels_config": {
    "python": {
     "delete_cmd_postfix": "",
     "delete_cmd_prefix": "del ",
     "library": "var_list.py",
     "varRefreshCmd": "print(var_dic_list())"
    },
    "r": {
     "delete_cmd_postfix": ") ",
     "delete_cmd_prefix": "rm(",
     "library": "var_list.r",
     "varRefreshCmd": "cat(var_dic_list()) "
    }
   },
   "types_to_exclude": [
    "module",
    "function",
    "builtin_function_or_method",
    "instance",
    "_Feature"
   ],
   "window_display": false
  }
 },
 "nbformat": 4,
 "nbformat_minor": 2
}
