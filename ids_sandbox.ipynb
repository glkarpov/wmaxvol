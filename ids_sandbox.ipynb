{
 "cells": [
  {
   "cell_type": "code",
   "execution_count": 1,
   "metadata": {
    "collapsed": true
   },
   "outputs": [],
   "source": [
    "import numpy as np\n",
    "import random\n",
    "from maxvolpy.maxvol import maxvol\n",
    "from numpy.polynomial import Chebyshev as T\n",
    "import numpy.linalg as la\n",
    "import matplotlib.pyplot as plt\n",
    "from scipy.linalg import lu as lu\n",
    "from gen_mat import *\n",
    "from ids import *\n",
    "from block_maxvol import *\n",
    "from block_rect_maxvol import *\n",
    "import scipy.linalg\n",
    "from numba import jit\n",
    "import os\n",
    "%matplotlib inline"
   ]
  },
  {
   "cell_type": "code",
   "execution_count": null,
   "metadata": {
    "collapsed": true
   },
   "outputs": [],
   "source": [
    "#### PLUQ TESTING\n",
    "row_exp_max = 10\n",
    "col_exp_max = 7\n",
    "nder = 2\n",
    "ndim = nder+1\n",
    "n_iter = int(1e1)\n",
    "# treshold = 1e-05 # We do not use threshold\n",
    "dir_str = '.'\n",
    "saves = dict()\n",
    "dir_matrix = os.path.join(dir_str, \"matrices2\")\n",
    "try:\n",
    "    os.mkdir(dir_matrix)\n",
    "except:\n",
    "    pass\n",
    "\n",
    "si_count = 0\n",
    "\n",
    "for i in range(n_iter):\n",
    "    col_exp = np.random.randint(1,col_exp_max)\n",
    "    row_exp = np.random.randint(col_exp,row_exp_max)\n",
    "    A = np.random.rand(row_exp*ndim,col_exp*ndim)\n",
    "    try:\n",
    "        p,q,lu,indx = pluq_ids(A,nder,do_pullback=False,pullbacks=4,overwrite_a=False,preserve_order=False)\n",
    "        u = np.triu(lu[:A.shape[1]])\n",
    "        s = la.svd(u,compute_uv=False)\n",
    "\n",
    "        cur_thre = min(s[-1], np.abs(u[-1,-1]))\n",
    "        try:\n",
    "            to_save = saves[(row_exp, col_exp)] > cur_thre\n",
    "        except:\n",
    "            to_save = True\n",
    "\n",
    "        if to_save:\n",
    "        #if (s[-1] < treshold) or (np.abs(u[-1,-1]) < treshold):\n",
    "            np.savez(os.path.join(dir_matrix,\"pluq_row_exp={}_col_exp={}\".format(row_exp, col_exp)), A = A)\n",
    "            saves[(row_exp, col_exp)] = cur_thre\n",
    "\n",
    "    except SingularError:\n",
    "        np.savez(os.path.join(dir_matrix,\"singular_row_exp={}_col_exp={}_i={}\".format(row_exp, col_exp, si_count)), \n",
    "                 A = A)\n",
    "        si_count += 1"
   ]
  },
  {
   "cell_type": "markdown",
   "metadata": {},
   "source": [
    "### Processing of obtained matrices"
   ]
  },
  {
   "cell_type": "code",
   "execution_count": null,
   "metadata": {
    "collapsed": true
   },
   "outputs": [],
   "source": [
    "for i in range(1,10):\n",
    "    for j in range(1,8):\n",
    "        ### Try to open file with any combination of indices\n",
    "        try:\n",
    "            data = np.load('./matrices3/pluq_row_exp={}_col_exp={}.npz'.format(i,j))\n",
    "            A = data['A']\n",
    "            Fl = True\n",
    "        except:\n",
    "            ### File does not exist, just skip part that is below\n",
    "            continue\n",
    "        try:\n",
    "            p,q,lu,indx = pluq_ids(A,nder,do_pullback=True,pullbacks=20,overwrite_a=False,preserve_order=False)\n",
    "            perm = A[p][:,q]\n",
    "            s_A = la.svd(perm[:A.shape[1]],compute_uv=False)\n",
    "            u = np.triu(lu[:A.shape[1]])\n",
    "            s = la.svd(u,compute_uv=False)\n",
    "            print (s_A[-1], s[-1], u[-1,-1], la.det(u), i,j)\n",
    "        except SingularError as err:\n",
    "            print 'not full column rank', err.value"
   ]
  },
  {
   "cell_type": "code",
   "execution_count": null,
   "metadata": {
    "collapsed": true
   },
   "outputs": [],
   "source": [
    "### SINGLE EXAMPLE\n",
    "data = np.load('./matrices3/pluq_row_exp=6_col_exp=2.npz')\n",
    "A = data['A']\n",
    "p,q,lu,indx = pluq_ids(A,nder,do_pullback=False,pullbacks=4,overwrite_a=False,preserve_order=False)\n",
    "perm = A[p][:,q]\n",
    "s_A = la.svd(perm[:A.shape[1]],compute_uv=False)\n",
    "u = np.triu(lu[:A.shape[1]])\n",
    "s = la.svd(u,compute_uv=False)\n",
    "print ('Singular values of U = {}'.format(s))\n",
    "print ('Singular values of quadr PAQ = {}'.format(s_A))\n",
    "print ('det of U = {}, det of quadr PAQ = {}'.format(la.det(u), la.det(perm[:A.shape[1]])))\n",
    "print s_A[0]/s[0]"
   ]
  },
  {
   "cell_type": "code",
   "execution_count": null,
   "metadata": {
    "collapsed": true
   },
   "outputs": [],
   "source": [
    "def AllCombsrect(A, l, num_take_blocks=None, debug=False):\n",
    "    # INPUT \n",
    "    # A -- matrix\n",
    "    # l -- number of dimensions (derivatives), size of block is l+1\n",
    "    # num_take_bocks -- blocks returnd by algorithm\n",
    "    l1 = l + 1\n",
    "    b_one = np.arange(l1)\n",
    "    num_of_blocks = A.shape[0] // l1\n",
    "    max_det = 0.0\n",
    "    last_sv = []\n",
    "    volumes = []\n",
    "    good_idx = None\n",
    "    if num_take_blocks is None:\n",
    "        num_take_blocks = A.shape[1] // l1 # Take square mat and test square block maxvol\n",
    "    for i in itertools.combinations(xrange(num_of_blocks), num_take_blocks):\n",
    "        # print i\n",
    "        idx = np.hstack((b_one + j*l1 for j in i))\n",
    "        Al = A[idx]\n",
    "        s = la.svd(Al[:Al.shape[1]],compute_uv=False)\n",
    "        last_sv.append(s[-1])\n",
    "        det = np.abs(la.det(Al))\n",
    "        volumes.append(det)\n",
    "        if det > max_det:\n",
    "            max_det = det\n",
    "            good_idx = idx\n",
    "\n",
    "            \n",
    "    return max_det, good_idx, last_sv, volumes"
   ]
  },
  {
   "cell_type": "code",
   "execution_count": null,
   "metadata": {
    "collapsed": true
   },
   "outputs": [],
   "source": [
    "@jit\n",
    "def statistics_pluq(nder,row_exp,col_exp,n_iter, dir_stats, T_matrix=False):\n",
    "    ndim = nder+1\n",
    "    si_count = 0\n",
    "    ind = []\n",
    "    ind_vol = []\n",
    "    for i in range(n_iter):\n",
    "        if T_matrix:\n",
    "            x = 2*np.random.rand(row_exp, nder) - 1\n",
    "            c = GenMat(col_exp*ndim, x,poly=cheb, debug=False,pow_p=1)\n",
    "            A = matrix_prep(c,nder+1)\n",
    "        else:    \n",
    "            A = np.random.rand(row_exp*ndim,col_exp*ndim)\n",
    "            \n",
    "        p,q,lu,indx = pluq_ids(A,nder,do_pullback=False,pullbacks=4,overwrite_a=False,preserve_order=False)\n",
    "        perm = A[p][:,q]\n",
    "        s_A = la.svd(perm[:A.shape[1]],compute_uv=False)\n",
    "        v_A = np.abs(la.det(perm[:A.shape[1]]))\n",
    "            \n",
    "        top_det,idx,l_sv,l_vol = AllCombsrect(A,nder)\n",
    "\n",
    "        l_sv = np.sort(np.array(l_sv,dtype=float))\n",
    "        l_vol = np.sort(np.array(l_vol,dtype=float))\n",
    "\n",
    "        ### Check the bins, memorize coincedents\n",
    "        ind_i, = np.where(np.abs(l_sv - s_A[-1]) <= 1e-10)    \n",
    "        ind.append(ind_i)\n",
    "        ind_vol_i, = np.where(np.abs(l_vol - v_A) <= 1e-10)    \n",
    "        ind_vol.append(ind_vol_i) \n",
    "        if (i % 1000)== 0 :\n",
    "            ind_hist,ind_vol_hist = np.histogram(ind),np.histogram(ind_vol)\n",
    "            np.savez(os.path.join(dir_stats,\"stat_row_exp={}_col_exp={},T={}\".format(row_exp, col_exp, compute_poly_matrix,i)), ind_hist = ind_hist, ind_vol_hist=ind_vol_hist,i=i)\n",
    "    return(ind,ind_vol)"
   ]
  },
  {
   "cell_type": "code",
   "execution_count": null,
   "metadata": {
    "collapsed": true
   },
   "outputs": [],
   "source": [
    "#### STAT PART\n",
    "row_exp_max = 5\n",
    "col_exp_max = 3\n",
    "nder = 2\n",
    "compute_poly_matrix = True\n",
    "n_iter = int(2e3)\n",
    "dir_str = '.'\n",
    "dir_stats = os.path.join(dir_str, \"stat_experiments\")\n",
    "try:\n",
    "    os.mkdir(dir_stats)\n",
    "except:\n",
    "    pass\n",
    "\n",
    "for col_exp in range(2, col_exp_max+1):\n",
    "    for row_exp in range(col_exp+1, row_exp_max+1):\n",
    "        try:\n",
    "            ind,ind_vol = statistics_pluq(nder,row_exp,col_exp,n_iter,dir_stats, T_matrix=compute_poly_matrix)\n",
    "        except SingularError as err:\n",
    "                    continue\n"
   ]
  },
  {
   "cell_type": "code",
   "execution_count": null,
   "metadata": {
    "collapsed": true
   },
   "outputs": [],
   "source": [
    "data = np.load('./stat_experiments/stat_row_exp=4_col_exp=3,T=True.npz')"
   ]
  },
  {
   "cell_type": "code",
   "execution_count": null,
   "metadata": {
    "collapsed": true
   },
   "outputs": [],
   "source": [
    "ind = data['ind_hist']\n",
    "ind_vol = data['ind_vol_hist']\n",
    "N_iter = data['i']"
   ]
  },
  {
   "cell_type": "code",
   "execution_count": null,
   "metadata": {
    "collapsed": true
   },
   "outputs": [],
   "source": [
    "hist, bins = ind_vol\n",
    "width = 0.7 * (bins[1] - bins[0])\n",
    "center = (bins[:-1] + bins[1:]) / 2\n",
    "plt.bar(center, hist, align='center', width=width)\n",
    "plt.show()"
   ]
  },
  {
   "cell_type": "markdown",
   "metadata": {
    "collapsed": true
   },
   "source": [
    "# RGV 2\n",
    "### Test for linear dependency. 1st thought about pullbacks"
   ]
  },
  {
   "cell_type": "code",
   "execution_count": null,
   "metadata": {
    "collapsed": true
   },
   "outputs": [],
   "source": [
    "mat_test = np.array([\n",
    "    [ 1000, 0, 0, 0,0,0 ],\n",
    "    [0,3,0,0,0,1],\n",
    "    [0, 0 , 1000, 0, 0, 0] , \n",
    "    [0, 0, 0, 2, 0, 0],\n",
    "    [0, 0, 0, 0, 1000, 0] , \n",
    "    [0,3,0,2,0,1],\n",
    "    [1,2,3,4,0,0],\n",
    "    [4,3,2,1,0,1]\n",
    "], dtype=float)"
   ]
  },
  {
   "cell_type": "code",
   "execution_count": null,
   "metadata": {
    "collapsed": true
   },
   "outputs": [],
   "source": [
    "np.linalg.matrix_rank(mat_test)"
   ]
  },
  {
   "cell_type": "markdown",
   "metadata": {},
   "source": [
    "## Check, that matrix is good"
   ]
  },
  {
   "cell_type": "code",
   "execution_count": null,
   "metadata": {
    "collapsed": true
   },
   "outputs": [],
   "source": [
    "np.linalg.det(mat_test[[0,1,4,5,6,7]])"
   ]
  },
  {
   "cell_type": "code",
   "execution_count": null,
   "metadata": {
    "collapsed": true
   },
   "outputs": [],
   "source": [
    "p,q,lu,info = pluq_ids(mat_test,1, do_pullback=True, debug=True)\n",
    "print info"
   ]
  },
  {
   "cell_type": "markdown",
   "metadata": {},
   "source": [
    "# Another Error \n",
    "### That was about columns swap. \n",
    "If piv[0] == j, piv[1] != j+1"
   ]
  },
  {
   "cell_type": "code",
   "execution_count": null,
   "metadata": {
    "collapsed": true
   },
   "outputs": [],
   "source": [
    "mat_test_5 = np.array([[18,  7, 10, 14, 19, 12],\n",
    "       [16, 15,  5,  6, 17, 15],\n",
    "       [15,  0,  7,  7, 12, 11],\n",
    "       [12,  4,  6, 13,  6,  5],\n",
    "       [19,  8, 10, 16,  3, 16],\n",
    "       [10,  3,  5,  1,  1,  4],\n",
    "       [ 0,  7,  7,  6, 17,  9],\n",
    "       [14,  7,  9, 16, 17,  5],\n",
    "       [18, 18, 19,  3,  9, 12],\n",
    "       [12,  7, 16,  1,  0,  2]], dtype=float)"
   ]
  },
  {
   "cell_type": "code",
   "execution_count": null,
   "metadata": {
    "collapsed": true
   },
   "outputs": [],
   "source": [
    "p,q,lu,info = pluq_ids(mat_test_5,1 ,debug=True)"
   ]
  },
  {
   "cell_type": "code",
   "execution_count": null,
   "metadata": {
    "collapsed": true
   },
   "outputs": [],
   "source": [
    "print(la.det(mat_test_5[p[:6]]))\n",
    "print p"
   ]
  },
  {
   "cell_type": "markdown",
   "metadata": {
    "collapsed": true
   },
   "source": [
    "## Yet another bug\n",
    "About feature of maxvol's performance. It returns error if we have a long pair consisted from more then 2 elements each with rank < 2"
   ]
  },
  {
   "cell_type": "code",
   "execution_count": null,
   "metadata": {
    "collapsed": true
   },
   "outputs": [],
   "source": [
    "mat_test_6 = np.array([[ 3, 13,  4, 11,  6, 11],\n",
    "       [14, 19, 16,  1,  4,  7],\n",
    "       [17, 14, 18, 18,  9,  6],\n",
    "       [ 7,  8,  8,  2, 16, 16],\n",
    "       [10, 19,  3, 10, 18,  5],\n",
    "       [ 1, 17,  9, 19, 15, 13],\n",
    "       [13,  1,  4,  1, 17,  9],\n",
    "       [10, 13,  8, 11,  3,  7],\n",
    "       [ 4,  8,  6,  0,  1,  8],\n",
    "       [ 8, 10, 10,  9,  1, 19]], dtype=float)"
   ]
  },
  {
   "cell_type": "code",
   "execution_count": null,
   "metadata": {
    "collapsed": true
   },
   "outputs": [],
   "source": [
    "p,q,lu, info = pluq_ids(mat_test_6,1,do_pullback=True, debug=True)"
   ]
  },
  {
   "cell_type": "markdown",
   "metadata": {
    "collapsed": true
   },
   "source": [
    "## Yet another bug ver. 2.0: Division by Zero\n",
    "### This and below: again about columns swap. Solved"
   ]
  },
  {
   "cell_type": "code",
   "execution_count": null,
   "metadata": {
    "collapsed": true
   },
   "outputs": [],
   "source": [
    "mat_test_7 = np.array([[ -5,  14, -17, -18,   4,  19],\n",
    "       [ -1,   0,  16,  -9,   3, -14],\n",
    "       [ 12,   0, -16,  -4,  -6,  18],\n",
    "       [ -9,  -4, -17,  12,  14,   0],\n",
    "       [  0,   2,   0,   0, -15,   0],\n",
    "       [ 13,  -5,  -8,  -7,  13, -16],\n",
    "       [ -5,   0,   3,   7,  -7,   0],\n",
    "       [ 19,  -1, -10,  18,  17,  -9],\n",
    "       [-15,   6,  -5, -12,   2,   4],\n",
    "       [-15, -19, -13, -14,   0,  -1]], dtype=float)"
   ]
  },
  {
   "cell_type": "code",
   "execution_count": null,
   "metadata": {
    "collapsed": true
   },
   "outputs": [],
   "source": [
    "p,l,u,q, info = pluq_ids(mat_test_7, debug=True)"
   ]
  },
  {
   "cell_type": "markdown",
   "metadata": {},
   "source": [
    "## Yet another bug ver. 3.0: Division by Zero"
   ]
  },
  {
   "cell_type": "code",
   "execution_count": null,
   "metadata": {
    "collapsed": true
   },
   "outputs": [],
   "source": [
    "mat_test_8 = np.array([[ -5,  -9, -13,  -2,  19,  11],\n",
    "       [ 14, -17,  -8,   2, -12,   0],\n",
    "       [ 17, -19,  -3,   6, -19,   1],\n",
    "       [ 19,   0, -16, -19,  19,  18],\n",
    "       [ -5,   2,   1,   4, -17,   1],\n",
    "       [  4,   2,   7,   9, -10, -15],\n",
    "       [ 19,  -9,   0, -12,   0,  -6],\n",
    "       [-10,  15,  12,   2,   2,  13],\n",
    "       [ 16,   0,   3, -16,  16, -15],\n",
    "       [-15, -14,   9,   8,   0,  17]], dtype=float)"
   ]
  },
  {
   "cell_type": "code",
   "execution_count": null,
   "metadata": {
    "collapsed": true
   },
   "outputs": [],
   "source": [
    "wer = np.copy(A[p1][:,q1])\n",
    "yx = np.zeros((2), dtype=int)\n",
    "for ind in range(15):\n",
    "        elimination(wer,ind)\n",
    "        if (ind > 0) and ((ind+1) % 3 == 0):\n",
    "            print('block det')\n",
    "            print la.det(wer[ind-2:ind+1][:,ind-2:ind+1])\n",
    "            loc_max = np.argmax(np.abs(wer[ind:, ind:]))\n",
    "            yx[0] = loc_max / (wer.shape[1] - ind)\n",
    "            yx[1] = loc_max % (wer.shape[1] - ind)\n",
    "            print wer[ind:,ind:][yx[0],yx[1]]\n",
    "        qe = wer[12:15][:,12:15]\n",
    "        print('eliminating index', ind)\n",
    "        print(wer[ind,ind])\n",
    "        print('last square rank', la.matrix_rank(qe))\n",
    "        _,s,_ = scipy.linalg.svd(qe)\n",
    "        print ('last square last singular',s[2])\n",
    "        print ('whole square matrix rank',la.matrix_rank(wer[:15]))\n",
    "        _,s1,_ = scipy.linalg.svd(wer[:15])\n",
    "        print ('whole square last singular',s1[14])\n",
    "        print ('-------------')"
   ]
  }
 ],
 "metadata": {
  "kernelspec": {
   "display_name": "Python 3",
   "language": "python",
   "name": "python3"
  },
  "language_info": {
   "codemirror_mode": {
    "name": "ipython",
    "version": 3
   },
   "file_extension": ".py",
   "mimetype": "text/x-python",
   "name": "python",
   "nbconvert_exporter": "python",
   "pygments_lexer": "ipython3",
   "version": "3.7.3"
  }
 },
 "nbformat": 4,
 "nbformat_minor": 2
}
