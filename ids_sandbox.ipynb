{
 "cells": [
  {
   "cell_type": "code",
   "execution_count": 1,
   "metadata": {
    "collapsed": true
   },
   "outputs": [],
   "source": [
    "import numpy as np\n",
    "from maxvolpy.maxvol import maxvol\n",
    "from numpy.polynomial import Chebyshev as T\n",
    "import numpy.linalg as la\n",
    "import matplotlib.pyplot as plt\n",
    "from scipy.linalg import lu as lu\n",
    "from gen_1D import *\n",
    "from ids import *\n",
    "%matplotlib inline"
   ]
  },
  {
   "cell_type": "code",
   "execution_count": 2,
   "metadata": {
    "collapsed": true
   },
   "outputs": [],
   "source": [
    "### how to make from permatation matrix readable array\n",
    "def perm_array(A):\n",
    "    p_a = np.array((A.shape[0]))\n",
    "    p_a = np.argmax(A, axis = 1)\n",
    "    return p_a"
   ]
  },
  {
   "cell_type": "code",
   "execution_count": 3,
   "metadata": {
    "collapsed": false
   },
   "outputs": [],
   "source": [
    "n = 4 #nmber of sampling points   \n",
    "deg = 3 # Degree of polynomiapaired plu Last Checkpoint: 22 minutes ago (unsaved changes)l          \n",
    "interval = [-3, 3]  # interval of x\n",
    "x = np.linspace(interval[0], interval[1], n, dtype=np.float64)\n",
    "p_size = deg+1"
   ]
  },
  {
   "cell_type": "code",
   "execution_count": 4,
   "metadata": {
    "collapsed": false
   },
   "outputs": [
    {
     "name": "stdout",
     "output_type": "stream",
     "text": [
      "number of points(l) = 4,  number of monoms(n_size) = 4\n"
     ]
    },
    {
     "data": {
      "text/plain": [
       "array([[   1.,   -3.,   17.,  -99.],\n",
       "       [   0.,    1.,  -12.,  105.],\n",
       "       [   1.,   -1.,    1.,   -1.],\n",
       "       [   0.,    1.,   -4.,    9.],\n",
       "       [   1.,    1.,    1.,    1.],\n",
       "       [   0.,    1.,    4.,    9.],\n",
       "       [   1.,    3.,   17.,   99.],\n",
       "       [   0.,    1.,   12.,  105.]])"
      ]
     },
     "execution_count": 4,
     "metadata": {},
     "output_type": "execute_result"
    }
   ],
   "source": [
    "### generating matrix with special structure\n",
    "b = Gen_1D_coupled(p_size, x, debug=True)\n",
    "b"
   ]
  },
  {
   "cell_type": "code",
   "execution_count": 5,
   "metadata": {
    "collapsed": false
   },
   "outputs": [
    {
     "name": "stdout",
     "output_type": "stream",
     "text": [
      "[[   1.    0.]\n",
      " [  -3.    1.]\n",
      " [  17.  -12.]\n",
      " [ -99.  105.]]\n",
      "[[ 1.  0.]\n",
      " [-1.  1.]\n",
      " [ 1. -4.]\n",
      " [-1.  9.]]\n",
      "[[ 1.  0.]\n",
      " [ 1.  1.]\n",
      " [ 1.  4.]\n",
      " [ 1.  9.]]\n",
      "[[   1.    0.]\n",
      " [   3.    1.]\n",
      " [  17.   12.]\n",
      " [  99.  105.]]\n",
      "correct 2x2 matrix\n",
      "('on the', 0, 'slice')\n",
      "('best row block is', 0, 1)\n",
      "('column coordinates:', 2, 3)\n",
      "('maxvol 2x2 submatrix', array([[  17.,  -12.],\n",
      "       [ -99.,  105.]]))\n",
      "('with det = ', 596.99999999999955)\n",
      "pivoting and permutations start...\n",
      "[[ 0.84422111  0.52261307]\n",
      " [-0.67001675 -0.16080402]]\n",
      "[[ 0.8040201  -0.88442211]\n",
      " [ 1.39363484  2.73366834]]\n",
      "[[ -3.9798995   -4.22110553]\n",
      " [ 12.30150754   8.68341709]]\n",
      "correct 2x2 matrix\n",
      "('on the', 2, 'slice')\n",
      "('best row block is', 6, 7)\n",
      "('column coordinates:', 2, 3)\n",
      "('maxvol 2x2 submatrix', array([[ -3.9798995 ,  -4.22110553],\n",
      "       [ 12.30150754,   8.68341709]]))\n",
      "('with det = ', 17.366834170854279)\n",
      "pivoting and permutations start...\n"
     ]
    }
   ],
   "source": [
    "p,l,u,q = pluq_ids(b)"
   ]
  },
  {
   "cell_type": "code",
   "execution_count": 6,
   "metadata": {
    "collapsed": false
   },
   "outputs": [
    {
     "data": {
      "text/plain": [
       "array([0, 1, 6, 7, 4, 5, 2, 3])"
      ]
     },
     "execution_count": 6,
     "metadata": {},
     "output_type": "execute_result"
    }
   ],
   "source": [
    "### here we can see that in the first 4 rows blocked structure was saved, i.e. func-deriv, func-deriv\n",
    "perm_array(p)"
   ]
  },
  {
   "cell_type": "code",
   "execution_count": 7,
   "metadata": {
    "collapsed": true
   },
   "outputs": [],
   "source": [
    "### maxvol preprocessing\n",
    "ids = np.dot(p,np.dot(b,q))[:p_size]\n",
    "A = np.dot(p,np.dot(b,q))\n",
    "\n",
    "temp = np.dot(A,np.linalg.inv(ids))"
   ]
  },
  {
   "cell_type": "code",
   "execution_count": null,
   "metadata": {
    "collapsed": true
   },
   "outputs": [],
   "source": [
    "### here we are checking all pairs under Identity matrix and try to find 2x2 block with det>1+tol\n",
    "tol = 0.05\n",
    "n = temp.shape[0]\n",
    "m = temp.shape[1]\n",
    "for k in range(m,n,2):\n",
    "        pair = np.concatenate((temp[k,:],temp[k+1,:])).reshape(2,m).T\n",
    "        piv,_ = maxvol(pair)\n",
    "        piv = np.sort(piv)\n",
    "        print pair, pair[piv]\n",
    "        if (np.abs(np.linalg.det(pair[piv])) > (1 + tol)):\n",
    "            print('exist!')"
   ]
  }
 ],
 "metadata": {
  "kernelspec": {
   "display_name": "Python 2",
   "language": "python",
   "name": "python2"
  },
  "language_info": {
   "codemirror_mode": {
    "name": "ipython",
    "version": 2
   },
   "file_extension": ".py",
   "mimetype": "text/x-python",
   "name": "python",
   "nbconvert_exporter": "python",
   "pygments_lexer": "ipython2",
   "version": "2.7.13"
  }
 },
 "nbformat": 4,
 "nbformat_minor": 2
}
