{
 "cells": [
  {
   "cell_type": "code",
   "execution_count": 2,
   "metadata": {
    "collapsed": true
   },
   "outputs": [],
   "source": [
    "import numpy as np\n",
    "import random\n",
    "from maxvolpy.maxvol import maxvol\n",
    "from numpy.polynomial import Chebyshev as T\n",
    "import numpy.linalg as la\n",
    "import matplotlib.pyplot as plt\n",
    "from scipy.linalg import lu as lu\n",
    "from gen_mat import *\n",
    "from ids import *\n",
    "from block_maxvol import *\n",
    "from block_rect_maxvol import *\n",
    "import scipy.linalg\n",
    "from gen_1D import matrix_prep\n",
    "import os\n",
    "%matplotlib inline"
   ]
  },
  {
   "cell_type": "code",
   "execution_count": 4,
   "metadata": {
    "collapsed": true
   },
   "outputs": [],
   "source": [
    "nder = 2 # dimension\n",
    "n = 2 #nmber of sampling points \n",
    "n_test = 5000 #points on test grid\n",
    "p_size = (nder+1)*2 #number of monoms (number of columns)\n",
    "interval = [-2, 2]  # interval of x_test\n",
    "#np.random.seed(0)\n",
    "x = 2*np.random.rand(n, nder) - 1"
   ]
  },
  {
   "cell_type": "code",
   "execution_count": null,
   "metadata": {
    "collapsed": true
   },
   "outputs": [],
   "source": [
    "c = GenMat(p_size, x,poly=cheb, debug=False,pow_p=1)\n",
    "print c.shape\n",
    "# turn matrix to the block structure\n",
    "A = matrix_prep(c,nder+1,n)\n",
    "print A.shape"
   ]
  },
  {
   "cell_type": "code",
   "execution_count": 5,
   "metadata": {
    "collapsed": true
   },
   "outputs": [],
   "source": [
    "#### PLUQ TESTING\n",
    "row_exp_max = 10\n",
    "col_exp_max = 5\n",
    "nder = 2\n",
    "ndim = nder+1\n",
    "n_iter = int(1e5)\n",
    "# treshold = 1e-05 # We do not use threshold\n",
    "dir_str = '.'\n",
    "saves = dict()\n",
    "dir_matrix = os.path.join(dir_str, \"matrices1\")\n",
    "try:\n",
    "    os.mkdir(dir_matrix)\n",
    "except:\n",
    "    pass\n",
    "\n",
    "si_count = 0\n",
    "\n",
    "for i in range(n_iter):\n",
    "    col_exp = np.random.randint(1,col_exp_max)\n",
    "    row_exp = np.random.randint(col_exp,row_exp_max)\n",
    "    A = np.random.rand(row_exp*ndim,col_exp*ndim)\n",
    "    try:\n",
    "        p,q,lu,indx = pluq_ids(A,nder,do_pullback=False,pullbacks=4,overwrite_a=False,preserve_order=False)\n",
    "        u = np.triu(lu[:A.shape[1]])\n",
    "        s = la.svd(u,compute_uv=False)\n",
    "\n",
    "        cur_thre = min(s[-1], np.abs(u[-1,-1]))\n",
    "        try:\n",
    "            to_save = saves[(row_exp, col_exp)] > cur_thre\n",
    "        except:\n",
    "            to_save = True\n",
    "\n",
    "        if to_save:\n",
    "        #if (s[-1] < treshold) or (np.abs(u[-1,-1]) < treshold):\n",
    "            np.savez(os.path.join(dir_matrix,\"pluq_row_exp={}_col_exp={}\".format(row_exp, col_exp)), A = A)\n",
    "            saves[(row_exp, col_exp)] = cur_thre\n",
    "\n",
    "    except SingularError:\n",
    "        np.savez(os.path.join(dir_matrix,\"singular_row_exp={}_col_exp={}_i={}\".format(row_exp, col_exp, si_count)), \n",
    "                 A = A)\n",
    "        si_count += 1"
   ]
  },
  {
   "cell_type": "markdown",
   "metadata": {},
   "source": [
    "### Processing of obtained matrices"
   ]
  },
  {
   "cell_type": "code",
   "execution_count": null,
   "metadata": {
    "collapsed": true
   },
   "outputs": [],
   "source": [
    "for i in range(1,10):\n",
    "    for j in range(1,6):\n",
    "        ### Try to open file with any combination of indices\n",
    "        try:\n",
    "            data = np.load('./matrices/pluq_row_exp={}_col_exp={}.npz'.format(i,j))\n",
    "            A = data['A']\n",
    "            Fl = True\n",
    "        except:\n",
    "            ### File does not exist, just skip part that is below\n",
    "            Fl = False\n",
    "            pass  \n",
    "        if Fl == True:\n",
    "            try:\n",
    "                p,q,lu,indx = pluq_ids(A,nder,do_pullback=False,pullbacks=4,overwrite_a=False,preserve_order=False)\n",
    "                perm = A[p][:,q]\n",
    "                s_A = la.svd(perm[:A.shape[1]],compute_uv=False)\n",
    "                u = np.triu(lu[:A.shape[1]])\n",
    "                s = la.svd(u,compute_uv=False)\n",
    "                print (s_A[-1], s[-1], u[-1,-1], la.det(u), la.det(perm[:A.shape[1]]))\n",
    "            except SingularError as err:\n",
    "                print 'not full column rank', err.value"
   ]
  },
  {
   "cell_type": "code",
   "execution_count": 9,
   "metadata": {},
   "outputs": [
    {
     "name": "stdout",
     "output_type": "stream",
     "text": [
      "Singular values of U = [ 1.98553705  1.92155774  1.43717761  1.06675098  0.81780971  0.61118696\n",
      "  0.52191605  0.3296006   0.16127143]\n",
      "Singular values of quadr PAQ = [ 5.04323496  1.66722575  1.32789736  0.87368986  0.83780067  0.73293508\n",
      "  0.49004275  0.31838457  0.08678801]\n",
      "det of U = -0.0811105497923, det of quadr PAQ = -0.0811105497923\n"
     ]
    }
   ],
   "source": [
    "### SINGLE EXAMPLE\n",
    "data = np.load('./matrices/pluq_row_exp=5_col_exp=3.npz')\n",
    "A = data['A']\n",
    "p,q,lu,indx = pluq_ids(A,nder,do_pullback=False,pullbacks=4,overwrite_a=False,preserve_order=False)\n",
    "perm = A[p][:,q]\n",
    "s_A = la.svd(perm[:A.shape[1]],compute_uv=False)\n",
    "u = np.triu(lu[:A.shape[1]])\n",
    "s = la.svd(u,compute_uv=False)\n",
    "print ('Singular values of U = {}'.format(s))\n",
    "print ('Singular values of quadr PAQ = {}'.format(s_A))\n",
    "print ('det of U = {}, det of quadr PAQ = {}'.format(la.det(u), la.det(perm[:A.shape[1]])))"
   ]
  },
  {
   "cell_type": "markdown",
   "metadata": {
    "collapsed": true
   },
   "source": [
    "# RGV 2\n",
    "### Test for linear dependency. 1st thought about pullbacks"
   ]
  },
  {
   "cell_type": "code",
   "execution_count": null,
   "metadata": {
    "collapsed": true
   },
   "outputs": [],
   "source": [
    "mat_test = np.array([\n",
    "    [ 1000, 0, 0, 0,0,0 ],\n",
    "    [0,3,0,0,0,1],\n",
    "    [0, 0 , 1000, 0, 0, 0] , \n",
    "    [0, 0, 0, 2, 0, 0],\n",
    "    [0, 0, 0, 0, 1000, 0] , \n",
    "    [0,3,0,2,0,1],\n",
    "    [1,2,3,4,0,0],\n",
    "    [4,3,2,1,0,1]\n",
    "], dtype=float)"
   ]
  },
  {
   "cell_type": "code",
   "execution_count": null,
   "metadata": {
    "collapsed": true
   },
   "outputs": [],
   "source": [
    "np.linalg.matrix_rank(mat_test)"
   ]
  },
  {
   "cell_type": "markdown",
   "metadata": {},
   "source": [
    "## Check, that matrix is good"
   ]
  },
  {
   "cell_type": "code",
   "execution_count": null,
   "metadata": {
    "collapsed": true
   },
   "outputs": [],
   "source": [
    "np.linalg.det(mat_test[[0,1,4,5,6,7]])"
   ]
  },
  {
   "cell_type": "code",
   "execution_count": null,
   "metadata": {
    "collapsed": true
   },
   "outputs": [],
   "source": [
    "p,l,u,q, info = pluq_ids(mat_test, debug=True)\n",
    "print info"
   ]
  },
  {
   "cell_type": "markdown",
   "metadata": {},
   "source": [
    "# Another Error \n",
    "### That was about columns swap. \n",
    "If piv[0] == j, piv[1] != j+1"
   ]
  },
  {
   "cell_type": "code",
   "execution_count": null,
   "metadata": {
    "collapsed": true
   },
   "outputs": [],
   "source": [
    "mat_test_5 = np.array([[18,  7, 10, 14, 19, 12],\n",
    "       [16, 15,  5,  6, 17, 15],\n",
    "       [15,  0,  7,  7, 12, 11],\n",
    "       [12,  4,  6, 13,  6,  5],\n",
    "       [19,  8, 10, 16,  3, 16],\n",
    "       [10,  3,  5,  1,  1,  4],\n",
    "       [ 0,  7,  7,  6, 17,  9],\n",
    "       [14,  7,  9, 16, 17,  5],\n",
    "       [18, 18, 19,  3,  9, 12],\n",
    "       [12,  7, 16,  1,  0,  2]], dtype=float)"
   ]
  },
  {
   "cell_type": "code",
   "execution_count": null,
   "metadata": {
    "collapsed": true
   },
   "outputs": [],
   "source": [
    "p,l,u,q, info = pluq_ids_pull(mat_test_5, debug=True)"
   ]
  },
  {
   "cell_type": "code",
   "execution_count": null,
   "metadata": {
    "collapsed": true
   },
   "outputs": [],
   "source": [
    "p2,l2,u2,q2,inf = pluq_ids(mat_test_5, debug = True)"
   ]
  },
  {
   "cell_type": "code",
   "execution_count": null,
   "metadata": {
    "collapsed": true
   },
   "outputs": [],
   "source": [
    "print(la.det(np.dot(perm_matrix(p),mat_test_5)[:6]))\n",
    "print(la.det(np.dot(perm_matrix(p2),mat_test_5)[:6]))\n",
    "print p,p2"
   ]
  },
  {
   "cell_type": "markdown",
   "metadata": {
    "collapsed": true
   },
   "source": [
    "## Yet another bug\n",
    "About feature of maxvol's performance. It returns error if we have a long pair consisted from more then 2 elements each with rank < 2"
   ]
  },
  {
   "cell_type": "code",
   "execution_count": null,
   "metadata": {
    "collapsed": true
   },
   "outputs": [],
   "source": [
    "mat_test_6 = np.array([[ 3, 13,  4, 11,  6, 11],\n",
    "       [14, 19, 16,  1,  4,  7],\n",
    "       [17, 14, 18, 18,  9,  6],\n",
    "       [ 7,  8,  8,  2, 16, 16],\n",
    "       [10, 19,  3, 10, 18,  5],\n",
    "       [ 1, 17,  9, 19, 15, 13],\n",
    "       [13,  1,  4,  1, 17,  9],\n",
    "       [10, 13,  8, 11,  3,  7],\n",
    "       [ 4,  8,  6,  0,  1,  8],\n",
    "       [ 8, 10, 10,  9,  1, 19]], dtype=float)"
   ]
  },
  {
   "cell_type": "code",
   "execution_count": null,
   "metadata": {
    "collapsed": true
   },
   "outputs": [],
   "source": [
    "p,l,u,q, info = pluq_ids(mat_test_6, debug=True)\n",
    "p1,l1,u1,q1,inf = pluq_ids_pull(mat_test_6)"
   ]
  },
  {
   "cell_type": "code",
   "execution_count": null,
   "metadata": {
    "collapsed": true
   },
   "outputs": [],
   "source": [
    "print(la.det(np.dot(perm_matrix(p),mat_test_6)[:6]))\n",
    "print(la.det(np.dot(perm_matrix(p1),mat_test_6)[:6]))\n",
    "print p,p1"
   ]
  },
  {
   "cell_type": "markdown",
   "metadata": {
    "collapsed": true
   },
   "source": [
    "## Yet another bug ver. 2.0: Division by Zero\n",
    "### This and below: again about columns swap. Solved"
   ]
  },
  {
   "cell_type": "code",
   "execution_count": null,
   "metadata": {
    "collapsed": true
   },
   "outputs": [],
   "source": [
    "mat_test_7 = np.array([[ -5,  14, -17, -18,   4,  19],\n",
    "       [ -1,   0,  16,  -9,   3, -14],\n",
    "       [ 12,   0, -16,  -4,  -6,  18],\n",
    "       [ -9,  -4, -17,  12,  14,   0],\n",
    "       [  0,   2,   0,   0, -15,   0],\n",
    "       [ 13,  -5,  -8,  -7,  13, -16],\n",
    "       [ -5,   0,   3,   7,  -7,   0],\n",
    "       [ 19,  -1, -10,  18,  17,  -9],\n",
    "       [-15,   6,  -5, -12,   2,   4],\n",
    "       [-15, -19, -13, -14,   0,  -1]], dtype=float)"
   ]
  },
  {
   "cell_type": "code",
   "execution_count": null,
   "metadata": {
    "collapsed": true
   },
   "outputs": [],
   "source": [
    "p,l,u,q, info = pluq_ids(mat_test_7, debug=True)\n",
    "p1,l1,u1,q1,inf = pluq_ids_pull(mat_test_7)"
   ]
  },
  {
   "cell_type": "code",
   "execution_count": null,
   "metadata": {
    "collapsed": true
   },
   "outputs": [],
   "source": [
    "print(la.det(np.dot(perm_matrix(p),mat_test_7)[:6]))\n",
    "print(la.det(np.dot(perm_matrix(p1),mat_test_7)[:6]))\n",
    "print p,p1\n",
    "print q,q1"
   ]
  },
  {
   "cell_type": "markdown",
   "metadata": {},
   "source": [
    "## Yet another bug ver. 3.0: Division by Zero"
   ]
  },
  {
   "cell_type": "code",
   "execution_count": null,
   "metadata": {
    "collapsed": true
   },
   "outputs": [],
   "source": [
    "mat_test_8 = np.array([[ -5,  -9, -13,  -2,  19,  11],\n",
    "       [ 14, -17,  -8,   2, -12,   0],\n",
    "       [ 17, -19,  -3,   6, -19,   1],\n",
    "       [ 19,   0, -16, -19,  19,  18],\n",
    "       [ -5,   2,   1,   4, -17,   1],\n",
    "       [  4,   2,   7,   9, -10, -15],\n",
    "       [ 19,  -9,   0, -12,   0,  -6],\n",
    "       [-10,  15,  12,   2,   2,  13],\n",
    "       [ 16,   0,   3, -16,  16, -15],\n",
    "       [-15, -14,   9,   8,   0,  17]], dtype=float)"
   ]
  },
  {
   "cell_type": "code",
   "execution_count": null,
   "metadata": {
    "collapsed": true
   },
   "outputs": [],
   "source": [
    "p,l,u,q, info = pluq_ids(mat_test_8, debug=True)\n",
    "p1,l1,u1,q1,inf = pluq_ids_pull(mat_test_8)"
   ]
  },
  {
   "cell_type": "code",
   "execution_count": null,
   "metadata": {
    "collapsed": true
   },
   "outputs": [],
   "source": [
    "print(la.det(np.dot(perm_matrix(p),mat_test_8)[:6]))\n",
    "print(la.det(np.dot(perm_matrix(p1),mat_test_8)[:6]))\n",
    "print p,p1"
   ]
  },
  {
   "cell_type": "code",
   "execution_count": null,
   "metadata": {
    "collapsed": true
   },
   "outputs": [],
   "source": [
    "hap = p_preproc(p,2)\n",
    "print hap"
   ]
  },
  {
   "cell_type": "code",
   "execution_count": null,
   "metadata": {
    "collapsed": true
   },
   "outputs": [],
   "source": [
    "print(la.det(np.dot(perm_matrix(hap),mat_test_8)[:6]))"
   ]
  },
  {
   "cell_type": "code",
   "execution_count": null,
   "metadata": {
    "collapsed": true
   },
   "outputs": [],
   "source": [
    "indx_n, indx_o = change_intersept(np.arange(4),(np.arange(4))[[1,3,0,2]])\n",
    "#print indx_n,indx_o\n",
    "#aab = np.concatenate((indx_n,indx_o))\n",
    "#bba = np.concatenate((indx_o,indx_n))\n",
    "#print aab,bba\n",
    "\n",
    "mat_test_8[indx_n,:] = mat_test_8[indx_o,:]\n"
   ]
  },
  {
   "cell_type": "code",
   "execution_count": null,
   "metadata": {
    "collapsed": true
   },
   "outputs": [],
   "source": [
    "mat_test_8"
   ]
  }
 ],
 "metadata": {
  "kernelspec": {
   "display_name": "Python 2",
   "language": "python",
   "name": "python2"
  },
  "language_info": {
   "codemirror_mode": {
    "name": "ipython",
    "version": 2
   },
   "file_extension": ".py",
   "mimetype": "text/x-python",
   "name": "python",
   "nbconvert_exporter": "python",
   "pygments_lexer": "ipython2",
   "version": "2.7.14"
  }
 },
 "nbformat": 4,
 "nbformat_minor": 2
}
