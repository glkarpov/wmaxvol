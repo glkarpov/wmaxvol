{
 "cells": [
  {
   "cell_type": "code",
   "execution_count": null,
   "metadata": {
    "collapsed": false
   },
   "outputs": [],
   "source": [
    "import numpy as np\n",
    "from maxvolpy.maxvol import maxvol\n",
    "from numpy.polynomial import Chebyshev as T\n",
    "import numpy.linalg as la\n",
    "import matplotlib.pyplot as plt\n",
    "from scipy.linalg import lu as lu\n",
    "from gen_1D import *\n",
    "from ids import *\n",
    "from ids_pullback import *\n",
    "%matplotlib inline"
   ]
  },
  {
   "cell_type": "code",
   "execution_count": null,
   "metadata": {
    "collapsed": true
   },
   "outputs": [],
   "source": [
    "### how to make from permatation matrix readable array\n",
    "def perm_array(A):\n",
    "    p_a = np.array((A.shape[0]))\n",
    "    p_a = np.argmax(A, axis = 1)\n",
    "    return p_a"
   ]
  },
  {
   "cell_type": "code",
   "execution_count": null,
   "metadata": {
    "collapsed": true
   },
   "outputs": [],
   "source": [
    "def form_permute(C, j, ind):\n",
    "    C[ind],C[j]=C[j],C[ind]\n",
    "    return()  "
   ]
  },
  {
   "cell_type": "code",
   "execution_count": null,
   "metadata": {
    "collapsed": true
   },
   "outputs": [],
   "source": [
    "n = 60 #nmber of sampling points   \n",
    "deg = 9 #Degree of polynomiapaired plu Last Checkpoint: 22 minutes ago (unsaved changes)l          \n",
    "interval = [-3, 3]  # interval of x\n",
    "x = np.linspace(interval[0], interval[1], n, dtype=np.float64)\n",
    "p_size = deg+1"
   ]
  },
  {
   "cell_type": "code",
   "execution_count": null,
   "metadata": {
    "collapsed": false
   },
   "outputs": [],
   "source": [
    "### generating matrix with special structure\n",
    "b = Gen_1D_coupled(p_size, x, debug=True)"
   ]
  },
  {
   "cell_type": "code",
   "execution_count": null,
   "metadata": {
    "collapsed": false
   },
   "outputs": [],
   "source": [
    "p,l,u,q,inf = pluq_ids(b)"
   ]
  },
  {
   "cell_type": "code",
   "execution_count": null,
   "metadata": {
    "collapsed": false
   },
   "outputs": [],
   "source": [
    "### maxvol preprocessing\n",
    "A_init = np.dot(perm_matrix(p),np.dot(b,perm_matrix(q)))\n",
    "ids_init = A_init[:A_init.shape[1]]\n",
    "temp_init = np.dot(A_init,np.linalg.inv(ids_init))"
   ]
  },
  {
   "cell_type": "code",
   "execution_count": null,
   "metadata": {
    "collapsed": false
   },
   "outputs": [],
   "source": [
    "### here we are checking all pairs under Identity matrix and try to find 2x2 block with det>1+tol\n",
    "tol = 0.01\n",
    "A = np.copy(A_init)\n",
    "ids = np.copy(ids_init)\n",
    "temp = np.copy(temp_init)\n",
    "n = temp.shape[0]\n",
    "m = temp.shape[1]\n",
    "curr_det = np.abs(np.linalg.det(ids))\n",
    "max_det = 0.0\n",
    "Fl = True\n",
    "P = np.arange(n)\n",
    "index = np.zeros((2), dtype = int)\n",
    "iters = 0\n",
    "max_iters = 150\n",
    "\n",
    "while Fl and (iters < max_iters) :\n",
    "    max_det = 0.99\n",
    "    for k in range(m,n,2):\n",
    "            pair = temp[k:k+2]\n",
    "            for j in range(0,m,2):\n",
    "                if np.abs(np.linalg.det(pair[:,j:j+2])) > max_det :\n",
    "                    max_det = np.abs(np.linalg.det(pair[:,j:j+2]))\n",
    "                    index[0] = k\n",
    "                    index[1] = j\n",
    "\n",
    "    if (max_det) > (1 + tol):\n",
    "        #Forming new permutation array\n",
    "        form_permute(P,index[1],index[0])\n",
    "        form_permute(P, index[1]+1, index[0]+1)\n",
    "        \n",
    "        ### Recalculating with new rows position\n",
    "        A_temp = np.copy(A)\n",
    "        A = np.dot(perm_matrix(P), A_temp)\n",
    "        ids = A[:A.shape[1]]\n",
    "        if np.abs(np.linalg.det(ids)) > curr_det :\n",
    "            curr_det = np.abs(np.linalg.det(ids))\n",
    "            print ('det increased')\n",
    "        \n",
    "        temp = np.dot(A,np.linalg.inv(ids))\n",
    "        iters += 1\n",
    "    else:\n",
    "        Fl = False                      \n",
    "        "
   ]
  },
  {
   "cell_type": "code",
   "execution_count": null,
   "metadata": {
    "collapsed": false
   },
   "outputs": [],
   "source": [
    "### compare det of initial dominant submatrix with another one after blocked maxvol iterations\n",
    "print np.linalg.det(ids_init)\n",
    "print np.linalg.det(ids)\n",
    "iters"
   ]
  },
  {
   "cell_type": "code",
   "execution_count": null,
   "metadata": {
    "collapsed": false
   },
   "outputs": [],
   "source": [
    "mat_test = np.array([ \n",
    "    [50,  0 , 0,0,0, 1],\n",
    "    [0, 0, 30,  0 ,0, 3],\n",
    "    [0,0, 0, 20,  0 , 11],\n",
    "    [0, 40,  0 ,0,0, 2],\n",
    "    [0,0, 0,0,  10,  12],\n",
    "    [0,0,0, 0,0, 50]\n",
    "], dtype=float)\n",
    "print (mat_test)\n",
    "print ()"
   ]
  },
  {
   "cell_type": "code",
   "execution_count": null,
   "metadata": {
    "collapsed": false,
    "scrolled": false
   },
   "outputs": [],
   "source": [
    "p,l,u,q, info = pluq_ids(mat_test, debug=True)"
   ]
  },
  {
   "cell_type": "code",
   "execution_count": null,
   "metadata": {
    "collapsed": false
   },
   "outputs": [],
   "source": [
    "mat_test_3 = np.array([ \n",
    "    [20,0, 0, 2, 0 , 11],\n",
    "    [0, 10,  0 ,0,0.043, 2],    \n",
    "    [0,  0 , 30,0,15, 1],\n",
    "    [0, 0, 0,  10 ,0, 0],\n",
    "    [0,0, 20,0,  90,  12],\n",
    "    [0,0,0, 0,0, 1900]\n",
    "], dtype=float)\n",
    "print (mat_test_3.astype(int))\n",
    "print ()"
   ]
  },
  {
   "cell_type": "code",
   "execution_count": null,
   "metadata": {
    "collapsed": false
   },
   "outputs": [],
   "source": [
    "p,l,u,q, info = pluq_ids(mat_test_3, debug=True)"
   ]
  },
  {
   "cell_type": "markdown",
   "metadata": {
    "collapsed": true
   },
   "source": [
    "# RGV 2\n",
    "### Test for linear dependency. 1st thought about pullbacks"
   ]
  },
  {
   "cell_type": "code",
   "execution_count": null,
   "metadata": {
    "collapsed": true
   },
   "outputs": [],
   "source": [
    "mat_test = np.array([\n",
    "    [ 1000, 0, 0, 0,0,0 ],\n",
    "    [0,3,0,0,0,1],\n",
    "    [0, 0 , 1000, 0, 0, 0] , \n",
    "    [0, 0, 0, 2, 0, 0],\n",
    "    [0, 0, 0, 0, 1000, 0] , \n",
    "    [0,3,0,2,0,1],\n",
    "    [1,2,3,4,0,0],\n",
    "    [4,3,2,1,0,1]\n",
    "], dtype=float)"
   ]
  },
  {
   "cell_type": "markdown",
   "metadata": {},
   "source": [
    "## Check, that matrix is good"
   ]
  },
  {
   "cell_type": "code",
   "execution_count": null,
   "metadata": {
    "collapsed": false
   },
   "outputs": [],
   "source": [
    "np.linalg.matrix_rank(mat_test)"
   ]
  },
  {
   "cell_type": "code",
   "execution_count": null,
   "metadata": {
    "collapsed": false
   },
   "outputs": [],
   "source": [
    "np.linalg.det(mat_test[[0,1,4,5,6,7]])"
   ]
  },
  {
   "cell_type": "code",
   "execution_count": null,
   "metadata": {
    "collapsed": false
   },
   "outputs": [],
   "source": [
    "p,l,u,q, info = pluq_ids_pull(mat_test, debug=True)\n",
    "print info"
   ]
  },
  {
   "cell_type": "markdown",
   "metadata": {},
   "source": [
    "# Another Error \n",
    "### That was about columns swap. \n",
    "If piv[0] == j, piv[1] != j+1"
   ]
  },
  {
   "cell_type": "code",
   "execution_count": null,
   "metadata": {
    "collapsed": true
   },
   "outputs": [],
   "source": [
    "mat_test_5 = np.array([[18,  7, 10, 14, 19, 12],\n",
    "       [16, 15,  5,  6, 17, 15],\n",
    "       [15,  0,  7,  7, 12, 11],\n",
    "       [12,  4,  6, 13,  6,  5],\n",
    "       [19,  8, 10, 16,  3, 16],\n",
    "       [10,  3,  5,  1,  1,  4],\n",
    "       [ 0,  7,  7,  6, 17,  9],\n",
    "       [14,  7,  9, 16, 17,  5],\n",
    "       [18, 18, 19,  3,  9, 12],\n",
    "       [12,  7, 16,  1,  0,  2]], dtype=float)"
   ]
  },
  {
   "cell_type": "code",
   "execution_count": null,
   "metadata": {
    "collapsed": false
   },
   "outputs": [],
   "source": [
    "p,l,u,q, info = pluq_ids(mat_test_5, debug=True)"
   ]
  },
  {
   "cell_type": "markdown",
   "metadata": {
    "collapsed": true
   },
   "source": [
    "## Yet another bug\n",
    "About feature of maxvol's performance. It returns error if we have a long pair consisted from more then 2 elements each with rank < 2"
   ]
  },
  {
   "cell_type": "code",
   "execution_count": null,
   "metadata": {
    "collapsed": true
   },
   "outputs": [],
   "source": [
    "mat_test_6 = np.array([[ 3, 13,  4, 11,  6, 11],\n",
    "       [14, 19, 16,  1,  4,  7],\n",
    "       [17, 14, 18, 18,  9,  6],\n",
    "       [ 7,  8,  8,  2, 16, 16],\n",
    "       [10, 19,  3, 10, 18,  5],\n",
    "       [ 1, 17,  9, 19, 15, 13],\n",
    "       [13,  1,  4,  1, 17,  9],\n",
    "       [10, 13,  8, 11,  3,  7],\n",
    "       [ 4,  8,  6,  0,  1,  8],\n",
    "       [ 8, 10, 10,  9,  1, 19]], dtype=float)"
   ]
  },
  {
   "cell_type": "code",
   "execution_count": null,
   "metadata": {
    "collapsed": false
   },
   "outputs": [],
   "source": [
    "p,l,u,q, info = pluq_ids(mat_test_6, debug=True)"
   ]
  },
  {
   "cell_type": "markdown",
   "metadata": {
    "collapsed": true
   },
   "source": [
    "## Yet another bug ver. 2.0: Division by Zero\n",
    "### This and below: again about columns swap. Solved"
   ]
  },
  {
   "cell_type": "code",
   "execution_count": null,
   "metadata": {
    "collapsed": true
   },
   "outputs": [],
   "source": [
    "mat_test_7 = np.array([[ -5,  14, -17, -18,   4,  19],\n",
    "       [ -1,   0,  16,  -9,   3, -14],\n",
    "       [ 12,   0, -16,  -4,  -6,  18],\n",
    "       [ -9,  -4, -17,  12,  14,   0],\n",
    "       [  0,   2,   0,   0, -15,   0],\n",
    "       [ 13,  -5,  -8,  -7,  13, -16],\n",
    "       [ -5,   0,   3,   7,  -7,   0],\n",
    "       [ 19,  -1, -10,  18,  17,  -9],\n",
    "       [-15,   6,  -5, -12,   2,   4],\n",
    "       [-15, -19, -13, -14,   0,  -1]], dtype=float)"
   ]
  },
  {
   "cell_type": "code",
   "execution_count": null,
   "metadata": {
    "collapsed": false
   },
   "outputs": [],
   "source": [
    "p,l,u,q, info = pluq_ids(mat_test_7, debug=True)"
   ]
  },
  {
   "cell_type": "markdown",
   "metadata": {},
   "source": [
    "## Yet another bug ver. 3.0: Division by Zero"
   ]
  },
  {
   "cell_type": "code",
   "execution_count": null,
   "metadata": {
    "collapsed": true
   },
   "outputs": [],
   "source": [
    "mat_test_8 = np.array([[ -5,  -9, -13,  -2,  19,  11],\n",
    "       [ 14, -17,  -8,   2, -12,   0],\n",
    "       [ 17, -19,  -3,   6, -19,   1],\n",
    "       [ 19,   0, -16, -19,  19,  18],\n",
    "       [ -5,   2,   1,   4, -17,   1],\n",
    "       [  4,   2,   7,   9, -10, -15],\n",
    "       [ 19,  -9,   0, -12,   0,  -6],\n",
    "       [-10,  15,  12,   2,   2,  13],\n",
    "       [ 16,   0,   3, -16,  16, -15],\n",
    "       [-15, -14,   9,   8,   0,  17]], dtype=float)"
   ]
  },
  {
   "cell_type": "code",
   "execution_count": null,
   "metadata": {
    "collapsed": false
   },
   "outputs": [],
   "source": [
    "p,l,u,q, info = pluq_ids(mat_test_8, debug=True)"
   ]
  }
 ],
 "metadata": {
  "kernelspec": {
   "display_name": "Python 2",
   "language": "python",
   "name": "python2"
  },
  "language_info": {
   "codemirror_mode": {
    "name": "ipython",
    "version": 2
   },
   "file_extension": ".py",
   "mimetype": "text/x-python",
   "name": "python",
   "nbconvert_exporter": "python",
   "pygments_lexer": "ipython2",
   "version": "2.7.13"
  }
 },
 "nbformat": 4,
 "nbformat_minor": 2
}
