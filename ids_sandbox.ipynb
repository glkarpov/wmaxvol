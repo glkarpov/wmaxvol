{
 "cells": [
  {
   "cell_type": "code",
   "execution_count": null,
   "metadata": {
    "collapsed": false
   },
   "outputs": [],
   "source": [
    "import numpy as np\n",
    "from maxvolpy.maxvol import maxvol\n",
    "from numpy.polynomial import Chebyshev as T\n",
    "import numpy.linalg as la\n",
    "import matplotlib.pyplot as plt\n",
    "from scipy.linalg import lu as lu\n",
    "from gen_1D import *\n",
    "from ids import *\n",
    "%matplotlib inline"
   ]
  },
  {
   "cell_type": "code",
   "execution_count": null,
   "metadata": {
    "collapsed": true
   },
   "outputs": [],
   "source": [
    "### how to make from permatation matrix readable array\n",
    "def perm_array(A):\n",
    "    p_a = np.array((A.shape[0]))\n",
    "    p_a = np.argmax(A, axis = 1)\n",
    "    return p_a"
   ]
  },
  {
   "cell_type": "code",
   "execution_count": null,
   "metadata": {
    "collapsed": false
   },
   "outputs": [],
   "source": [
    "n = 4 #nmber of sampling points   \n",
    "deg = 3 # Degree of polynomiapaired plu Last Checkpoint: 22 minutes ago (unsaved changes)l          \n",
    "interval = [-3, 3]  # interval of x\n",
    "x = np.linspace(interval[0], interval[1], n, dtype=np.float64)\n",
    "p_size = deg+1"
   ]
  },
  {
   "cell_type": "code",
   "execution_count": null,
   "metadata": {
    "collapsed": false
   },
   "outputs": [],
   "source": [
    "### generating matrix with special structure\n",
    "b = Gen_1D_coupled(p_size, x, debug=True)\n",
    "b"
   ]
  },
  {
   "cell_type": "code",
   "execution_count": null,
   "metadata": {
    "collapsed": false
   },
   "outputs": [],
   "source": [
    "p,l,u,q = pluq_ids(b)"
   ]
  },
  {
   "cell_type": "code",
   "execution_count": null,
   "metadata": {
    "collapsed": false
   },
   "outputs": [],
   "source": [
    "### here we can see that in the first 4 rows blocked structure was saved, i.e. func-deriv, func-deriv\n",
    "perm_array(p)"
   ]
  },
  {
   "cell_type": "code",
   "execution_count": null,
   "metadata": {
    "collapsed": true
   },
   "outputs": [],
   "source": [
    "### maxvol preprocessing\n",
    "ids = np.dot(p,np.dot(b,q))[:p_size]\n",
    "A = np.dot(p,np.dot(b,q))\n",
    "\n",
    "temp = np.dot(A,np.linalg.inv(ids))"
   ]
  },
  {
   "cell_type": "code",
   "execution_count": null,
   "metadata": {
    "collapsed": false
   },
   "outputs": [],
   "source": [
    "### here we are checking all pairs under Identity matrix and try to find 2x2 block with det>1+tol\n",
    "tol = 0.05\n",
    "n = temp.shape[0]\n",
    "m = temp.shape[1]\n",
    "for k in range(m,n,2):\n",
    "        pair = np.concatenate((temp[k,:],temp[k+1,:])).reshape(2,m).T\n",
    "        piv,_ = maxvol(pair)\n",
    "        piv = np.sort(piv)\n",
    "        print pair, pair[piv]\n",
    "        if (np.abs(np.linalg.det(pair[piv])) > (1 + tol)):\n",
    "            print('exist!')"
   ]
  },
  {
   "cell_type": "markdown",
   "metadata": {},
   "source": [
    "# RGV"
   ]
  },
  {
   "cell_type": "code",
   "execution_count": null,
   "metadata": {
    "collapsed": false
   },
   "outputs": [],
   "source": [
    "mat_test = np.array([ \n",
    "    [50,  0 , 0,0,0, 1],\n",
    "    [0, 0, 30,  0 ,0, 3],\n",
    "    [0,0, 0, 20,  0 , 11],\n",
    "    [0, 40,  0 ,0,0, 2],\n",
    "    [0,0, 0,0,  10,  12],\n",
    "    [0,0,0, 0,0, 50]\n",
    "], dtype=float)\n",
    "print (mat_test)\n",
    "print ()"
   ]
  },
  {
   "cell_type": "code",
   "execution_count": null,
   "metadata": {
    "collapsed": false,
    "scrolled": false
   },
   "outputs": [],
   "source": [
    "p,l,u,q = pluq_ids(mat_test, debug=True)"
   ]
  },
  {
   "cell_type": "code",
   "execution_count": null,
   "metadata": {
    "collapsed": true
   },
   "outputs": [],
   "source": []
  }
 ],
 "metadata": {
  "kernelspec": {
   "display_name": "Python 2",
   "language": "python",
   "name": "python2"
  },
  "language_info": {
   "codemirror_mode": {
    "name": "ipython",
    "version": 2
   },
   "file_extension": ".py",
   "mimetype": "text/x-python",
   "name": "python",
   "nbconvert_exporter": "python",
   "pygments_lexer": "ipython2",
   "version": "2.7.13"
  }
 },
 "nbformat": 4,
 "nbformat_minor": 2
}
