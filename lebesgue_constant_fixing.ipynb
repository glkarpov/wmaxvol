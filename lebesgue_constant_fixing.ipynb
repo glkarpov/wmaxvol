{
 "cells": [
  {
   "cell_type": "code",
   "execution_count": 2,
   "metadata": {},
   "outputs": [],
   "source": [
    "from __future__ import print_function\n",
    "import numpy as np\n",
    "import numpy.linalg as LA\n",
    "from maxvolpy.maxvol import rect_maxvol, maxvol\n",
    "import matplotlib.pyplot as plt\n",
    "import gen_mat as gen\n",
    "from numba import jit, njit, prange\n",
    "from mva_test import *\n",
    "%matplotlib inline"
   ]
  },
  {
   "cell_type": "markdown",
   "metadata": {},
   "source": [
    "### What we're  expecting to have (as of Page 26, [link](https://www.kent.ac.uk/smsas/personal/kx/pubs/16firstkind.pdf)):\n",
    "| degree $(n)$  | $\\mathcal{L}(n)$,  first kind     |  $\\mathcal{L}(n)$,    second kind    | \n",
    "| ---     | ---              | ---                 |\n",
    "|  1      |1.414213562373095 |   1.000000000000000 |\n",
    "|  2      |1.666666666666667 |   1.250000000000000 |\n",
    "|  3      |1.847759065022574 |   1.666666666666667 |\n",
    "|  4      |1.988854381999833 |   1.798761803322554 |\n",
    "|  5      |2.104397682646484 |   1.988854381999832 |\n",
    "|  6      |2.202214555205530 |   2.082555385939792 |\n",
    "|  7      |2.287016068458566 |   2.202214555205529 |\n",
    "|  8      |2.361856787767076 |   2.274730766233740 |\n",
    "|  9      |2.428829482376075 |   2.361856787767072 |"
   ]
  },
  {
   "cell_type": "markdown",
   "metadata": {},
   "source": [
    "### What we actually have:"
   ]
  },
  {
   "cell_type": "code",
   "execution_count": 7,
   "metadata": {
    "scrolled": false
   },
   "outputs": [
    {
     "name": "stdout",
     "output_type": "stream",
     "text": [
      "Number of points =  1 \n",
      " Constant =  1.0\n",
      "Number of points =  2 \n",
      " Constant =  2.5456533682167777\n",
      "Number of points =  3 \n",
      " Constant =  9.684015479339436\n",
      "Number of points =  4 \n",
      " Constant =  30.22574922647668\n",
      "Number of points =  5 \n",
      " Constant =  55.57006827156391\n",
      "Number of points =  6 \n",
      " Constant =  65.59548004471333\n",
      "Number of points =  7 \n",
      " Constant =  134.317225257243\n",
      "Number of points =  8 \n",
      " Constant =  223.3692017230918\n",
      "Number of points =  9 \n",
      " Constant =  2148.923398008558\n"
     ]
    }
   ],
   "source": [
    "dim = 1\n",
    "n = 9\n",
    "L = np.zeros(n)\n",
    "for i in range(1,n+1):\n",
    "    c = np.zeros(n+1)\n",
    "    c[i] = 1\n",
    "    pnts = reshape(np.polynomial.chebyshev.chebroots(c),(i,1))\n",
    "    #pnts = lhs(1, samples=i, iterations=10)\n",
    "    #pnts = test_points_gen(i, dim, distrib='Sobol',interval=(-1.0,1.0))\n",
    "    test_pnts = test_points_gen(int(1e6), dim, distrib='LHS',interval=(-1.0,1.0))\n",
    "    L[i-1] = LebesgueConst(pnts, i, poly=gen.cheb, test_pnts=test_pnts, derivative=False)\n",
    "    print(\"Number of points = \", len(pnts),'\\n', \"Constant = \", L[i-1])\n",
    "    #print(pnts)"
   ]
  },
  {
   "cell_type": "code",
   "execution_count": 5,
   "metadata": {},
   "outputs": [
    {
     "name": "stdout",
     "output_type": "stream",
     "text": [
      "1 1.4412712003053032\n",
      "2 1.6993983051321195\n",
      "3 1.8825424006106064\n",
      "4 2.024599997453552\n",
      "5 2.1406695054374225\n",
      "6 2.23880487613936\n",
      "7 2.3238136009159094\n",
      "8 2.398796610264239\n",
      "9 2.4658711977588554\n"
     ]
    }
   ],
   "source": [
    "for i in range(1, 10):\n",
    "    print (i, 2.0/np.pi*log(i+1)+1)"
   ]
  },
  {
   "cell_type": "code",
   "execution_count": 6,
   "metadata": {},
   "outputs": [
    {
     "data": {
      "text/plain": [
       "[<matplotlib.lines.Line2D at 0x7f99756bf860>]"
      ]
     },
     "execution_count": 6,
     "metadata": {},
     "output_type": "execute_result"
    },
    {
     "data": {
      "image/png": "[encoded data removed]",
      "text/plain": [
       "<matplotlib.figure.Figure at 0x7f9972c9b128>"
      ]
     },
     "metadata": {
      "needs_background": "light"
     },
     "output_type": "display_data"
    }
   ],
   "source": [
    "plt.plot(pnts, [0]*len(pnts), 'xr')"
   ]
  }
 ],
 "metadata": {
  "hide_input": false,
  "kernelspec": {
   "display_name": "Python 3",
   "language": "python",
   "name": "python3"
  },
  "language_info": {
   "codemirror_mode": {
    "name": "ipython",
    "version": 3
   },
   "file_extension": ".py",
   "mimetype": "text/x-python",
   "name": "python",
   "nbconvert_exporter": "python",
   "pygments_lexer": "ipython3",
   "version": "3.6.8"
  },
  "varInspector": {
   "cols": {
    "lenName": 16,
    "lenType": 16,
    "lenVar": 40
   },
   "kernels_config": {
    "python": {
     "delete_cmd_postfix": "",
     "delete_cmd_prefix": "del ",
     "library": "var_list.py",
     "varRefreshCmd": "print(var_dic_list())"
    },
    "r": {
     "delete_cmd_postfix": ") ",
     "delete_cmd_prefix": "rm(",
     "library": "var_list.r",
     "varRefreshCmd": "cat(var_dic_list()) "
    }
   },
   "types_to_exclude": [
    "module",
    "function",
    "builtin_function_or_method",
    "instance",
    "_Feature"
   ],
   "window_display": false
  }
 },
 "nbformat": 4,
 "nbformat_minor": 2
}
