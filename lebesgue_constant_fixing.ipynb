{
 "cells": [
  {
   "cell_type": "code",
   "execution_count": 1,
   "metadata": {
    "collapsed": true
   },
   "outputs": [],
   "source": [
    "import numpy as np\n",
    "import numpy.linalg as LA\n",
    "from maxvolpy.maxvol import rect_maxvol, maxvol\n",
    "import matplotlib.pyplot as plt\n",
    "import gen_mat as gen\n",
    "from mva_test import test_points_gen\n",
    "from numba import jit, njit, prange\n",
    "from mva_test import *\n",
    "%matplotlib inline"
   ]
  },
  {
   "cell_type": "markdown",
   "metadata": {},
   "source": [
    "### What we're  expecting to have (as of Page 26, [link](https://www.kent.ac.uk/smsas/personal/kx/pubs/16firstkind.pdf)):\n",
    "| degree $(n)$  | $\\mathcal{L}(n)$,  first kind     |  $\\mathcal{L}(n)$,    second kind    | \n",
    "| ---     | ---              | ---                 |\n",
    "|  1      |1.414213562373095 |   1.000000000000000 |\n",
    "|  2      |1.666666666666667 |   1.250000000000000 |\n",
    "|  3      |1.847759065022574 |   1.666666666666667 |\n",
    "|  4      |1.988854381999833 |   1.798761803322554 |\n",
    "|  5      |2.104397682646484 |   1.988854381999832 |\n",
    "|  6      |2.202214555205530 |   2.082555385939792 |\n",
    "|  7      |2.287016068458566 |   2.202214555205529 |\n",
    "|  8      |2.361856787767076 |   2.274730766233740 |\n",
    "|  9      |2.428829482376075 |   2.361856787767072 |"
   ]
  },
  {
   "cell_type": "markdown",
   "metadata": {},
   "source": [
    "### What we actually have:"
   ]
  },
  {
   "cell_type": "code",
   "execution_count": 2,
   "metadata": {
    "scrolled": false
   },
   "outputs": [
    {
     "name": "stdout",
     "output_type": "stream",
     "text": [
      "Number of points =  1 \n",
      " Constant =  1.0\n",
      "Number of points =  2 \n",
      " Constant =  1.66666633078\n",
      "Number of points =  3 \n",
      " Constant =  1.66666569084\n",
      "Number of points =  4 \n",
      " Constant =  1.62612674593\n",
      "Number of points =  5 \n",
      " Constant =  1.62015372595\n",
      "Number of points =  6 \n",
      " Constant =  1.61962682955\n",
      "Number of points =  7 \n",
      " Constant =  1.61962720471\n",
      "Number of points =  8 \n",
      " Constant =  1.61962545106\n",
      "Number of points =  9 \n",
      " Constant =  1.61962413222\n"
     ]
    }
   ],
   "source": [
    "dim = 1\n",
    "n = 9\n",
    "L = np.zeros(n)\n",
    "for i in range(1,n+1):\n",
    "    c = np.zeros(n+1)\n",
    "    c[i] = 1\n",
    "    pnts = reshape(np.polynomial.chebyshev.chebroots(c),(i,1))\n",
    "    test_pnts = test_points_gen(int(1e6), dim, distrib='LHS',interval=(-1.0,1.0))\n",
    "    L[i-1] = LebesgueConst(pnts, i, poly=gen.cheb, test_pnts=test_pnts, pow_p=1)\n",
    "    print(\"Number of points = \", len(pnts),'\\n', \"Constant = \", L[i-1])\n",
    "    #print(pnts)"
   ]
  }
 ],
 "metadata": {
  "kernelspec": {
   "display_name": "Python 3",
   "language": "python",
   "name": "python3"
  },
  "language_info": {
   "codemirror_mode": {
    "name": "ipython",
    "version": 3
   },
   "file_extension": ".py",
   "mimetype": "text/x-python",
   "name": "python",
   "nbconvert_exporter": "python",
   "pygments_lexer": "ipython3",
   "version": "3.6.4"
  }
 },
 "nbformat": 4,
 "nbformat_minor": 2
}
