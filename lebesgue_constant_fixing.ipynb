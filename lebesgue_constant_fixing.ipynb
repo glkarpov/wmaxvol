{
 "cells": [
  {
   "cell_type": "code",
   "execution_count": 1,
   "metadata": {
    "collapsed": true
   },
   "outputs": [],
   "source": [
    "from __future__ import print_function\n",
    "import numpy as np\n",
    "import numpy.linalg as LA\n",
    "from maxvolpy.maxvol import rect_maxvol, maxvol\n",
    "import matplotlib.pyplot as plt\n",
    "import gen_mat as gen\n",
    "from numba import jit, njit, prange\n",
    "from mva_test import *\n",
    "%matplotlib inline"
   ]
  },
  {
   "cell_type": "markdown",
   "metadata": {},
   "source": [
    "### What we're  expecting to have (as of Page 26, [link](https://www.kent.ac.uk/smsas/personal/kx/pubs/16firstkind.pdf)):\n",
    "| degree $(n)$  | $\\mathcal{L}(n)$,  first kind     |  $\\mathcal{L}(n)$,    second kind    | \n",
    "| ---     | ---              | ---                 |\n",
    "|  1      |1.414213562373095 |   1.000000000000000 |\n",
    "|  2      |1.666666666666667 |   1.250000000000000 |\n",
    "|  3      |1.847759065022574 |   1.666666666666667 |\n",
    "|  4      |1.988854381999833 |   1.798761803322554 |\n",
    "|  5      |2.104397682646484 |   1.988854381999832 |\n",
    "|  6      |2.202214555205530 |   2.082555385939792 |\n",
    "|  7      |2.287016068458566 |   2.202214555205529 |\n",
    "|  8      |2.361856787767076 |   2.274730766233740 |\n",
    "|  9      |2.428829482376075 |   2.361856787767072 |"
   ]
  },
  {
   "cell_type": "markdown",
   "metadata": {},
   "source": [
    "### What we actually have:"
   ]
  },
  {
   "cell_type": "code",
   "execution_count": 9,
   "metadata": {
    "scrolled": false
   },
   "outputs": [
    {
     "name": "stdout",
     "output_type": "stream",
     "text": [
      "Number of points =  1 \n",
      " Constant =  1.0\n",
      "Number of points =  2 \n",
      " Constant =  2.999996628452891\n",
      "Number of points =  3 \n",
      " Constant =  4.999983142275818\n",
      "Number of points =  4 \n",
      " Constant =  14.99992357837919\n",
      "Number of points =  5 \n",
      " Constant =  100.9993088344454\n",
      "Number of points =  6 \n",
      " Constant =  36.14240005936874\n",
      "Number of points =  7 \n",
      " Constant =  108.99836975354867\n",
      "Number of points =  8 \n",
      " Constant =  254.9958344634656\n",
      "Number of points =  9 \n",
      " Constant =  1381.8640541743694\n"
     ]
    }
   ],
   "source": [
    "dim = 1\n",
    "n = 9\n",
    "L = np.zeros(n)\n",
    "test_pnts = test_points_gen(int(1e6), dim, distrib='LHS', interval=(-1.0, 1.0))\n",
    "for i in range(1, n+1):\n",
    "    c = np.zeros(n+1)\n",
    "    c[i] = 1\n",
    "    # pnts = reshape(np.polynomial.chebyshev.chebroots(c), (i, 1))\n",
    "    pnts = test_points_gen(i, nder = 1, distrib='Sobol')\n",
    "    L[i-1] = LebesgueConst(pnts, i, poly=gen.cheb,\n",
    "                           test_pnts=test_pnts, derivative=False)\n",
    "    print(\"Number of points = \", len(pnts), '\\n', \"Constant = \", L[i-1])\n",
    "    # print(pnts)"
   ]
  },
  {
   "cell_type": "code",
   "execution_count": 6,
   "metadata": {},
   "outputs": [
    {
     "data": {
      "image/png": "[encoded data removed]",
      "text/plain": [
       "<matplotlib.figure.Figure at 0x6107e2a90>"
      ]
     },
     "metadata": {},
     "output_type": "display_data"
    }
   ],
   "source": [
    "plt.plot(pnts, [0]*len(pnts), 'xr');"
   ]
  },
  {
   "cell_type": "code",
   "execution_count": null,
   "metadata": {
    "collapsed": true
   },
   "outputs": [],
   "source": []
  }
 ],
 "metadata": {
  "kernelspec": {
   "display_name": "Python 2",
   "language": "python",
   "name": "python2"
  },
  "language_info": {
   "codemirror_mode": {
    "name": "ipython",
    "version": 2
   },
   "file_extension": ".py",
   "mimetype": "text/x-python",
   "name": "python",
   "nbconvert_exporter": "python",
   "pygments_lexer": "ipython2",
   "version": "2.7.14"
  },
  "varInspector": {
   "cols": {
    "lenName": 16,
    "lenType": 16,
    "lenVar": 40
   },
   "kernels_config": {
    "python": {
     "delete_cmd_postfix": "",
     "delete_cmd_prefix": "del ",
     "library": "var_list.py",
     "varRefreshCmd": "print(var_dic_list())"
    },
    "r": {
     "delete_cmd_postfix": ") ",
     "delete_cmd_prefix": "rm(",
     "library": "var_list.r",
     "varRefreshCmd": "cat(var_dic_list()) "
    }
   },
   "types_to_exclude": [
    "module",
    "function",
    "builtin_function_or_method",
    "instance",
    "_Feature"
   ],
   "window_display": false
  }
 },
 "nbformat": 4,
 "nbformat_minor": 2
}
