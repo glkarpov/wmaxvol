{
 "cells": [
  {
   "cell_type": "code",
   "execution_count": 17,
   "metadata": {
    "collapsed": true
   },
   "outputs": [],
   "source": [
    "import numpy as np\n",
    "import matplotlib.pyplot as plt\n",
    "import gen_mat as gen \n",
    "from mva_test import test_points_gen\n",
    "%matplotlib inline"
   ]
  },
  {
   "cell_type": "code",
   "execution_count": 18,
   "metadata": {
    "scrolled": false
   },
   "outputs": [
    {
     "name": "stdout",
     "output_type": "stream",
     "text": [
      "Number of points =  1 \n",
      " Constant =  1.0\n",
      "Number of points =  2 \n",
      " Constant =  1.66666559434\n",
      "Number of points =  3 \n",
      " Constant =  1.66666577558\n",
      "Number of points =  4 \n",
      " Constant =  1.62612615229\n",
      "Number of points =  5 \n",
      " Constant =  1.62015438988\n",
      "Number of points =  6 \n",
      " Constant =  1.61962770843\n",
      "Number of points =  7 \n",
      " Constant =  1.61962714732\n",
      "Number of points =  8 \n",
      " Constant =  1.61962465595\n",
      "Number of points =  9 \n",
      " Constant =  1.61962532378\n"
     ]
    }
   ],
   "source": [
    "dim = 1\n",
    "n = 9\n",
    "L = np.zeros(n)\n",
    "for i in range(1,n+1):\n",
    "    c = np.zeros(n+1)\n",
    "    c[i] = 1\n",
    "    pnts = reshape(np.polynomial.chebyshev.chebroots(c),(i,1))\n",
    "    test_pnts = test_points_gen(int(1e6), dim, distrib='LHS',interval=(-1.0,1.0))\n",
    "    L[i-1] = LebesgueConst(pnts, i, poly=gen.cheb, test_pnts=test_pnts, pow_p=1)\n",
    "    print(\"Number of points = \", len(pnts),'\\n', \"Constant = \", L[i-1])\n",
    "    #print(pnts)"
   ]
  }
 ],
 "metadata": {
  "kernelspec": {
   "display_name": "Python 3",
   "language": "python",
   "name": "python3"
  },
  "language_info": {
   "codemirror_mode": {
    "name": "ipython",
    "version": 3
   },
   "file_extension": ".py",
   "mimetype": "text/x-python",
   "name": "python",
   "nbconvert_exporter": "python",
   "pygments_lexer": "ipython3",
   "version": "3.6.4"
  }
 },
 "nbformat": 4,
 "nbformat_minor": 2
}
