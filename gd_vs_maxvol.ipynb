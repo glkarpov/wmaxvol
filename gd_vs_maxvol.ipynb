{
 "cells": [
  {
   "cell_type": "markdown",
   "metadata": {},
   "source": [
    "# Comparison: GD vs Maxvol approach for approximation (1-D case)\n",
    "We need to compare approaches in the following sences:\n",
    "* **Condition number** or/and **determinant** of the resulting matrix $A$ \n",
    "\n",
    "* Analytically derive a gradient of squared volume of $A$: $\\nabla(\\det(A^{*}A))$, and use it in GD \n",
    "* ...\n",
    "* Profit!"
   ]
  },
  {
   "cell_type": "code",
   "execution_count": 641,
   "metadata": {
    "collapsed": true
   },
   "outputs": [],
   "source": [
    "import numpy as np\n",
    "import numpy.linalg as LA\n",
    "from numpy.polynomial import Chebyshev as T\n",
    "from scipy import optimize\n",
    "from maxvolpy.maxvol import maxvol\n",
    "import matplotlib.pyplot as plt\n",
    "from maxvolpy.maxvol import rect_maxvol\n",
    "%matplotlib inline"
   ]
  },
  {
   "cell_type": "code",
   "execution_count": 642,
   "metadata": {
    "collapsed": true
   },
   "outputs": [],
   "source": [
    "# generate polynomial matrix \n",
    "def gen_mat(points, degree):\n",
    "    num_of_columns = degree + 1\n",
    "    A = np.zeros((len(points), num_of_columns), dtype = np.float64)\n",
    "    for i in range(num_of_columns):\n",
    "        #A[:, i] = points[:]**i #uncomment for the monomial case\n",
    "        A[:, i] = T.basis(i)(points[:]) #uncomment for Chebyshev polynomials\n",
    "    return A"
   ]
  },
  {
   "cell_type": "code",
   "execution_count": 643,
   "metadata": {
    "collapsed": false
   },
   "outputs": [],
   "source": [
    "# plotting and errors of approximation\n",
    "\n",
    "def plot_and_err(x_gd, x_new_gd, x_maxvol, interval):\n",
    "    \n",
    "    # solution to the linear system\n",
    "#     c_gd = LA.solve(gen_mat(x_gd, degree), f(x_gd))\n",
    "#     c_maxvol = LA.solve(gen_mat(x_maxvol, degree), f(x_maxvol))\n",
    "#     c_new_gd = LA.solve(gen_mat(x_new_gd, degree), f(x_new_gd))\n",
    "    \n",
    "    A_gd = gen_mat(x_gd, degree)\n",
    "    c_gd = LA.solve(np.dot(A_gd.conj().T, A_gd), np.dot(A_gd.conj().T, f(x_gd)))\n",
    "    A_maxvol = gen_mat(x_maxvol, degree)\n",
    "    c_maxvol = LA.solve(np.dot(A_maxvol.conj().T, A_maxvol), np.dot(A_maxvol.conj().T, f(x_maxvol)))\n",
    "    A_new_gd = gen_mat(x_new_gd, degree)\n",
    "    c_new_gd = LA.solve(np.dot(A_new_gd.conj().T, A_new_gd), np.dot(A_new_gd.conj().T, f(x_new_gd)))\n",
    "\n",
    "    \n",
    "    rhs = f(interval)\n",
    "    rhs_gd = np.polynomial.chebyshev.chebval(interval, c_gd)\n",
    "    rhs_new_gd = np.polynomial.chebyshev.chebval(interval, c_new_gd)\n",
    "    rhs_maxvol = np.polynomial.chebyshev.chebval(interval, c_maxvol)\n",
    "    \n",
    "    # error estimation\n",
    "    err_maxvol = round((LA.norm(rhs - rhs_maxvol, 2) / LA.norm(rhs, 2)), 4)\n",
    "    err_gd = round((LA.norm(rhs - rhs_gd, 2) / LA.norm(rhs, 2)), 4)\n",
    "    err_new_gd = round((LA.norm(rhs - rhs_new_gd, 2) / LA.norm(rhs, 2)), 4)\n",
    "    \n",
    "    # plotting\n",
    "    __ , axarr = plt.subplots(1, 4, figsize=(20, 5))\n",
    "    \n",
    "    axarr[0].grid(True)\n",
    "    axarr[0].plot(interval, rhs, 'b', interval, rhs_maxvol, 'r--', x_maxvol, f(x_maxvol), 'go')\n",
    "    axarr[0].set_title('Maxvol error = ' + str(err_maxvol))\n",
    "    axarr[0].set_xlabel(\"X\")\n",
    "    axarr[0].set_ylabel(\"f(X)\")\n",
    "    \n",
    "    axarr[1].grid(True)\n",
    "    axarr[1].plot(interval, rhs, 'b', interval, rhs_gd, 'r--', x_gd, f(x_gd), 'go')\n",
    "    axarr[1].set_title('GD error = ' + str(err_gd))\n",
    "    axarr[1].set_xlabel(\"X\")\n",
    "    axarr[1].set_ylabel(\"f(X)\")\n",
    "    \n",
    "    axarr[2].grid(True)\n",
    "    axarr[2].plot(interval, rhs, 'b', interval, rhs_new_gd, 'r--', x_new_gd, f(x_new_gd), 'go')\n",
    "    axarr[2].set_title('NEW GD error = ' + str(err_new_gd))\n",
    "    axarr[2].set_xlabel(\"X\")\n",
    "    axarr[2].set_ylabel(\"f(X)\")\n",
    "    \n",
    "    axarr[3].grid(True)\n",
    "    axarr[3].plot(range(len(x_0)), np.sort(opt[0]), 'g^', range(len(x_0)), np.sort(mat[row_indx, 1]), 'ro', label = [\"asdas\",\"d\"])\n",
    "    axarr[3].set_title('NEW GD vs Maxvol')\n",
    "    axarr[3].set_xlabel(\"N – point number\")\n",
    "    axarr[3].set_ylabel(\"X\")\n",
    "\n",
    "    plt.show()\n",
    "\n",
    "# approximated function\n",
    "def f(x):\n",
    "    return np.exp(x)*np.sin(x)#(x**8 - x**5 + x**3 - 1)"
   ]
  },
  {
   "cell_type": "markdown",
   "metadata": {},
   "source": [
    "\n",
    "\n",
    "    "
   ]
  },
  {
   "cell_type": "markdown",
   "metadata": {},
   "source": [
    "#-----------------------------------------------------------------------------------------------------------------------------------------------------------------------------------# "
   ]
  },
  {
   "cell_type": "markdown",
   "metadata": {},
   "source": [
    "#### Workspace"
   ]
  },
  {
   "cell_type": "code",
   "execution_count": 644,
   "metadata": {
    "collapsed": false
   },
   "outputs": [],
   "source": [
    "degree = 6\n",
    "left = -1.1\n",
    "right = 7.9\n",
    "num_points = 9 # num_points > degree \n",
    "\n",
    "x_0 = np.linspace(left, right, num_points) \n",
    "x_big = np.linspace(left, right, 1000000) \n",
    "\n",
    "bnds = tuple((left, right) for i in x_0)"
   ]
  },
  {
   "cell_type": "markdown",
   "metadata": {},
   "source": [
    "#-----------------------------------------------------------------------------------------------------------------------------------------------------------------------------------# "
   ]
  },
  {
   "cell_type": "markdown",
   "metadata": {},
   "source": [
    "#### Maxvol"
   ]
  },
  {
   "cell_type": "code",
   "execution_count": 645,
   "metadata": {
    "collapsed": false,
    "scrolled": true
   },
   "outputs": [
    {
     "name": "stdout",
     "output_type": "stream",
     "text": [
      "[-1.1        -0.51503234 -0.19783991  1.24663593  3.39999955  5.51846116\n",
      "  7.09719722  7.17664383  7.9       ] \n",
      " Cond_num =  7435399.02078\n"
     ]
    }
   ],
   "source": [
    "mat = gen_mat(x_big, degree)\n",
    "#row_indx, _ = maxvol(mat, tol = 1, max_iters = 1000000)\n",
    "row_indx, _ = rect_maxvol(mat, tol = 1.0, minK = num_points, maxK = num_points)\n",
    "print(np.sort(mat[row_indx, 1]), '\\n Cond_num = ', LA.cond(mat[row_indx]))"
   ]
  },
  {
   "cell_type": "markdown",
   "metadata": {},
   "source": [
    " \n",
    " "
   ]
  },
  {
   "cell_type": "markdown",
   "metadata": {},
   "source": [
    " #-----------------------------------------------------------------------------------------------------------------------------------------------------------------------------------# \n",
    " \n",
    " \n",
    " \n",
    " \n",
    " "
   ]
  },
  {
   "cell_type": "markdown",
   "metadata": {},
   "source": [
    "## Objective function is a condition number of matrix $A$"
   ]
  },
  {
   "cell_type": "markdown",
   "metadata": {},
   "source": [
    "#### Gradient Descent"
   ]
  },
  {
   "cell_type": "code",
   "execution_count": 646,
   "metadata": {
    "collapsed": false
   },
   "outputs": [],
   "source": [
    "# calculation of condition number\n",
    "# LOSS FUNCTION \n",
    "def cond_handmade(points):\n",
    "    matrix = gen_mat(points, degree)\n",
    "    return ((LA.norm(matrix, 2) * LA.norm(LA.pinv(matrix), 2)) / LA.norm(matrix, 1)**2)"
   ]
  },
  {
   "cell_type": "code",
   "execution_count": 647,
   "metadata": {
    "collapsed": false
   },
   "outputs": [
    {
     "name": "stdout",
     "output_type": "stream",
     "text": [
      "[-1.1    0.025  1.15   2.275  3.4    4.525  5.65   6.775  7.9  ] \n",
      " Cond_num =  5.23550045744e-08\n"
     ]
    }
   ],
   "source": [
    "res = optimize.fmin_l_bfgs_b(cond_handmade, x_0, approx_grad = 1, factr = 10.0, bounds = bnds)\n",
    "print(np.sort(res[0]), '\\n Cond_num = ', res[1])"
   ]
  },
  {
   "cell_type": "code",
   "execution_count": 648,
   "metadata": {
    "collapsed": false,
    "scrolled": false
   },
   "outputs": [
    {
     "data": {
      "text/plain": [
       "7390754.129165628"
      ]
     },
     "execution_count": 648,
     "metadata": {},
     "output_type": "execute_result"
    }
   ],
   "source": [
    "LA.cond(gen_mat(np.sort(res[0]), degree))"
   ]
  },
  {
   "cell_type": "markdown",
   "metadata": {},
   "source": [
    "#-----------------------------------------------------------------------------------------------------------------------------------------------------------------------------------# "
   ]
  },
  {
   "cell_type": "markdown",
   "metadata": {},
   "source": [
    "## Objective function is a determinant of the squared volume of matrix $A$"
   ]
  },
  {
   "cell_type": "code",
   "execution_count": 649,
   "metadata": {
    "collapsed": false,
    "scrolled": false
   },
   "outputs": [
    {
     "data": {
      "text/plain": [
       "7390754.129165628"
      ]
     },
     "execution_count": 649,
     "metadata": {},
     "output_type": "execute_result"
    }
   ],
   "source": [
    "LA.cond(gen_mat(np.sort(res[0]), degree))"
   ]
  },
  {
   "cell_type": "code",
   "execution_count": 650,
   "metadata": {
    "collapsed": false
   },
   "outputs": [],
   "source": [
    "def grad_of_det(points):\n",
    "    A = gen_mat(points, degree)\n",
    "    grad = np.zeros(len(points))\n",
    "    B_inv = LA.inv(np.dot(A.conj().T, A))\n",
    "    for k in range(len(grad)):\n",
    "        for i in range(B_inv.shape[0]):\n",
    "            for j in range(B_inv.shape[0]):            \n",
    "                grad[k] += B_inv[j,i] * (T.deriv(T.basis(i))(points[k])*T.basis(j)(points[k]) +\n",
    "                                         T.basis(i)(points[k])*T.deriv(T.basis(j))(points[k]))\n",
    "    return -grad \n",
    "#------------------------------------------------------------------------------------------------\n",
    "def loss_det(points):\n",
    "    A = gen_mat(points, degree)\n",
    "    S = LA.svd(A, compute_uv = False)\n",
    "    det = np.prod(S)**2\n",
    "    \n",
    "    return np.log(det)"
   ]
  },
  {
   "cell_type": "code",
   "execution_count": 651,
   "metadata": {
    "collapsed": false
   },
   "outputs": [
    {
     "data": {
      "text/plain": [
       "array([  3.77085038e+00,   1.23931969e+00,  -1.15355262e-01,\n",
       "         9.60165761e-02,  -1.62039271e-11,  -9.60165760e-02,\n",
       "         1.15355262e-01,  -1.23931969e+00,  -3.77085038e+00])"
      ]
     },
     "execution_count": 651,
     "metadata": {},
     "output_type": "execute_result"
    }
   ],
   "source": [
    "grad_of_det(x_0)"
   ]
  },
  {
   "cell_type": "code",
   "execution_count": 652,
   "metadata": {
    "collapsed": false
   },
   "outputs": [
    {
     "data": {
      "text/plain": [
       "      fun: -75.195350443896857\n",
       " hess_inv: <9x9 LbfgsInvHessProduct with dtype=float64>\n",
       "      jac: array([  4.66666801e+00,  -1.02502781e-05,   7.56578090e-06,\n",
       "         8.61823762e-06,   3.81134118e-07,  -8.88571230e-06,\n",
       "        -6.12864551e-06,   2.48721335e-06,  -4.66666180e+00])\n",
       "  message: b'CONVERGENCE: REL_REDUCTION_OF_F_<=_FACTR*EPSMCH'\n",
       "     nfev: 16\n",
       "      nit: 12\n",
       "   status: 0\n",
       "  success: True\n",
       "        x: array([-1.1       , -0.36942444,  0.89209356,  1.71436889,  3.40000011,\n",
       "        5.08563104,  5.90790673,  7.16942267,  7.9       ])"
      ]
     },
     "execution_count": 652,
     "metadata": {},
     "output_type": "execute_result"
    }
   ],
   "source": [
    "optimize.minimize(lambda x: -loss_det(x), x_0, jac = grad_of_det, bounds = bnds)"
   ]
  },
  {
   "cell_type": "code",
   "execution_count": 653,
   "metadata": {
    "collapsed": false,
    "scrolled": true
   },
   "outputs": [
    {
     "data": {
      "text/plain": [
       "(array([-1.1       , -0.36942394,  0.8920799 ,  1.71434317,  3.40000003,\n",
       "         5.08565682,  5.90792007,  7.16942394,  7.9       ]),\n",
       " -75.195350444453467,\n",
       " {'funcalls': 17,\n",
       "  'grad': array([  4.66666701e+00,  -4.03497744e-07,   3.81409397e-08,\n",
       "          -8.80286387e-08,   3.84905050e-08,   6.42985469e-08,\n",
       "          -5.79029802e-08,   4.30736691e-07,  -4.66666703e+00]),\n",
       "  'nit': 13,\n",
       "  'task': b'CONVERGENCE: NORM_OF_PROJECTED_GRADIENT_<=_PGTOL',\n",
       "  'warnflag': 0})"
      ]
     },
     "execution_count": 653,
     "metadata": {},
     "output_type": "execute_result"
    }
   ],
   "source": [
    "opt = optimize.fmin_l_bfgs_b(lambda x: -loss_det(x), x_0, fprime = grad_of_det, factr = 10.0, bounds = bnds)\n",
    "opt"
   ]
  },
  {
   "cell_type": "code",
   "execution_count": 654,
   "metadata": {
    "collapsed": false,
    "scrolled": true
   },
   "outputs": [
    {
     "name": "stdout",
     "output_type": "stream",
     "text": [
      "GD\n",
      " 2.13040847677e+16 \n",
      " (9, 7)\n",
      "Maxvol\n",
      " 2.07756103907e+16 \n",
      " (9, 7)\n"
     ]
    }
   ],
   "source": [
    "print('GD\\n',np.sqrt(LA.det(np.dot(gen_mat(opt[0], degree).conj().T, gen_mat(opt[0], degree)))),'\\n', gen_mat(opt[0], degree).shape)\n",
    "print('Maxvol\\n',np.sqrt(LA.det(np.dot(mat[row_indx].conj().T, mat[row_indx]))),'\\n', mat[row_indx].shape)"
   ]
  },
  {
   "cell_type": "code",
   "execution_count": 655,
   "metadata": {
    "collapsed": false
   },
   "outputs": [
    {
     "name": "stdout",
     "output_type": "stream",
     "text": [
      "11.2415265293 \n",
      " [-3.02023295 -1.0042811   0.14551915 -0.07403855  2.19785079  0.25025315\n",
      " -1.05657705  2.44028797  1.6177637 ]\n"
     ]
    }
   ],
   "source": [
    "print(optimize.check_grad(loss_det, grad_of_det, x_0),'\\n',\n",
    "optimize.approx_fprime(x_0, loss_det, epsilon = 1e-10))"
   ]
  },
  {
   "cell_type": "markdown",
   "metadata": {},
   "source": [
    " "
   ]
  },
  {
   "cell_type": "markdown",
   "metadata": {},
   "source": [
    " "
   ]
  },
  {
   "cell_type": "code",
   "execution_count": 656,
   "metadata": {
    "collapsed": false,
    "scrolled": true
   },
   "outputs": [
    {
     "data": {
      "image/png": "[encoded data removed]",
      "text/plain": [
       "<matplotlib.figure.Figure at 0x10c41f4a8>"
      ]
     },
     "metadata": {},
     "output_type": "display_data"
    }
   ],
   "source": [
    "plot_and_err(np.sort(res[0]), np.sort(opt[0]), np.sort(mat[row_indx, 1]), x_big)"
   ]
  }
 ],
 "metadata": {
  "anaconda-cloud": {},
  "kernelspec": {
   "display_name": "Python [conda env:maxvol]",
   "language": "python",
   "name": "conda-env-maxvol-py"
  },
  "language_info": {
   "codemirror_mode": {
    "name": "ipython",
    "version": 3
   },
   "file_extension": ".py",
   "mimetype": "text/x-python",
   "name": "python",
   "nbconvert_exporter": "python",
   "pygments_lexer": "ipython3",
   "version": "3.5.2"
  }
 },
 "nbformat": 4,
 "nbformat_minor": 1
}
