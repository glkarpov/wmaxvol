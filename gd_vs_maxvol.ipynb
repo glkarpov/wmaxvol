{
 "cells": [
  {
   "cell_type": "markdown",
   "metadata": {},
   "source": [
    "# Comparison: GD vs Maxvol approach for approximation (1-D case)\n",
    "We need to compare approaches in the following sences:\n",
    "* **Condition number** or/and **determinant** of the resulting matrix $A$ \n",
    "\n",
    "* Derive analytical dependence of $\\det(A^{+}A)$ from $x$ – sampling interval, and use it in GD \n",
    "* ...\n",
    "* Profit!"
   ]
  },
  {
   "cell_type": "code",
   "execution_count": 1,
   "metadata": {
    "collapsed": false
   },
   "outputs": [],
   "source": [
    "import numpy as np\n",
    "import numpy.linalg as LA\n",
    "from numpy.polynomial import Chebyshev as T\n",
    "from scipy import optimize\n",
    "from maxvolpy.maxvol import maxvol\n",
    "import matplotlib.pyplot as plt\n",
    "%matplotlib inline"
   ]
  },
  {
   "cell_type": "code",
   "execution_count": 2,
   "metadata": {
    "collapsed": true
   },
   "outputs": [],
   "source": [
    "# generate polynomial matrix \n",
    "def gen_mat(points, degree):\n",
    "    num_of_columns = degree + 1\n",
    "    A = np.zeros((len(points), num_of_columns), dtype = np.float64)\n",
    "    for i in range(num_of_columns):\n",
    "        #A[:, i] = points[:]**i #uncomment for the monomial case\n",
    "        A[:, i] = T.basis(i)(points[:]) #uncomment for Chebyshev polynomials\n",
    "    return A"
   ]
  },
  {
   "cell_type": "code",
   "execution_count": 3,
   "metadata": {
    "collapsed": false
   },
   "outputs": [],
   "source": [
    "# calculation of condition number\n",
    "# LOSS FUNCTION \n",
    "def cond_handmade(points):\n",
    "    matrix = gen_mat(points, degree)\n",
    "    return ((LA.norm(matrix, 2) * LA.norm(LA.pinv(matrix), 2)) / LA.norm(matrix, 1)**2)"
   ]
  },
  {
   "cell_type": "code",
   "execution_count": 384,
   "metadata": {
    "collapsed": false
   },
   "outputs": [],
   "source": [
    "# plotting and errors of approximation\n",
    "\n",
    "def plot_and_err(x_gd, x_new_gd, x_maxvol, interval):\n",
    "    \n",
    "    # solution to the linear system\n",
    "    c_gd = LA.solve(gen_mat(x_gd, degree), f(x_gd))\n",
    "    c_maxvol = LA.solve(gen_mat(x_maxvol, degree), f(x_maxvol))\n",
    "    c_new_gd = LA.solve(gen_mat(x_new_gd, degree), f(x_new_gd))\n",
    "    \n",
    "    rhs = f(interval)\n",
    "    rhs_gd = np.polynomial.chebyshev.chebval(interval, c_gd)\n",
    "    rhs_new_gd = np.polynomial.chebyshev.chebval(interval, c_new_gd)\n",
    "    rhs_maxvol = np.polynomial.chebyshev.chebval(interval, c_maxvol)\n",
    "    \n",
    "    # error estimation\n",
    "    err_maxvol = round((LA.norm(rhs - rhs_maxvol, 2) / LA.norm(rhs, 2)), 4)\n",
    "    err_gd = round((LA.norm(rhs - rhs_gd, 2) / LA.norm(rhs, 2)), 4)\n",
    "    err_new_gd = round((LA.norm(rhs - rhs_new_gd, 2) / LA.norm(rhs, 2)), 4)\n",
    "    \n",
    "    # plotting\n",
    "    __ , axarr = plt.subplots(1, 4, figsize=(18, 5))\n",
    "    \n",
    "    axarr[0].grid(True)\n",
    "    axarr[0].plot(interval, rhs, 'b', interval, rhs_maxvol, 'r--', x_maxvol, f(x_maxvol), 'go')\n",
    "    axarr[0].set_title('Maxvol error = ' + str(err_maxvol))\n",
    "    axarr[0].set_xlabel(\"X\")\n",
    "    axarr[0].set_ylabel(\"f(X)\")\n",
    "    \n",
    "    axarr[1].grid(True)\n",
    "    axarr[1].plot(interval, rhs, 'b', interval, rhs_gd, 'r--', x_gd, f(x_gd), 'go')\n",
    "    axarr[1].set_title('GD error = ' + str(err_gd))\n",
    "    axarr[1].set_xlabel(\"X\")\n",
    "    axarr[1].set_ylabel(\"f(X)\")\n",
    "    \n",
    "    axarr[2].grid(True)\n",
    "    axarr[2].plot(interval, rhs, 'b', interval, rhs_new_gd, 'r--', x_new_gd, f(x_new_gd), 'go')\n",
    "    axarr[2].set_title('NEW GD error = ' + str(err_new_gd))\n",
    "    axarr[2].set_xlabel(\"X\")\n",
    "    axarr[2].set_ylabel(\"f(X)\")\n",
    "    \n",
    "    axarr[3].grid(True)\n",
    "    axarr[3].plot(range(len(x_0)), np.sort(res[0]), 'g^', range(len(x_0)), np.sort(mat[row_indx, 1]), 'ro', label = [\"asdas\",\"d\"])\n",
    "    axarr[3].set_title('GD vs Maxvol')\n",
    "    axarr[3].set_xlabel(\"N – point number\")\n",
    "    axarr[3].set_ylabel(\"X\")\n",
    "    \n",
    "    plt.show()\n",
    "\n",
    "# approximated function\n",
    "def f(x):\n",
    "    return np.exp(x)*np.sin(x)#(x**8 - x**5 + x**3 - 1)"
   ]
  },
  {
   "cell_type": "markdown",
   "metadata": {},
   "source": [
    "\n",
    "\n",
    "    "
   ]
  },
  {
   "cell_type": "markdown",
   "metadata": {},
   "source": [
    " "
   ]
  },
  {
   "cell_type": "markdown",
   "metadata": {},
   "source": [
    "#### Workspace "
   ]
  },
  {
   "cell_type": "code",
   "execution_count": 385,
   "metadata": {
    "collapsed": false
   },
   "outputs": [],
   "source": [
    "degree = 3\n",
    "left = 1\n",
    "right = 4\n",
    "num_points = degree + 1\n",
    "\n",
    "x_0 = np.linspace(left, right, num_points) \n",
    "x_big = np.linspace(left, right, 1000000) \n",
    "\n",
    "bnds = tuple((left, right) for i in x_0)"
   ]
  },
  {
   "cell_type": "markdown",
   "metadata": {},
   "source": [
    "#### Gradient Descent"
   ]
  },
  {
   "cell_type": "code",
   "execution_count": 386,
   "metadata": {
    "collapsed": false
   },
   "outputs": [
    {
     "name": "stdout",
     "output_type": "stream",
     "text": [
      "[ 1.          1.82090474  3.51450529  4.        ] \n",
      " Cond_num =  0.0251001199327\n"
     ]
    }
   ],
   "source": [
    "res = optimize.fmin_l_bfgs_b(cond_handmade, x_0, approx_grad = 1, factr = 10.0, bounds = bnds)\n",
    "print(np.sort(res[0]), '\\n Cond_num = ', res[1])"
   ]
  },
  {
   "cell_type": "markdown",
   "metadata": {},
   "source": [
    "#### Maxvol"
   ]
  },
  {
   "cell_type": "code",
   "execution_count": 387,
   "metadata": {
    "collapsed": false,
    "scrolled": true
   },
   "outputs": [
    {
     "name": "stdout",
     "output_type": "stream",
     "text": [
      "[ 1.          1.82917983  3.17082017  4.        ] \n",
      " Cond_num =  4217.61238714\n"
     ]
    }
   ],
   "source": [
    "mat = gen_mat(x_big, degree)\n",
    "row_indx, _ = maxvol(mat, tol = 1, max_iters = 1000000)\n",
    "print(np.sort(mat[row_indx, 1]), '\\n Cond_num = ', LA.cond(mat[row_indx]))"
   ]
  },
  {
   "cell_type": "markdown",
   "metadata": {},
   "source": [
    " \n",
    " "
   ]
  },
  {
   "cell_type": "code",
   "execution_count": 388,
   "metadata": {
    "collapsed": false
   },
   "outputs": [],
   "source": [
    "#plot_and_err(np.sort(res[0]), np.sort(mat[row_indx, 1]), x_big)"
   ]
  },
  {
   "cell_type": "code",
   "execution_count": 389,
   "metadata": {
    "collapsed": false,
    "scrolled": false
   },
   "outputs": [
    {
     "data": {
      "text/plain": [
       "4571.8754800623092"
      ]
     },
     "execution_count": 389,
     "metadata": {},
     "output_type": "execute_result"
    }
   ],
   "source": [
    "LA.cond(gen_mat(np.sort(res[0]), degree))"
   ]
  },
  {
   "cell_type": "markdown",
   "metadata": {},
   "source": [
    " \n",
    " "
   ]
  },
  {
   "cell_type": "markdown",
   "metadata": {},
   "source": [
    " \n",
    " \n",
    " \n",
    " \n",
    " \n",
    " "
   ]
  },
  {
   "cell_type": "markdown",
   "metadata": {},
   "source": [
    " "
   ]
  },
  {
   "cell_type": "markdown",
   "metadata": {},
   "source": [
    "#-----------------------------------------------------------------------------------------------------------------------------------------------------------------------------------# "
   ]
  },
  {
   "cell_type": "code",
   "execution_count": 390,
   "metadata": {
    "collapsed": false
   },
   "outputs": [],
   "source": [
    "def grad_det(points):\n",
    "    A = gen_mat(points, degree)\n",
    "    grad = np.zeros(len(points))\n",
    "    B_inv = LA.inv(np.dot(A.conj().T, A))\n",
    "    for k in range(len(grad)):\n",
    "        for i in range(B_inv.shape[0]):\n",
    "            for j in range(B_inv.shape[0]):            \n",
    "                grad[k] += B_inv[j,i] * (T.deriv(T.basis(i))(points[k])*T.basis(j)(points[k]) +\n",
    "                                         T.basis(i)(points[k])*T.deriv(T.basis(j))(points[k]))\n",
    "    return -grad \n",
    "#------------------------------------------------------------------------------------------------\n",
    "def loss_det(points):\n",
    "    A = gen_mat(points, degree)\n",
    "    S = LA.svd(A, compute_uv = False)\n",
    "    #det = LA.det(np.dot(A.conj().T, A))\n",
    "    det = np.prod(S)**2\n",
    "    #print(np.dot(A.conj().T, A))\n",
    "    #print(\"det = \", det, \"\\n\")\n",
    "    #print(points)\n",
    "    #if (det < 0):\n",
    "    #    print(\"AAAA!!! = \", det)\n",
    "    #    det = 1e-10\n",
    "    return np.log(det)"
   ]
  },
  {
   "cell_type": "code",
   "execution_count": 391,
   "metadata": {
    "collapsed": false,
    "scrolled": true
   },
   "outputs": [
    {
     "name": "stdout",
     "output_type": "stream",
     "text": [
      "[ 1.  2.  3.  4.]\n"
     ]
    }
   ],
   "source": [
    "#degree = 3\n",
    "#x_0 = np.array([7,7.00001,8,9])#np.linspace(7, 9, 4) \n",
    "print(x_0)"
   ]
  },
  {
   "cell_type": "code",
   "execution_count": 392,
   "metadata": {
    "collapsed": false
   },
   "outputs": [
    {
     "data": {
      "text/plain": [
       "array([ 3.66666667,  1.        , -1.        , -3.66666667])"
      ]
     },
     "execution_count": 392,
     "metadata": {},
     "output_type": "execute_result"
    }
   ],
   "source": [
    "grad_det(x_0)"
   ]
  },
  {
   "cell_type": "code",
   "execution_count": 393,
   "metadata": {
    "collapsed": false
   },
   "outputs": [
    {
     "data": {
      "text/plain": [
       "      fun: -9.2950409852065814\n",
       " hess_inv: <4x4 LbfgsInvHessProduct with dtype=float64>\n",
       "      jac: array([  4.00000000e+00,  -1.56020974e-10,   1.57001523e-10,\n",
       "        -4.00000000e+00])\n",
       "  message: b'CONVERGENCE: NORM_OF_PROJECTED_GRADIENT_<=_PGTOL'\n",
       "     nfev: 6\n",
       "      nit: 4\n",
       "   status: 0\n",
       "  success: True\n",
       "        x: array([ 1.        ,  1.82917961,  3.17082039,  4.        ])"
      ]
     },
     "execution_count": 393,
     "metadata": {},
     "output_type": "execute_result"
    }
   ],
   "source": [
    "optimize.minimize(lambda x: -loss_det(x), x_0, jac = grad_det, bounds = bnds)"
   ]
  },
  {
   "cell_type": "code",
   "execution_count": 394,
   "metadata": {
    "collapsed": false
   },
   "outputs": [
    {
     "data": {
      "text/plain": [
       "(array([ 1.        ,  1.82917961,  3.17082039,  4.        ]),\n",
       " -9.2950409852065814,\n",
       " {'funcalls': 6,\n",
       "  'grad': array([  4.00000000e+00,  -1.56020974e-10,   1.57001523e-10,\n",
       "          -4.00000000e+00]),\n",
       "  'nit': 4,\n",
       "  'task': b'CONVERGENCE: NORM_OF_PROJECTED_GRADIENT_<=_PGTOL',\n",
       "  'warnflag': 0})"
      ]
     },
     "execution_count": 394,
     "metadata": {},
     "output_type": "execute_result"
    }
   ],
   "source": [
    "opt = optimize.fmin_l_bfgs_b(lambda x: -loss_det(x), x_0, fprime = grad_det, factr = 10.0, bounds = bnds)\n",
    "#print(np.sort(res[0]), '\\n Cond_num = ', res[1])\n",
    "opt"
   ]
  },
  {
   "cell_type": "code",
   "execution_count": 395,
   "metadata": {
    "collapsed": false
   },
   "outputs": [
    {
     "data": {
      "text/plain": [
       "10.749660301815572"
      ]
     },
     "execution_count": 395,
     "metadata": {},
     "output_type": "execute_result"
    }
   ],
   "source": [
    "optimize.check_grad(loss_det, grad_det, x_0)"
   ]
  },
  {
   "cell_type": "code",
   "execution_count": 396,
   "metadata": {
    "collapsed": false
   },
   "outputs": [
    {
     "data": {
      "text/plain": [
       "array([-3.66785713, -1.00097708,  0.99868558,  3.66647157])"
      ]
     },
     "execution_count": 396,
     "metadata": {},
     "output_type": "execute_result"
    }
   ],
   "source": [
    "optimize.approx_fprime(x_0, loss_det, epsilon = 1e-10)"
   ]
  },
  {
   "cell_type": "code",
   "execution_count": 397,
   "metadata": {
    "collapsed": false,
    "scrolled": false
   },
   "outputs": [
    {
     "data": {
      "image/png": "[encoded data removed]",
      "text/plain": [
       "<matplotlib.figure.Figure at 0x133cc76a0>"
      ]
     },
     "metadata": {},
     "output_type": "display_data"
    }
   ],
   "source": [
    "plot_and_err(np.sort(res[0]), np.sort(opt[0]), np.sort(mat[row_indx, 1]), x_big)"
   ]
  }
 ],
 "metadata": {
  "anaconda-cloud": {},
  "kernelspec": {
   "display_name": "Python [conda env:maxvol]",
   "language": "python",
   "name": "conda-env-maxvol-py"
  },
  "language_info": {
   "codemirror_mode": {
    "name": "ipython",
    "version": 3
   },
   "file_extension": ".py",
   "mimetype": "text/x-python",
   "name": "python",
   "nbconvert_exporter": "python",
   "pygments_lexer": "ipython3",
   "version": "3.5.2"
  }
 },
 "nbformat": 4,
 "nbformat_minor": 1
}
