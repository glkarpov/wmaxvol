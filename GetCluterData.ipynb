{
 "cells": [
  {
   "cell_type": "code",
   "execution_count": 17,
   "metadata": {},
   "outputs": [],
   "source": [
    "import numpy as np\n",
    "import gzip\n",
    "from sklearn.cluster import KMeans\n",
    "from scipy.optimize import linear_sum_assignment\n",
    "# from ids import *\n",
    "from block_rect_maxvol import *\n",
    "import warnings"
   ]
  },
  {
   "cell_type": "code",
   "execution_count": 2,
   "metadata": {},
   "outputs": [],
   "source": [
    "fn = 'Channel120.txt.gz'"
   ]
  },
  {
   "cell_type": "code",
   "execution_count": 23,
   "metadata": {},
   "outputs": [],
   "source": [
    "def LoadRawData(fn):\n",
    "    if fn[-3:] == '.gz':\n",
    "        op = gzip.open\n",
    "    else:\n",
    "        op = open\n",
    "        \n",
    "    with op(fn, 'r') as f:\n",
    "        data = [line.strip().split(\"\\t\") for line in f.readlines()]\n",
    "    return data\n",
    "\n",
    "def ProssData(d):\n",
    "    ans = {}\n",
    "    nums = {}\n",
    "    for l in d:\n",
    "        key = tuple(int(i) for i in l[:3])\n",
    "        num = int(l[3])\n",
    "        df = np.array([float(i) for i in l[4::2]]) + \\\n",
    "              np.array([float(i) for i in l[5::2]])*1j\n",
    "                                 \n",
    "        if key in ans:\n",
    "            ans[key].append(df)\n",
    "            nums[key].append(num)\n",
    "        else:\n",
    "            ans[key] = [df]\n",
    "            nums[key] = [num]\n",
    "\n",
    "    for key in ans:\n",
    "        # print  ans[key]\n",
    "        ans[key] = np.array(ans[key])\n",
    "        # print  ans[key]\n",
    "        \n",
    "    return ans, np.array(nums)\n",
    "\n",
    "def EqualClusters(data, num_clusters, ToReIdx=False):\n",
    "    # See https://stats.stackexchange.com/questions/8744/clustering-procedure-where-each-cluster-has-an-equal-number-of-points\n",
    "    n = data.shape[0]\n",
    "    m = n // num_clusters\n",
    "    if n != m*num_clusters:\n",
    "        # warnings.warn(\"Data will be cut\")\n",
    "        print \"Data will be cut\"\n",
    "        n = m*num_clusters\n",
    "        data = data[:n]\n",
    "    # print \"EqualClusters: {}, {}\".format(num_clusters, n)\n",
    "        \n",
    "    kmeans = KMeans(n_clusters=num_clusters, random_state=0).fit(data)\n",
    "    dst = kmeans.fit_transform(data)\n",
    "    dst2 = dst**2\n",
    "    dst = np.tile(dst2, m)\n",
    "    rr, cl = linear_sum_assignment(dst)\n",
    "    assert(np.all(rr == np.arange(n)))\n",
    "    \n",
    "    if ToReIdx:\n",
    "        cl = ReIdx(cl, num_clusters)\n",
    "        \n",
    "    return cl \n",
    "\n",
    "def ReIdx(idx, m):\n",
    "    return np.hstack((idx[i::m] for i in np.arange(m)))\n",
    "\n",
    "    "
   ]
  },
  {
   "cell_type": "code",
   "execution_count": 4,
   "metadata": {},
   "outputs": [],
   "source": [
    "d = LoadRawData(fn)\n",
    "res, nums = ProssData(d)"
   ]
  },
  {
   "cell_type": "code",
   "execution_count": 5,
   "metadata": {},
   "outputs": [
    {
     "name": "stdout",
     "output_type": "stream",
     "text": [
      "(3, 26, 3) (173, 64)\n",
      "(1, 38, 2) (144, 64)\n",
      "(5, 48, 3) (171, 64)\n",
      "(2, 33, 1) (161, 64)\n",
      "(2, 14, 2) (145, 64)\n",
      "(2, 8, 2) (145, 64)\n",
      "(2, 25, 3) (174, 64)\n",
      "(4, 39, 3) (173, 64)\n",
      "(2, 19, 3) (174, 64)\n",
      "(2, 40, 1) (161, 64)\n",
      "(1, 48, 1) (162, 64)\n"
     ]
    }
   ],
   "source": [
    "# Check first matrices data sizes\n",
    "cnt = 0\n",
    "for i in res:\n",
    "    print i, res[i].shape\n",
    "    cnt += 1\n",
    "    if cnt > 10:\n",
    "        break"
   ]
  },
  {
   "cell_type": "code",
   "execution_count": 24,
   "metadata": {},
   "outputs": [
    {
     "name": "stdout",
     "output_type": "stream",
     "text": [
      "(3, 26, 3) 173 64 21 Data will be cut\n",
      "168\n",
      "[120 121 122 123 124 125 126 127 128 129 130 131 132 133 134 135 136 137\n",
      " 138 139 140 141 142 143   0   1   2   3   4   5   6   7 160 161 162 163\n",
      " 164 165 166 167 112 113 114 115 116 117 118 119  40  41  42  43  44  45\n",
      "  46  47  88  89  90  91  92  93  94  95  64  65  66  67  68  69  70  71\n",
      "  72  73  74  75  76  77  78  79  80  81  82  83  84  85  86  87  56  57\n",
      "  58  59  60  61  62  63  96  97  98  99 100 101 102 103 104 105 106 107\n",
      " 108 109 110 111  48  49  50  51  52  53  54  55  24  25  26  27  28  29\n",
      "  30  31   8   9  10  11  12  13  14  15  16  17  18  19  20  21  22  23\n",
      " 144 145 146 147 148 149 150 151 152 153 154 155 156 157 158 159  32  33\n",
      "  34  35  36  37  38  39]\n",
      "(1, 38, 2) 144 64 18 144\n",
      "[ 40  41  42  43  44  45  46  47  16  17  18  19  20  21  22  23 136 137\n",
      " 138 139 140 141 142 143  72  73  74  75  76  77  78  79  88  89  90  91\n",
      "  92  93  94  95  48  49  50  51  52  53  54  55  56  57  58  59  60  61\n",
      "  62  63 128 129 130 131 132 133 134 135  64  65  66  67  68  69  70  71\n",
      "  24  25  26  27  28  29  30  31  80  81  82  83  84  85  86  87  32  33\n",
      "  34  35  36  37  38  39  96  97  98  99 100 101 102 103 104 105 106 107\n",
      " 108 109 110 111 112 113 114 115 116 117 118 119 120 121 122 123 124 125\n",
      " 126 127   0   1   2   3   4   5   6   7   8   9  10  11  12  13  14  15]\n",
      "(5, 48, 3) 171 64 21 Data will be cut\n",
      "168\n",
      "[104 105 106 107 108 109 110 111  80  81  82  83  84  85  86  87 120 121\n",
      " 122 123 124 125 126 127   8   9  10  11  12  13  14  15  40  41  42  43\n",
      "  44  45  46  47 144 145 146 147 148 149 150 151  16  17  18  19  20  21\n",
      "  22  23 160 161 162 163 164 165 166 167  64  65  66  67  68  69  70  71\n",
      "  72  73  74  75  76  77  78  79  24  25  26  27  28  29  30  31  88  89\n",
      "  90  91  92  93  94  95  96  97  98  99 100 101 102 103   0   1   2   3\n",
      "   4   5   6   7 112 113 114 115 116 117 118 119  48  49  50  51  52  53\n",
      "  54  55 128 129 130 131 132 133 134 135 136 137 138 139 140 141 142 143\n",
      "  56  57  58  59  60  61  62  63 152 153 154 155 156 157 158 159  32  33\n",
      "  34  35  36  37  38  39]\n",
      "(2, 33, 1) 161 64 20 Data will be cut\n",
      "160\n",
      "[ 48  49  50  51  52  53  54  55 120 121 122 123 124 125 126 127  56  57\n",
      "  58  59  60  61  62  63  80  81  82  83  84  85  86  87  24  25  26  27\n",
      "  28  29  30  31  96  97  98  99 100 101 102 103 112 113 114 115 116 117\n",
      " 118 119 104 105 106 107 108 109 110 111   0   1   2   3   4   5   6   7\n",
      "  72  73  74  75  76  77  78  79  32  33  34  35  36  37  38  39  88  89\n",
      "  90  91  92  93  94  95  40  41  42  43  44  45  46  47  16  17  18  19\n",
      "  20  21  22  23  64  65  66  67  68  69  70  71   8   9  10  11  12  13\n",
      "  14  15 128 129 130 131 132 133 134 135 136 137 138 139 140 141 142 143\n",
      " 144 145 146 147 148 149 150 151 152 153 154 155 156 157 158 159]\n",
      "(2, 14, 2) 145 64 18 Data will be cut\n",
      "144\n",
      "[136 137 138 139 140 141 142 143 104 105 106 107 108 109 110 111  16  17\n",
      "  18  19  20  21  22  23  64  65  66  67  68  69  70  71  40  41  42  43\n",
      "  44  45  46  47  80  81  82  83  84  85  86  87  24  25  26  27  28  29\n",
      "  30  31   8   9  10  11  12  13  14  15  48  49  50  51  52  53  54  55\n",
      "  72  73  74  75  76  77  78  79  32  33  34  35  36  37  38  39  88  89\n",
      "  90  91  92  93  94  95  96  97  98  99 100 101 102 103  56  57  58  59\n",
      "  60  61  62  63 112 113 114 115 116 117 118 119 120 121 122 123 124 125\n",
      " 126 127 128 129 130 131 132 133 134 135   0   1   2   3   4   5   6   7]\n",
      "(2, 8, 2) 145 64 18 Data will be cut\n",
      "144\n",
      "[128 129 130 131 132 133 134 135   0   1   2   3   4   5   6   7  32  33\n",
      "  34  35  36  37  38  39  80  81  82  83  84  85  86  87  56  57  58  59\n",
      "  60  61  62  63 112 113 114 115 116 117 118 119  16  17  18  19  20  21\n",
      "  22  23   8   9  10  11  12  13  14  15  64  65  66  67  68  69  70  71\n",
      "  72  73  74  75  76  77  78  79  24  25  26  27  28  29  30  31  88  89\n",
      "  90  91  92  93  94  95  96  97  98  99 100 101 102 103 104 105 106 107\n",
      " 108 109 110 111  40  41  42  43  44  45  46  47 120 121 122 123 124 125\n",
      " 126 127  48  49  50  51  52  53  54  55 136 137 138 139 140 141 142 143]\n"
     ]
    }
   ],
   "source": [
    "nblock = 8\n",
    "cnt = 0\n",
    "# num_clusters = 10\n",
    "for i in res:\n",
    "    A = res[i]\n",
    "    m, sz = A.shape\n",
    "    num_cl = m // nblock\n",
    "    print i, m, sz, num_cl, \n",
    "    idx = EqualClusters(A, num_cl)\n",
    "    print len(idx)\n",
    "    bm = rect_block_maxvol(A[idx], nblock-1, Kmax = sz, max_iters=100, rect_tol = 0.05, tol = 0.0, debug = False, ext_debug = False)\n",
    "    print bm\n",
    "    \n",
    "    cnt += 1\n",
    "    if cnt > 5:\n",
    "        break\n"
   ]
  },
  {
   "cell_type": "code",
   "execution_count": 47,
   "metadata": {},
   "outputs": [
    {
     "name": "stdout",
     "output_type": "stream",
     "text": [
      "[0 0 0 1 2 1]\n",
      "[3 2 0 1 5 4]\n",
      "[3 1 2 5 0 4]\n"
     ]
    }
   ],
   "source": [
    "X = np.array([[1, 2], [1, 4], [1, 0],\n",
    "               [4, 2], [4, 4], [4, 0]])\n",
    "\n",
    "kmeans = KMeans(n_clusters=3, random_state=0).fit(X)\n",
    "print kmeans.labels_\n",
    "\n",
    "print EqualClusters(X, 3, ToReIdx=False)\n",
    "print EqualClusters(X, 3, ToReIdx=True)\n"
   ]
  },
  {
   "cell_type": "code",
   "execution_count": null,
   "metadata": {
    "collapsed": true
   },
   "outputs": [],
   "source": []
  }
 ],
 "metadata": {
  "kernelspec": {
   "display_name": "Python 2",
   "language": "python",
   "name": "python2"
  },
  "language_info": {
   "codemirror_mode": {
    "name": "ipython",
    "version": 2
   },
   "file_extension": ".py",
   "mimetype": "text/x-python",
   "name": "python",
   "nbconvert_exporter": "python",
   "pygments_lexer": "ipython2",
   "version": "2.7.14"
  }
 },
 "nbformat": 4,
 "nbformat_minor": 2
}
