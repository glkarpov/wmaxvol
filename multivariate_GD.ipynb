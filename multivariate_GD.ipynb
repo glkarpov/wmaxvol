{
 "cells": [
  {
   "cell_type": "code",
   "execution_count": 163,
   "metadata": {
    "collapsed": false
   },
   "outputs": [],
   "source": [
    "import numpy as np\n",
    "import numpy.linalg as LA\n",
    "from numpy.polynomial import Chebyshev as T\n",
    "from scipy import optimize\n",
    "from maxvolpy.maxvol import rect_maxvol, maxvol\n",
    "import matplotlib.pyplot as plt\n",
    "import gen_mat as gen\n",
    "%matplotlib inline"
   ]
  },
  {
   "cell_type": "code",
   "execution_count": 164,
   "metadata": {
    "collapsed": false
   },
   "outputs": [],
   "source": [
    "def grad(points):\n",
    "    \"\"\"\n",
    "    Analytical gradient \n",
    "    INPUT\n",
    "        points – vector of points\n",
    "    OUTPUT\n",
    "        grad – gradient of log(det(A.T*A)) in points\n",
    "    \"\"\"\n",
    "    points = np.stack(np.split(points, num_of_dim),1)\n",
    "    idx = gen.indeces_K_cut(num_of_dim, num_col)\n",
    "    max_degree = np.max(idx)\n",
    "    \n",
    "    T_col_prod = np.ones((points.shape[0], len(idx)), dtype = np.float64)\n",
    "    T_deriv = np.zeros((points.shape[0]*num_of_dim, max_degree + 1), dtype = np.float64) \n",
    "    T_val = np.zeros((points.shape[0]*num_of_dim, max_degree + 1), dtype = np.float64) \n",
    "    for i in range(len(idx)):\n",
    "        for l in range(len(idx[i])):\n",
    "            T_col_prod[:, i] = np.multiply(T_col_prod[:, i], T.basis(idx[i][l])(points[:,l]))  \n",
    "    for i in range(max_degree + 1):\n",
    "        T_deriv[:, i] = T.deriv(T.basis(i))(points.T.ravel()[:])\n",
    "        T_val[:, i] = T.basis(i)(points.T.ravel()[:])\n",
    "    \n",
    "    grad = np.zeros(points.shape[0]*num_of_dim, dtype = np.float64)    \n",
    "    A = np.split(gen.GenMat(num_col, points, poly = gen.cheb, poly_diff = gen.cheb_diff), num_of_dim + 1)[0]\n",
    "    B_inv = LA.inv(np.dot(A.conj().T, A))\n",
    "    for k in range(len(grad)):\n",
    "        for i in range(B_inv.shape[0]):\n",
    "            for j in range(B_inv.shape[0]):\n",
    "                col = k//points.shape[0]\n",
    "                row = k%points.shape[0]\n",
    "                grad[k] += B_inv[j,i] * (T_col_prod[row,i]*T_col_prod[row,j]*(T_deriv[k,idx[i][col]]/T_val[k,idx[i][col]] + T_deriv[k,idx[j][col]]/T_val[k,idx[j][col]]))\n",
    "    return -grad\n",
    "                \n",
    "def loss_func(points):\n",
    "    points = np.stack(np.split(points.T.ravel(),num_of_dim),1)\n",
    "    A = np.split(gen.GenMat(num_col, points, poly = gen.cheb, poly_diff = gen.cheb_diff), num_of_dim + 1)[0]\n",
    "    S = LA.svd(A, compute_uv = False)\n",
    "    ld = 2.0*np.sum(np.log(S))\n",
    "    return ld"
   ]
  },
  {
   "cell_type": "code",
   "execution_count": 165,
   "metadata": {
    "collapsed": false
   },
   "outputs": [
    {
     "name": "stdout",
     "output_type": "stream",
     "text": [
      "Max degree =  4\n"
     ]
    }
   ],
   "source": [
    "# Workspace\n",
    "num_col = 14\n",
    "num_of_points = 14\n",
    "num_of_dim = 2\n",
    "assert num_col <= num_of_points, 'num_of_points < num_col'\n",
    "l_bound = -2\n",
    "u_bound = 2\n",
    "p = l_bound + (u_bound - l_bound)*np.random.rand(num_of_points, num_of_dim)\n",
    "x_0 = p.T.ravel()\n",
    "bnds = tuple((l_bound, u_bound) for i in np.zeros(num_of_dim*num_of_points))\n",
    "\n",
    "def f(points):\n",
    "    #return 2*np.exp(-((points[:,0]**2)/2. + (points[:,1]**2)/2. + (points[:,2]**2)/2.))\n",
    "    return (1 - points[:,0])**2 + 100*(points[:,1] - points[:,0]**2)**2\n",
    "    #return (np.sin((points[:,0]**2)/2. - (points[:,1]**2)/4. + 3) * np.cos(2*points[:,0] + 1 - np.exp(points[:,1]))) \n",
    "\n",
    "print('Max degree = ', np.max(gen.indeces_K_cut(num_of_dim, num_col)))\n",
    "\n",
    "#Rosenbrock function \n",
    "#f = (1 - P[:,0])**2 + 100*(P[:,1] - P[:,0]**2)**2\n",
    "\n",
    "#Gaussian\n",
    "#f = 2*np.exp(-((P[:,0]**2)/2. + (P[:,1]**2)/2.))\n",
    "\n",
    "#f = (1 - P[:,0]**2)*P[:,1] + P[:,1]**2"
   ]
  },
  {
   "cell_type": "code",
   "execution_count": 166,
   "metadata": {
    "collapsed": false
   },
   "outputs": [
    {
     "name": "stdout",
     "output_type": "stream",
     "text": [
      "CPU times: user 2.04 s, sys: 35.1 ms, total: 2.07 s\n",
      "Wall time: 2.07 s\n"
     ]
    }
   ],
   "source": [
    "# BFGS\n",
    "%time res = optimize.fmin_l_bfgs_b(lambda x: -loss_func(x), x_0, fprime = grad, factr = 10.0, bounds = bnds)"
   ]
  },
  {
   "cell_type": "code",
   "execution_count": 167,
   "metadata": {
    "collapsed": false
   },
   "outputs": [
    {
     "data": {
      "text/plain": [
       "1.9020477184287168e-05"
      ]
     },
     "execution_count": 167,
     "metadata": {},
     "output_type": "execute_result"
    }
   ],
   "source": [
    "# Check of the correctness of gradient calculation\n",
    "optimize.check_grad(lambda x: -loss_func(x), grad, x_0)"
   ]
  },
  {
   "cell_type": "code",
   "execution_count": 168,
   "metadata": {
    "collapsed": false
   },
   "outputs": [
    {
     "name": "stdout",
     "output_type": "stream",
     "text": [
      "Error =  3.30495903957e-15 \n",
      "\n"
     ]
    }
   ],
   "source": [
    "# Approximation error\n",
    "\n",
    "M = np.split(gen.GenMat(num_col, np.stack(np.split(res[0].T.ravel(),num_of_dim),1), poly = gen.cheb, poly_diff = gen.cheb_diff), num_of_dim + 1)[0]\n",
    "\n",
    "c = LA.solve(np.dot(M.conj().T, M), np.dot(M.conj().T, f(np.stack(np.split(res[0].T.ravel(),num_of_dim),1))))\n",
    "\n",
    "test = l_bound + (u_bound - l_bound)*np.random.rand(10000, num_of_dim)\n",
    "\n",
    "M_new = np.split(gen.GenMat(num_col, np.stack(np.split(test.T.ravel(),num_of_dim),1), poly = gen.cheb, poly_diff = gen.cheb_diff), num_of_dim + 1)[0]\n",
    "\n",
    "print(\"Error = \", LA.norm(f(test) - np.dot(M_new, c),2) / LA.norm(f(test),2), \"\\n\")"
   ]
  }
 ],
 "metadata": {
  "anaconda-cloud": {},
  "kernelspec": {
   "display_name": "Python [conda env:maxvol]",
   "language": "python",
   "name": "conda-env-maxvol-py"
  },
  "language_info": {
   "codemirror_mode": {
    "name": "ipython",
    "version": 3
   },
   "file_extension": ".py",
   "mimetype": "text/x-python",
   "name": "python",
   "nbconvert_exporter": "python",
   "pygments_lexer": "ipython3",
   "version": "3.5.2"
  }
 },
 "nbformat": 4,
 "nbformat_minor": 1
}
