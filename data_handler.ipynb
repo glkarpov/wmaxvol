{
 "cells": [
  {
   "cell_type": "code",
   "execution_count": 4,
   "metadata": {
    "collapsed": true
   },
   "outputs": [],
   "source": [
    "from __future__ import print_function\n",
    "import numpy as np\n",
    "import numpy.linalg as LA\n",
    "from scipy import optimize\n",
    "from maxvolpy.maxvol import rect_maxvol, maxvol\n",
    "import matplotlib.pyplot as plt\n",
    "from mpl_toolkits.mplot3d import Axes3D \n",
    "from matplotlib import cm\n",
    "from matplotlib.ticker import LinearLocator, FormatStrFormatter\n",
    "import gen_mat as gen\n",
    "import grad_log_det as log_det # this is a module with analytical calculation of gradient and objective \n",
    "from test_bench import test_points_gen\n",
    "#from autograd import grad\n",
    "from numba import jit, njit, prange\n",
    "from test_bench import *\n",
    "import os\n",
    "import itertools\n",
    "import fnmatch\n",
    "import re\n",
    "%matplotlib inline"
   ]
  },
  {
   "cell_type": "code",
   "execution_count": 7,
   "metadata": {
    "collapsed": true
   },
   "outputs": [],
   "source": [
    "all_files = os.listdir(\"/Users/vitaly/Downloads/maxvol-approximation/res_IPOPT/\")"
   ]
  },
  {
   "cell_type": "code",
   "execution_count": 8,
   "metadata": {
    "collapsed": true,
    "scrolled": true
   },
   "outputs": [],
   "source": [
    "cheb = []\n",
    "trigpoly = []\n",
    "herm = []\n",
    "for i in all_files:\n",
    "    if fnmatch.fnmatch(i, '*_poly=cheb*'):\n",
    "        cheb.append(i)\n",
    "    if fnmatch.fnmatch(i, '*_poly=herm_nn*'):\n",
    "        herm.append(i)\n",
    "    if fnmatch.fnmatch(i, '*_poly=trigpoly*'):\n",
    "        trigpoly.append(i)"
   ]
  },
  {
   "cell_type": "code",
   "execution_count": 9,
   "metadata": {
    "collapsed": true
   },
   "outputs": [],
   "source": [
    "srch = re.search('cols=(\\d+)_points=(\\d+)_',cheb[0])"
   ]
  },
  {
   "cell_type": "code",
   "execution_count": 10,
   "metadata": {},
   "outputs": [
    {
     "data": {
      "text/plain": [
       "'10'"
      ]
     },
     "execution_count": 10,
     "metadata": {},
     "output_type": "execute_result"
    }
   ],
   "source": [
    "srch.group(1)"
   ]
  },
  {
   "cell_type": "code",
   "execution_count": 11,
   "metadata": {
    "scrolled": true
   },
   "outputs": [
    {
     "data": {
      "text/plain": [
       "{5, 10, 15, 20, 21, 36, 37, 40, 45, 50}"
      ]
     },
     "execution_count": 11,
     "metadata": {},
     "output_type": "execute_result"
    }
   ],
   "source": [
    "{int(re.search('cols=(\\d+)_points=(\\d+)_', fn).group(1)) for fn in cheb}"
   ]
  },
  {
   "cell_type": "code",
   "execution_count": 12,
   "metadata": {
    "collapsed": true
   },
   "outputs": [],
   "source": [
    "tol = 1e-12\n",
    "def loss_func(points, num_col, poly=gen.cheb, ToGenDiff=False):\n",
    "    if (points.ndim == 1 or points.shape[1] == 1):\n",
    "        points = points.reshape(-1, dim, order='F')\n",
    "    A = gen.GenMat(num_col, points, poly=poly, ToGenDiff=ToGenDiff)\n",
    "    S = LA.svd(A, compute_uv = False)\n",
    "    S[ S < tol ] = tol\n",
    "    ld = 2.0*np.sum(np.log(S))\n",
    "    return -ld"
   ]
  },
  {
   "cell_type": "code",
   "execution_count": null,
   "metadata": {
    "scrolled": true
   },
   "outputs": [
    {
     "ename": "KeyboardInterrupt",
     "evalue": "",
     "output_type": "error",
     "traceback": [
      "\u001b[0;31m---------------------------------------------------------------------------\u001b[0m",
      "\u001b[0;31mKeyboardInterrupt\u001b[0m                         Traceback (most recent call last)",
      "\u001b[0;32m<ipython-input-13-9e4caa1b4f48>\u001b[0m in \u001b[0;36m<module>\u001b[0;34m()\u001b[0m\n\u001b[1;32m     15\u001b[0m     \u001b[0mn_pnts\u001b[0m \u001b[0;34m=\u001b[0m \u001b[0mint\u001b[0m\u001b[0;34m(\u001b[0m\u001b[0mre\u001b[0m\u001b[0;34m.\u001b[0m\u001b[0msearch\u001b[0m\u001b[0;34m(\u001b[0m\u001b[0;34m'cols=(\\d+)_points=(\\d+)_'\u001b[0m\u001b[0;34m,\u001b[0m \u001b[0mi\u001b[0m\u001b[0;34m)\u001b[0m\u001b[0;34m.\u001b[0m\u001b[0mgroup\u001b[0m\u001b[0;34m(\u001b[0m\u001b[0;36m2\u001b[0m\u001b[0;34m)\u001b[0m\u001b[0;34m)\u001b[0m\u001b[0;34m\u001b[0m\u001b[0m\n\u001b[1;32m     16\u001b[0m     \u001b[0mpnts\u001b[0m \u001b[0;34m=\u001b[0m \u001b[0mnp\u001b[0m\u001b[0;34m.\u001b[0m\u001b[0mload\u001b[0m\u001b[0;34m(\u001b[0m\u001b[0;34m\"/Users/vitaly/Downloads/maxvol-approximation/GD/\"\u001b[0m\u001b[0;34m+\u001b[0m\u001b[0mi\u001b[0m\u001b[0;34m)\u001b[0m\u001b[0;34m[\u001b[0m\u001b[0;34m'pnts'\u001b[0m\u001b[0;34m]\u001b[0m\u001b[0;34m\u001b[0m\u001b[0m\n\u001b[0;32m---> 17\u001b[0;31m     \u001b[0mbuf\u001b[0m \u001b[0;34m=\u001b[0m \u001b[0mLebesgueConst\u001b[0m\u001b[0;34m(\u001b[0m\u001b[0mpnts\u001b[0m\u001b[0;34m,\u001b[0m \u001b[0mn_col\u001b[0m\u001b[0;34m,\u001b[0m \u001b[0mpoly\u001b[0m\u001b[0;34m=\u001b[0m\u001b[0mgen\u001b[0m\u001b[0;34m.\u001b[0m\u001b[0mcheb\u001b[0m\u001b[0;34m,\u001b[0m \u001b[0mtest_pnts\u001b[0m\u001b[0;34m=\u001b[0m\u001b[0mtest_pnts\u001b[0m\u001b[0;34m,\u001b[0m \u001b[0mpow_p\u001b[0m\u001b[0;34m=\u001b[0m\u001b[0;36m1\u001b[0m\u001b[0;34m,\u001b[0m \u001b[0mfuncs\u001b[0m\u001b[0;34m=\u001b[0m\u001b[0mff\u001b[0m\u001b[0;34m)\u001b[0m\u001b[0;34m\u001b[0m\u001b[0m\n\u001b[0m\u001b[1;32m     18\u001b[0m \u001b[0;34m\u001b[0m\u001b[0m\n\u001b[1;32m     19\u001b[0m     \u001b[0mSCIPY_C_logdet\u001b[0m\u001b[0;34m[\u001b[0m\u001b[0mn_pnts\u001b[0m\u001b[0;34m,\u001b[0m\u001b[0mn_col\u001b[0m\u001b[0;34m]\u001b[0m \u001b[0;34m=\u001b[0m \u001b[0mloss_func\u001b[0m\u001b[0;34m(\u001b[0m\u001b[0mpnts\u001b[0m\u001b[0;34m,\u001b[0m \u001b[0mnum_col\u001b[0m \u001b[0;34m=\u001b[0m \u001b[0mn_col\u001b[0m\u001b[0;34m)\u001b[0m\u001b[0;34m\u001b[0m\u001b[0m\n",
      "\u001b[0;32m~/Downloads/maxvol-approximation/test_bench.py\u001b[0m in \u001b[0;36mLebesgueConst\u001b[0;34m(pnts, l, poly, test_pnts, pow_p, funcs)\u001b[0m\n\u001b[1;32m     87\u001b[0m     \u001b[0mABig\u001b[0m \u001b[0;34m=\u001b[0m \u001b[0mGenMat\u001b[0m\u001b[0;34m(\u001b[0m\u001b[0ml\u001b[0m\u001b[0;34m,\u001b[0m \u001b[0mtest_pnts\u001b[0m\u001b[0;34m,\u001b[0m \u001b[0mpoly\u001b[0m\u001b[0;34m=\u001b[0m\u001b[0mpoly\u001b[0m\u001b[0;34m,\u001b[0m \u001b[0mdebug\u001b[0m\u001b[0;34m=\u001b[0m\u001b[0;32mFalse\u001b[0m\u001b[0;34m,\u001b[0m \u001b[0mpow_p\u001b[0m\u001b[0;34m=\u001b[0m\u001b[0mpow_p\u001b[0m\u001b[0;34m,\u001b[0m \u001b[0mToGenDiff\u001b[0m\u001b[0;34m=\u001b[0m\u001b[0;32mFalse\u001b[0m\u001b[0;34m)\u001b[0m\u001b[0;34m\u001b[0m\u001b[0m\n\u001b[1;32m     88\u001b[0m     \u001b[0;31m# F = A.dot(np.linalg.solve(A.T.dot(A), ABig.T)) # Slower\u001b[0m\u001b[0;34m\u001b[0m\u001b[0;34m\u001b[0m\u001b[0m\n\u001b[0;32m---> 89\u001b[0;31m     \u001b[0mF\u001b[0m \u001b[0;34m=\u001b[0m \u001b[0mnp\u001b[0m\u001b[0;34m.\u001b[0m\u001b[0mlinalg\u001b[0m\u001b[0;34m.\u001b[0m\u001b[0mpinv\u001b[0m\u001b[0;34m(\u001b[0m\u001b[0mA\u001b[0m\u001b[0;34m)\u001b[0m\u001b[0;34m.\u001b[0m\u001b[0mT\u001b[0m\u001b[0;34m.\u001b[0m\u001b[0mdot\u001b[0m\u001b[0;34m(\u001b[0m\u001b[0mABig\u001b[0m\u001b[0;34m.\u001b[0m\u001b[0mT\u001b[0m\u001b[0;34m)\u001b[0m\u001b[0;34m\u001b[0m\u001b[0m\n\u001b[0m\u001b[1;32m     90\u001b[0m \u001b[0;34m\u001b[0m\u001b[0m\n\u001b[1;32m     91\u001b[0m     \u001b[0mmaxx\u001b[0m \u001b[0;34m=\u001b[0m \u001b[0mnp\u001b[0m\u001b[0;34m.\u001b[0m\u001b[0mmax\u001b[0m\u001b[0;34m(\u001b[0m\u001b[0mnp\u001b[0m\u001b[0;34m.\u001b[0m\u001b[0msum\u001b[0m\u001b[0;34m(\u001b[0m\u001b[0mnp\u001b[0m\u001b[0;34m.\u001b[0m\u001b[0mabs\u001b[0m\u001b[0;34m(\u001b[0m\u001b[0mF\u001b[0m\u001b[0;34m)\u001b[0m\u001b[0;34m,\u001b[0m \u001b[0maxis\u001b[0m\u001b[0;34m=\u001b[0m\u001b[0;36m0\u001b[0m\u001b[0;34m)\u001b[0m\u001b[0;34m)\u001b[0m\u001b[0;34m\u001b[0m\u001b[0m\n",
      "\u001b[0;31mKeyboardInterrupt\u001b[0m: "
     ]
    }
   ],
   "source": [
    "dim = 2\n",
    "np.random.seed(42)\n",
    "myfunc = lambda x, y : f_sincos(5*x, 5*y)\n",
    "test_pnts = test_points_gen(int(1e5), dim)\n",
    "\n",
    "ff = MakeValsAndNorms([myfunc], test_pnts)\n",
    "\n",
    "SCIPY_C_logdet = np.NaN*np.ones((79+1,50+1))\n",
    "\n",
    "SCIPY_C_lebesgue = np.NaN*np.ones((79+1,50+1))\n",
    "SCIPY_C_error = np.NaN*np.ones((79+1,50+1))\n",
    "SCIPY_C_clusters = np.NaN*np.ones((79+1,50+1))\n",
    "for i in cheb:\n",
    "    n_col = int(re.search('cols=(\\d+)_points=(\\d+)_', i).group(1))\n",
    "    n_pnts = int(re.search('cols=(\\d+)_points=(\\d+)_', i).group(2))\n",
    "    pnts = np.load(\"/Users/vitaly/Downloads/maxvol-approximation/GD/\"+i)['pnts']\n",
    "    buf = LebesgueConst(pnts, n_col, poly=gen.cheb, test_pnts=test_pnts, pow_p=1, funcs=ff)\n",
    "    \n",
    "    SCIPY_C_logdet[n_pnts,n_col] = loss_func(pnts, num_col = n_col)\n",
    "    \n",
    "    SCIPY_C_lebesgue[n_pnts,n_col] = buf[0]\n",
    "    SCIPY_C_error[n_pnts,n_col] = buf[1]\n",
    "    SCIPY_C_clusters[n_pnts,n_col] = NumOfClusters(pnts, full=False)"
   ]
  },
  {
   "cell_type": "code",
   "execution_count": null,
   "metadata": {
    "collapsed": true
   },
   "outputs": [],
   "source": [
    "dim = 2\n",
    "np.random.seed(42)\n",
    "test_pnts = test_points_gen(int(1e5), dim)\n",
    "\n",
    "ff = MakeValsAndNorms([myfunc], test_pnts)\n",
    "\n",
    "IPOPT_C_logdet = np.NaN*np.ones((79+1,50+1))\n",
    "\n",
    "IPOPT_C_lebesgue = np.NaN*np.ones((79+1,50+1))\n",
    "IPOPT_C_error = np.NaN*np.ones((79+1,50+1))\n",
    "IPOPT_C_clusters = np.NaN*np.ones((79+1,50+1))\n",
    "for i in cheb:\n",
    "    n_col = int(re.search('cols=(\\d+)_points=(\\d+)_', i).group(1))\n",
    "    n_pnts = int(re.search('cols=(\\d+)_points=(\\d+)_', i).group(2))\n",
    "    pnts = np.load(\"/Users/vitaly/Downloads/maxvol-approximation/res_IPOPT/\"+i)['pnts']\n",
    "    buf = LebesgueConst(pnts, n_col, poly=gen.cheb, test_pnts=test_pnts, pow_p=1, funcs=ff)\n",
    "\n",
    "    IPOPT_C_logdet[n_pnts,n_col] = loss_func(pnts, num_col = n_col)\n",
    "    \n",
    "    IPOPT_C_lebesgue[n_pnts,n_col] = buf[0]\n",
    "    IPOPT_C_error[n_pnts,n_col] = buf[1]\n",
    "    IPOPT_C_clusters[n_pnts,n_col] = NumOfClusters(pnts, full=False)"
   ]
  },
  {
   "cell_type": "code",
   "execution_count": 12,
   "metadata": {},
   "outputs": [
    {
     "data": {
      "image/png": "[encoded data removed]",
      "text/plain": [
       "<matplotlib.figure.Figure at 0x150c6fd1d0>"
      ]
     },
     "metadata": {},
     "output_type": "display_data"
    }
   ],
   "source": [
    "_, fig = plt.subplots(figsize=(16, 10))\n",
    "\n",
    "plt.plot(range(80),IPOPT_C_logdet[:,20],'m+', label = 'IPOPT, n_col = 45')\n",
    "plt.plot(range(80),SCIPY_C_logdet[:,20],'g^', label = 'SCIPY, n_col = 45')\n",
    "plt.xlabel('Num of points')\n",
    "plt.ylabel('log-det')\n",
    "plt.legend(ncol=1, borderaxespad=1)\n",
    "plt.grid()\n",
    "plt.savefig('/Users/vitaly/Desktop/log-det.png', pdi = 600)\n",
    "plt.show()"
   ]
  },
  {
   "cell_type": "code",
   "execution_count": 19,
   "metadata": {},
   "outputs": [
    {
     "data": {
      "image/png": "[encoded data removed]",
      "text/plain": [
       "<matplotlib.figure.Figure at 0x150c238080>"
      ]
     },
     "metadata": {},
     "output_type": "display_data"
    }
   ],
   "source": [
    "_, fig = plt.subplots(figsize=(16, 10))\n",
    "\n",
    "num_col = 40\n",
    "plt.plot(range(80),np.log10(IPOPT_C_error[:,num_col]),'m+', label = 'IPOPT, n_col = ' + str(num_col))\n",
    "plt.plot(range(80),np.log10(SCIPY_C_error[:,num_col]),'g^', label = 'SCIPY, n_col = ' + str(num_col))\n",
    "plt.xlabel('Num of points')\n",
    "plt.ylabel('log10(lebesgue)')\n",
    "plt.legend(ncol=1, borderaxespad=1)\n",
    "plt.grid()\n",
    "plt.savefig('/Users/vitaly/Desktop/lebesgue.png', pdi = 600)\n",
    "plt.show()"
   ]
  },
  {
   "cell_type": "code",
   "execution_count": null,
   "metadata": {
    "collapsed": true
   },
   "outputs": [],
   "source": [
    "_, fig = plt.subplots(figsize=(16, 10))\n",
    "\n",
    "fig = plt.imshow(IPOPT_C_error,cmap=cm.coolwarm, aspect='auto', origin='lower')\n",
    "plt.xlabel('Columns')\n",
    "plt.ylabel('Points')\n",
    "title_obj = plt.title('Error')\n",
    "plt.getp(title_obj, 'text') \n",
    "plt.colorbar(fig)\n",
    "plt.grid()\n",
    "plt.savefig('/Users/vitaly/Desktop/ipopt_error.png', pdi = 600)\n",
    "plt.show()"
   ]
  },
  {
   "cell_type": "code",
   "execution_count": null,
   "metadata": {
    "collapsed": true,
    "scrolled": false
   },
   "outputs": [],
   "source": [
    "_, fig = plt.subplots(figsize=(16, 10))\n",
    "\n",
    "fig = plt.imshow(IPOPT_C_lebesgue,cmap=cm.coolwarm, aspect='auto', origin='lower')\n",
    "plt.xlabel('Columns')\n",
    "plt.ylabel('Points')\n",
    "title_obj = plt.title('Lebesgue')\n",
    "plt.getp(title_obj, 'text') \n",
    "plt.colorbar(fig)\n",
    "plt.grid()\n",
    "plt.savefig('/Users/vitaly/Desktop/ipopt_leb.png', pdi = 600)\n",
    "plt.show()"
   ]
  },
  {
   "cell_type": "code",
   "execution_count": null,
   "metadata": {
    "collapsed": true,
    "scrolled": false
   },
   "outputs": [],
   "source": [
    "_, fig = plt.subplots(figsize=(16, 10))\n",
    "\n",
    "fig = plt.imshow(IPOPT_C_clusters,cmap=cm.coolwarm, aspect='auto', origin='lower')\n",
    "plt.xlabel('Columns')\n",
    "plt.ylabel('Points')\n",
    "title_obj = plt.title('Clusters')\n",
    "plt.getp(title_obj, 'text') \n",
    "plt.colorbar(fig)\n",
    "plt.grid()\n",
    "plt.savefig('/Users/vitaly/Desktop/ipopt_clust.png', pdi = 600)\n",
    "plt.show()"
   ]
  },
  {
   "cell_type": "code",
   "execution_count": null,
   "metadata": {
    "collapsed": true
   },
   "outputs": [],
   "source": [
    "_, fig = plt.subplots(figsize=(16, 10))\n",
    "\n",
    "plt.plot(IPOPT_C_clusters[:,10], np.log10(IPOPT_C_error[:,10]), 'm+')\n",
    "plt.plot(IPOPT_C_clusters[:,21], np.log10(IPOPT_C_error[:,21]), '^')\n",
    "plt.plot(IPOPT_C_clusters[:,36], np.log10(IPOPT_C_error[:,36]), 'bo')\n",
    "plt.plot(IPOPT_C_clusters[:,40], np.log10(IPOPT_C_error[:,45]), 'rx')\n",
    "plt.plot(IPOPT_C_clusters[:,50], np.log10(IPOPT_C_error[:,50]), 'g>')\n",
    "plt.xlabel('Clusters')\n",
    "plt.ylabel('Error')\n",
    "plt.grid()\n",
    "plt.savefig('/Users/vitaly/Desktop/ipopt_.png', pdi = 600)\n",
    "plt.show()"
   ]
  },
  {
   "cell_type": "code",
   "execution_count": null,
   "metadata": {
    "collapsed": true,
    "scrolled": false
   },
   "outputs": [],
   "source": [
    "_, fig = plt.subplots(figsize=(16, 10))\n",
    "\n",
    "plt.plot(C_lebesgue[:,10], C_error[:,10], 'm+')\n",
    "plt.xlabel('Clusters')\n",
    "plt.ylabel('Error')\n",
    "plt.grid()\n",
    "plt.show()"
   ]
  },
  {
   "cell_type": "code",
   "execution_count": null,
   "metadata": {
    "collapsed": true
   },
   "outputs": [],
   "source": [
    "leb = [C_lebesgue[x,x] for x in xrange(51)]"
   ]
  },
  {
   "cell_type": "code",
   "execution_count": null,
   "metadata": {
    "collapsed": true
   },
   "outputs": [],
   "source": [
    "_, fig = plt.subplots(figsize=(16, 10))\n",
    "plt.plot(xrange(51), np.log(leb), 'go', xrange(51), np.log(leb_lhs), 'rx')\n",
    "plt.grid()\n",
    "plt.xlabel('Columns')\n",
    "plt.ylabel('Lebesgue Constant')\n",
    "title_obj = plt.title('L(N_col)')\n",
    "plt.getp(title_obj, 'text')\n",
    "plt.savefig('/Users/vitaly/Desktop/lebesgue_LHS_.png', pdi = 600)\n",
    "plt.show()"
   ]
  },
  {
   "cell_type": "code",
   "execution_count": 1,
   "metadata": {},
   "outputs": [
    {
     "ename": "NameError",
     "evalue": "name 'np' is not defined",
     "output_type": "error",
     "traceback": [
      "\u001b[0;31m---------------------------------------------------------------------------\u001b[0m",
      "\u001b[0;31mNameError\u001b[0m                                 Traceback (most recent call last)",
      "\u001b[0;32m<ipython-input-1-0a779002d358>\u001b[0m in \u001b[0;36m<module>\u001b[0;34m()\u001b[0m\n\u001b[0;32m----> 1\u001b[0;31m \u001b[0mleb_lhs\u001b[0m \u001b[0;34m=\u001b[0m \u001b[0mnp\u001b[0m\u001b[0;34m.\u001b[0m\u001b[0mNaN\u001b[0m\u001b[0;34m*\u001b[0m\u001b[0mnp\u001b[0m\u001b[0;34m.\u001b[0m\u001b[0mones\u001b[0m\u001b[0;34m(\u001b[0m\u001b[0;36m51\u001b[0m\u001b[0;34m)\u001b[0m\u001b[0;34m\u001b[0m\u001b[0m\n\u001b[0m\u001b[1;32m      2\u001b[0m \u001b[0mnp\u001b[0m\u001b[0;34m.\u001b[0m\u001b[0mrandom\u001b[0m\u001b[0;34m.\u001b[0m\u001b[0mseed\u001b[0m\u001b[0;34m(\u001b[0m\u001b[0;36m42\u001b[0m\u001b[0;34m)\u001b[0m\u001b[0;34m\u001b[0m\u001b[0m\n\u001b[1;32m      3\u001b[0m \u001b[0mtest_pnts\u001b[0m \u001b[0;34m=\u001b[0m \u001b[0mtest_points_gen\u001b[0m\u001b[0;34m(\u001b[0m\u001b[0mint\u001b[0m\u001b[0;34m(\u001b[0m\u001b[0;36m1e5\u001b[0m\u001b[0;34m)\u001b[0m\u001b[0;34m,\u001b[0m \u001b[0mdim\u001b[0m\u001b[0;34m)\u001b[0m\u001b[0;34m\u001b[0m\u001b[0m\n\u001b[1;32m      4\u001b[0m \u001b[0;32mfor\u001b[0m \u001b[0mcol\u001b[0m \u001b[0;32min\u001b[0m \u001b[0mxrange\u001b[0m\u001b[0;34m(\u001b[0m\u001b[0;36m5\u001b[0m\u001b[0;34m,\u001b[0m\u001b[0;36m56\u001b[0m\u001b[0;34m)\u001b[0m\u001b[0;34m:\u001b[0m\u001b[0;34m\u001b[0m\u001b[0m\n\u001b[1;32m      5\u001b[0m     \u001b[0mx_0\u001b[0m \u001b[0;34m=\u001b[0m \u001b[0mtest_points_gen\u001b[0m\u001b[0;34m(\u001b[0m\u001b[0mcol\u001b[0m\u001b[0;34m,\u001b[0m \u001b[0mdim\u001b[0m\u001b[0;34m,\u001b[0m \u001b[0mdistrib\u001b[0m\u001b[0;34m=\u001b[0m\u001b[0;34m'LHS'\u001b[0m\u001b[0;34m)\u001b[0m\u001b[0;34m\u001b[0m\u001b[0m\n",
      "\u001b[0;31mNameError\u001b[0m: name 'np' is not defined"
     ]
    }
   ],
   "source": [
    "leb_lhs = np.NaN*np.ones(51)\n",
    "np.random.seed(42)\n",
    "test_pnts = test_points_gen(int(1e5), dim)\n",
    "for col in xrange(5,56):\n",
    "    x_0 = test_points_gen(col, dim, distrib='LHS')\n",
    "    leb_lhs[col-5] = LebesgueConst(x_0, col, poly=gen.cheb, test_pnts=test_pnts, pow_p=1)"
   ]
  },
  {
   "cell_type": "code",
   "execution_count": null,
   "metadata": {
    "collapsed": true
   },
   "outputs": [],
   "source": [
    "#_, fig = plt.subplots(figsize=(16, 10))\n",
    "scipy_pnts = np.load(\"/Users/vitaly/Downloads/maxvol-approximation/GD/cols=20_points=22_poly=cheb.npz\")['pnts']\n",
    "ipopt_pnts = np.load(\"/Users/vitaly/Downloads/maxvol-approximation/res_IPOPT/cols=20_points=22_poly=cheb.npz\")['pnts']                            "
   ]
  },
  {
   "cell_type": "code",
   "execution_count": null,
   "metadata": {
    "collapsed": true
   },
   "outputs": [],
   "source": [
    "_, fig = plt.subplots(figsize=(16, 10))\n",
    "plt.plot(scipy_pnts[:,0], scipy_pnts[:,1], 'g^')\n",
    "plt.plot(ipopt_pnts[:,0], ipopt_pnts[:,1], 'ro')\n",
    "plt.grid()\n",
    "plt.savefig('/Users/vitaly/Desktop/samples.png', pdi = 800)\n",
    "plt.show()"
   ]
  },
  {
   "cell_type": "code",
   "execution_count": null,
   "metadata": {
    "collapsed": true
   },
   "outputs": [],
   "source": [
    "scipy_pnts"
   ]
  },
  {
   "cell_type": "code",
   "execution_count": null,
   "metadata": {
    "collapsed": true
   },
   "outputs": [],
   "source": [
    "NumOfClusters(scipy_pnts, full=True)"
   ]
  },
  {
   "cell_type": "code",
   "execution_count": null,
   "metadata": {
    "collapsed": true
   },
   "outputs": [],
   "source": [
    "scipy_pnts[19]"
   ]
  }
 ],
 "metadata": {
  "kernelspec": {
   "display_name": "Python 3",
   "language": "python",
   "name": "python3"
  },
  "language_info": {
   "codemirror_mode": {
    "name": "ipython",
    "version": 3
   },
   "file_extension": ".py",
   "mimetype": "text/x-python",
   "name": "python",
   "nbconvert_exporter": "python",
   "pygments_lexer": "ipython3",
   "version": "3.6.4"
  }
 },
 "nbformat": 4,
 "nbformat_minor": 2
}
