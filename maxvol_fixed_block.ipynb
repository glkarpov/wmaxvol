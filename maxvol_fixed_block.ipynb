{
 "cells": [
  {
   "cell_type": "markdown",
   "metadata": {},
   "source": [
    "Idea is that we couple rows accorded to function values and its derivative. Then let all matrix consist of non-interchanging ${2 \\times 2}$ blocks. And consider these blocks as original elements. Lets state for that case: We call $r \\times r$ submatrix $\\hat A$ of rectangular $N  \\times r$ full rank matrix $A$ dominant, if all the coupled ${2 \\times 2}$ entries of $C$ have determinant not greater than 1 in modulus. And so if we manage to find such entry, say, $c(C)$ that $det|c| > 1$, we can construct new submatrix with volume larger than volume of current top submatrix (for example, by swapping couple of rows) and place it in the top of matrix $A$. It is asked to feed algorithm with preprocessed matrix, containing rows in specific pairs. Then change these couple of rows one by one with SWM formula, if block with determinant module more than 1 found. "
   ]
  },
  {
   "cell_type": "code",
   "execution_count": 8,
   "metadata": {
    "collapsed": false
   },
   "outputs": [],
   "source": [
    "import numpy as np\n",
    "from maxvolpy.maxvol import maxvol\n",
    "from numpy.polynomial import Chebyshev as T\n",
    "import numpy.linalg as la\n",
    "import matplotlib.pyplot as plt\n",
    "import blocked_maxvol\n",
    "%matplotlib inline"
   ]
  },
  {
   "cell_type": "code",
   "execution_count": 17,
   "metadata": {
    "collapsed": false
   },
   "outputs": [],
   "source": [
    "\n",
    "# this function approximates set of points (arr, rhs) with linear combination of either Chebyshev polynomials or monomials\n",
    "'''\n",
    "Input:\n",
    "x – all the points\n",
    "f – right hand side values f(x)\n",
    "degree – highest degree of appr polynomial\n",
    "dom – interval of x\n",
    "'''\n",
    "def approx(arr, rhs, degree, dom):\n",
    "    num_of_points = degree + 1\n",
    "    \n",
    "    A = np.zeros((2*len(arr), num_of_points), dtype = np.float64) # Matrix of function values\n",
    "    \n",
    "    for j in range(num_of_points):\n",
    "        for i in np.arange(0, 2*len(arr), 2):\n",
    "            A[i, j] = T.basis(j)(arr[i/2])\n",
    "            #A[i + 1, j] = np.polynomial.chebyshev.chebval(arr[i/2], np.array(T.basis(j).deriv().coef))\n",
    "            A[i + 1, j] = T.basis(j).deriv(1)(arr[i/2])\n",
    "    #np.set_printoptions(precision=2)\n",
    "    #print(A,'\\n', A.shape, np.linalg.matrix_rank(A)) \n",
    "    print(A.shape,'\\n', np.linalg.matrix_rank(A)) \n",
    "    \n",
    "    row_indx = np.sort(blocked_maxvol.block_maxvol(A))\n",
    "        \n",
    "    # solution \n",
    "    c = np.linalg.solve(A[row_indx], rhs[row_indx])\n",
    "    f_appr = np.polynomial.chebyshev.chebval(arr, c)  \n",
    "    \n",
    "    print(arr.shape, f_appr.shape, rhs.shape, row_indx.shape)\n",
    "    \n",
    "    row_indx = [int(row_indx[i]/2) for i in range(len(row_indx))] \n",
    "    print (row_indx[::2])\n",
    "    \n",
    "    # draw\n",
    "    plt.plot(arr, rhs[::2], 'b', arr, f_appr, 'r--', arr[row_indx[::2]], rhs[row_indx[::2]], 'go')\n",
    "    plt.grid()\n",
    "\n",
    "    plt.show()\n",
    "    \n",
    "    # error\n",
    "    print('Error_'  ' = ', la.norm(rhs[::2] - f_appr, 2) / la.norm(rhs[::2], 2))"
   ]
  },
  {
   "cell_type": "code",
   "execution_count": 18,
   "metadata": {
    "collapsed": false
   },
   "outputs": [
    {
     "name": "stderr",
     "output_type": "stream",
     "text": [
      "/home/glebsg/miniconda2/envs/maxvol/lib/python3.6/site-packages/ipykernel/__main__.py:15: VisibleDeprecationWarning: using a non-integer number instead of an integer will result in an error in the future\n",
      "/home/glebsg/miniconda2/envs/maxvol/lib/python3.6/site-packages/ipykernel/__main__.py:16: VisibleDeprecationWarning: using a non-integer number instead of an integer will result in an error in the future\n",
      "/home/glebsg/miniconda2/envs/maxvol/lib/python3.6/site-packages/ipykernel/__main__.py:18: VisibleDeprecationWarning: using a non-integer number instead of an integer will result in an error in the future\n",
      "/home/glebsg/miniconda2/envs/maxvol/lib/python3.6/site-packages/ipykernel/__main__.py:20: VisibleDeprecationWarning: using a non-integer number instead of an integer will result in an error in the future\n"
     ]
    },
    {
     "name": "stdout",
     "output_type": "stream",
     "text": [
      "(1200, 10) \n",
      " 10\n"
     ]
    },
    {
     "name": "stderr",
     "output_type": "stream",
     "text": [
      "/home/glebsg/Documents/EMMA/maxvol-approximation/blocked_maxvol.py:13: VisibleDeprecationWarning: using a non-integer number instead of an integer will result in an error in the future\n",
      "  det = np.zeros([y/2,x/2])\n",
      "/home/glebsg/Documents/EMMA/maxvol-approximation/blocked_maxvol.py:17: VisibleDeprecationWarning: using a non-integer number instead of an integer will result in an error in the future\n",
      "  det[i/2, j/2] = np.linalg.det(temp_mat)\n"
     ]
    },
    {
     "name": "stdout",
     "output_type": "stream",
     "text": [
      "[   0    1    2    3 1000 1001 1040 1041    8    9]\n",
      "(600,) (600,) (1200,) (10,)\n",
      "[0, 1, 4, 500, 520]\n"
     ]
    },
    {
     "data": {
      "image/png": "[encoded data removed]",
      "text/plain": [
       "<matplotlib.figure.Figure at 0x7fec3b4db390>"
      ]
     },
     "metadata": {},
     "output_type": "display_data"
    },
    {
     "name": "stdout",
     "output_type": "stream",
     "text": [
      "Error_ =  0.0306856255221\n"
     ]
    }
   ],
   "source": [
    "# let's test our approx function here\n",
    "n = 600     # number of sampling points   \n",
    "deg = 9      # degree of polynomial          \n",
    "interval = [-2, 2]  # interval of x\n",
    "x = np.linspace(interval[0], interval[1], n, dtype=np.float64) \n",
    "#f = 1/(x**2 + 1)  # function we want to approximate\n",
    "# f = 2x^5 - 5x^4 + 2x - 1\n",
    "# f' = 10x^4 - 20x^3 + 2\n",
    "f = np.zeros(2*len(x), dtype=np.float64)\n",
    "for cou in np.arange(0, 2*len(x), 2):\n",
    "    #f[cou] = 2*x[cou/2]**7 - 5*x[cou/2]**4 + 2*x[cou/2] - 1\n",
    "    #f[cou + 1] = 14*x[cou/2]**6 - 20*x[cou/2]**3 + 2\n",
    "    #f[cou] = 1/(x[cou/2]**2 + 1)\n",
    "    #f[cou+1] = -2*x[cou/2]/((x[cou/2]**2 + 1)**2)\n",
    "    f[cou] = np.exp(-x[cou/2])*(np.sin(x[cou/2]))**2\n",
    "    f[cou + 1] = np.exp(-x[cou/2])*np.sin(x[cou/2])*(2*np.cos(x[cou/2]) - np.sin(x[cou/2]))\n",
    "\n",
    "approx(x, f, degree = deg, dom = interval)\n"
   ]
  },
  {
   "cell_type": "code",
   "execution_count": null,
   "metadata": {
    "collapsed": true
   },
   "outputs": [],
   "source": []
  },
  {
   "cell_type": "code",
   "execution_count": null,
   "metadata": {
    "collapsed": true
   },
   "outputs": [],
   "source": []
  }
 ],
 "metadata": {
  "anaconda-cloud": {},
  "kernelspec": {
   "display_name": "Python 3",
   "language": "python",
   "name": "python3"
  },
  "language_info": {
   "codemirror_mode": {
    "name": "ipython",
    "version": 3
   },
   "file_extension": ".py",
   "mimetype": "text/x-python",
   "name": "python",
   "nbconvert_exporter": "python",
   "pygments_lexer": "ipython3",
   "version": "3.6.0"
  }
 },
 "nbformat": 4,
 "nbformat_minor": 2
}
