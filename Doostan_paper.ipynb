{
 "cells": [
  {
   "cell_type": "code",
   "execution_count": 1,
   "metadata": {},
   "outputs": [],
   "source": [
    "import warnings\n",
    "warnings.simplefilter(\"ignore\")\n",
    "\n",
    "import numpy as np\n",
    "import numpy.linalg as LA\n",
    "from scipy import optimize\n",
    "from maxvolpy.maxvol import rect_maxvol, maxvol\n",
    "import matplotlib.pyplot as plt\n",
    "from numba import jit, prange\n",
    "from tqdm import tqdm\n",
    "\n",
    "import grad_log_det as log_det\n",
    "import gen_mat as gen\n",
    "from mva_test import test_points_gen\n",
    "\n",
    "%matplotlib inline"
   ]
  },
  {
   "cell_type": "code",
   "execution_count": 2,
   "metadata": {},
   "outputs": [],
   "source": [
    "tol = 1e-12\n",
    "\n",
    "# This is log-det of A.T@A\n",
    "def D_optimality(A):\n",
    "    S = LA.svd(A, compute_uv=False)\n",
    "    S[S < tol] = tol\n",
    "    ld = 2.0*np.sum(np.log(S))\n",
    "    return ld"
   ]
  },
  {
   "cell_type": "code",
   "execution_count": 3,
   "metadata": {},
   "outputs": [],
   "source": [
    "def log_det_update(current_inv, current_det, new_row):\n",
    "    updated_det = current_det + np.log((1+new_row@current_inv@new_row.T))\n",
    "    return updated_det\n",
    "    \n",
    "def inv_update(current_inv, new_row):\n",
    "    updated_inv = current_inv - (1/(1+new_row@current_inv@new_row.T))*(current_inv@new_row.T)@new_row@current_inv\n",
    "    return updated_inv"
   ]
  },
  {
   "cell_type": "code",
   "execution_count": 4,
   "metadata": {},
   "outputs": [],
   "source": [
    "# This is with fast rank-1 update of determinant and matrix inverse\n",
    "\n",
    "@jit(parallel=True, nogil = True)\n",
    "def Algorithm_1_fast(A, N, criterion):\n",
    "    N_candidate, P = A.shape\n",
    "    I = []\n",
    "    J = []\n",
    "    current_inv = 1\n",
    "    current_det = 1\n",
    "    for n in range(N):\n",
    "        if n < P:\n",
    "            J.append(n) \n",
    "        \n",
    "        if n >= P:\n",
    "            current_max = -np.inf\n",
    "            i_cand = 0\n",
    "            for i in list(set(range(N_candidate)) - set(I)):\n",
    "                I.append(i)\n",
    "                current_d = log_det_update(current_inv, current_det, A[i,:].reshape(1,-1))\n",
    "                if current_d > current_max:\n",
    "                    current_max = current_d\n",
    "                    i_cand = I.pop()\n",
    "                    continue\n",
    "                I.pop()\n",
    "            I.append(i_cand)\n",
    "            current_inv = inv_update(current_inv, A[i_cand,:].reshape(1,-1))\n",
    "            current_det = current_max\n",
    "            continue\n",
    "            \n",
    "        \n",
    "        current_max = -np.inf\n",
    "        i_cand = 0\n",
    "        for i in list(set(range(N_candidate)) - set(I)):\n",
    "            I.append(i)\n",
    "            current_d = criterion(A[np.ix_(I, J)])      \n",
    "            if current_d > current_max:\n",
    "                current_max = current_d\n",
    "                i_cand = I.pop()\n",
    "                continue\n",
    "            I.pop()\n",
    "        I.append(i_cand)\n",
    "        \n",
    "        if n == P-1:\n",
    "            current_inv = LA.inv(A[np.ix_(I, J)].T@A[np.ix_(I, J)])\n",
    "            current_det = criterion(A[np.ix_(I, J)])\n",
    "    return I"
   ]
  },
  {
   "cell_type": "code",
   "execution_count": 7,
   "metadata": {},
   "outputs": [],
   "source": [
    "# This is slow version WITHOUT rank-1 updates\n",
    "@jit(parallel=True, nogil = True)\n",
    "def Algorithm_1(A, N, criterion):\n",
    "    N_candidate, P = A.shape\n",
    "    I = []\n",
    "    J = []\n",
    "    for n in range(N):\n",
    "        if n < P:\n",
    "            J.append(n)\n",
    "        current_max = -np.inf\n",
    "        i_cand = 0\n",
    "        for i in list(set(range(N_candidate)) - set(I)):\n",
    "            I.append(i)\n",
    "            current_d = criterion(A[np.ix_(I, J)])\n",
    "            if current_d > current_max:\n",
    "                current_max = current_d\n",
    "                i_cand = I.pop()\n",
    "                continue\n",
    "            I.pop()\n",
    "        I.append(i_cand)\n",
    "    return I"
   ]
  },
  {
   "cell_type": "code",
   "execution_count": 8,
   "metadata": {},
   "outputs": [],
   "source": [
    "def GD_points(num_col=50, num_points=54, num_tries=1, interval=(-1.0,1.0), poly=gen.legendre):\n",
    "    log_det.num_col = num_col\n",
    "    log_det.dim = dim  \n",
    "    bnds = (interval,) * (dim*num_points)\n",
    "    dstrs = ['LHS']\n",
    "        \n",
    "    loss_f = lambda x: log_det.loss_func(x, poly=poly, ToGenDiff=False)\n",
    "    loss_grad = lambda x: log_det.grad(x, poly=poly)\n",
    "    res = np.inf\n",
    "    for distrib in dstrs:\n",
    "        for _ in range(num_tries):\n",
    "            x_0 = test_points_gen(num_points, dim, interval=interval, distrib=distrib) # starting point of GD\n",
    "            x_0 = x_0.ravel('F')\n",
    "            op = optimize.fmin_l_bfgs_b(loss_f, x_0, fprime = loss_grad, factr = 10.0, bounds = bnds)\n",
    "            res_cur = op[1]\n",
    "            if res_cur < res:\n",
    "                res = res_cur\n",
    "                pnts = op[0]\n",
    "            \n",
    "    pnts = pnts.reshape(pnts.size//dim, dim, order=\"F\")             \n",
    "    return pnts"
   ]
  },
  {
   "cell_type": "code",
   "execution_count": 9,
   "metadata": {},
   "outputs": [],
   "source": [
    "def error(f, f_tilda):\n",
    "    return LA.norm(f-f_tilda,2)/LA.norm(f,2)"
   ]
  },
  {
   "cell_type": "code",
   "execution_count": 10,
   "metadata": {},
   "outputs": [],
   "source": [
    "def rhs(A, c, noise=False):\n",
    "    if noise:\n",
    "        return A@c + 0.03*abs(A@c)*np.random.randn(A.shape[0],1) \n",
    "    return A@c"
   ]
  },
  {
   "cell_type": "code",
   "execution_count": 11,
   "metadata": {},
   "outputs": [
    {
     "name": "stderr",
     "output_type": "stream",
     "text": [
      "100%|██████████| 60/60 [00:07<00:00,  7.63it/s]\n",
      "100%|██████████| 60/60 [00:01<00:00, 58.61it/s]\n",
      "100%|██████████| 60/60 [00:01<00:00, 36.42it/s]\n",
      "100%|██████████| 60/60 [00:02<00:00, 24.77it/s]\n",
      "100%|██████████| 60/60 [00:03<00:00, 18.81it/s]\n",
      "100%|██████████| 60/60 [00:04<00:00, 13.73it/s]\n",
      "100%|██████████| 60/60 [00:05<00:00, 10.86it/s]\n",
      "100%|██████████| 60/60 [00:06<00:00,  8.81it/s]\n",
      "100%|██████████| 60/60 [00:09<00:00,  6.65it/s]\n",
      "100%|██████████| 60/60 [00:10<00:00,  5.84it/s]\n"
     ]
    }
   ],
   "source": [
    "np.random.seed(33)\n",
    "\n",
    "p = 2\n",
    "d = 2\n",
    "dim = d\n",
    "interval = (-1.,1.)\n",
    "P = gen.binom_sh(p=p,l=d)\n",
    "N_div_P = np.arange(1,11)\n",
    "\n",
    "c_true = np.array([np.random.randn() for x in range(P)]).reshape((-1,1))\n",
    "\n",
    "errors = []\n",
    "errors_al = []\n",
    "\n",
    "for N in N_div_P:\n",
    "    N = N*P\n",
    "    N_c = 4*N\n",
    "    \n",
    "    errors_maxvol = []\n",
    "    errors_gd = []\n",
    "    errors_algo = []\n",
    "\n",
    "    for i in tqdm(range(60)):\n",
    "        pnts_test = test_points_gen(int(1e4), d, interval=interval, distrib='random')\n",
    "        Phi_test = gen.GenMat(P, pnts_test, poly=gen.legendre, ToGenDiff=False)\n",
    "        rhs_test = rhs(Phi_test, c_true)\n",
    "              \n",
    "        pnts = test_points_gen(N_c, d, interval=interval, distrib='random')\n",
    "        Phi_c = gen.GenMat(P, pnts, poly=gen.legendre, ToGenDiff=False)\n",
    "\n",
    "#         points_GD = GD_points(num_col=P, num_points=N, num_tries=1, interval=(-1.0,1.0), poly=gen.legendre)\n",
    "        \n",
    "        rows_maxvol,_ = rect_maxvol(Phi_c, tol = 1.01, minK = N, maxK = N)\n",
    "        rows_algo = Algorithm_1_fast(Phi_c, N, D_optimality)\n",
    "\n",
    "        f_train_maxvol = rhs(Phi_c[rows_maxvol],c_true,noise=True)\n",
    "#         f_train_gd = rhs(gen.GenMat(P, points_GD, poly=gen.legendre, ToGenDiff=False),c_true,noise=True)\n",
    "        f_train_algo = rhs(Phi_c[rows_algo],c_true,noise=True)\n",
    "\n",
    "        c_approx_maxvol = LA.lstsq(Phi_c[rows_maxvol], f_train_maxvol, rcond=-1)[0]\n",
    "#         c_approx_gd = LA.lstsq(gen.GenMat(P, points_GD, poly=gen.legendre, ToGenDiff=False), f_train_gd, rcond=-1)[0]\n",
    "        c_approx_algo = LA.lstsq(Phi_c[rows_algo], f_train_algo, rcond=-1)[0]\n",
    "        \n",
    "        # Uncomment for LHS\n",
    "#         pnts = test_points_gen(N, d, interval=interval, distrib='LHS')\n",
    "#         Phi_c = gen.GenMat(P, pnts, poly=gen.legendre, ToGenDiff=False)\n",
    "#         f_train_maxvol = rhs(Phi_c,c_true,noise=True)\n",
    "#         c_approx_maxvol = LA.lstsq(Phi_c, f_train_maxvol, rcond=-1)[0]\n",
    "\n",
    "        errors_maxvol.append(error(rhs_test, Phi_test@c_approx_maxvol) <= 0.02)\n",
    "#         errors_gd.append(error(rhs_test, Phi_test@c_approx_gd) <= 0.02)\n",
    "        errors_algo.append(error(rhs_test, Phi_test@c_approx_algo) <= 0.02)\n",
    "#     print(mean(errors_maxvol), std(errors_maxvol))\n",
    "    errors.append(sum(errors_maxvol)/len(errors_maxvol))\n",
    "#     errors_al.append(sum(errors_gd)/len(errors_gd))\n",
    "    errors_al.append(sum(errors_algo)/len(errors_algo))"
   ]
  },
  {
   "cell_type": "code",
   "execution_count": 13,
   "metadata": {},
   "outputs": [
    {
     "data": {
      "image/png": "[encoded data removed]",
      "text/plain": [
       "<matplotlib.figure.Figure at 0x7f86c9efc400>"
      ]
     },
     "metadata": {
      "needs_background": "light"
     },
     "output_type": "display_data"
    }
   ],
   "source": [
    "plt.figure(figsize=(10,8), dpi=100)\n",
    "\n",
    "plt.plot(N_div_P, errors, 'darkorange', marker=11, label='Maxvol')\n",
    "plt.plot(N_div_P, errors_al, 'darkred', marker=9, label='Algorithm 1')\n",
    "plt.xlabel('N/P')\n",
    "plt.ylabel('Probability of success')\n",
    "plt.xlim(1,10)\n",
    "plt.ylim(0,1.005)\n",
    "plt.legend()\n",
    "plt.show()"
   ]
  }
 ],
 "metadata": {
  "hide_input": false,
  "kernelspec": {
   "display_name": "Python 3",
   "language": "python",
   "name": "python3"
  },
  "language_info": {
   "codemirror_mode": {
    "name": "ipython",
    "version": 3
   },
   "file_extension": ".py",
   "mimetype": "text/x-python",
   "name": "python",
   "nbconvert_exporter": "python",
   "pygments_lexer": "ipython3",
   "version": "3.6.8"
  }
 },
 "nbformat": 4,
 "nbformat_minor": 2
}
