{
 "cells": [
  {
   "cell_type": "code",
   "execution_count": null,
   "metadata": {
    "collapsed": true
   },
   "outputs": [],
   "source": [
    "import numpy as np\n",
    "from maxvolpy.maxvol import maxvol\n",
    "from numpy.polynomial import Chebyshev as T\n",
    "import numpy.linalg as la\n",
    "import matplotlib.pyplot as plt\n",
    "from scipy.linalg import lu as lu\n",
    "from gen_mat import *\n",
    "from block_rect_maxvol import *\n",
    "import scipy.linalg\n",
    "%matplotlib inline"
   ]
  },
  {
   "cell_type": "code",
   "execution_count": null,
   "metadata": {
    "collapsed": true
   },
   "outputs": [],
   "source": [
    "nder = 2 # dimension\n",
    "n = 300 # number of points\n",
    "n_test = 5000 #points on test grid\n",
    "p_size = (nder+1)*4 #number of monoms (number of columns)\n",
    "interval = [-1, 1]  # interval of x_test\n",
    "x = np.random.rand(n, nder)\n",
    "x_test = np.random.rand(n_test,nder)"
   ]
  },
  {
   "cell_type": "code",
   "execution_count": null,
   "metadata": {},
   "outputs": [],
   "source": [
    "c = GenMat(p_size, x,poly=cheb, poly_diff=cheb_diff, debug=False,pow_p=1)\n",
    "# c = GenMat(p_size, x, poly=trigpoly, poly_diff=trigpoly_diff, debug=False, pow_p=1)\n",
    "print c.shape\n",
    "# turn matrix to the block structure\n",
    "A = matrix_prep(c,nder+1,n)\n",
    "print A.shape"
   ]
  },
  {
   "cell_type": "code",
   "execution_count": null,
   "metadata": {
    "collapsed": true
   },
   "outputs": [],
   "source": [
    "### returns 2 values - function on domain, and block structured\n",
    "def rhs(points, nder, mode = 'gauss'):\n",
    "    block_rhs = np.zeros((nder+1)*(points.shape[0]))\n",
    "    func = 2*np.exp(-((points[:,0]**2)/2. + (points[:,1]**2)/2.))# + (points[:,2]**2)/2.)) # Gaussian\n",
    "    for i in range(points.shape[0]):\n",
    "        block_rhs[i*(nder+1)] = func[i]\n",
    "        for j in range(nder):\n",
    "            block_rhs[i*(nder+1)+j+1] = -1*(points[i,j])*func[i]\n",
    "    return func, block_rhs     "
   ]
  },
  {
   "cell_type": "markdown",
   "metadata": {},
   "source": [
    "#### Information about initial matrix"
   ]
  },
  {
   "cell_type": "code",
   "execution_count": null,
   "metadata": {
    "collapsed": true
   },
   "outputs": [],
   "source": [
    "print la.det(A[:A.shape[1]])\n",
    "print la.matrix_rank(A)\n",
    "_,s,_ = scipy.linalg.svd(A)\n",
    "print s\n",
    "\n",
    "piv,_ = maxvol(A)\n",
    "print piv\n",
    "print la.det(A[piv])"
   ]
  },
  {
   "cell_type": "markdown",
   "metadata": {},
   "source": [
    "#### Rectangular block maxvol"
   ]
  },
  {
   "cell_type": "code",
   "execution_count": null,
   "metadata": {
    "collapsed": true
   },
   "outputs": [],
   "source": [
    "k = 18 ### number of rows for LSM\n",
    "assert k//(nder+1)!=0\n",
    "assert (k>=A.shape[1])\n",
    "a,b,final_piv,d,e = rect_block_maxvol(A, nder, Kmax = k, max_iters=100, rect_tol = 0.05, tol = 0.0, debug = False, ext_debug = True)"
   ]
  },
  {
   "cell_type": "code",
   "execution_count": null,
   "metadata": {
    "collapsed": true
   },
   "outputs": [],
   "source": [
    "### solve LSM\n",
    "f,t = rhs(x,nder)\n",
    "A_test = GenMat(p_size, x_test,poly=cheb, poly_diff=cheb_diff, debug=False,pow_p=1)"
   ]
  },
  {
   "cell_type": "code",
   "execution_count": null,
   "metadata": {
    "collapsed": true
   },
   "outputs": [],
   "source": [
    "### Take number of rows that we really need\n",
    "c = final_piv[:k]"
   ]
  },
  {
   "cell_type": "code",
   "execution_count": null,
   "metadata": {
    "collapsed": true
   },
   "outputs": [],
   "source": [
    "c_block, res_x, rank, s = np.linalg.lstsq(A[c],t[c])"
   ]
  },
  {
   "cell_type": "code",
   "execution_count": null,
   "metadata": {
    "collapsed": true
   },
   "outputs": [],
   "source": [
    "taken_p = x[c[::(nder+1)]/(nder+1),:]"
   ]
  },
  {
   "cell_type": "code",
   "execution_count": null,
   "metadata": {
    "collapsed": true
   },
   "outputs": [],
   "source": [
    "# visualization part\n",
    "# position of the chosen points by MaxVol and GD in 2-D case\n",
    "l_bound = interval[0]\n",
    "u_bound = interval[1]\n",
    "plt.xlim(l_bound-0.15, u_bound+0.15)\n",
    "plt.ylim(l_bound-0.15, u_bound+0.15)\n",
    "#plt.plot(M[row_indx,1], M[row_indx,2], 'ro', label = \"MV\")\n",
    "plt.plot(taken_p[:,0],taken_p[:,1], 'b^', label = \"BMV\")\n",
    "plt.legend(bbox_to_anchor=(0., 1.02, 1., .102), loc=3, ncol=2, borderaxespad=0.)\n",
    "plt.grid(True)\n",
    "plt.show()"
   ]
  },
  {
   "cell_type": "code",
   "execution_count": null,
   "metadata": {
    "collapsed": true
   },
   "outputs": [],
   "source": [
    "apr_calcul = approximant(nder,c_block)"
   ]
  },
  {
   "cell_type": "code",
   "execution_count": null,
   "metadata": {
    "collapsed": true
   },
   "outputs": [],
   "source": [
    "error_est(gauss,apr_calcul,x)"
   ]
  }
 ],
 "metadata": {
  "kernelspec": {
   "display_name": "Python 2",
   "language": "python",
   "name": "python2"
  },
  "language_info": {
   "codemirror_mode": {
    "name": "ipython",
    "version": 2
   },
   "file_extension": ".py",
   "mimetype": "text/x-python",
   "name": "python",
   "nbconvert_exporter": "python",
   "pygments_lexer": "ipython2",
   "version": "2.7.13"
  }
 },
 "nbformat": 4,
 "nbformat_minor": 2
}
