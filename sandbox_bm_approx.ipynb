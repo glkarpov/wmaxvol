{
 "cells": [
  {
   "cell_type": "code",
   "execution_count": null,
   "metadata": {
    "collapsed": true
   },
   "outputs": [],
   "source": [
    "import numpy as np\n",
    "import numpy.linalg as la\n",
    "import matplotlib.pyplot as plt\n",
    "import matplotlib\n",
    "#from mpl_toolkits.mplot3d import Axes3D\n",
    "from gen_mat import *\n",
    "from block_rect_maxvol import *\n",
    "import re\n",
    "import os\n",
    "%matplotlib inline"
   ]
  },
  {
   "cell_type": "code",
   "execution_count": null,
   "metadata": {
    "collapsed": true
   },
   "outputs": [],
   "source": [
    "dir_str = '.'\n",
    "nder = 2 # \n",
    "expansion = 4\n",
    "n = 30 # number of points\n",
    "n_test = 50000 #points on test grid\n",
    "p_size = (nder+1)*expansion #number of monoms (number of columns)\n",
    "x = 2*np.random.rand(n, nder)-1\n",
    "np.savez(os.path.join(dir_str,'taken_points'), x=x)"
   ]
  },
  {
   "cell_type": "code",
   "execution_count": null,
   "metadata": {},
   "outputs": [],
   "source": [
    "c = GenMat(p_size, x,poly=cheb, debug=False,pow_p=1)\n",
    "# c = GenMat(p_size, x, poly=trigpoly, poly_diff=trigpoly_diff, debug=False, pow_p=1)\n",
    "print c.shape\n",
    "# turn matrix to the block structure\n",
    "A = matrix_prep(c,nder+1,n)\n",
    "print A.shape"
   ]
  },
  {
   "cell_type": "markdown",
   "metadata": {},
   "source": [
    "### Testing the new most general environment"
   ]
  },
  {
   "cell_type": "code",
   "execution_count": null,
   "metadata": {},
   "outputs": [],
   "source": [
    "### generating test points\n",
    "points_test = test_points_gen(n_test, nder, distrib='random') \n",
    "### evaluating test\n",
    "max_row = 10\n",
    "functions = [rosenbrock,sincos,roots,gauss]\n",
    "for function in functions:\n",
    "    with open(\"func={}.txt\".format(function.__name__),\"w+\") as f:\n",
    "        with  open(\"points_func={}.txt\".format(function.__name__),\"w+\") as f1:\n",
    "            for expansion in range(1,4):\n",
    "                for N_rows_ex in range(expansion, max_row):\n",
    "                    N_rows = N_rows_ex*(nder+1)\n",
    "                    try:\n",
    "                        error, taken_points = test(A, x, points_test, nder, expansion, N_rows, function)\n",
    "                    except SingularError:\n",
    "                        print ('not full column rank with expansion={}'.format(expansion)) \n",
    "                        continue\n",
    "                    f.write(\"error={}_Nrows={}_expans={}\\n\".format(error, N_rows, expansion))\n",
    "                    taken_points.tofile(f1,sep=\" \")\n",
    "                    f1.write(\"_error={}_expansion={}\\n\".format(error,expansion))\n",
    "                    f.flush()\n",
    "                    f1.flush()"
   ]
  },
  {
   "cell_type": "code",
   "execution_count": null,
   "metadata": {
    "collapsed": true
   },
   "outputs": [],
   "source": [
    "def file_extraction_old(Filepath):\n",
    "    f = open(Filepath)\n",
    "    line = f.readline()\n",
    "    error, N_rows, N_col =[],[],[]\n",
    "     \n",
    "    while line != \"\":\n",
    "        pos1 = line.find('error=') + len('error=')\n",
    "        pos2 = line.find('_Nrows=')\n",
    "        pos3 = line.find('_expans=')\n",
    "        pos4 = line.find('\\n')\n",
    "        error.append(float(line[pos1:pos2]))\n",
    "        N_rows.append(int(line[pos2+len('_Nrows='):pos3]))\n",
    "        N_col.append(int(line[pos3+len('_expans=') :pos4]))\n",
    "        line = f.readline()\n",
    "    f.close()\n",
    "    return (error, N_rows, N_col)\n",
    "\n",
    "def file_extraction(Filepath):\n",
    "    srch = re.compile(r'error=([\\+\\-\\d\\.eE]+)_Nrows=(\\d+)_expans=(\\d+)')\n",
    "    fnd = srch.findall(open(Filepath, 'r').read())\n",
    "    return tuple(np.array(i) for i in zip(*[(float(i0), int(i1), int(i2)) for i0, i1, i2 in fnd]))\n",
    "\n",
    "\n",
    "def DataToMesh(error, N_row, N_col):\n",
    "    row_s = sorted(list(set(N_row)))\n",
    "    col_s = sorted(list(set(N_col)))\n",
    "    data = {}\n",
    "    for i, e in enumerate(error):\n",
    "        data[(N_row[i], N_col[i])] = e\n",
    "    \n",
    "    res = np.empty((len(row_s), len(col_s)), dtype=float)\n",
    "    for i, r in enumerate(row_s):\n",
    "        for j, c in enumerate(col_s):\n",
    "            try:\n",
    "                res[i,j] = data[(r, c)]\n",
    "            except:\n",
    "                res[i,j] = np.nan\n",
    "    X, Y = np.meshgrid(row_s, col_s)\n",
    "    return res.T, X, Y"
   ]
  },
  {
   "cell_type": "code",
   "execution_count": null,
   "metadata": {
    "collapsed": true
   },
   "outputs": [],
   "source": [
    "error, N_row, N_col = DataToMesh(*file_extraction(\"func=Gauss.txt\"))\n",
    "fig = plt.figure()\n",
    "ax = fig.gca(projection='3d')\n",
    "# N_row, N_col = np.meshgrid(N_row, N_col)\n",
    "ax.plot_surface(N_row, N_col, error, edgecolor='black', linewidth=2)\n",
    "ax.legend()\n",
    "ax.set_xlabel('N_rows', fontsize=10)\n",
    "ax.set_ylabel('N_columns')\n",
    "plt.show()"
   ]
  }
 ],
 "metadata": {
  "kernelspec": {
   "display_name": "Python 2",
   "language": "python",
   "name": "python2"
  },
  "language_info": {
   "codemirror_mode": {
    "name": "ipython",
    "version": 2
   },
   "file_extension": ".py",
   "mimetype": "text/x-python",
   "name": "python",
   "nbconvert_exporter": "python",
   "pygments_lexer": "ipython2",
   "version": "2.7.13"
  }
 },
 "nbformat": 4,
 "nbformat_minor": 2
}
