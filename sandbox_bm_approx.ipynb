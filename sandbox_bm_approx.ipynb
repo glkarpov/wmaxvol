{
 "cells": [
  {
   "cell_type": "code",
   "execution_count": 10,
   "metadata": {},
   "outputs": [],
   "source": [
    "import numpy as np\n",
    "from maxvolpy.maxvol import maxvol\n",
    "from numpy.polynomial import Chebyshev as T\n",
    "import numpy.linalg as la\n",
    "import matplotlib.pyplot as plt\n",
    "import matplotlib\n",
    "from mpl_toolkits.mplot3d import Axes3D\n",
    "from scipy.linalg import lu as lu\n",
    "from gen_mat import *\n",
    "from block_rect_maxvol import *\n",
    "import scipy.linalg\n",
    "import re\n",
    "%matplotlib inline"
   ]
  },
  {
   "cell_type": "code",
   "execution_count": 4,
   "metadata": {},
   "outputs": [],
   "source": [
    "nder = 2 # \n",
    "expansion = 5\n",
    "n = 600 # number of points\n",
    "n_test = 5000 #points on test grid\n",
    "p_size = (nder+1)*expansion #number of monoms (number of columns)\n",
    "interval = [-1, 1]  # interval of x_test\n",
    "x = 2*np.random.rand(n, nder)-1"
   ]
  },
  {
   "cell_type": "code",
   "execution_count": 5,
   "metadata": {},
   "outputs": [
    {
     "name": "stdout",
     "output_type": "stream",
     "text": [
      "(1800, 15)\n",
      "(1800, 15)\n"
     ]
    }
   ],
   "source": [
    "c = GenMat(p_size, x,poly=cheb, poly_diff=cheb_diff, debug=False,pow_p=1)\n",
    "# c = GenMat(p_size, x, poly=trigpoly, poly_diff=trigpoly_diff, debug=False, pow_p=1)\n",
    "print c.shape\n",
    "# turn matrix to the block structure\n",
    "A = matrix_prep(c,nder+1,n)\n",
    "print A.shape"
   ]
  },
  {
   "cell_type": "markdown",
   "metadata": {},
   "source": [
    "### Testing the new most general environment"
   ]
  },
  {
   "cell_type": "code",
   "execution_count": 54,
   "metadata": {},
   "outputs": [
    {
     "name": "stdout",
     "output_type": "stream",
     "text": [
      "58\n",
      "58\n",
      "334\n",
      "58\n",
      "334\n",
      "83\n",
      "58\n",
      "334\n",
      "83\n",
      "259\n",
      "58\n",
      "334\n",
      "83\n",
      "259\n",
      "303\n",
      "58\n",
      "334\n",
      "83\n",
      "259\n",
      "303\n",
      "580\n",
      "58\n",
      "334\n",
      "83\n",
      "259\n",
      "303\n",
      "580\n",
      "275\n",
      "58\n",
      "334\n",
      "83\n",
      "259\n",
      "303\n",
      "580\n",
      "275\n",
      "156\n",
      "83\n",
      "83\n",
      "58\n",
      "83\n",
      "58\n",
      "334\n",
      "83\n",
      "58\n",
      "334\n",
      "50\n",
      "83\n",
      "58\n",
      "334\n",
      "50\n",
      "303\n",
      "83\n",
      "58\n",
      "334\n",
      "50\n",
      "303\n",
      "96\n",
      "83\n",
      "58\n",
      "334\n",
      "50\n",
      "303\n",
      "96\n",
      "413\n",
      "83\n",
      "83\n",
      "259\n",
      "83\n",
      "259\n",
      "303\n",
      "83\n",
      "259\n",
      "303\n",
      "580\n",
      "83\n",
      "259\n",
      "303\n",
      "580\n",
      "473\n",
      "83\n",
      "259\n",
      "303\n",
      "580\n",
      "473\n",
      "156\n"
     ]
    },
    {
     "data": {
      "image/png": "[encoded data removed]",
      "text/plain": [
       "<matplotlib.figure.Figure at 0x1171145d0>"
      ]
     },
     "metadata": {},
     "output_type": "display_data"
    }
   ],
   "source": [
    "### generating test points\n",
    "points_test = test_points_gen(n_test, nder, distrib='random') \n",
    "### evaluating test\n",
    "max_row = 10\n",
    "with open(\"func=gauss.txt\",\"w+\") as f:\n",
    "    for expansion in range(1,4):\n",
    "        for N_rows_ex in range(expansion, max_row):\n",
    "            N_rows = N_rows_ex*(nder+1)\n",
    "            error = test(A, x, points_test, nder, expansion, N_rows, gauss)\n",
    "            f.write(\"error={}_Nrows={}_expans={}\\n\".format(error, N_rows, expansion))\n",
    "            f.flush()"
   ]
  },
  {
   "cell_type": "code",
   "execution_count": 59,
   "metadata": {},
   "outputs": [],
   "source": [
    "def file_extraction_old(Filepath):\n",
    "    f = open(Filepath)\n",
    "    line = f.readline()\n",
    "    error, N_rows, N_col =[],[],[]\n",
    "     \n",
    "    while line != \"\":\n",
    "        pos1 = line.find('error=') + len('error=')\n",
    "        pos2 = line.find('_Nrows=')\n",
    "        pos3 = line.find('_expans=')\n",
    "        pos4 = line.find('\\n')\n",
    "        error.append(float(line[pos1:pos2]))\n",
    "        N_rows.append(int(line[pos2+len('_Nrows='):pos3]))\n",
    "        N_col.append(int(line[pos3+len('_expans=') :pos4]))\n",
    "        line = f.readline()\n",
    "    f.close()\n",
    "    return (error, N_rows, N_col)\n",
    "\n",
    "def file_extraction(Filepath):\n",
    "    srch = re.compile(r'error=([\\+\\-\\d\\.eE]+)_Nrows=(\\d+)_expans=(\\d+)')\n",
    "    fnd = srch.findall(open(Filepath, 'r').read())\n",
    "    return tuple(np.array(i) for i in zip(*[(float(i0), int(i1), int(i2)) for i0, i1, i2 in fnd]))\n",
    "\n",
    "\n",
    "def DataToMesh(error, N_row, N_col):\n",
    "    row_s = sorted(list(set(N_row)))\n",
    "    col_s = sorted(list(set(N_col)))\n",
    "    data = {}\n",
    "    for i, e in enumerate(error):\n",
    "        data[(N_row[i], N_col[i])] = e\n",
    "    \n",
    "    res = np.empty((len(row_s), len(col_s)), dtype=float)\n",
    "    for i, r in enumerate(row_s):\n",
    "        for j, c in enumerate(col_s):\n",
    "            try:\n",
    "                res[i,j] = data[(r, c)]\n",
    "            except:\n",
    "                res[i,j] = np.nan\n",
    "    X, Y = np.meshgrid(row_s, col_s)\n",
    "    return res.T, X, Y\n",
    "        \n",
    "    "
   ]
  },
  {
   "cell_type": "code",
   "execution_count": 60,
   "metadata": {},
   "outputs": [
    {
     "data": {
      "image/png": "[encoded data removed]",
      "text/plain": [
       "<matplotlib.figure.Figure at 0x117567150>"
      ]
     },
     "metadata": {},
     "output_type": "display_data"
    }
   ],
   "source": [
    "error, N_row, N_col = DataToMesh(*file_extraction(\"func=gauss.txt\"))\n",
    "fig = plt.figure()\n",
    "ax = fig.gca(projection='3d')\n",
    "# N_row, N_col = np.meshgrid(N_row, N_col)\n",
    "ax.plot_surface(N_row, N_col, error, edgecolor='black', linewidth=2)\n",
    "ax.legend()\n",
    "ax.set_xlabel('N_rows', fontsize=10)\n",
    "ax.set_ylabel('N_columns')\n",
    "plt.show()"
   ]
  },
  {
   "cell_type": "markdown",
   "metadata": {},
   "source": [
    "### Old computation versions"
   ]
  },
  {
   "cell_type": "markdown",
   "metadata": {},
   "source": [
    "#### Information about initial matrix"
   ]
  },
  {
   "cell_type": "code",
   "execution_count": null,
   "metadata": {
    "collapsed": true
   },
   "outputs": [],
   "source": [
    "print la.det(A[:A.shape[1]])\n",
    "print la.matrix_rank(A)\n",
    "print la.matrix_rank(A[:A.shape[1]])\n",
    "_,s,_ = scipy.linalg.svd(A)\n",
    "print s\n",
    "\n",
    "piv,_ = maxvol(A)\n",
    "print piv\n",
    "print la.det(A[piv])"
   ]
  },
  {
   "cell_type": "code",
   "execution_count": null,
   "metadata": {
    "collapsed": true
   },
   "outputs": [],
   "source": [
    "### returns 2 values - function on domain, and block structured\n",
    "def rhs(points, nder, mode = 'gauss'):\n",
    "    if mode == 'gauss':\n",
    "        block_rhs = np.zeros((nder+1)*(points.shape[0]))\n",
    "        func = 2*np.exp(-((points[:,0]**2)/2. + (points[:,1]**2)/2.))# + (points[:,2]**2)/2.)) # Gaussian\n",
    "        for i in range(points.shape[0]):\n",
    "            block_rhs[i*(nder+1)] = func[i]\n",
    "            for j in range(nder):\n",
    "                block_rhs[i*(nder+1)+j+1] = -1*(points[i,j])*func[i]\n",
    "    if mode == '3D' :\n",
    "        block_rhs = np.zeros((nder+1)*(points.shape[0]))\n",
    "        func = 2*((points[:,0]**2)/2. + (points[:,1]**2)/2. + (points[:,2]**2)/2.) # Gaussian\n",
    "        for i in range(points.shape[0]):\n",
    "            block_rhs[i*(nder+1)] = func[i]\n",
    "            for j in range(nder):\n",
    "                block_rhs[i*(nder+1)+j+1] = 2 * points[i,j]\n",
    "    return func, block_rhs     "
   ]
  },
  {
   "cell_type": "markdown",
   "metadata": {},
   "source": [
    "#### Rectangular block maxvol"
   ]
  },
  {
   "cell_type": "code",
   "execution_count": null,
   "metadata": {
    "collapsed": true
   },
   "outputs": [],
   "source": [
    "k = 15 ### number of rows for LSM\n",
    "assert k//(nder+1)!=0\n",
    "assert (k>=A.shape[1])\n",
    "a,b,final_piv,d,e = rect_block_maxvol(A, nder, Kmax = k, max_iters=100, rect_tol = 0.05, tol = 0.0, debug = False, ext_debug = True)"
   ]
  },
  {
   "cell_type": "code",
   "execution_count": null,
   "metadata": {
    "collapsed": true
   },
   "outputs": [],
   "source": [
    "### solve LSM\n",
    "f,t = rhs(x,nder, mode = 'gauss')\n",
    "A_test = GenMat(p_size, points_test,poly=cheb, debug=False,pow_p=1, ToGenDiff=False)"
   ]
  },
  {
   "cell_type": "code",
   "execution_count": null,
   "metadata": {
    "collapsed": true
   },
   "outputs": [],
   "source": [
    "f_test,_ = rhs(points_test,nder)"
   ]
  },
  {
   "cell_type": "code",
   "execution_count": null,
   "metadata": {
    "collapsed": true
   },
   "outputs": [],
   "source": [
    "### Take number of rows that we really need\n",
    "c = final_piv[:k]"
   ]
  },
  {
   "cell_type": "code",
   "execution_count": null,
   "metadata": {
    "collapsed": true
   },
   "outputs": [],
   "source": [
    "c_block, res_x, rank, s = np.linalg.lstsq(A[c],t[c])"
   ]
  },
  {
   "cell_type": "code",
   "execution_count": null,
   "metadata": {
    "collapsed": true
   },
   "outputs": [],
   "source": [
    "taken_p = x[c[::(nder+1)]/(nder+1),:]"
   ]
  },
  {
   "cell_type": "code",
   "execution_count": null,
   "metadata": {
    "collapsed": true
   },
   "outputs": [],
   "source": [
    "# visualization part\n",
    "# position of the chosen points by MaxVol and GD in 2-D case\n",
    "l_bound = interval[0]\n",
    "u_bound = interval[1]\n",
    "plt.xlim(l_bound-0.15, u_bound+0.15)\n",
    "plt.ylim(l_bound-0.15, u_bound+0.15)\n",
    "#plt.plot(M[row_indx,1], M[row_indx,2], 'ro', label = \"MV\")\n",
    "plt.plot(taken_p[:,0],taken_p[:,1], 'b^', label = \"BMV\")\n",
    "plt.legend(bbox_to_anchor=(0., 1.02, 1., .102), loc=3, ncol=2, borderaxespad=0.)\n",
    "plt.grid(True)\n",
    "plt.show()"
   ]
  },
  {
   "cell_type": "code",
   "execution_count": null,
   "metadata": {
    "collapsed": true
   },
   "outputs": [],
   "source": [
    "print(\"GD error = \", la.norm(f_test - np.dot(A_test, c_block), np.inf) / la.norm(f_test, np.inf), \"\\n\")"
   ]
  },
  {
   "cell_type": "code",
   "execution_count": 58,
   "metadata": {},
   "outputs": [
    {
     "data": {
      "text/plain": [
       "array([[ 3,  6,  9, 12, 15, 18, 21, 24, 27],\n",
       "       [ 3,  6,  9, 12, 15, 18, 21, 24, 27],\n",
       "       [ 3,  6,  9, 12, 15, 18, 21, 24, 27]])"
      ]
     },
     "execution_count": 58,
     "metadata": {},
     "output_type": "execute_result"
    }
   ],
   "source": [
    "error"
   ]
  },
  {
   "cell_type": "code",
   "execution_count": null,
   "metadata": {},
   "outputs": [],
   "source": []
  }
 ],
 "metadata": {
  "kernelspec": {
   "display_name": "Python 2",
   "language": "python",
   "name": "python2"
  },
  "language_info": {
   "codemirror_mode": {
    "name": "ipython",
    "version": 2
   },
   "file_extension": ".py",
   "mimetype": "text/x-python",
   "name": "python",
   "nbconvert_exporter": "python",
   "pygments_lexer": "ipython2",
   "version": "2.7.14"
  }
 },
 "nbformat": 4,
 "nbformat_minor": 2
}
