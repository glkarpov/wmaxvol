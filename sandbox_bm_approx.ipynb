{
 "cells": [
  {
   "cell_type": "code",
   "execution_count": 1,
   "metadata": {},
   "outputs": [
    {
     "name": "stdout",
     "output_type": "stream",
     "text": [
      "6\n"
     ]
    }
   ],
   "source": [
    "import numpy as np\n",
    "import numpy.linalg as la\n",
    "import matplotlib.pyplot as plt\n",
    "import matplotlib\n",
    "from sobol_lib import *\n",
    "from mpl_toolkits.mplot3d import Axes3D\n",
    "from gen_mat import *\n",
    "from block_rect_maxvol import *\n",
    "import re\n",
    "import os\n",
    "from matplotlib import cm\n",
    "from mva_test import *\n",
    "import itertools\n",
    "from ipywidgets import interactive, interact, widgets\n",
    "#%matplotlib inline\n",
    "%matplotlib notebook\n",
    "import matplotlib.pyplot as plt\n",
    "from maxvolpy.maxvol import rect_maxvol, maxvol\n",
    "from numba import jit\n",
    "os.environ['OMP_NUM_THREADS'] = '6'\n",
    "print (os.environ['OMP_NUM_THREADS'])"
   ]
  },
  {
   "cell_type": "code",
   "execution_count": 2,
   "metadata": {},
   "outputs": [],
   "source": [
    "num_expr = 1 # Adding this num to output fn for distinguish between experiments  (not used for now)\n",
    "nder = 2 # Dimension\n",
    "ToLoadSet = False # whether to load settigns form file\n",
    "\n",
    "cut_radiuses = [0.05]\n",
    "inital_points_distribs = ['LHS']\n",
    "\n",
    "if ToLoadSet:\n",
    "    from sandbox_bm_approx_settings import *\n",
    "else:\n",
    "    dir_str = './cr_test_blob'\n",
    "    #dir_str = os.path.join(os.environ['HOME'], 'work/res/bm-big/')\n",
    "    num_points_for_big_matrix = 6000 # number of points for big matrix\n",
    "    max_row =  40                   # Maximum number of points taken in experiments\n",
    "    max_expansion = 12         # number of columns in big matrix in (nder+1) units\n",
    "    min_expansion = 10        # minimal number of columns in experiments in (nder+1) units\n",
    "    \n",
    "\n",
    "    n_test = 30000    # points on test grid (for calculating error on final step)\n",
    "    poly = cheb       # used polinomials\n",
    "\n",
    "    domain_type = 'blob'    #possible types: 'blob', 'ellipse', 'plane', 'rhombus'\n",
    "\n",
    "\n",
    "\n",
    "#####\n",
    "dir_pdf = os.path.join(dir_str, \"pdf\")\n",
    "try:\n",
    "    os.makedirs(dir_pdf)\n",
    "except:\n",
    "    pass\n",
    "\n",
    "\n",
    "\n",
    "ToTakePointsFromFile = False # (not used for now)\n",
    "\n",
    "# ---------------------------------\n",
    "p_size = (nder+1)*max_row #number of rows in big matrix\n",
    "\n",
    "### generating test points\n",
    "points_test = complex_area_pnts_gen(n_test, nder, distrib='LHS', mod = domain_type)\n",
    "\n",
    "#contents of file sandbox_bm_approx_settings.py\n",
    "_=\"\"\"\n",
    "from gen_mat import cheb\n",
    "\n",
    "\n",
    "dir_str = '.'\n",
    "num_points_for_big_matrix = 50000 # number of points for big matrix\n",
    "max_row = 50                      # Maximum number of points taken in experiments\n",
    "max_expansion = 10                 # number of columns in big matrix in (nder+1) units\n",
    "min_expansion = 1                 # minimal number of columns in experiments in (nder+1) units\n",
    "\n",
    "n_test = 50000    # points on test grid (for calculating error on final step)\n",
    "poly = cheb       # used polynomials\n",
    "\"\"\""
   ]
  },
  {
   "cell_type": "markdown",
   "metadata": {},
   "source": [
    "### Testing the new most general environment"
   ]
  },
  {
   "cell_type": "code",
   "execution_count": 3,
   "metadata": {},
   "outputs": [],
   "source": [
    "### evaluating test\n",
    "for inital_points_distrib in inital_points_distribs:\n",
    "    points_fn = 'taken_points_{}'.format(inital_points_distrib)\n",
    "    x = complex_area_pnts_gen(num_points_for_big_matrix, nder, distrib='LHS', mod = domain_type)\n",
    "\n",
    "    A = GenMat(p_size, x, poly=poly, debug=False, pow_p=1)\n",
    "    A = matrix_prep(A, nder+1)\n",
    "    \n",
    "    np.savez(os.path.join(dir_str, points_fn), x=x, points_test=points_test)\n",
    "    \n",
    "    \n",
    "    \n",
    "    fn_pre_pdf = \"distrib={}\".format(inital_points_distrib)\n",
    "    for cut_radius in cut_radiuses:\n",
    "        f = open(os.path.join(dir_str, \"distrib={}_radius={}\".format(inital_points_distrib, cut_radius) + '.txt'), \"w\")\n",
    "        for expansion in range(min_expansion, max_expansion):\n",
    "                    for N_rows_ex in range(max_row, expansion, -1): # It's not the way people do...\n",
    "                        N_rows = N_rows_ex*(nder+1)\n",
    "                        fnpdf = os.path.join(dir_pdf, fn_pre_pdf + \"_expansion={}_N_rows_ex={}.pdf\".format(expansion, N_rows_ex))\n",
    "                        try:\n",
    "                            taken_points = test_bm(A, x,nder, expansion, N_rows, cut_radius = cut_radius,to_save_pivs=N_rows_ex==max_row, \n",
    "                                                       fnpdf=fnpdf)\n",
    "                        except SingularError as err:\n",
    "                            print ('not full column rank with expansion={}, N_rows_ex={}, err={}'.format(\n",
    "                                                                expansion, N_rows_ex, err.value)) \n",
    "                            continue\n",
    "                            \n",
    "\n",
    "\n",
    "                        taken_points.tofile(f, sep=\" \")\n",
    "                        f.write(\"_Nrows={}_expans={}\\n\".format(N_rows, expansion))\n",
    "                        f.flush()\n",
    "\n",
    "        f.close()\n"
   ]
  },
  {
   "cell_type": "markdown",
   "metadata": {},
   "source": [
    "### Experimental data processing"
   ]
  },
  {
   "cell_type": "code",
   "execution_count": null,
   "metadata": {},
   "outputs": [],
   "source": [
    "### Data extraction\n",
    "dir_str = './'\n",
    "dir_points = os.path.join(dir_str, \"cr_test_electron/\")\n",
    "points_distrib = 'LHS'\n",
    "rad = \"0.09\"\n",
    "taken_points = np.load(dir_points + \"taken_points_\" + points_distrib + \".npz\")\n",
    "x = taken_points['x']\n",
    "points_test = taken_points['points_test']"
   ]
  },
  {
   "cell_type": "code",
   "execution_count": null,
   "metadata": {},
   "outputs": [],
   "source": [
    "### .txt processing\n",
    "functions = [f_roots]\n",
    "N_row, N_col, p_indices = file_extraction(dir_points + \"distrib=\" + points_distrib + \"_radius=\" + rad + \".txt\")"
   ]
  },
  {
   "cell_type": "code",
   "execution_count": null,
   "metadata": {},
   "outputs": [],
   "source": [
    "#error = np.empty(N_row.shape)\n",
    "error_e, Leb_e = [], []\n",
    "#error_sc, Leb_sc = [],[]\n",
    "#Leb = np.empty(N_row.shape)\n",
    "\n",
    "if type(functions) is not list:\n",
    "        functions = [functions]\n",
    "#if type(function2) is not list:\n",
    "#        function2 = [function2]\n",
    "ValsandNorms = MakeValsAndNorms(functions, points_test)\n",
    "#ValsandNorms_sc = MakeValsAndNorms(function2, points_test)\n",
    "for j, p in enumerate(p_indices):\n",
    "\n",
    "    a,b = LebesgueConst(x[p], N_col[j]*(nder+1), poly=cheb, test_pnts=points_test, pow_p=1, funcs=ValsandNorms, derivative = True)\n",
    "    #c,d = LebesgueConst(x[p], N_col[j]*(nder+1), poly=cheb, test_pnts=points_test, pow_p=1, funcs=ValsandNorms_sc, derivative = True)\n",
    "    error_e.append(b)\n",
    "    Leb_e.append(a)\n",
    "    #error_sc.append(d)\n",
    "    #Leb_sc.append(c)"
   ]
  },
  {
   "cell_type": "code",
   "execution_count": null,
   "metadata": {},
   "outputs": [],
   "source": [
    "@jit\n",
    "def mult_error(N_iter, N_col, p_indices,functions, shape=None):\n",
    "    error_LHS = np.empty([N_col.shape[0], N_iter])\n",
    "    error_random = np.empty([N_col.shape[0], N_iter])\n",
    "    error_sobol = np.empty([N_col.shape[0], N_iter])\n",
    "    if type(functions) is not list:\n",
    "            functions = [functions]\n",
    "    ValsandNorms = MakeValsAndNorms(functions, points_test)\n",
    "    for i in np.arange(N_iter):\n",
    "        print(i)\n",
    "        x_LHS = complex_area_pnts_gen(len(p_indices[0]), nder, mod=shape, distrib='LHS')\n",
    "        x_random = complex_area_pnts_gen(len(p_indices[0]), nder, mod=shape, distrib='random')\n",
    "        x_sobol = complex_area_pnts_gen(len(p_indices[0]), nder, mod=shape, distrib='Sobol')\n",
    "        for j, p in enumerate(p_indices):\n",
    "            _, error_LHS[j,i] = LebesgueConst(x_LHS, N_col[j]*(nder+1), poly=cheb, test_pnts=points_test, pow_p=1, funcs=ValsandNorms, derivative = True)\n",
    "            _, error_random[j,i] = LebesgueConst(x_random, N_col[j]*(nder+1), poly=cheb, test_pnts=points_test, pow_p=1, funcs=ValsandNorms, derivative = True)\n",
    "            _, error_sobol[j,i] = LebesgueConst(x_sobol, N_col[j]*(nder+1), poly=cheb, test_pnts=points_test, pow_p=1, funcs=ValsandNorms, derivative = True)\n",
    "            if j!= p_indices.shape[0]-1:\n",
    "                if len(p_indices[j+1])>len(p_indices[j]):\n",
    "                    x_LHS = complex_area_pnts_gen(len(p_indices[0]), nder, mod=shape, distrib='LHS')\n",
    "                    x_random = complex_area_pnts_gen(len(p_indices[0]), nder, mod=shape, distrib='random')\n",
    "                    x_sobol = complex_area_pnts_gen(len(p_indices[0]), nder, mod=shape, distrib='Sobol')\n",
    "                else:\n",
    "                    x_LHS = x_LHS[:x_LHS.shape[0]-1]\n",
    "                    x_random = x_random[:x_random.shape[0]-1]\n",
    "                    x_sobol = x_sobol[:x_sobol.shape[0]-1]\n",
    "    return(error_LHS,error_random,error_sobol)"
   ]
  },
  {
   "cell_type": "code",
   "execution_count": null,
   "metadata": {},
   "outputs": [],
   "source": [
    "@jit\n",
    "def multi_piston_error(N_iter, N_row, N_col, p_indices,functions):\n",
    "    error_LHS = np.empty([N_row[::10].shape[0], N_iter])\n",
    "    error_random = np.empty([N_row[::10].shape[0], N_iter])\n",
    "    error_sobol = np.empty([N_row[::10].shape[0], N_iter])\n",
    "    if type(functions) is not list:\n",
    "            functions = [functions]\n",
    "    for i in np.arange(N_iter):\n",
    "        print(i)\n",
    "        x_LHS = test_points_gen(num_points_for_big_matrix, nder, distrib='LHS')\n",
    "        x_random = test_points_gen(num_points_for_big_matrix, nder, distrib='random')\n",
    "        x_sobol = GenSobol( N = num_points_for_big_matrix, dim = nder, seed=random.randint(0,256),rng=(-1, 1) )\n",
    "        for j, p in enumerate(p_indices):\n",
    "            if (j%10 == 0):\n",
    "                ValsandNorms = MakeValsAndNorms(functions, points_test)\n",
    "                _, error_LHS[j/10,i] = LebesgueConst(x_LHS[p], N_col[j]*(nder+1), poly=cheb, test_pnts=points_test, pow_p=1, funcs=ValsandNorms, derivative = True)\n",
    "                _, error_random[j/10,i] = LebesgueConst(x_random[p], N_col[j]*(nder+1), poly=cheb, test_pnts=points_test, pow_p=1, funcs=ValsandNorms, derivative = True)\n",
    "                _, error_sobol[j/10,i] = LebesgueConst(x_sobol[p], N_col[j]*(nder+1), poly=cheb, test_pnts=points_test, pow_p=1, funcs=ValsandNorms, derivative = True)\n",
    "                np.savez(os.path.join(\"piston_10\"),er_lhs = error_LHS,er_r = error_random,er_s = error_sobol)\n",
    "\n",
    "                return(error_LHS,error_random,error_sobol)"
   ]
  },
  {
   "cell_type": "code",
   "execution_count": null,
   "metadata": {},
   "outputs": [],
   "source": [
    "a,b,c = mult_error(10,N_col,p_indices,functions)"
   ]
  },
  {
   "cell_type": "code",
   "execution_count": null,
   "metadata": {},
   "outputs": [],
   "source": [
    "a,b,c = multi_piston_error(20,N_row,N_col,p_indices,functions)"
   ]
  },
  {
   "cell_type": "code",
   "execution_count": null,
   "metadata": {},
   "outputs": [],
   "source": [
    "PlotError_3D(N_row, N_col, error_e, True)"
   ]
  },
  {
   "cell_type": "markdown",
   "metadata": {
    "collapsed": true
   },
   "source": [
    "### Random points plot"
   ]
  },
  {
   "cell_type": "code",
   "execution_count": null,
   "metadata": {},
   "outputs": [],
   "source": [
    "def multi_error_straight(fn, error, err_LHS, err_rand, err_sob, col, rows, confidence = False):\n",
    "    ndim = 3\n",
    "    k = 0.403\n",
    "    error = np.array(error)\n",
    "    N_row, N_col,_ = file_extraction(fn, new_extr=True)\n",
    "    error_LHS = np.mean(err_LHS, axis = 1) \n",
    "    error_random = np.mean(err_rand,axis = 1)\n",
    "    error_sobol = np.mean(err_sob,axis = 1)\n",
    "    if confidence:\n",
    "        error_lhs_up = k*np.std(err_LHS,axis=1) + error_LHS\n",
    "        error_lhs_down = error_LHS - k*np.std(err_LHS,axis=1)\n",
    "\n",
    "        error_rand_up = k*np.std(err_rand,axis=1) + error_random\n",
    "        error_rand_down = error_random - k*np.std(err_rand,axis=1)\n",
    "\n",
    "        error_sob_up = k*np.std(err_sob,axis=1) + error_sobol\n",
    "        error_sob_down = error_sobol - k*np.std(err_sob,axis=1)\n",
    "  \n",
    "    if col is not None:\n",
    "        cols = np.arange(N_col[0], N_col[-1])\n",
    "        #if type(cols) is not list:\n",
    "            #cols = [cols]\n",
    "        for i in cols:\n",
    "            indx = np.where(N_col == i)          \n",
    "            fig = plt.figure()\n",
    "            plt.plot(N_row[indx]/ndim, error[indx], label = 'BMaxvol', linewidth= 3)\n",
    "            plt.plot(N_row[indx]/ndim, error_LHS[indx], label = \"LHS\",color = '#539caf')\n",
    "            plt.plot(N_row[indx]/ndim, error_random[indx], label = \"Random\",color = 'green')\n",
    "            plt.plot(N_row[indx]/ndim, error_sobol[indx], label = \"Sobol\",color='red')\n",
    "            if confidence:\n",
    "                plt.fill_between(N_row[indx]/ndim, error_lhs_down[indx], error_lhs_up[indx],color = '#539caf',alpha = 0.4,label = '95% CI LHS')\n",
    "                plt.fill_between(N_row[indx]/ndim, error_rand_down[indx], error_rand_up[indx],color = 'green',alpha = 0.4,label = '95% CI random')\n",
    "                plt.fill_between(N_row[indx]/ndim, error_sob_down[indx], error_sob_up[indx],color = 'red', alpha = 0.4,   label = '95% CI Sobol')\n",
    "            plt.yscale('log')\n",
    "            plt.xlabel('Number of points', fontsize=10)\n",
    "            plt.ylabel('$\\log \\epsilon$', rotation=90, labelpad=5)\n",
    "            plt.legend()\n",
    "            fnpdf = 'err(rows)_monoms={}.pdf'.format(ndim*i)\n",
    "            plt.grid(True)\n",
    "            plt.savefig(fnpdf)\n",
    "            plt.close(fig)\n",
    "           \n",
    "    if rows is not None:\n",
    "        if type(rows) is not list:\n",
    "            rows = rows.tolist()\n",
    "        for row in rows:\n",
    "            indx = np.where(N_row == row)\n",
    "            fig = plt.figure()\n",
    "            plt.plot(ndim*N_col[indx], error[indx],label = 'BMaxvol', linewidth = 3)\n",
    "            plt.plot(ndim*N_col[indx], error_LHS[indx], label = \"LHS\",color = '#539caf')\n",
    "            plt.plot(ndim*N_col[indx], error_random[indx], label = \"Random\",color = 'green')\n",
    "            plt.plot(ndim*N_col[indx], error_sobol[indx], label = \"Sobol\",color = 'red')\n",
    "            if confidence:\n",
    "                plt.fill_between(ndim*N_col[indx], error_lhs_down[indx], error_lhs_up[indx],color = '#539caf',alpha = 0.4,label = '95% CI LHS')\n",
    "                plt.fill_between(ndim*N_col[indx], error_rand_down[indx], error_rand_up[indx],color = 'green',alpha = 0.4,label = '95% CI random')\n",
    "                plt.fill_between(ndim*N_col[indx], error_sob_down[indx], error_sob_up[indx],  color = 'red',  alpha = 0.4,label = '95% CI Sobol')\n",
    "            plt.yscale('log')\n",
    "            plt.xlabel('Number of expansion terms', fontsize=10)\n",
    "            plt.ylabel('$\\log \\epsilon$', rotation=90,labelpad=5)\n",
    "            plt.legend()\n",
    "            fnpdf = 'err(cols)_row={}.pdf'.format(row)\n",
    "            plt.grid(True)\n",
    "            plt.savefig(fnpdf)\n",
    "            plt.close(fig)    \n",
    "            \n",
    "            \n",
    "            \n",
    "def only_bmaxvol_error(fn, error, rows):\n",
    "    ndim = 3\n",
    "    error = np.array(error)\n",
    "    N_row, N_col,_ = file_extraction(fn, new_extr=True)\n",
    "    if type(rows) is not list:\n",
    "            rows = rows.tolist()\n",
    "    for row in rows:\n",
    "        indx = np.where(N_row == row)\n",
    "        fig = plt.figure()\n",
    "        plt.plot(ndim*N_col[indx], error[indx],label = 'BMaxvol', linewidth = 3)\n",
    "        plt.yscale('log')\n",
    "        plt.xlabel('Number of expansion terms', fontsize=10)\n",
    "        plt.ylabel('$\\log \\epsilon$', rotation=90,labelpad=5)\n",
    "        plt.legend()\n",
    "        fnpdf = 'err(cols)_row={}.pdf'.format(row)\n",
    "        plt.grid(True)\n",
    "        plt.savefig(fnpdf)\n",
    "        plt.close(fig)    \n"
   ]
  },
  {
   "cell_type": "code",
   "execution_count": null,
   "metadata": {},
   "outputs": [],
   "source": [
    "only_bmaxvol_error(dir_points + \"distrib=\" + points_distrib + \"_radius=\" + rad + \".txt\", error_e,[210])"
   ]
  },
  {
   "cell_type": "code",
   "execution_count": null,
   "metadata": {},
   "outputs": [],
   "source": [
    "multi_error_straight(dir_points + \"distrib=\" + points_distrib + \"_radius=\" + rad + \".txt\", error_e, a,b,c,1, np.arange(54,90,3),confidence=True)"
   ]
  },
  {
   "cell_type": "markdown",
   "metadata": {},
   "source": [
    "### Draw areas"
   ]
  },
  {
   "cell_type": "code",
   "execution_count": null,
   "metadata": {},
   "outputs": [],
   "source": [
    "#col_exp = min_expansion\n",
    "col_exp = 40\n",
    "i = np.where(N_col == col_exp)[0][0]\n",
    "taken_indices = p_indices[i]\n",
    "N_points = len(p_indices[i])"
   ]
  },
  {
   "cell_type": "code",
   "execution_count": null,
   "metadata": {},
   "outputs": [],
   "source": [
    "parameter_plot(len(p_indices[i]))"
   ]
  },
  {
   "cell_type": "code",
   "execution_count": null,
   "metadata": {},
   "outputs": [],
   "source": [
    "x = complex_area_pnts_gen(1400, nder, mod='plane', distrib='Sobol')"
   ]
  },
  {
   "cell_type": "code",
   "execution_count": null,
   "metadata": {},
   "outputs": [],
   "source": [
    "plane_shape(x)"
   ]
  },
  {
   "cell_type": "code",
   "execution_count": null,
   "metadata": {},
   "outputs": [],
   "source": [
    "def LebesgueConst_w(pnts, l,uwu, poly=cheb,test_pnts=None, pow_p=1, funcs=None):\n",
    "    A = GenMat(l, pnts, poly=poly, debug=False, pow_p=pow_p, ToGenDiff=True)\n",
    "    nder = pnts.shape[1]\n",
    "    A = matrix_prep(A, nder+1)\n",
    "    ewe = np.array([[1],[1],[1]])\n",
    "    weeght = np.kron(uwu,ewe)\n",
    "    C = weeght*A\n",
    "    ABig = GenMat(l, test_pnts, poly=poly, debug=False, pow_p=pow_p, ToGenDiff=False)\n",
    "    F = np.linalg.pinv(A).T.dot(ABig.T)\n",
    "    for f, fvals, fnorm in funcs:\n",
    "        rhs = RHS(f, pnts, derivative = True)\n",
    "        print rhs.shape\n",
    "        print weeght.shape\n",
    "        rhs1 = weeght.T*rhs\n",
    "        rhs1 = rhs1.reshape(rhs1.shape[1])\n",
    "        #rhs = rhs1.reshape(42)\n",
    "        res = np.linalg.norm(F.T.dot(rhs) - fvals, np.inf)/fnorm\n",
    "\n",
    "    return res\n"
   ]
  },
  {
   "cell_type": "code",
   "execution_count": null,
   "metadata": {},
   "outputs": [],
   "source": [
    "A = GenMat(6, x, poly=power, debug=False, pow_p=1)"
   ]
  },
  {
   "cell_type": "code",
   "execution_count": null,
   "metadata": {},
   "outputs": [],
   "source": [
    "taken_points = np.load(\"piston_10_error.npz\")"
   ]
  },
  {
   "cell_type": "code",
   "execution_count": null,
   "metadata": {},
   "outputs": [],
   "source": [
    "x = taken_points['er']"
   ]
  },
  {
   "cell_type": "code",
   "execution_count": null,
   "metadata": {},
   "outputs": [],
   "source": [
    "data = np.load(\"piston_10.npz\")"
   ]
  },
  {
   "cell_type": "code",
   "execution_count": null,
   "metadata": {},
   "outputs": [],
   "source": [
    "er_lhs = data['er_lhs']\n",
    "er_r = data['er_r']\n",
    "er_s = data['er_s']"
   ]
  },
  {
   "cell_type": "code",
   "execution_count": null,
   "metadata": {},
   "outputs": [],
   "source": [
    "def multi_error_piston(error, err_LHS, err_rand, err_sob):\n",
    "    ndim = 8\n",
    "    k = 0.6\n",
    "    error = np.array(error)\n",
    "    error_LHS = np.mean(err_LHS, axis = 1) \n",
    "    error_random = np.mean(err_rand,axis = 1)\n",
    "    error_sobol = np.mean(err_sob,axis = 1)\n",
    "\n",
    "    error_lhs_up = k*np.std(err_LHS,axis=1) + error_LHS\n",
    "    error_lhs_down = error_LHS - k*np.std(err_LHS,axis=1)\n",
    "\n",
    "    error_rand_up = k*np.std(err_rand,axis=1) + error_random\n",
    "    error_rand_down = error_random - k*np.std(err_rand,axis=1)\n",
    "\n",
    "    error_sob_up = k*np.std(err_sob,axis=1) + error_sobol\n",
    "    error_sob_down = error_sobol - k*np.std(err_sob,axis=1)\n",
    "  \n",
    "\n",
    "    indx = np.arange(0,10)\n",
    "    N_row = np.arange(1600,800,-80)\n",
    "    fig = plt.figure()\n",
    "    plt.plot(N_row[indx]/ndim, error[indx], label = 'BMaxvol', linewidth= 3)\n",
    "    plt.plot(N_row[indx]/ndim, error_LHS[indx], label = \"LHS\",color = '#539caf')\n",
    "    plt.plot(N_row[indx]/ndim, error_random[indx], label = \"Random\",color = 'green')\n",
    "    plt.plot(N_row[indx]/ndim, error_sobol[indx], label = \"Sobol\",color='red')\n",
    "    \n",
    "    \n",
    "    plt.fill_between(N_row[indx]/ndim, error_lhs_down[indx], error_lhs_up[indx],color = '#539caf',alpha = 0.4,label = '95% CI LHS')\n",
    "    plt.fill_between(N_row[indx]/ndim, error_rand_down[indx], error_rand_up[indx],color = 'green',alpha = 0.4,label = '95% CI random')\n",
    "    plt.fill_between(N_row[indx]/ndim, error_sob_down[indx], error_sob_up[indx],color = 'red', alpha = 0.4,   label = '95% CI Sobol')\n",
    "    \n",
    "    plt.yscale('log')\n",
    "    plt.xlabel('Number of points', fontsize=10)\n",
    "    plt.ylabel('$\\log \\epsilon$', rotation=90, labelpad=5)\n",
    "    plt.legend()\n",
    "    fnpdf = 'err(rows)_monoms={}.pdf'.format(ndim*100)\n",
    "    plt.grid(True)\n",
    "    plt.savefig(fnpdf)\n",
    "    plt.close(fig)"
   ]
  },
  {
   "cell_type": "code",
   "execution_count": null,
   "metadata": {},
   "outputs": [],
   "source": [
    "multi_error_piston(x,er_lhs, er_r, er_s)"
   ]
  },
  {
   "cell_type": "markdown",
   "metadata": {},
   "source": [
    "### Radial functions"
   ]
  },
  {
   "cell_type": "code",
   "execution_count": null,
   "metadata": {},
   "outputs": [],
   "source": [
    "def ellipse_sp(x,y):\n",
    "    b,e = 0.2,0.95\n",
    "    sigma,n = 1/2, 1\n",
    "    r = sp.sqrt(x**2 + y**2)\n",
    "    phi = sp.atan2(y,x)\n",
    "    R = r*sp.sqrt(1 - (e*sp.cos(phi))**2)/b\n",
    "    return((sp.exp(-1*(R**2)/(2*(sigma**2))))*sp.cos(n*phi))\n",
    "\n",
    "def sin_blob_sp(x,y):\n",
    "    a = 0.2\n",
    "    b = 0.8\n",
    "    sigma,n = 1,7\n",
    "    r = sp.sqrt(x**2 + y**2)\n",
    "    phi = sp.atan2(y,x)\n",
    "    R = r*(1/(b + a*sp.cos(n*phi)))\n",
    "    return((sp.exp(-1*(R**2)/(2*(sigma**2))))*(r**2))\n",
    "\n",
    "f_ellipse = symb_to_func(ellipse_sp,    2, True, False, name='Ellipse')  \n",
    "f_sin_blob= symb_to_func(sin_blob_sp,   2, True, False, name='Blob')  \n",
    "\n",
    "f_ellipse.diff    = MakeDiffs(ellipse_sp,  2)\n",
    "f_sin_blob.diff   = MakeDiffs(sin_blob_sp, 2)"
   ]
  },
  {
   "cell_type": "code",
   "execution_count": null,
   "metadata": {},
   "outputs": [],
   "source": [
    "fig = plt.figure(figsize=(7,7))\n",
    "ax = fig.gca(projection='3d')\n",
    "\n",
    "# Make data.\n",
    "a = 1.1\n",
    "X = np.linspace(-a, a, 1000)\n",
    "Y = np.linspace(-a, a, 1000)\n",
    "phi = np.arange(0,2*np.pi, 0.01)\n",
    "b= 0.2\n",
    "e = 0.95\n",
    "X, Y = np.meshgrid(X, Y)\n",
    "\n",
    "#r = (b / np.sqrt(1-(e*np.cos(phi))**2))\n",
    "#xx = r*np.cos(phi)\n",
    "#yy = r*np.sin(phi)\n",
    "\n",
    "r = 0.8 + 0.2*np.cos(7*phi)\n",
    "xx = r*np.cos(phi)\n",
    "yy = r*np.sin(phi)\n",
    "\n",
    "#Z = f_ellipse(X,Y)\n",
    "#Z = f_sin_blob(X,Y)\n",
    "Z = f_gauss_doubl(X,Y) - 2\n",
    "\n",
    "# Plot the surface.\n",
    "surf = ax.plot_surface(X, Y, Z, cmap=cm.summer,\n",
    "                       linewidth=0,label = 'Trigonometric')\n",
    "#fc = ax.plot(xx, yy,'bo', zs=0, zdir='z', label='curve in (x,y)')\n",
    "# Customize the z axis.\n",
    "ax.set_zlim(-1, 1)\n",
    "# Add a color bar which maps values to colors.\n",
    "fig.colorbar(surf, shrink=0.4, aspect=5)\n",
    "plt.grid(True)\n",
    "#fnpdf = 'ellips.pdf'\n",
    "#plt.savefig(fnpdf)\n",
    "plt.show()"
   ]
  }
 ],
 "metadata": {
  "kernelspec": {
   "display_name": "Python 3",
   "language": "python",
   "name": "python3"
  },
  "language_info": {
   "codemirror_mode": {
    "name": "ipython",
    "version": 3
   },
   "file_extension": ".py",
   "mimetype": "text/x-python",
   "name": "python",
   "nbconvert_exporter": "python",
   "pygments_lexer": "ipython3",
   "version": "3.7.1"
  }
 },
 "nbformat": 4,
 "nbformat_minor": 2
}
