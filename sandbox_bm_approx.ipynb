{
 "cells": [
  {
   "cell_type": "code",
   "execution_count": 1,
   "metadata": {},
   "outputs": [
    {
     "name": "stdout",
     "output_type": "stream",
     "text": [
      "6\n"
     ]
    }
   ],
   "source": [
    "import numpy as np\n",
    "import numpy.linalg as la\n",
    "import matplotlib.pyplot as plt\n",
    "import matplotlib\n",
    "from mpl_toolkits.mplot3d import Axes3D\n",
    "from gen_mat import *\n",
    "from block_rect_maxvol import *\n",
    "import re\n",
    "import os\n",
    "from matplotlib import cm\n",
    "from test_bench import *\n",
    "import itertools\n",
    "%matplotlib inline\n",
    "os.environ['OMP_NUM_THREADS'] = '6'\n",
    "print (os.environ['OMP_NUM_THREADS'])"
   ]
  },
  {
   "cell_type": "code",
   "execution_count": 2,
   "metadata": {
    "collapsed": true
   },
   "outputs": [],
   "source": [
    "num_expr = 1 # Adding this num to output fn for distinguish between experiments  (not used for now)\n",
    "nder = 2 # Dimension\n",
    "ToLoadSet = False # whether to load settigns form file\n",
    "\n",
    "functions = [f_rosenbrock, f_sincos, f_roots, f_gauss]\n",
    "inital_points_distribs = ['random', 'LHS']\n",
    "\n",
    "if ToLoadSet:\n",
    "    from sandbox_bm_approx_settings import *\n",
    "else:\n",
    "    dir_str = os.path.join(os.environ['HOME'], 'work/res/bm-big/')\n",
    "    num_points_for_big_matrix = 10000 # number of points for big matrix\n",
    "    max_row =  30                    # Maximum number of points taken in experiments\n",
    "    max_expansion = 30              # number of columns in big matrix in (nder+1) units\n",
    "    min_expansion = 2                  # minimal number of columns in experiments in (nder+1) units\n",
    "    \n",
    "\n",
    "    n_test = 50000    # points on test grid (for calculating error on final step)\n",
    "    poly = cheb       # used polinomials\n",
    "\n",
    "\n",
    "#####\n",
    "dir_pdf = os.path.join(dir_str, \"pdf\")\n",
    "try:\n",
    "    os.makedirs(dir_pdf)\n",
    "except:\n",
    "    pass\n",
    "\n",
    "\n",
    "\n",
    "ToTakePointsFromFile = False # (not used for now)\n",
    "\n",
    "# ---------------------------------\n",
    "p_size = (nder+1)*max_row #number of rows in big matrix\n",
    "\n",
    "### generating test points\n",
    "points_test = test_points_gen(n_test, nder, distrib='random') \n",
    "\n",
    "\n",
    "#contents of file sandbox_bm_approx_settings.py\n",
    "_=\"\"\"\n",
    "from gen_mat import cheb\n",
    "\n",
    "\n",
    "dir_str = '.'\n",
    "num_points_for_big_matrix = 50000 # number of points for big matrix\n",
    "max_row = 50                      # Maximum number of points taken in experiments\n",
    "max_expansion = 10                 # number of columns in big matrix in (nder+1) units\n",
    "min_expansion = 1                 # minimal number of columns in experiments in (nder+1) units\n",
    "\n",
    "n_test = 50000    # points on test grid (for calculating error on final step)\n",
    "poly = cheb       # used polynomials\n",
    "\"\"\""
   ]
  },
  {
   "cell_type": "markdown",
   "metadata": {},
   "source": [
    "### Testing the new most general environment"
   ]
  },
  {
   "cell_type": "code",
   "execution_count": null,
   "metadata": {},
   "outputs": [
    {
     "name": "stdout",
     "output_type": "stream",
     "text": [
      "not full column rank with expansion=2, N_rows_ex=30, err=2\n",
      "not full column rank with expansion=5, N_rows_ex=30, err=2\n"
     ]
    }
   ],
   "source": [
    "### evaluating test\n",
    "for inital_points_distrib in inital_points_distribs:\n",
    "    points_fn = 'taken_points_{}'.format(inital_points_distrib)\n",
    "    x = test_points_gen(num_points_for_big_matrix, nder, distrib=inital_points_distrib)\n",
    "    \n",
    "    A = GenMat(p_size, x, poly=poly, debug=False, pow_p=1)\n",
    "    A = matrix_prep(A, nder+1)\n",
    "    \n",
    "    np.savez(os.path.join(dir_str, points_fn), x=x, points_test=points_test)\n",
    "    \n",
    "    fn_pre = lambda function : \"func={}_poly={}_distrib={}\".format(function.__name__, poly.__name__, inital_points_distrib)\n",
    "    fls = [open(os.path.join(dir_str, fn_pre(function) + '.txt'), \"w\") for function in functions]\n",
    "    \n",
    "    fn_pre_pdf = \"poly={}_distrib={}\".format(poly.__name__, inital_points_distrib)\n",
    "    for expansion in range(min_expansion, max_expansion):\n",
    "                for N_rows_ex in range(max_row, expansion, -1): # It's not the way people do...\n",
    "                    N_rows = N_rows_ex*(nder+1)\n",
    "                    fnpdf = os.path.join(dir_pdf, fn_pre_pdf + \"_expansion={}_N_rows_ex={}.pdf\".format(expansion, N_rows_ex))\n",
    "                    try:\n",
    "                        error, taken_points = test(A, x, points_test, nder, expansion, N_rows, functions, \n",
    "                                                   poly=poly, to_save_pivs=N_rows_ex==max_row, \n",
    "                                                   fnpdf=fnpdf)\n",
    "                    except SingularError as err:\n",
    "                        print ('not full column rank with expansion={}, N_rows_ex={}, err={}'.format(\n",
    "                                                            expansion, N_rows_ex, err.value)) \n",
    "                        #continue\n",
    "                        break\n",
    "\n",
    "                    for i, f in enumerate(fls):\n",
    "                        taken_points.tofile(f, sep=\" \")\n",
    "                        f.write(\"_error={}_Nrows={}_expans={}\\n\".format(error[i], N_rows, expansion))\n",
    "                        f.flush()\n",
    "                    \n",
    "    for f in fls:\n",
    "        f.close()\n"
   ]
  },
  {
   "cell_type": "code",
   "execution_count": null,
   "metadata": {
    "collapsed": true
   },
   "outputs": [],
   "source": [
    "def file_extraction(Filepath):\n",
    "    srch = re.compile(r'([\\d\\s]+)_error=([\\+\\-\\d\\.eE]+)_Nrows=(\\d+)_expans=(\\d+)')\n",
    "    fnd = srch.findall(open(Filepath, 'r').read())\n",
    "    return tuple(np.array(i) for i in zip(*[(float(i0), int(i1), int(i2), [int(p) for p in im1.strip().split(' ') if len(p) > 0])\n",
    "                                            for im1, i0, i1, i2 in fnd]))\n",
    "\n",
    "\n",
    "def DataToMesh(error, N_row, N_col, *args):\n",
    "    row_s = sorted(list(set(N_row)))\n",
    "    col_s = sorted(list(set(N_col)))\n",
    "    data = {(N_row[i], N_col[i]) : e for i, e in enumerate(error)}\n",
    "    \n",
    "    res = np.empty((len(row_s), len(col_s)), dtype=float)\n",
    "    for i, r in enumerate(row_s):\n",
    "        for j, c in enumerate(col_s):\n",
    "            try:\n",
    "                res[i,j] = data[(r, c)]\n",
    "            except:\n",
    "                res[i,j] = np.nan\n",
    "    X, Y = np.meshgrid(row_s, col_s)\n",
    "    return res.T, X, Y\n",
    "\n",
    "def PlotError(fn, log_it=False):\n",
    "    error, N_row, N_col = DataToMesh(*file_extraction(fn))\n",
    "    if log_it:\n",
    "        error = np.log10(error)\n",
    "\n",
    "    fig = plt.figure()\n",
    "    ax = fig.gca(projection='3d')\n",
    "    ax.plot_surface(N_row, N_col, error, edgecolor='black', linewidth=0.5, cmap = cm.Spectral)\n",
    "    # ax.legend()\n",
    "    ax.set_xlabel('N_rows', fontsize=10)\n",
    "    ax.set_ylabel('N_columns')\n",
    "    plt.show()\n",
    "    \n",
    "    \n",
    "# Not used\n",
    "def PlotPoints(fn, row, col, x, to_save_fig=False, fn_out=\"func.pdf\"):\n",
    "    _, N_row, N_col, idx = file_extraction(fn)\n",
    "    \n",
    "    l_bound = np.amin(x, 0)\n",
    "    u_bound = np.amax(x, 0)\n",
    "    delta = (u_bound - l_bound)/20.0\n",
    "    plt.xlim(l_bound[0] - delta[0], u_bound[0] + delta[0])\n",
    "    plt.ylim(l_bound[1] - delta[1], u_bound[1] + delta[1])\n",
    "    plt.plot(x[idx, 0], x[idx, 1], 'b^')\n",
    "    # plt.legend(bbox_to_anchor=(0., 1.02, 1., .102), loc=3, ncol=2, borderaxespad=0.)\n",
    "    # plt.title(\"E = {}\".format(error))\n",
    "    plt.grid(True)\n",
    "    if to_save_fig:\n",
    "        # fn = 'func={}_d={}_num={}_nder={}.pdf'.format(function.__name__, N_column, N_rows, nder)\n",
    "        plt.savefig(fn_out)\n",
    "    "
   ]
  },
  {
   "cell_type": "code",
   "execution_count": null,
   "metadata": {
    "collapsed": true
   },
   "outputs": [],
   "source": [
    "PlotError(\"func=Rosenbrock_poly=cheb.txt\", True)"
   ]
  },
  {
   "cell_type": "markdown",
   "metadata": {},
   "source": [
    "## Test PLUQ"
   ]
  },
  {
   "cell_type": "code",
   "execution_count": null,
   "metadata": {
    "collapsed": true
   },
   "outputs": [],
   "source": [
    "def vol2(A):\n",
    "    return(np.sqrt(np.abs(la.det(np.dot(A.T, A)))))"
   ]
  },
  {
   "cell_type": "code",
   "execution_count": null,
   "metadata": {
    "collapsed": true
   },
   "outputs": [],
   "source": [
    "inital_points_distrib = 'LHS'\n",
    "nder = 2\n",
    "row_exp = max_row + 4\n",
    "del_dist = 0.2\n",
    "\n",
    "num_points_for_big_matrix = 3600\n",
    "poly = cheb\n",
    "Kmax = row_exp*(nder+1)\n",
    "x = test_points_gen(num_points_for_big_matrix, nder, distrib=inital_points_distrib)\n",
    "    \n",
    "A = GenMat(p_size, x, poly=poly, debug=False, pow_p=1)\n",
    "A = matrix_prep(A, nder+1)"
   ]
  },
  {
   "cell_type": "code",
   "execution_count": null,
   "metadata": {
    "collapsed": true
   },
   "outputs": [],
   "source": [
    "print A.shape"
   ]
  },
  {
   "cell_type": "code",
   "execution_count": null,
   "metadata": {
    "collapsed": true
   },
   "outputs": [],
   "source": [
    "test = np.load(\"taken_points_random.npz\")"
   ]
  },
  {
   "cell_type": "code",
   "execution_count": null,
   "metadata": {
    "collapsed": true
   },
   "outputs": [],
   "source": [
    "p,q,lu,indx = ids.pluq_ids(A,nder,do_pullback=False,pullbacks=4,overwrite_a=False,preserve_order=True)\n",
    "A = A[p]"
   ]
  },
  {
   "cell_type": "code",
   "execution_count": null,
   "metadata": {
    "collapsed": true
   },
   "outputs": [],
   "source": [
    "A1 = np.copy(A)\n",
    "erase_init(point_erase, x, nder, del_dist)\n",
    "pivs = rect_block_maxvol(A1, nder, Kmax = Kmax, max_iters=100, rect_tol = 0.05, tol = 0.0, debug = False, to_erase = point_erase)"
   ]
  },
  {
   "cell_type": "code",
   "execution_count": null,
   "metadata": {
    "collapsed": true
   },
   "outputs": [],
   "source": [
    "cut_piv = pivs\n",
    "taken_indices = cut_piv[::(nder+1)] // (nder+1)\n",
    "l_bound = np.amin(x, 0)\n",
    "u_bound = np.amax(x, 0)\n",
    "delta = (u_bound - l_bound)/20.0\n",
    "fig = plt.figure(figsize=(10,10))\n",
    "plt.xlim(l_bound[0] - delta[0], u_bound[0] + delta[0])\n",
    "plt.ylim(l_bound[1] - delta[1], u_bound[1] + delta[1])\n",
    "plt.plot(x[taken_indices, 0], x[taken_indices, 1], 'b^')\n",
    "# plt.title(\"E = {}\".format(error))\n",
    "plt.grid(True)"
   ]
  },
  {
   "cell_type": "code",
   "execution_count": null,
   "metadata": {
    "collapsed": true
   },
   "outputs": [],
   "source": [
    "cut_piv = pivs[:Kmax]\n",
    "taken_indices = cut_piv[::(nder+1)] // (nder+1)\n",
    "l_bound = np.amin(x, 0)\n",
    "u_bound = np.amax(x, 0)\n",
    "delta = (u_bound - l_bound)/20.0\n",
    "fig = plt.figure()\n",
    "plt.xlim(l_bound[0] - delta[0], u_bound[0] + delta[0])\n",
    "plt.ylim(l_bound[1] - delta[1], u_bound[1] + delta[1])\n",
    "plt.plot(x[taken_indices, 0], x[taken_indices, 1], 'b^')\n",
    "# plt.title(\"E = {}\".format(error))\n",
    "plt.grid(True)"
   ]
  },
  {
   "cell_type": "code",
   "execution_count": null,
   "metadata": {
    "collapsed": true
   },
   "outputs": [],
   "source": [
    "from numba import jit\n",
    "\n",
    "#@jit\n",
    "def AllCombsrect(A, l, num_take_blocks=None, debug=False):\n",
    "    # INPUT \n",
    "    # A -- matrix\n",
    "    # l -- number of dimensions (derivatives), size of block is l+1\n",
    "    # num_take_bocks -- blocks returnd by algorithm\n",
    "    l1 = l + 1\n",
    "    b_one = np.arange(l1)\n",
    "    num_of_blocks = A.shape[0] // l1\n",
    "    max_det = 0.0\n",
    "    good_idx = None\n",
    "    if num_take_blocks is None:\n",
    "        num_take_blocks = A.shape[1] // l1 # Take square mat and test square block maxvol\n",
    "    for i in itertools.combinations(xrange(num_of_blocks), num_take_blocks):\n",
    "        # print i\n",
    "        idx = np.hstack((b_one + j*l1 for j in i))\n",
    "        Al = A[idx]\n",
    "        B  = np.dot(Al.T,Al)\n",
    "        cur_det = np.abs(la.det(B))\n",
    "        if cur_det > max_det:\n",
    "            max_det = cur_det\n",
    "            good_idx = i\n",
    "        if debug:\n",
    "            print i, idx, cur_det\n",
    "            \n",
    "    return max_det, good_idx"
   ]
  },
  {
   "cell_type": "code",
   "execution_count": null,
   "metadata": {
    "collapsed": true
   },
   "outputs": [],
   "source": [
    "def GetNumOfBlocks(idx, l):\n",
    "    l1 = l+1\n",
    "    b_one = np.arange(l1)\n",
    "    idx_bl = idx[np.arange(0, len(idx), l1)] // (l1)\n",
    "    assert( np.all(np.hstack((b_one + j*l1 for j in idx_bl)) == idx)  )\n",
    "    return idx_bl"
   ]
  },
  {
   "cell_type": "code",
   "execution_count": null,
   "metadata": {
    "collapsed": true
   },
   "outputs": [],
   "source": [
    "A = GenMat((nder+1), x, poly=poly, debug=False, pow_p=1)\n",
    "A = matrix_prep(A, nder+1)"
   ]
  },
  {
   "cell_type": "code",
   "execution_count": null,
   "metadata": {
    "collapsed": true
   },
   "outputs": [],
   "source": [
    "det, indices_best = AllCombsrect(A, nder, num_take_blocks=6, debug=False)\n",
    "np.save('indices', indices_best)\n",
    "np.save('supervol', det)"
   ]
  },
  {
   "cell_type": "code",
   "execution_count": null,
   "metadata": {
    "collapsed": true
   },
   "outputs": [],
   "source": [
    "indices_best = np.array(indices_best)"
   ]
  },
  {
   "cell_type": "code",
   "execution_count": null,
   "metadata": {
    "collapsed": true
   },
   "outputs": [],
   "source": [
    "piv_max = np.array([27,28,29,39,40,41,54,55,56,60,61,62,153,154,155,177,178,179])"
   ]
  },
  {
   "cell_type": "code",
   "execution_count": null,
   "metadata": {
    "collapsed": true
   },
   "outputs": [],
   "source": [
    "block_func_deriv = RHS(sincos, x[indices_best])\n",
    "c_block3, res_x, rank, s = np.linalg.lstsq(A[piv_max], block_func_deriv)\n",
    "    \n",
    "approx_calcul = approximant(nder, c_block3, poly=poly)\n",
    "error3 = error_est(sincos, approx_calcul, points_test)"
   ]
  },
  {
   "cell_type": "code",
   "execution_count": null,
   "metadata": {
    "collapsed": true
   },
   "outputs": [],
   "source": [
    "def printing(x,taken_indices,N_column,N_rows):\n",
    "    l_bound = np.amin(x, 0)\n",
    "    u_bound = np.amax(x, 0)\n",
    "    delta = 0.15\n",
    "    fig = plt.figure()\n",
    "    plt.xlim(l_bound[0] - delta, u_bound[0] + delta)\n",
    "    plt.ylim(l_bound[1] - delta, u_bound[1] + delta)\n",
    "    plt.plot(x[taken_indices, 0], x[taken_indices, 1], 'b^')\n",
    "    # plt.title(\"E = {}\".format(error))\n",
    "    plt.grid(True)\n",
    "    \n",
    "    # fnpdf = 'func={}_columns={}_rows={}_pnts={}.pdf'.format(function.__name__, N_column, N_rows, len(taken_indices))\n",
    "    fnpdf = 'columns={}_rows12={}.pdf'.format(N_column, N_rows)\n",
    "    # print \"Num of points = {}, saving to file {}\".format(len(taken_indices), fnpdf)\n",
    "    plt.savefig(fnpdf)\n",
    "    plt.close(fig)"
   ]
  }
 ],
 "metadata": {
  "kernelspec": {
   "display_name": "Python 2",
   "language": "python",
   "name": "python2"
  },
  "language_info": {
   "codemirror_mode": {
    "name": "ipython",
    "version": 2
   },
   "file_extension": ".py",
   "mimetype": "text/x-python",
   "name": "python",
   "nbconvert_exporter": "python",
   "pygments_lexer": "ipython2",
   "version": "2.7.13"
  }
 },
 "nbformat": 4,
 "nbformat_minor": 2
}
