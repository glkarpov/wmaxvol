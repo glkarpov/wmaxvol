{
 "cells": [
  {
   "cell_type": "code",
   "execution_count": 2,
   "metadata": {
    "collapsed": false,
    "scrolled": true
   },
   "outputs": [
    {
     "data": {
      "text/plain": [
       "<matplotlib.legend.Legend at 0x10d4830f0>"
      ]
     },
     "execution_count": 2,
     "metadata": {},
     "output_type": "execute_result"
    },
    {
     "data": {
      "image/png": "[encoded data removed]",
      "text/plain": [
       "<matplotlib.figure.Figure at 0x109e83780>"
      ]
     },
     "metadata": {},
     "output_type": "display_data"
    }
   ],
   "source": [
    "import numpy as np\n",
    "import math\n",
    "import random\n",
    "from numpy.polynomial import Chebyshev as T\n",
    "from numpy import polynomial as P\n",
    "import matplotlib.pyplot as plt\n",
    "%matplotlib inline\n",
    "\n",
    "# init\n",
    "# number of grid points\n",
    "n = 801\n",
    "# Chebyshev polynomial power\n",
    "m = 40\n",
    "\n",
    "# main domain\n",
    "x = np.linspace(-1, 1, n)\n",
    "y = np.zeros(n, dtype=float)\n",
    "\n",
    "# extraction domain\n",
    "x_t = np.zeros(m, dtype=float)\n",
    "y_t = np.zeros(m, dtype=float)\n",
    "\n",
    "# Cheb polynomials matrix\n",
    "T_t = np.zeros((m, m) ,dtype=float)\n",
    "\n",
    "# restoring test domain\n",
    "y_restored = np.zeros(n, dtype=float)\n",
    "\n",
    "# function \n",
    "y = 2*x + 2*(x ** 2)\n",
    "   \n",
    "# uniform extraction\n",
    "# forming extraction domains and Cheb matrices\n",
    "i = 0\n",
    "while i < m:\n",
    "    point = i*math.floor(n/m)\n",
    "    x_t[i] = x[point]\n",
    "    y_t[i] = y[point]\n",
    "    j = 0\n",
    "    while j < m:\n",
    "        T_t[i][j] = T.basis(j)(x_t[i])\n",
    "        j = j + 1\n",
    "    i = i + 1\n",
    "\n",
    "\n",
    "C = np.linalg.solve(T_t, y_t)\n",
    "#print ('Coefficients=', C)\n",
    "\n",
    "# restoring function on whole domain\n",
    "i = 0\n",
    "while i < n:\n",
    "    j = 0\n",
    "    summ = 0.0\n",
    "    while j < m:\n",
    "        summ = summ + C[j]*T.basis(j)(x[i])\n",
    "        j = j + 1\n",
    "    y_restored[i] = summ\n",
    "    i = i + 1\n",
    "\n",
    "    \n",
    "#plt.plot(x, y_restored)\n",
    "#plt.legend(['original', 'restored'], loc='lower left')\n",
    "#plt.show()    \n",
    "\n",
    "#extraction with weights\n",
    "i = 0\n",
    "extr_point_back = 0\n",
    "extr_point_front = n - 1\n",
    "while i < (m / 2):\n",
    "    x_t[i] = x[extr_point_back]\n",
    "    y_t[i] = y[extr_point_back]\n",
    "    x_t[m - 1 - i] = x[extr_point_front]\n",
    "    y_t[m - 1 - i] = y[extr_point_front]\n",
    "    jump = math.ceil(((n-1) / m) * (1 / (1 + (x[extr_point_back]) ** 2)))\n",
    "    extr_point_back += jump\n",
    "    extr_point_front -= jump\n",
    "    j = 0\n",
    "    while j < m:\n",
    "        T_t[i][j] = T.basis(j)(x_t[i])\n",
    "        T_t[m - 1 - i][j] = T.basis(j)(x_t[m - 1 - i])\n",
    "        j = j + 1\n",
    "    i = i + 1\n",
    "      \n",
    "\n",
    "C = np.linalg.solve(T_t, y_t)\n",
    "#print ('Coefficients=', C)\n",
    "\n",
    "# restoring function on whole domain\n",
    "i = 0\n",
    "while i < n:\n",
    "    j = 0\n",
    "    summ = 0.0\n",
    "    while j < m:\n",
    "        summ = summ + C[j]*T.basis(j)(x[i])\n",
    "        j = j + 1\n",
    "    y_restored[i] = summ\n",
    "    i = i + 1\n",
    "\n",
    "    \n",
    "plt.plot(x, y)    \n",
    "plt.plot(x, y_restored)\n",
    "plt.plot(x_t, y_t, linestyle = ':', marker = 'o')\n",
    "plt.legend(['original', 'restored', 'extraction'], loc='upper left')"
   ]
  },
  {
   "cell_type": "code",
   "execution_count": null,
   "metadata": {
    "collapsed": true
   },
   "outputs": [],
   "source": []
  }
 ],
 "metadata": {
  "anaconda-cloud": {},
  "kernelspec": {
   "display_name": "Python [conda root]",
   "language": "python",
   "name": "conda-root-py"
  },
  "language_info": {
   "codemirror_mode": {
    "name": "ipython",
    "version": 3
   },
   "file_extension": ".py",
   "mimetype": "text/x-python",
   "name": "python",
   "nbconvert_exporter": "python",
   "pygments_lexer": "ipython3",
   "version": "3.5.2"
  }
 },
 "nbformat": 4,
 "nbformat_minor": 1
}
