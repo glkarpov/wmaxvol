{
 "cells": [
  {
   "cell_type": "code",
   "execution_count": 1,
   "metadata": {
    "collapsed": false,
    "scrolled": true
   },
   "outputs": [
    {
     "name": "stdout",
     "output_type": "stream",
     "text": [
      "Coefficients= [  1.00000000e+00   2.00000000e+00   1.00000000e+00  -6.11405880e-13\n",
      "  -1.04965809e-10   9.79686302e-13   9.60281893e-11  -1.22422420e-12\n",
      "  -8.49003351e-11   1.39352445e-12   7.22052446e-11  -1.43220878e-12\n",
      "  -5.91784584e-11   1.38651315e-12   4.65603932e-11  -1.25772143e-12\n",
      "  -3.51159913e-11   1.07330220e-12   2.53612827e-11  -8.75889660e-13\n",
      "  -1.73862060e-11   6.60868101e-13   1.13920562e-11  -4.87161549e-13\n",
      "  -6.95111604e-12   3.19632375e-13   4.06135760e-12  -2.12222246e-13\n",
      "  -2.12180823e-12   1.16195191e-13   1.07750016e-12  -6.89968989e-14\n",
      "  -4.43636761e-13   2.86789107e-14   1.88323780e-13  -1.51657689e-14\n",
      "  -4.82051890e-14   3.62957355e-15   1.60739679e-14  -1.73695307e-15]\n"
     ]
    },
    {
     "data": {
      "text/plain": [
       "<matplotlib.legend.Legend at 0x1ce31eeca58>"
      ]
     },
     "execution_count": 1,
     "metadata": {},
     "output_type": "execute_result"
    },
    {
     "data": {
      "image/png": "[encoded data removed]",
      "text/plain": [
       "<matplotlib.figure.Figure at 0x1ce31cf1d30>"
      ]
     },
     "metadata": {},
     "output_type": "display_data"
    }
   ],
   "source": [
    "import numpy as np\n",
    "import math\n",
    "import random\n",
    "from numpy.polynomial import Chebyshev as T\n",
    "from numpy import polynomial as P\n",
    "import matplotlib.pyplot as plt\n",
    "%matplotlib inline\n",
    "\n",
    "# init\n",
    "# number of grid points\n",
    "n = 801\n",
    "# Chebyshev polynomial power\n",
    "m = 40\n",
    "\n",
    "# main domain\n",
    "x = np.linspace(-1, 1, n)\n",
    "y = np.zeros(n, dtype=float)\n",
    "\n",
    "# extraction domain\n",
    "x_t = np.zeros(m, dtype=float)\n",
    "y_t = np.zeros(m, dtype=float)\n",
    "\n",
    "# Cheb polynomials matrix\n",
    "T_t = np.zeros((m, m) ,dtype=float)\n",
    "\n",
    "# restoring test domain\n",
    "y_restored = np.zeros(n, dtype=float)\n",
    "\n",
    "# function \n",
    "y = 2*x + 2*(x ** 2)\n",
    "   \n",
    "# uniform extraction\n",
    "# forming extraction domains and Cheb matrices\n",
    "i = 0\n",
    "while i < m:\n",
    "    point = i*math.floor(n/m)\n",
    "    x_t[i] = x[point]\n",
    "    y_t[i] = y[point]\n",
    "    j = 0\n",
    "    while j < m:\n",
    "        T_t[i][j] = T.basis(j)(x_t[i])\n",
    "        j = j + 1\n",
    "    i = i + 1\n",
    "\n",
    "\n",
    "C = np.linalg.solve(T_t, y_t)\n",
    "#print ('Coefficients=', C)\n",
    "\n",
    "# restoring function on whole domain\n",
    "i = 0\n",
    "while i < n:\n",
    "    j = 0\n",
    "    summ = 0.0\n",
    "    while j < m:\n",
    "        summ = summ + C[j]*T.basis(j)(x[i])\n",
    "        j = j + 1\n",
    "    y_restored[i] = summ\n",
    "    i = i + 1\n",
    "\n",
    "    \n",
    "#plt.plot(x, y_restored)\n",
    "#plt.legend(['original', 'restored'], loc='lower left')\n",
    "#plt.show()    \n",
    "\n",
    "#extraction with weights\n",
    "i = 0\n",
    "extr_point_back = 0\n",
    "extr_point_front = n - 1\n",
    "while i < (m / 2):\n",
    "    x_t[i] = x[extr_point_back]\n",
    "    y_t[i] = y[extr_point_back]\n",
    "    x_t[m - 1 - i] = x[extr_point_front]\n",
    "    y_t[m - 1 - i] = y[extr_point_front]\n",
    "    jump = math.ceil(((n-1) / m) * (1 / (1 + (x[extr_point_back]) ** 2)))\n",
    "    extr_point_back += jump\n",
    "    extr_point_front -= jump\n",
    "    j = 0\n",
    "    while j < m:\n",
    "        T_t[i][j] = T.basis(j)(x_t[i])\n",
    "        T_t[m - 1 - i][j] = T.basis(j)(x_t[m - 1 - i])\n",
    "        j = j + 1\n",
    "    i = i + 1\n",
    "      \n",
    "\n",
    "C = np.linalg.solve(T_t, y_t)\n",
    "print ('Coefficients=', C)\n",
    "\n",
    "# restoring function on whole domain\n",
    "i = 0\n",
    "while i < n:\n",
    "    j = 0\n",
    "    summ = 0.0\n",
    "    while j < m:\n",
    "        summ = summ + C[j]*T.basis(j)(x[i])\n",
    "        j = j + 1\n",
    "    y_restored[i] = summ\n",
    "    i = i + 1\n",
    "\n",
    "    \n",
    "plt.plot(x, y)    \n",
    "plt.plot(x, y_restored)\n",
    "plt.plot(x_t, y_t, linestyle = ':', marker = 'o')\n",
    "plt.legend(['original', 'restored', 'extraction'], loc='upper left')"
   ]
  },
  {
   "cell_type": "code",
   "execution_count": null,
   "metadata": {
    "collapsed": true
   },
   "outputs": [],
   "source": []
  }
 ],
 "metadata": {
  "anaconda-cloud": {},
  "kernelspec": {
   "display_name": "Python [conda root]",
   "language": "python",
   "name": "conda-root-py"
  },
  "language_info": {
   "codemirror_mode": {
    "name": "ipython",
    "version": 3
   },
   "file_extension": ".py",
   "mimetype": "text/x-python",
   "name": "python",
   "nbconvert_exporter": "python",
   "pygments_lexer": "ipython3",
   "version": "3.5.2"
  }
 },
 "nbformat": 4,
 "nbformat_minor": 1
}
