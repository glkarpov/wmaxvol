{
 "cells": [
  {
   "cell_type": "code",
   "execution_count": 50,
   "metadata": {
    "collapsed": true
   },
   "outputs": [],
   "source": [
    "import numpy as np\n",
    "import math\n",
    "import random\n",
    "from numpy.polynomial import Chebyshev as T\n",
    "from numpy import polynomial as P\n",
    "import matplotlib.pyplot as plt\n",
    "from maxvolpy.maxvol import maxvol\n",
    "import scipy\n",
    "%matplotlib inline\n",
    "\n",
    "\n",
    "# init\n",
    "# number of grid points\n",
    "n = 501\n",
    "\n",
    "# Chebyshev polynomial power\n",
    "m = 20\n",
    "\n",
    "# main domain\n",
    "x = np.linspace(-1, 1, n)\n",
    "y = np.zeros(n, dtype=float)\n",
    "\n",
    "# function \n",
    "y = 2*x + 2*(x ** 14) + np.exp(-2*x)\n",
    "   \n",
    "\n",
    "def cheb_maxvol(x, y, n, m):    \n",
    "    #init\n",
    "    # Cheb polynomials matrix\n",
    "    T_whole = np.zeros((n, m), dtype = float)\n",
    "    T_extr = np.zeros((m, m), dtype = float)\n",
    "    \n",
    "    # extraction domain\n",
    "    x_t = np.zeros(m, dtype = float)\n",
    "    y_t = np.zeros(m, dtype = float)\n",
    "    \n",
    "    # restoring domain\n",
    "    y_restored = np.zeros(n, dtype=float)\n",
    "    \n",
    "    #we want to create matrix with (n x m) shape where will be all Ti counted for an every point of grid    \n",
    "    for i in range(m):\n",
    "        T_whole[:, i] = T.basis(i)(x[:])\n",
    "\n",
    "    # maxvol outputs indices (!) of best m rows, to achieve (m x m) matrix with rank m \n",
    "    row_ind, _ = maxvol(T_whole)    \n",
    "    row_ind = np.sort(row_ind)\n",
    "\n",
    "    #now construct right hand side\n",
    "    y_t[:] = y[row_ind[:]]\n",
    "\n",
    "    #construct array with extraction points for plotting\n",
    "    x_t[:] = x[row_ind[:]]\n",
    "\n",
    "    #construct matrix of coefficients\n",
    "    T_extr[:, :] = T_whole[row_ind[:], :]\n",
    "\n",
    "    #solve system\n",
    "    C = np.linalg.solve(T_extr, y_t)\n",
    "\n",
    "\n",
    "    # restoring function on whole domain\n",
    "    i = 0\n",
    "    while i < n:\n",
    "        j = 0\n",
    "        summ = 0.0\n",
    "        while j < m:\n",
    "            summ += C[j]*T_whole[i, j]\n",
    "            j = j + 1\n",
    "        y_restored[i] = summ\n",
    "        i = i + 1\n",
    "        \n",
    "    return(y_restored, x_t, y_t)"
   ]
  },
  {
   "cell_type": "code",
   "execution_count": 51,
   "metadata": {
    "collapsed": false
   },
   "outputs": [
    {
     "data": {
      "text/plain": [
       "[<matplotlib.lines.Line2D at 0x7f6b4890b278>]"
      ]
     },
     "execution_count": 51,
     "metadata": {},
     "output_type": "execute_result"
    },
    {
     "data": {
      "image/png": "[encoded data removed]",
      "text/plain": [
       "<matplotlib.figure.Figure at 0x7f6b490279e8>"
      ]
     },
     "metadata": {},
     "output_type": "display_data"
    }
   ],
   "source": [
    "# work here :)\n",
    "y_r_maxvol, x_maxvol, y_maxvol = cheb_maxvol(x, y, n, m)\n",
    "\n",
    "plt.plot(x, y)    \n",
    "plt.plot(x, y_r_maxvol)\n",
    "plt.plot(x_maxvol, y_maxvol, linestyle = ':', marker = 'o')    "
   ]
  },
  {
   "cell_type": "code",
   "execution_count": null,
   "metadata": {
    "collapsed": true
   },
   "outputs": [],
   "source": []
  }
 ],
 "metadata": {
  "kernelspec": {
   "display_name": "Python [conda env:test]",
   "language": "python",
   "name": "conda-env-test-py"
  },
  "language_info": {
   "codemirror_mode": {
    "name": "ipython",
    "version": 3
   },
   "file_extension": ".py",
   "mimetype": "text/x-python",
   "name": "python",
   "nbconvert_exporter": "python",
   "pygments_lexer": "ipython3",
   "version": "3.5.2"
  }
 },
 "nbformat": 4,
 "nbformat_minor": 2
}
