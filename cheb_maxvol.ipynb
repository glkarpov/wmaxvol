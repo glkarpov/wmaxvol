{
 "cells": [
  {
   "cell_type": "code",
   "execution_count": 5,
   "metadata": {
    "collapsed": true
   },
   "outputs": [],
   "source": [
    "import numpy as np\n",
    "import random\n",
    "from numpy.polynomial import Chebyshev as T\n",
    "from numpy import polynomial as P\n",
    "import matplotlib.pyplot as plt\n",
    "from maxvolpy.maxvol import maxvol\n",
    "import scipy\n",
    "%matplotlib inline\n",
    "\n",
    "\n",
    "# init\n",
    "# number of grid points\n",
    "n = 501\n",
    "\n",
    "# Chebyshev polynomial power\n",
    "m = 5\n",
    "\n",
    "# main domain\n",
    "x = np.linspace(-1, 1, n)\n",
    "y = np.zeros(n, dtype=float)\n",
    "\n",
    "# function \n",
    "#y = (0.01)*x + (0.5)*(x ** 84)\n",
    "y = np.exp(x**3)   \n",
    "\n",
    "def cheb_maxvol(x, y, n, m):    \n",
    "    #init\n",
    "    # Cheb polynomials matrix\n",
    "    T_whole = np.zeros((n, m), dtype = float)\n",
    "    T_extr = np.zeros((m, m), dtype = float)\n",
    "    \n",
    "    # extraction domain\n",
    "    x_t = np.zeros(m, dtype = float)\n",
    "    y_t = np.zeros(m, dtype = float)\n",
    "    \n",
    "    # restoring domain\n",
    "    y_restored = np.zeros(n, dtype=float)\n",
    "    \n",
    "    #we want to create matrix with (n x m) shape where will be all Ti counted for an every point of grid    \n",
    "    for i in range(m):\n",
    "        T_whole[:, i] = T.basis(i)(x[:])\n",
    "\n",
    "    # maxvol outputs indices (!) of best m rows, to achieve (m x m) matrix with rank m \n",
    "    row_ind, _ = maxvol(T_whole)    \n",
    "    row_ind = np.sort(row_ind)\n",
    "\n",
    "    #now construct right hand side\n",
    "    y_t[:] = y[row_ind[:]]\n",
    "\n",
    "    #construct array with extraction points for plotting\n",
    "    x_t[:] = x[row_ind[:]]\n",
    "\n",
    "    #construct matrix of coefficients\n",
    "    T_extr[:, :] = T_whole[row_ind[:], :]\n",
    "\n",
    "    #solve system\n",
    "    C = np.linalg.solve(T_extr, y_t)\n",
    "\n",
    "\n",
    "    # restoring function on whole domain\n",
    "    i = 0\n",
    "    while i < n:\n",
    "        j = 0\n",
    "        summ = 0.0\n",
    "        while j < m:\n",
    "            summ += C[j]*T_whole[i, j]\n",
    "            j = j + 1\n",
    "        y_restored[i] = summ\n",
    "        i = i + 1\n",
    "        \n",
    "    return(y_restored, x_t, y_t)"
   ]
  },
  {
   "cell_type": "code",
   "execution_count": 6,
   "metadata": {
    "collapsed": false
   },
   "outputs": [
    {
     "data": {
      "text/plain": [
       "[<matplotlib.lines.Line2D at 0x7f32750e5810>]"
      ]
     },
     "execution_count": 6,
     "metadata": {},
     "output_type": "execute_result"
    },
    {
     "data": {
      "image/png": "[encoded data removed]",
      "text/plain": [
       "<matplotlib.figure.Figure at 0x7f32753750d0>"
      ]
     },
     "metadata": {},
     "output_type": "display_data"
    }
   ],
   "source": [
    "# work here :)\n",
    "y_r_maxvol, x_maxvol, y_maxvol = cheb_maxvol(x, y, n, m)\n",
    "\n",
    "plt.plot(x, y)    \n",
    "plt.plot(x, y_r_maxvol)\n",
    "plt.plot(x_maxvol, y_maxvol, linestyle = ':', marker = 'o')    "
   ]
  },
  {
   "cell_type": "code",
   "execution_count": null,
   "metadata": {
    "collapsed": true
   },
   "outputs": [],
   "source": []
  },
  {
   "cell_type": "code",
   "execution_count": null,
   "metadata": {
    "collapsed": true
   },
   "outputs": [],
   "source": []
  }
 ],
 "metadata": {
  "anaconda-cloud": {},
  "kernelspec": {
   "display_name": "Python 2",
   "language": "python",
   "name": "python2"
  },
  "language_info": {
   "codemirror_mode": {
    "name": "ipython",
    "version": 2
   },
   "file_extension": ".py",
   "mimetype": "text/x-python",
   "name": "python",
   "nbconvert_exporter": "python",
   "pygments_lexer": "ipython2",
   "version": "2.7.12"
  }
 },
 "nbformat": 4,
 "nbformat_minor": 2
}
