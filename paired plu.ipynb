{
 "cells": [
  {
   "cell_type": "code",
   "execution_count": 1,
   "metadata": {
    "collapsed": false
   },
   "outputs": [],
   "source": [
    "import numpy as np\n",
    "from maxvolpy.maxvol import maxvol\n",
    "from numpy.polynomial import Chebyshev as T\n",
    "import numpy.linalg as la\n",
    "import matplotlib.pyplot as plt\n",
    "from scipy.linalg import lu as lu\n",
    "from gen_1D import *\n",
    "from plu import *\n",
    "from ids import *\n",
    "%matplotlib inline"
   ]
  },
  {
   "cell_type": "code",
   "execution_count": 2,
   "metadata": {
    "collapsed": true
   },
   "outputs": [],
   "source": [
    "n = 4 #nmber of sampling points   \n",
    "deg = 3 # Degree of polynomiapaired plu Last Checkpoint: 22 minutes ago (unsaved changes)l          \n",
    "interval = [-3, 3]  # interval of x\n",
    "x = np.linspace(interval[0], interval[1], n, dtype=np.float64)\n",
    "p_size = deg+1"
   ]
  },
  {
   "cell_type": "markdown",
   "metadata": {},
   "source": [
    "Idea is that we take slices of input tall matrix A in the form $A_{2j:, 2j:}$ step by step. At each step we are looking between all pairs for (2x2) matrix with maximal determinant. Then we perform permutations of raws and columns to get block raws together and perform elimination."
   ]
  },
  {
   "cell_type": "code",
   "execution_count": 12,
   "metadata": {
    "collapsed": false
   },
   "outputs": [],
   "source": [
    "def pluq_ids(A, debug = True):\n",
    "    def mov_permute(C, j, ind, m = 'P'):\n",
    "        if m == 'P':\n",
    "            temp = np.copy(C[ind,:])\n",
    "            C[ind,:] = C[j, :]\n",
    "            C[j, :] = temp\n",
    "        if m == 'Q':\n",
    "            temp = np.copy(C[:,ind])\n",
    "            C[:,ind] = C[:,j]\n",
    "            C[:,j] = temp\n",
    "        return()  \n",
    "    def mov_LU(C, j, ind_r, ind_c, m = 'U'):\n",
    "        if m == 'U':\n",
    "            temp = np.copy(C[ind_r,:])\n",
    "            C[ind_r,:] = C[j, :]\n",
    "            C[j, :] = temp\n",
    "        \n",
    "            temp = np.copy(C[:,ind_c])\n",
    "            C[:, ind_c] = C[:,j]\n",
    "            C[:, j] = temp\n",
    "        if m=='L':\n",
    "            temp = np.copy(C[ind_r,:j])\n",
    "            C[ind_r,:j] = C[j, :j]\n",
    "            C[j, :j] = temp\n",
    "\n",
    "            temp = np.copy(C[:j,ind_c])\n",
    "            C[:j, ind_c] = C[:j,j]\n",
    "            C[:j, j] = temp  \n",
    "            \n",
    "    def ellimination(L,U,ind):\n",
    "        k = L.shape[0]\n",
    "        for i in range(ind+1, k):\n",
    "            L[i,ind] = U[i,ind]/U[ind,ind]\n",
    "            U[i,ind:] -= L[i,ind]*U[ind,ind:] \n",
    "        return ()    \n",
    "    \n",
    "    n, m = A.shape[0], A.shape[1]\n",
    "    P = np.eye((n), dtype=float)\n",
    "    L = np.eye((m), dtype=float)\n",
    "    L_add = np.zeros((n-m, m), dtype=float)\n",
    "    L = np.concatenate((L, L_add), axis = 0)\n",
    "    U = np.copy(A)\n",
    "    Q = np.eye((m), dtype=float)\n",
    "    yx = np.array([0, 0], dtype=int)\n",
    "    max_det = np.zeros((2), dtype=float)\n",
    "    \n",
    "    \n",
    "    for j in range(0, m, 2):\n",
    "        ### in each slice we are looking for 2x2 matrix with maxvol and memorize 'k' as a number of first row \n",
    "        ### 'k'- is a counter of pairs, i.e. with each slice there is 1 pair less\n",
    "        max_det = np.zeros((2), dtype=float)\n",
    "        for k in range(j,n,2):\n",
    "            pair = np.concatenate((U[k,j:],U[k+1,j:])).reshape(2,m-j).T\n",
    "            piv,_ = maxvol(pair)\n",
    "            print pair\n",
    "            if np.abs(np.linalg.det(pair[piv])) > max_det[0]:\n",
    "                max_det[0], max_det[1] = np.abs(np.linalg.det(pair[piv])), k\n",
    "         \n",
    "        pair = np.concatenate((U[max_det[1].astype(int),j:],U[max_det[1].astype(int)+1,j:])).reshape(2,m-j).T\n",
    "        piv,_ = maxvol(pair)\n",
    "        piv.sort()  \n",
    "        \n",
    "        yx[0] = max_det[1] \n",
    "        yx[1] = piv[0]+ j\n",
    "    \n",
    "        if (debug):\n",
    "            if np.linalg.det(pair[piv]) == max_det[0]:\n",
    "                print('correct 2x2 matrix')\n",
    "              \n",
    "            print ('on the', j, 'slice')\n",
    "            print ('best row block is', max_det[1].astype(int), max_det[1].astype(int) + 1)\n",
    "            print ('column coordinates:', piv[0] + j, piv[1] + j)\n",
    "            print ('maxvol 2x2 submatrix', pair[piv.T])\n",
    "            print ('with det = ', max_det[0])\n",
    "            print ('pivoting and permutations start...')\n",
    "            \n",
    "        ### U moving ###\n",
    "        mov_LU(U,j,yx[0],yx[1])\n",
    "        ####\n",
    "        \n",
    "        ### L moving ###\n",
    "        mov_LU(L,j,yx[0],yx[1],m='L')\n",
    "        ###\n",
    "        \n",
    "        ### P&Q moving ###\n",
    "        mov_permute(P,j,yx[0])\n",
    "        mov_permute(Q,j,yx[1], m='Q')\n",
    "        \n",
    "        ### make them all zeros! Below (j,j) element\n",
    "        ellimination(L,U,j)     \n",
    "        \n",
    "        #choosing second element to pivot. \n",
    "        yx[0] = max_det[1] + 1 \n",
    "        yx[1] = piv[1] + j\n",
    "    \n",
    "\n",
    "        ### U moving ###\n",
    "        mov_LU(U,j+1,yx[0],yx[1])\n",
    "        ####\n",
    "        \n",
    "        ### L moving ###\n",
    "        mov_LU(L,j+1,yx[0],yx[1],m='L')\n",
    "        ###\n",
    "        \n",
    "        ### P&Q moving ###\n",
    "        mov_permute(P,j+1,yx[0])\n",
    "        mov_permute(Q,j+1,yx[1], m='Q')\n",
    "        \n",
    "        ### make them all zeros! (Below (j+1,j+1) element) ###\n",
    "        ellimination(L,U,j+1)\n",
    "           \n",
    "    return(P,L,U,Q)  "
   ]
  },
  {
   "cell_type": "code",
   "execution_count": 3,
   "metadata": {
    "collapsed": false
   },
   "outputs": [
    {
     "name": "stdout",
     "output_type": "stream",
     "text": [
      "number of points(l) = 4,  number of monoms(n_size) = 4\n"
     ]
    },
    {
     "data": {
      "text/plain": [
       "array([[   1.,   -3.,   17.,  -99.],\n",
       "       [   0.,    1.,  -12.,  105.],\n",
       "       [   1.,   -1.,    1.,   -1.],\n",
       "       [   0.,    1.,   -4.,    9.],\n",
       "       [   1.,    1.,    1.,    1.],\n",
       "       [   0.,    1.,    4.,    9.],\n",
       "       [   1.,    3.,   17.,   99.],\n",
       "       [   0.,    1.,   12.,  105.]])"
      ]
     },
     "execution_count": 3,
     "metadata": {},
     "output_type": "execute_result"
    }
   ],
   "source": [
    "b = Gen_1D_coupled(p_size, x, debug=True)\n",
    "b"
   ]
  },
  {
   "cell_type": "code",
   "execution_count": 4,
   "metadata": {
    "collapsed": false
   },
   "outputs": [
    {
     "name": "stdout",
     "output_type": "stream",
     "text": [
      "[[   1.    0.]\n",
      " [  -3.    1.]\n",
      " [  17.  -12.]\n",
      " [ -99.  105.]]\n",
      "[[ 1.  0.]\n",
      " [-1.  1.]\n",
      " [ 1. -4.]\n",
      " [-1.  9.]]\n",
      "[[ 1.  0.]\n",
      " [ 1.  1.]\n",
      " [ 1.  4.]\n",
      " [ 1.  9.]]\n",
      "[[   1.    0.]\n",
      " [   3.    1.]\n",
      " [  17.   12.]\n",
      " [  99.  105.]]\n",
      "correct 2x2 matrix\n",
      "('on the', 0, 'slice')\n",
      "('best row block is', 0, 1)\n",
      "('column coordinates:', 2, 3)\n",
      "('maxvol 2x2 submatrix', array([[  17.,  -12.],\n",
      "       [ -99.,  105.]]))\n",
      "('with det = ', 596.99999999999955)\n",
      "pivoting and permutations start...\n",
      "[[  17.   -3.    1.  -99.]\n",
      " [ -12.    1.    0.  105.]\n",
      " [   1.   -1.    1.   -1.]\n",
      " [  -4.    1.    0.    9.]\n",
      " [   1.    1.    1.    1.]\n",
      " [   4.    1.    0.    9.]\n",
      " [  17.    3.    1.   99.]\n",
      " [  12.    1.    0.  105.]]\n",
      "[[  17.           -3.            1.          -99.        ]\n",
      " [   0.           -1.11764706    0.70588235   35.11764706]\n",
      " [   0.           -0.82352941    0.94117647    4.82352941]\n",
      " [   0.            0.29411765    0.23529412  -14.29411765]\n",
      " [   0.            1.17647059    0.94117647    6.82352941]\n",
      " [   0.            1.70588235   -0.23529412   32.29411765]\n",
      " [   0.            6.            0.          198.        ]\n",
      " [   0.            3.11764706   -0.70588235  174.88235294]]\n",
      "[[  17.          -99.            1.           -3.        ]\n",
      " [   0.           35.11764706    0.70588235   -1.11764706]\n",
      " [   0.            4.82352941    0.94117647   -0.82352941]\n",
      " [   0.          -14.29411765    0.23529412    0.29411765]\n",
      " [   0.            6.82352941    0.94117647    1.17647059]\n",
      " [   0.           32.29411765   -0.23529412    1.70588235]\n",
      " [   0.          198.            0.            6.        ]\n",
      " [   0.          174.88235294   -0.70588235    3.11764706]]\n",
      "[[ 17.         -99.           1.          -3.        ]\n",
      " [  0.          35.11764706   0.70588235  -1.11764706]\n",
      " [  0.           0.           0.84422111  -0.67001675]\n",
      " [  0.           0.           0.52261307  -0.16080402]\n",
      " [  0.           0.           0.8040201    1.39363484]\n",
      " [  0.           0.          -0.88442211   2.73366834]\n",
      " [  0.           0.          -3.9798995   12.30150754]\n",
      " [  0.           0.          -4.22110553   8.68341709]]\n",
      "[[ 0.84422111  0.52261307]\n",
      " [-0.67001675 -0.16080402]]\n",
      "[[ 0.8040201  -0.88442211]\n",
      " [ 1.39363484  2.73366834]]\n",
      "[[ -3.9798995   -4.22110553]\n",
      " [ 12.30150754   8.68341709]]\n",
      "correct 2x2 matrix\n",
      "('on the', 2, 'slice')\n",
      "('best row block is', 6, 7)\n",
      "('column coordinates:', 2, 3)\n",
      "('maxvol 2x2 submatrix', array([[ -3.9798995 ,  -4.22110553],\n",
      "       [ 12.30150754,   8.68341709]]))\n",
      "('with det = ', 17.366834170854279)\n",
      "pivoting and permutations start...\n",
      "[[ 17.         -99.           1.          -3.        ]\n",
      " [  0.          35.11764706   0.70588235  -1.11764706]\n",
      " [  0.           0.          -3.9798995   12.30150754]\n",
      " [  0.           0.           0.52261307  -0.16080402]\n",
      " [  0.           0.           0.8040201    1.39363484]\n",
      " [  0.           0.          -0.88442211   2.73366834]\n",
      " [  0.           0.           0.84422111  -0.67001675]\n",
      " [  0.           0.          -4.22110553   8.68341709]]\n",
      "[[ 17.         -99.           1.          -3.        ]\n",
      " [  0.          35.11764706   0.70588235  -1.11764706]\n",
      " [  0.           0.          -3.9798995   12.30150754]\n",
      " [  0.           0.           0.           1.45454545]\n",
      " [  0.           0.           0.           3.87878788]\n",
      " [  0.           0.           0.           0.        ]\n",
      " [  0.           0.           0.           1.93939394]\n",
      " [  0.           0.           0.          -4.36363636]]\n",
      "[[ 17.         -99.           1.          -3.        ]\n",
      " [  0.          35.11764706   0.70588235  -1.11764706]\n",
      " [  0.           0.          -3.9798995   12.30150754]\n",
      " [  0.           0.           0.           1.45454545]\n",
      " [  0.           0.           0.           0.        ]\n",
      " [  0.           0.           0.           0.        ]\n",
      " [  0.           0.           0.           0.        ]\n",
      " [  0.           0.           0.           0.        ]]\n"
     ]
    }
   ],
   "source": [
    "p,l,u,q = pluq_ids(b)"
   ]
  },
  {
   "cell_type": "code",
   "execution_count": 34,
   "metadata": {
    "collapsed": false
   },
   "outputs": [
    {
     "data": {
      "text/plain": [
       "array([[  5.77000000e+02,  -3.36300000e+03,   1.70000000e+01,\n",
       "         -9.90000000e+01,   1.00000000e+00,  -3.00000000e+00],\n",
       "       [  0.00000000e+00,   1.18900693e+03,   1.20415945e+01,\n",
       "         -3.50069324e+01,   1.41421144e+00,  -3.24263432e+00],\n",
       "       [  0.00000000e+00,   0.00000000e+00,  -6.81171506e+01,\n",
       "          3.96027969e+02,  -7.99994170e+00,   2.43430036e+01],\n",
       "       [  0.00000000e+00,   1.81898940e-12,   0.00000000e+00,\n",
       "         -1.40017841e+02,   0.00000000e+00,  -8.60660125e+00],\n",
       "       [  0.00000000e+00,   0.00000000e+00,   1.11022302e-16,\n",
       "          0.00000000e+00,   1.10074873e+00,  -3.18932535e-01],\n",
       "       [  0.00000000e+00,   0.00000000e+00,   0.00000000e+00,\n",
       "          0.00000000e+00,   0.00000000e+00,   1.16941929e+00]])"
      ]
     },
     "execution_count": 34,
     "metadata": {},
     "output_type": "execute_result"
    }
   ],
   "source": []
  },
  {
   "cell_type": "code",
   "execution_count": 101,
   "metadata": {
    "collapsed": false
   },
   "outputs": [],
   "source": [
    "def puq_s(A):\n",
    "    n = A.shape[0]\n",
    "    P = np.eye((n), dtype=float)\n",
    "    L = np.eye((n), dtype=float)\n",
    "    U = np.copy(A)\n",
    "    Q = np.eye((n), dtype=float)\n",
    "    yx = np.array([0, 0], dtype=int)\n",
    "    for j in range(0, n):\n",
    "        loc_max = np.argmax(np.abs(U[j:, j:]))\n",
    "        yx[0] = loc_max / (n - j)\n",
    "        yx[1] = loc_max % (n-j)\n",
    "        print yx\n",
    "        \n",
    "       \n",
    "        ### U moving ###\n",
    "        temp = np.copy(U[j+yx[0],:])\n",
    "        U[j+yx[0],:] = U[j, :]\n",
    "        U[j, :] = temp\n",
    "               \n",
    "        temp = np.copy(U[:, j+yx[1]])\n",
    "        U[:,j+yx[1]] = U[:, j]\n",
    "        U[:, j] = temp \n",
    "        ####\n",
    "\n",
    "        print ('uu',U)\n",
    "        \n",
    "        ### P&Q moving ###\n",
    "        temp = np.copy(P[j+yx[0],:])\n",
    "        P[j+yx[0],:] = (P[j,:])\n",
    "        P[j,:] = temp \n",
    "          \n",
    "        temp = np.copy(Q[:, j+yx[1]])\n",
    "        Q[:,j+yx[1]] = (Q[:, j])\n",
    "        Q[:, j] = temp  \n",
    "\n",
    "        ###\n",
    "        print (P)\n",
    "    return(P, U, Q)  "
   ]
  },
  {
   "cell_type": "code",
   "execution_count": 14,
   "metadata": {
    "collapsed": false
   },
   "outputs": [
    {
     "data": {
      "text/plain": [
       "array([[ 3, 12,  2,  2],\n",
       "       [ 6, 15, 11, 15],\n",
       "       [11, 16,  5, 13],\n",
       "       [ 2, 15,  9,  4],\n",
       "       [ 6, 14,  4, 15],\n",
       "       [ 5, 12,  6, 11],\n",
       "       [17,  7,  8, 15],\n",
       "       [ 1,  4, 15, 15]])"
      ]
     },
     "execution_count": 14,
     "metadata": {},
     "output_type": "execute_result"
    }
   ],
   "source": [
    "rara = np.random.randint(1,18, size=(8, 4))\n",
    "rara"
   ]
  },
  {
   "cell_type": "code",
   "execution_count": 15,
   "metadata": {
    "collapsed": false
   },
   "outputs": [
    {
     "name": "stdout",
     "output_type": "stream",
     "text": [
      "[[  3.   6.]\n",
      " [ 12.  15.]\n",
      " [  2.  11.]\n",
      " [  2.  15.]]\n",
      "[[ 11.   2.]\n",
      " [ 16.  15.]\n",
      " [  5.   9.]\n",
      " [ 13.   4.]]\n",
      "[[  6.   5.]\n",
      " [ 14.  12.]\n",
      " [  4.   6.]\n",
      " [ 15.  11.]]\n",
      "[[ 17.   1.]\n",
      " [  7.   4.]\n",
      " [  8.  15.]\n",
      " [ 15.  15.]]\n",
      "correct 2x2 matrix\n",
      "('on the', 0, 'slice')\n",
      "('best row block is', 6, 7)\n",
      "('column coordinates:', 0, 2)\n",
      "('maxvol 2x2 submatrix', array([[ 17.,   1.],\n",
      "       [  8.,  15.]]))\n",
      "('with det = ', 247.00000000000006)\n",
      "pivoting and permutations start...\n",
      "[[ 11.51417004  12.18623482]\n",
      " [  3.46558704  -5.5951417 ]]\n",
      "[[ 11.2388664    9.04048583]\n",
      " [  8.56275304   3.04453441]]\n",
      "[[ 10.6194332   10.51012146]\n",
      " [ -1.21862348   1.7611336 ]]\n",
      "('on the', 2, 'slice')\n",
      "('best row block is', 2, 3)\n",
      "('column coordinates:', 2, 3)\n",
      "('maxvol 2x2 submatrix', array([[ 11.51417004,  12.18623482],\n",
      "       [  3.46558704,  -5.5951417 ]]))\n",
      "('with det = ', 106.65587044534415)\n",
      "pivoting and permutations start...\n"
     ]
    }
   ],
   "source": [
    "p,l,u,q = pluq_ids(rara.astype(float),debug=True)"
   ]
  },
  {
   "cell_type": "code",
   "execution_count": 16,
   "metadata": {
    "collapsed": true
   },
   "outputs": [],
   "source": [
    "ids = np.dot(p,np.dot(rara,q))[:4]"
   ]
  },
  {
   "cell_type": "code",
   "execution_count": 17,
   "metadata": {
    "collapsed": false
   },
   "outputs": [],
   "source": [
    "A_ids = np.dot(p,np.dot(rara,q))"
   ]
  },
  {
   "cell_type": "code",
   "execution_count": 20,
   "metadata": {
    "collapsed": false
   },
   "outputs": [],
   "source": [
    "def perm_array(A):\n",
    "    p_a = np.array((A.shape[0]))\n",
    "    p_a = np.argmax(A, axis = 1)\n",
    "    return p_a\n"
   ]
  },
  {
   "cell_type": "code",
   "execution_count": 21,
   "metadata": {
    "collapsed": false
   },
   "outputs": [
    {
     "data": {
      "text/plain": [
       "array([6, 7, 2, 3, 4, 5, 0, 1])"
      ]
     },
     "execution_count": 21,
     "metadata": {},
     "output_type": "execute_result"
    }
   ],
   "source": [
    "perm_array(p)"
   ]
  },
  {
   "cell_type": "code",
   "execution_count": 23,
   "metadata": {
    "collapsed": true
   },
   "outputs": [],
   "source": [
    "temp = np.dot(A_ids,np.linalg.inv(ids))"
   ]
  },
  {
   "cell_type": "code",
   "execution_count": 24,
   "metadata": {
    "collapsed": false
   },
   "outputs": [
    {
     "data": {
      "text/plain": [
       "array([[  1.00000000e+00,   0.00000000e+00,  -2.22044605e-16,\n",
       "          0.00000000e+00],\n",
       "       [  0.00000000e+00,   1.00000000e+00,  -1.38777878e-16,\n",
       "          1.38777878e-16],\n",
       "       [ -1.11022302e-16,  -1.11022302e-16,   1.00000000e+00,\n",
       "          0.00000000e+00],\n",
       "       [ -1.11022302e-16,   0.00000000e+00,   1.11022302e-16,\n",
       "          1.00000000e+00],\n",
       "       [ -6.19951412e-01,   4.10188278e-01,   1.56794716e+00,\n",
       "         -5.59216520e-01],\n",
       "       [ -2.50227756e-01,   2.80367446e-01,   8.22122684e-01,\n",
       "         -3.49225630e-02],\n",
       "       [ -1.37109019e-01,  -2.18797449e-01,   4.17856058e-01,\n",
       "          4.76617067e-01],\n",
       "       [ -1.80534467e-01,   4.87928940e-01,   7.52581233e-01,\n",
       "          1.51381719e-01]])"
      ]
     },
     "execution_count": 24,
     "metadata": {},
     "output_type": "execute_result"
    }
   ],
   "source": [
    "temp"
   ]
  },
  {
   "cell_type": "code",
   "execution_count": 29,
   "metadata": {
    "collapsed": false
   },
   "outputs": [
    {
     "name": "stdout",
     "output_type": "stream",
     "text": [
      "[[-0.61995141 -0.25022776]\n",
      " [ 0.41018828  0.28036745]\n",
      " [ 1.56794716  0.82212268]\n",
      " [-0.55921652 -0.03492256]] [[ 1.56794716  0.82212268]\n",
      " [-0.55921652 -0.03492256]]\n",
      "[[-0.13710902 -0.18053447]\n",
      " [-0.21879745  0.48792894]\n",
      " [ 0.41785606  0.75258123]\n",
      " [ 0.47661707  0.15138172]] [[-0.21879745  0.48792894]\n",
      " [ 0.41785606  0.75258123]]\n"
     ]
    }
   ],
   "source": [
    "\n",
    "tol = 0.05\n",
    "n = temp.shape[0]\n",
    "m = temp.shape[1]\n",
    "for k in range(m,n,2):\n",
    "        pair = np.concatenate((temp[k,:],temp[k+1,:])).reshape(2,m).T\n",
    "        piv,_ = maxvol(pair)\n",
    "        piv = np.sort(piv)\n",
    "        print pair, pair[piv]\n",
    "        if (np.abs(np.linalg.det(pair[piv])) > (1)):\n",
    "            print('exist!')"
   ]
  },
  {
   "cell_type": "code",
   "execution_count": null,
   "metadata": {
    "collapsed": true
   },
   "outputs": [],
   "source": []
  }
 ],
 "metadata": {
  "kernelspec": {
   "display_name": "Python 2",
   "language": "python",
   "name": "python2"
  },
  "language_info": {
   "codemirror_mode": {
    "name": "ipython",
    "version": 2
   },
   "file_extension": ".py",
   "mimetype": "text/x-python",
   "name": "python",
   "nbconvert_exporter": "python",
   "pygments_lexer": "ipython2",
   "version": "2.7.13"
  }
 },
 "nbformat": 4,
 "nbformat_minor": 2
}
