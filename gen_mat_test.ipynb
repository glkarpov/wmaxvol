{
 "cells": [
  {
   "cell_type": "code",
   "execution_count": 1,
   "metadata": {
    "collapsed": false
   },
   "outputs": [
    {
     "name": "stdout",
     "output_type": "stream",
     "text": [
      "warning: fast C maxvol functions are not compiled, continue with python maxvol functions\n"
     ]
    }
   ],
   "source": [
    "from gen_mat import *\n",
    "import scipy\n",
    "import numpy as np\n",
    "%matplotlib inline"
   ]
  },
  {
   "cell_type": "markdown",
   "metadata": {},
   "source": [
    "# Check polinomial norm"
   ]
  },
  {
   "cell_type": "code",
   "execution_count": 2,
   "metadata": {
    "collapsed": false
   },
   "outputs": [
    {
     "name": "stdout",
     "output_type": "stream",
     "text": [
      "(0.9999999999999998, 1.0718223110245808e-14)\n",
      "(0.0, 0.0)\n",
      "(0.9999999999999998, 1.121483214624735e-14)\n"
     ]
    },
    {
     "name": "stderr",
     "output_type": "stream",
     "text": [
      "/home/gleb/anaconda2/lib/python2.7/site-packages/scipy/integrate/quadpack.py:356: IntegrationWarning: The occurrence of roundoff error is detected, which prevents \n",
      "  the requested tolerance from being achieved.  The error may be \n",
      "  underestimated.\n",
      "  warnings.warn(msg, IntegrationWarning)\n"
     ]
    }
   ],
   "source": [
    "# Hermite\n",
    "def int_herm(n, m):\n",
    "    return scipy.integrate.quad(lambda x: herm(x, n)*herm(x, m)*np.exp(-x*x/2), -np.inf, np.inf, \n",
    "                     epsabs=1e-14, epsrel=1e-14, limit=1000)\n",
    "print ( int_herm(4, 4) )\n",
    "print ( int_herm(4, 7) )\n",
    "print ( int_herm(0, 0) )"
   ]
  },
  {
   "cell_type": "code",
   "execution_count": 3,
   "metadata": {
    "collapsed": false
   },
   "outputs": [
    {
     "name": "stdout",
     "output_type": "stream",
     "text": [
      "(1.5707963267951377, 1.9520827012134423e-13)\n",
      "(0.0, 1.3295393188062837e-14)\n",
      "(3.1415926535899614, 7.809725088847586e-14)\n"
     ]
    },
    {
     "name": "stderr",
     "output_type": "stream",
     "text": [
      "/home/gleb/anaconda2/lib/python2.7/site-packages/scipy/integrate/quadpack.py:356: IntegrationWarning: The algorithm does not converge.  Roundoff error is detected\n",
      "  in the extrapolation table.  It is assumed that the requested tolerance\n",
      "  cannot be achieved, and that the returned result (if full_output = 1) is \n",
      "  the best which can be obtained.\n",
      "  warnings.warn(msg, IntegrationWarning)\n"
     ]
    }
   ],
   "source": [
    "# Chebyshevf\n",
    "def int_cheb(n, m):\n",
    "    return( scipy.integrate.quad(lambda x: cheb(x, n)*cheb(x, m)*1/np.sqrt(1-x*x), -1.0, 1.0, \n",
    "                     epsabs=1e-14, epsrel=1e-14, limit=1000) )\n",
    "print ( int_cheb(6, 6) )\n",
    "print ( int_cheb(6, 9) )\n",
    "print ( int_cheb(0, 0) )\n"
   ]
  },
  {
   "cell_type": "markdown",
   "metadata": {},
   "source": [
    "# Some Plots"
   ]
  },
  {
   "cell_type": "code",
   "execution_count": 4,
   "metadata": {
    "collapsed": false
   },
   "outputs": [
    {
     "data": {
      "text/plain": [
       "[<matplotlib.lines.Line2D at 0x7f02b974b150>]"
      ]
     },
     "execution_count": 4,
     "metadata": {},
     "output_type": "execute_result"
    },
    {
     "data": {
      "image/png": "[encoded data removed]",
      "text/plain": [
       "<matplotlib.figure.Figure at 0x7f0286573610>"
      ]
     },
     "metadata": {},
     "output_type": "display_data"
    }
   ],
   "source": [
    "x = np.linspace(-1,1,1000)\n",
    "plt.plot(x, cheb(x, 1))\n",
    "plt.plot(x, cheb_diff(x, 1))"
   ]
  },
  {
   "cell_type": "code",
   "execution_count": 5,
   "metadata": {
    "collapsed": false
   },
   "outputs": [
    {
     "data": {
      "text/plain": [
       "[<matplotlib.lines.Line2D at 0x7f02865736d0>]"
      ]
     },
     "execution_count": 5,
     "metadata": {},
     "output_type": "execute_result"
    },
    {
     "data": {
      "image/png": "[encoded data removed]",
      "text/plain": [
       "<matplotlib.figure.Figure at 0x7f0286573410>"
      ]
     },
     "metadata": {},
     "output_type": "display_data"
    }
   ],
   "source": [
    "plt.plot(x, cheb(x, 2))\n",
    "plt.plot(x, cheb_diff(x, 2))"
   ]
  },
  {
   "cell_type": "markdown",
   "metadata": {
    "collapsed": false
   },
   "source": [
    "# Main Matrix"
   ]
  },
  {
   "cell_type": "code",
   "execution_count": 19,
   "metadata": {
    "collapsed": false
   },
   "outputs": [
    {
     "name": "stdout",
     "output_type": "stream",
     "text": [
      "(6, 1)\n",
      "[[ 0.04376425  0.6335717   0.69256842  0.95368574  0.50423388  0.88627429]]\n",
      "number of vars(n2) = 6, dim of space (number of derivatives, l) = 1,  number of monoms(n_size) = 5\n",
      "monom #0 is (0,)\n",
      "monom #1 is (1,)\n",
      "monom #2 is (2,)\n",
      "monom #3 is (3,)\n",
      "monom #4 is (4,)\n",
      "\n",
      "[[ 0.63161878  0.02764232 -0.4457665  -0.03383318  0.38530477]\n",
      " [ 0.63161878  0.40017578 -0.26734203 -0.42453395  0.09703864]\n",
      " [ 0.63161878  0.43743922 -0.23239926 -0.45009353  0.04540338]\n",
      " [ 0.63161878  0.60236582 -0.04041192 -0.51408087 -0.21013805]\n",
      " [ 0.63161878  0.31848359 -0.33306749 -0.35700322  0.19843835]\n",
      " [ 0.63161878  0.55978748 -0.09580839 -0.50608883 -0.14129426]\n",
      " [ 0.          0.63161878  0.03909214 -0.77209023 -0.06766635]\n",
      " [ 0.          0.63161878  0.56593402 -0.46304998 -0.84906789]\n",
      " [ 0.          0.63161878  0.61863248 -0.40252733 -0.90018706]\n",
      " [ 0.          0.63161878  0.85187391 -0.0699955  -1.02816174]\n",
      " [ 0.          0.63161878  0.45040381 -0.57688982 -0.71400645]\n",
      " [ 0.          0.63161878  0.79165905 -0.165945   -1.01217766]]\n",
      "Diagonal:\n",
      "0.631618777746\n",
      "0.400175783212\n",
      "-0.232399262461\n",
      "-0.514080869245\n",
      "0.198438346678\n",
      "\n"
     ]
    }
   ],
   "source": [
    "# hermit, 1D\n",
    "l = 1\n",
    "n2 = 6\n",
    "n_size = 5\n",
    "x = np.random.rand(n2, l)\n",
    "print x.shape\n",
    "print ( x.T )\n",
    "A = GenMat(n_size, x, poly=herm, poly_diff=herm_diff, debug=True)\n",
    "print ( '' ) \n",
    "print( A )\n",
    "print ( 'Diagonal:' ) \n",
    "for i in xrange(min(n2, n_size)):\n",
    "    print ( herm(x[i][0], i) )\n",
    "print ( '' ) \n"
   ]
  },
  {
   "cell_type": "code",
   "execution_count": 20,
   "metadata": {
    "collapsed": false
   },
   "outputs": [
    {
     "name": "stdout",
     "output_type": "stream",
     "text": [
      "(6, 2)\n",
      "[[ 0.98280933  0.62252771  0.32302508  0.57766538  0.57915648  0.22665757]\n",
      " [ 0.3944013   0.82665297  0.13502413  0.12556888  0.89086444  0.65579462]]\n",
      "number of vars(n2) = 6, dim of space (number of derivatives, l) = 2,  number of monoms(n_size) = 5\n",
      "monom #0 is (0, 0)\n",
      "monom #1 is (0, 1)\n",
      "monom #2 is (1, 0)\n",
      "monom #3 is (1, 1)\n",
      "monom #4 is (2, 0)\n",
      "\n",
      "[[ 0.39894228  0.15734335  0.3920842   0.15463852 -0.00961543]\n",
      " [ 0.39894228  0.32978682  0.24835263  0.20530143 -0.17277156]\n",
      " [ 0.39894228  0.05386683  0.12886836  0.01740034 -0.25265955]\n",
      " [ 0.39894228  0.05009473  0.23045514  0.02893799 -0.18796052]\n",
      " [ 0.39894228  0.35540349  0.23105001  0.20583424 -0.18747393]\n",
      " [ 0.39894228  0.2616242   0.09042329  0.05929911 -0.26760255]\n",
      " [ 0.          0.          0.39894228  0.15734335  0.55449079]\n",
      " [ 0.          0.          0.39894228  0.32978682  0.35122365]\n",
      " [ 0.          0.          0.39894228  0.05386683  0.18224738]\n",
      " [ 0.          0.          0.39894228  0.05009473  0.32591279]\n",
      " [ 0.          0.          0.39894228  0.35540349  0.32675406]\n",
      " [ 0.          0.          0.39894228  0.2616242   0.12787784]\n",
      " [ 0.          0.39894228  0.          0.3920842  -0.        ]\n",
      " [ 0.          0.39894228  0.          0.24835263 -0.        ]\n",
      " [ 0.          0.39894228  0.          0.12886836 -0.        ]\n",
      " [ 0.          0.39894228  0.          0.23045514 -0.        ]\n",
      " [ 0.          0.39894228  0.          0.23105001 -0.        ]\n",
      " [ 0.          0.39894228  0.          0.09042329 -0.        ]]\n"
     ]
    }
   ],
   "source": [
    "# hermit, 2D\n",
    "l = 2\n",
    "n2 = 6\n",
    "n_size = 5\n",
    "x = np.random.rand(n2, l)\n",
    "print x.shape\n",
    "print ( x.T )\n",
    "A = GenMat(n_size, x, poly=herm, poly_diff=herm_diff, debug=True)\n",
    "print ( '' ) \n",
    "print( A )\n"
   ]
  },
  {
   "cell_type": "code",
   "execution_count": 21,
   "metadata": {
    "collapsed": false
   },
   "outputs": [
    {
     "name": "stdout",
     "output_type": "stream",
     "text": [
      "(6, 1)\n",
      "[[ 0.23700684  0.04355523  0.01944713  0.26171293  0.85297898  0.12450653]]\n",
      "number of vars(n2) = 6, dim of space (number of derivatives, l) = 1,  number of monoms(n_size) = 5\n",
      "monom #0 is (0,)\n",
      "monom #1 is (1,)\n",
      "monom #2 is (2,)\n",
      "monom #3 is (3,)\n",
      "monom #4 is (4,)\n",
      "\n",
      "[[ 1.          0.23700684 -0.88765551 -0.6577677   0.57586462]\n",
      " [ 1.          0.04355523 -0.99620588 -0.13033518  0.98485233]\n",
      " [ 1.          0.01944713 -0.99924362 -0.05831198  0.99697562]\n",
      " [ 1.          0.26171293 -0.86301268 -0.71343609  0.48958178]\n",
      " [ 1.          0.85297898  0.45514626 -0.07651859 -0.58568376]\n",
      " [ 1.          0.12450653 -0.96899625 -0.36579925  0.87790745]\n",
      " [ 0.          1.          0.94802737 -2.32593308 -3.36608689]\n",
      " [ 0.          1.          0.17422091 -2.97723531 -0.69423959]\n",
      " [ 0.          1.          0.07778853 -2.99546171 -0.31091876]\n",
      " [ 0.          1.          1.04685173 -2.17807609 -3.61378527]\n",
      " [ 0.          1.          3.4119159   5.73087758  6.2116831 ]\n",
      " [ 0.          1.          0.49802612 -2.81397748 -1.93034178]]\n",
      "Diagonal:\n",
      "1.0\n",
      "0.0435552277666\n",
      "-0.99924361811\n",
      "-0.713436091132\n",
      "-0.58568375676\n",
      "\n"
     ]
    }
   ],
   "source": [
    "# cheb, 1D\n",
    "l = 1\n",
    "n2 = 6\n",
    "n_size = 5\n",
    "x = np.random.rand(n2, l)\n",
    "print x.shape\n",
    "print ( x.T )\n",
    "A = GenMat(n_size, x, poly=cheb, poly_diff=cheb_diff, debug=True)\n",
    "print ( '' ) \n",
    "print( A )\n",
    "print ( 'Diagonal:' ) \n",
    "for i in xrange(min(n2, n_size)):\n",
    "    print ( cheb(x[i][0], i) )\n",
    "print ( '' ) "
   ]
  },
  {
   "cell_type": "code",
   "execution_count": 22,
   "metadata": {
    "collapsed": false
   },
   "outputs": [
    {
     "name": "stdout",
     "output_type": "stream",
     "text": [
      "(7, 2)\n",
      "[[ 0.52401991  0.60065504  0.88078313  0.00966555  0.06426964  0.48734396\n",
      "   0.18291814]\n",
      " [ 0.21872594  0.05435907  0.72584291  0.83642334  0.26672726  0.2419708\n",
      "   0.23676603]]\n",
      "number of vars(n2) = 7, dim of space (number of derivatives, l) = 2,  number of monoms(n_size) = 6\n",
      "monom #0 is (0, 0)\n",
      "monom #1 is (0, 1)\n",
      "monom #2 is (1, 0)\n",
      "monom #3 is (1, 1)\n",
      "monom #4 is (2, 0)\n",
      "monom #5 is (0, 2)\n",
      "\n",
      "[[ 1.          0.21872594  0.52401991  0.11461675 -0.45080627 -0.90431793]\n",
      " [ 1.          0.05435907  0.60065504  0.03265105 -0.27842704 -0.99409018]\n",
      " [ 1.          0.72584291  0.88078313  0.63931019  0.55155785  0.05369585]\n",
      " [ 1.          0.83642334  0.00966555  0.00808449 -0.99981315  0.39920801]\n",
      " [ 1.          0.26672726  0.06426964  0.01714247 -0.99173883 -0.85771314]\n",
      " [ 1.          0.2419708   0.48734396  0.11792301 -0.52499173 -0.88290026]\n",
      " [ 1.          0.23676603  0.18291814  0.0433088  -0.93308191 -0.88788369]\n",
      " [ 0.          0.          1.          0.21872594  2.09607964 -0.        ]\n",
      " [ 0.          0.          1.          0.05435907  2.40262017 -0.        ]\n",
      " [ 0.          0.          1.          0.72584291  3.52313253  0.        ]\n",
      " [ 0.          0.          1.          0.83642334  0.03866221  0.        ]\n",
      " [ 0.          0.          1.          0.26672726  0.25707858 -0.        ]\n",
      " [ 0.          0.          1.          0.2419708   1.94937583 -0.        ]\n",
      " [ 0.          0.          1.          0.23676603  0.73167254 -0.        ]\n",
      " [ 0.          1.          0.          0.52401991 -0.          0.87490376]\n",
      " [ 0.          1.          0.          0.60065504 -0.          0.21743628]\n",
      " [ 0.          1.          0.          0.88078313  0.          2.90337162]\n",
      " [ 0.          1.          0.          0.00966555 -0.          3.34569336]\n",
      " [ 0.          1.          0.          0.06426964 -0.          1.06690904]\n",
      " [ 0.          1.          0.          0.48734396 -0.          0.96788322]\n",
      " [ 0.          1.          0.          0.18291814 -0.          0.94706412]]\n"
     ]
    }
   ],
   "source": [
    "# cheb, 2D\n",
    "l = 2\n",
    "n2 = 7\n",
    "n_size = 6\n",
    "x = np.random.rand(n2, l)\n",
    "print x.shape\n",
    "print ( x.T )\n",
    "A = GenMat(n_size, x, poly=cheb, poly_diff=cheb_diff, debug=True)\n",
    "print ( '' ) \n",
    "print( A )"
   ]
  },
  {
   "cell_type": "markdown",
   "metadata": {},
   "source": [
    "# Check drivatives"
   ]
  },
  {
   "cell_type": "code",
   "execution_count": 16,
   "metadata": {
    "collapsed": true
   },
   "outputs": [],
   "source": [
    "import sympy as sp\n",
    "x_s, n_s = sp.symbols(\"x n\")"
   ]
  },
  {
   "cell_type": "code",
   "execution_count": 17,
   "metadata": {
    "collapsed": false
   },
   "outputs": [
    {
     "name": "stdout",
     "output_type": "stream",
     "text": [
      "[0, 0, -2.22044604925031e-16*x, 1.11022302462516e-16*x**2, x*(-1.11022302462516e-16*x**2 + 2.22044604925031e-16)]\n",
      "\n"
     ]
    },
    {
     "data": {
      "text/plain": [
       "[(0.631618777746065, 0),\n",
       " (0.631618777746065*x, 0.631618777746065),\n",
       " (0.446621920869001*x**2 - 0.446621920869001, 0.893243841738002*x),\n",
       " (x*(0.257857286239706*x**2 - 0.773571858719117),\n",
       "  0.773571858719117*x**2 - 0.773571858719117),\n",
       " (0.128928643119853*x**4 - 0.773571858719117*x**2 + 0.386785929359558,\n",
       "  0.257857286239706*x*(2.0*x**2 - 4.0) - 0.515714572479411*x)]"
      ]
     },
     "execution_count": 17,
     "metadata": {},
     "output_type": "execute_result"
    }
   ],
   "source": [
    "print [(sp.simplify(sp.diff(herm(x_s, i), x_s) - herm_diff(x_s, i))) for i in xrange(5)]\n",
    "print \n",
    "[(sp.simplify(herm(x_s, i)), herm_diff(x_s, i)) for i in xrange(5)]"
   ]
  },
  {
   "cell_type": "code",
   "execution_count": 18,
   "metadata": {
    "collapsed": false
   },
   "outputs": [
    {
     "name": "stdout",
     "output_type": "stream",
     "text": [
      "[0, 0, 0, 0, 0]\n",
      "\n"
     ]
    },
    {
     "data": {
      "text/plain": [
       "[(1.00000000000000, 0),\n",
       " (1.0*x, 1.00000000000000),\n",
       " (2.0*x**2 - 1.0, 4.0*x),\n",
       " (x*(4.0*x**2 - 3.0), 12.0*x**2 - 3.0),\n",
       " (8.0*x**4 - 8.0*x**2 + 1.0, 32.0*x**3 - 16.0*x)]"
      ]
     },
     "execution_count": 18,
     "metadata": {},
     "output_type": "execute_result"
    }
   ],
   "source": [
    "print [(sp.simplify(sp.diff(cheb(x_s, i), x_s) - cheb_diff(x_s, i))) for i in xrange(5)]\n",
    "print \n",
    "[(sp.simplify(cheb(x_s, i)), cheb_diff(x_s, i)) for i in xrange(5)]"
   ]
  },
  {
   "cell_type": "code",
   "execution_count": null,
   "metadata": {
    "collapsed": true
   },
   "outputs": [],
   "source": []
  }
 ],
 "metadata": {
  "kernelspec": {
   "display_name": "Python 2",
   "language": "python",
   "name": "python2"
  },
  "language_info": {
   "codemirror_mode": {
    "name": "ipython",
    "version": 2
   },
   "file_extension": ".py",
   "mimetype": "text/x-python",
   "name": "python",
   "nbconvert_exporter": "python",
   "pygments_lexer": "ipython2",
   "version": "2.7.13"
  }
 },
 "nbformat": 4,
 "nbformat_minor": 2
}
